{
 "cells": [
  {
   "cell_type": "markdown",
   "metadata": {},
   "source": [
    "# Purpose\n",
    "This notebook details data preparation and modelling of the most recent model iteration.\n",
    "\n",
    "1. Feature Engineering\n",
    "\n",
    "2. Modelling"
   ]
  },
  {
   "cell_type": "code",
   "execution_count": 1,
   "metadata": {},
   "outputs": [],
   "source": [
    "%load_ext autoreload\n",
    "%autoreload 2\n",
    "\n",
    "import os\n",
    "import sys\n",
    "module_path = os.path.abspath(os.path.join(os.pardir))\n",
    "if module_path not in sys.path:\n",
    "    sys.path.append(module_path)\n",
    "\n",
    "import pandas as pd\n",
    "from sqlalchemy import create_engine\n",
    "from src import local\n",
    "from src import functions"
   ]
  },
  {
   "cell_type": "markdown",
   "metadata": {},
   "source": [
    "# 1. Feature engineering\n",
    "### Features\n",
    "The model in this notebook uses differentials and per-minute rates for the following technique categories:\n",
    "- Significant Strikes\n",
    "    - Total\n",
    "    - on the Ground\n",
    "    - in the Clinch\n",
    "    - at a Distance\n",
    "- takedowns\n",
    "\n",
    "#### Differentials\n",
    "Differentials are the difference in one fighters metric and his opponents. In this model, the differentials are calculated from\n",
    "the per-15-minute or per-1-minute rates in a single round.\n",
    "\n",
    "### Target\n",
    "The target is the Combined Significant Strike Attempts per-1-minute of both fighters, which allows us to measure the amount of striking action in a fight.\n",
    "\n",
    "#### Load the data"
   ]
  },
  {
   "cell_type": "code",
   "execution_count": 2,
   "metadata": {},
   "outputs": [],
   "source": [
    "# Set up tables\n",
    "# Credentials\n",
    "USER = local.user \n",
    "PASS = local.password\n",
    "HOST = local.host\n",
    "PORT = local.port\n",
    "\n",
    "#create engine\n",
    "engine = create_engine(f'postgresql://{USER}:{PASS}@{HOST}:{PORT}/match_finder')"
   ]
  },
  {
   "cell_type": "markdown",
   "metadata": {},
   "source": [
    "#### Join our 5 advanced statistics tables with our bouts and events table to get dates for each bout"
   ]
  },
  {
   "cell_type": "code",
   "execution_count": 3,
   "metadata": {},
   "outputs": [],
   "source": [
    "query = \"\"\"\n",
    "SELECT striking_adv.bout_id, striking_adv.fighter_id, striking_adv.round, date, \n",
    "ss_a_p15m, td_s_p15m_di, ss_s_p15m_di, ss_a_p15m_di, \n",
    "g_ss_s_p15m_di, g_ss_a_p15m_di, c_ss_s_p15m_di,\n",
    "c_ss_a_p15m_di, d_ss_a_p15m_di, d_ss_s_p15m_di\n",
    "FROM striking_adv\n",
    "    JOIN striking_position_adv ON \n",
    "    CONCAT(striking_adv.bout_id, striking_adv.fighter_id, CAST(striking_adv.round AS CHAR)) =\n",
    "    CONCAT(striking_position_adv.bout_id, striking_position_adv.fighter_id, CAST(striking_position_adv.round AS CHAR))\n",
    "    \n",
    "    JOIN grappling_adv ON \n",
    "    CONCAT(striking_adv.bout_id, striking_adv.fighter_id, CAST(striking_adv.round AS CHAR)) =\n",
    "    CONCAT(grappling_adv.bout_id, grappling_adv.fighter_id, CAST(grappling_adv.round AS CHAR))\n",
    "\n",
    "JOIN bouts ON bouts.id = striking_adv.bout_id\n",
    "JOIN events ON events.id = bouts.event_id\n",
    "\"\"\"\n",
    "\n",
    "data = pd.read_sql(query, engine)"
   ]
  },
  {
   "cell_type": "code",
   "execution_count": 4,
   "metadata": {},
   "outputs": [
    {
     "data": {
      "text/html": [
       "<div>\n",
       "<style scoped>\n",
       "    .dataframe tbody tr th:only-of-type {\n",
       "        vertical-align: middle;\n",
       "    }\n",
       "\n",
       "    .dataframe tbody tr th {\n",
       "        vertical-align: top;\n",
       "    }\n",
       "\n",
       "    .dataframe thead th {\n",
       "        text-align: right;\n",
       "    }\n",
       "</style>\n",
       "<table border=\"1\" class=\"dataframe\">\n",
       "  <thead>\n",
       "    <tr style=\"text-align: right;\">\n",
       "      <th></th>\n",
       "      <th>bout_id</th>\n",
       "      <th>fighter_id</th>\n",
       "      <th>round</th>\n",
       "      <th>date</th>\n",
       "      <th>ss_a_p15m</th>\n",
       "      <th>td_s_p15m_di</th>\n",
       "      <th>ss_s_p15m_di</th>\n",
       "      <th>ss_a_p15m_di</th>\n",
       "      <th>g_ss_s_p15m_di</th>\n",
       "      <th>g_ss_a_p15m_di</th>\n",
       "      <th>c_ss_s_p15m_di</th>\n",
       "      <th>c_ss_a_p15m_di</th>\n",
       "      <th>d_ss_a_p15m_di</th>\n",
       "      <th>d_ss_s_p15m_di</th>\n",
       "    </tr>\n",
       "  </thead>\n",
       "  <tbody>\n",
       "    <tr>\n",
       "      <th>0</th>\n",
       "      <td>000da3152b7b5ab1</td>\n",
       "      <td>6da99156486ed6c2</td>\n",
       "      <td>1</td>\n",
       "      <td>July 08, 2006</td>\n",
       "      <td>117.0</td>\n",
       "      <td>3.0</td>\n",
       "      <td>21.0</td>\n",
       "      <td>84.0</td>\n",
       "      <td>0.0</td>\n",
       "      <td>3.0</td>\n",
       "      <td>9.0</td>\n",
       "      <td>27.0</td>\n",
       "      <td>54.0</td>\n",
       "      <td>12.0</td>\n",
       "    </tr>\n",
       "    <tr>\n",
       "      <th>1</th>\n",
       "      <td>000da3152b7b5ab1</td>\n",
       "      <td>6da99156486ed6c2</td>\n",
       "      <td>2</td>\n",
       "      <td>July 08, 2006</td>\n",
       "      <td>78.0</td>\n",
       "      <td>0.0</td>\n",
       "      <td>18.0</td>\n",
       "      <td>21.0</td>\n",
       "      <td>-12.0</td>\n",
       "      <td>-18.0</td>\n",
       "      <td>21.0</td>\n",
       "      <td>27.0</td>\n",
       "      <td>12.0</td>\n",
       "      <td>9.0</td>\n",
       "    </tr>\n",
       "    <tr>\n",
       "      <th>2</th>\n",
       "      <td>000da3152b7b5ab1</td>\n",
       "      <td>6da99156486ed6c2</td>\n",
       "      <td>3</td>\n",
       "      <td>July 08, 2006</td>\n",
       "      <td>69.0</td>\n",
       "      <td>6.0</td>\n",
       "      <td>9.0</td>\n",
       "      <td>42.0</td>\n",
       "      <td>6.0</td>\n",
       "      <td>18.0</td>\n",
       "      <td>3.0</td>\n",
       "      <td>3.0</td>\n",
       "      <td>21.0</td>\n",
       "      <td>0.0</td>\n",
       "    </tr>\n",
       "    <tr>\n",
       "      <th>3</th>\n",
       "      <td>000da3152b7b5ab1</td>\n",
       "      <td>d1a1314976c50bef</td>\n",
       "      <td>1</td>\n",
       "      <td>July 08, 2006</td>\n",
       "      <td>33.0</td>\n",
       "      <td>-3.0</td>\n",
       "      <td>-21.0</td>\n",
       "      <td>-84.0</td>\n",
       "      <td>0.0</td>\n",
       "      <td>-3.0</td>\n",
       "      <td>-9.0</td>\n",
       "      <td>-27.0</td>\n",
       "      <td>-54.0</td>\n",
       "      <td>-12.0</td>\n",
       "    </tr>\n",
       "    <tr>\n",
       "      <th>4</th>\n",
       "      <td>000da3152b7b5ab1</td>\n",
       "      <td>d1a1314976c50bef</td>\n",
       "      <td>2</td>\n",
       "      <td>July 08, 2006</td>\n",
       "      <td>57.0</td>\n",
       "      <td>0.0</td>\n",
       "      <td>-18.0</td>\n",
       "      <td>-21.0</td>\n",
       "      <td>12.0</td>\n",
       "      <td>18.0</td>\n",
       "      <td>-21.0</td>\n",
       "      <td>-27.0</td>\n",
       "      <td>-12.0</td>\n",
       "      <td>-9.0</td>\n",
       "    </tr>\n",
       "  </tbody>\n",
       "</table>\n",
       "</div>"
      ],
      "text/plain": [
       "            bout_id        fighter_id round           date  ss_a_p15m  \\\n",
       "0  000da3152b7b5ab1  6da99156486ed6c2     1  July 08, 2006      117.0   \n",
       "1  000da3152b7b5ab1  6da99156486ed6c2     2  July 08, 2006       78.0   \n",
       "2  000da3152b7b5ab1  6da99156486ed6c2     3  July 08, 2006       69.0   \n",
       "3  000da3152b7b5ab1  d1a1314976c50bef     1  July 08, 2006       33.0   \n",
       "4  000da3152b7b5ab1  d1a1314976c50bef     2  July 08, 2006       57.0   \n",
       "\n",
       "   td_s_p15m_di  ss_s_p15m_di  ss_a_p15m_di  g_ss_s_p15m_di  g_ss_a_p15m_di  \\\n",
       "0           3.0          21.0          84.0             0.0             3.0   \n",
       "1           0.0          18.0          21.0           -12.0           -18.0   \n",
       "2           6.0           9.0          42.0             6.0            18.0   \n",
       "3          -3.0         -21.0         -84.0             0.0            -3.0   \n",
       "4           0.0         -18.0         -21.0            12.0            18.0   \n",
       "\n",
       "   c_ss_s_p15m_di  c_ss_a_p15m_di  d_ss_a_p15m_di  d_ss_s_p15m_di  \n",
       "0             9.0            27.0            54.0            12.0  \n",
       "1            21.0            27.0            12.0             9.0  \n",
       "2             3.0             3.0            21.0             0.0  \n",
       "3            -9.0           -27.0           -54.0           -12.0  \n",
       "4           -21.0           -27.0           -12.0            -9.0  "
      ]
     },
     "execution_count": 4,
     "metadata": {},
     "output_type": "execute_result"
    }
   ],
   "source": [
    "data.head()"
   ]
  },
  {
   "cell_type": "code",
   "execution_count": 5,
   "metadata": {},
   "outputs": [
    {
     "name": "stdout",
     "output_type": "stream",
     "text": [
      "<class 'pandas.core.frame.DataFrame'>\n",
      "RangeIndex: 25772 entries, 0 to 25771\n",
      "Data columns (total 14 columns):\n",
      " #   Column          Non-Null Count  Dtype  \n",
      "---  ------          --------------  -----  \n",
      " 0   bout_id         25772 non-null  object \n",
      " 1   fighter_id      25772 non-null  object \n",
      " 2   round           25772 non-null  object \n",
      " 3   date            25772 non-null  object \n",
      " 4   ss_a_p15m       25772 non-null  float64\n",
      " 5   td_s_p15m_di    25772 non-null  float64\n",
      " 6   ss_s_p15m_di    25772 non-null  float64\n",
      " 7   ss_a_p15m_di    25772 non-null  float64\n",
      " 8   g_ss_s_p15m_di  25772 non-null  float64\n",
      " 9   g_ss_a_p15m_di  25772 non-null  float64\n",
      " 10  c_ss_s_p15m_di  25772 non-null  float64\n",
      " 11  c_ss_a_p15m_di  25772 non-null  float64\n",
      " 12  d_ss_a_p15m_di  25772 non-null  float64\n",
      " 13  d_ss_s_p15m_di  25772 non-null  float64\n",
      "dtypes: float64(10), object(4)\n",
      "memory usage: 2.8+ MB\n"
     ]
    }
   ],
   "source": [
    "data.info()"
   ]
  },
  {
   "cell_type": "code",
   "execution_count": 6,
   "metadata": {},
   "outputs": [],
   "source": [
    "data['date'] = pd.to_datetime(data['date'])"
   ]
  },
  {
   "cell_type": "markdown",
   "metadata": {},
   "source": [
    "## Create fighter-bout instance dataframe\n",
    "\n",
    "A fighter-bout instance represents one fighter in one bout.\n",
    " - The same fighter has exactly one fighter-bout instance for every single bout he has been in. \n",
    " - Every bout has exactly two fighter-bout instances, one for each fighter in the bout. \n",
    "  \n",
    "In this case a fighter-bout instance is assigned a unique identifier comprised of the bout_id combined with the fighter_link."
   ]
  },
  {
   "cell_type": "code",
   "execution_count": 7,
   "metadata": {},
   "outputs": [],
   "source": [
    "fighter_bout_inst = functions.create_fighter_bout_instance_table(data, 'ss_a_p15m')"
   ]
  },
  {
   "cell_type": "code",
   "execution_count": 8,
   "metadata": {},
   "outputs": [
    {
     "data": {
      "text/html": [
       "<div>\n",
       "<style scoped>\n",
       "    .dataframe tbody tr th:only-of-type {\n",
       "        vertical-align: middle;\n",
       "    }\n",
       "\n",
       "    .dataframe tbody tr th {\n",
       "        vertical-align: top;\n",
       "    }\n",
       "\n",
       "    .dataframe thead th {\n",
       "        text-align: right;\n",
       "    }\n",
       "</style>\n",
       "<table border=\"1\" class=\"dataframe\">\n",
       "  <thead>\n",
       "    <tr style=\"text-align: right;\">\n",
       "      <th></th>\n",
       "      <th>bout_id</th>\n",
       "      <th>fighter_id</th>\n",
       "      <th>date</th>\n",
       "      <th>target</th>\n",
       "    </tr>\n",
       "    <tr>\n",
       "      <th>fighter_bout_inst</th>\n",
       "      <th></th>\n",
       "      <th></th>\n",
       "      <th></th>\n",
       "      <th></th>\n",
       "    </tr>\n",
       "  </thead>\n",
       "  <tbody>\n",
       "    <tr>\n",
       "      <th>000da3152b7b5ab16da99156486ed6c2</th>\n",
       "      <td>000da3152b7b5ab1</td>\n",
       "      <td>6da99156486ed6c2</td>\n",
       "      <td>2006-07-08</td>\n",
       "      <td>88.000000</td>\n",
       "    </tr>\n",
       "    <tr>\n",
       "      <th>000da3152b7b5ab1d1a1314976c50bef</th>\n",
       "      <td>000da3152b7b5ab1</td>\n",
       "      <td>d1a1314976c50bef</td>\n",
       "      <td>2006-07-08</td>\n",
       "      <td>39.000000</td>\n",
       "    </tr>\n",
       "    <tr>\n",
       "      <th>0019ec81fd706ade326f94d6cfb1bf25</th>\n",
       "      <td>0019ec81fd706ade</td>\n",
       "      <td>326f94d6cfb1bf25</td>\n",
       "      <td>2019-10-18</td>\n",
       "      <td>97.000000</td>\n",
       "    </tr>\n",
       "    <tr>\n",
       "      <th>0019ec81fd706ade85073dbd1be65ed9</th>\n",
       "      <td>0019ec81fd706ade</td>\n",
       "      <td>85073dbd1be65ed9</td>\n",
       "      <td>2019-10-18</td>\n",
       "      <td>105.000000</td>\n",
       "    </tr>\n",
       "    <tr>\n",
       "      <th>0027e179b743c86c3aa794cbe1e3484b</th>\n",
       "      <td>0027e179b743c86c</td>\n",
       "      <td>3aa794cbe1e3484b</td>\n",
       "      <td>2015-03-14</td>\n",
       "      <td>38.250000</td>\n",
       "    </tr>\n",
       "    <tr>\n",
       "      <th>...</th>\n",
       "      <td>...</td>\n",
       "      <td>...</td>\n",
       "      <td>...</td>\n",
       "      <td>...</td>\n",
       "    </tr>\n",
       "    <tr>\n",
       "      <th>ffe629a5232a878bb361180739bed4b0</th>\n",
       "      <td>ffe629a5232a878b</td>\n",
       "      <td>b361180739bed4b0</td>\n",
       "      <td>2003-06-06</td>\n",
       "      <td>0.000000</td>\n",
       "    </tr>\n",
       "    <tr>\n",
       "      <th>ffea776913451b6d22a92d7f62195791</th>\n",
       "      <td>ffea776913451b6d</td>\n",
       "      <td>22a92d7f62195791</td>\n",
       "      <td>2015-02-28</td>\n",
       "      <td>217.834395</td>\n",
       "    </tr>\n",
       "    <tr>\n",
       "      <th>ffea776913451b6d75e5fec9f72910ef</th>\n",
       "      <td>ffea776913451b6d</td>\n",
       "      <td>75e5fec9f72910ef</td>\n",
       "      <td>2015-02-28</td>\n",
       "      <td>114.649682</td>\n",
       "    </tr>\n",
       "    <tr>\n",
       "      <th>fffa21388cdd78b75d7bdab5e03e3216</th>\n",
       "      <td>fffa21388cdd78b7</td>\n",
       "      <td>5d7bdab5e03e3216</td>\n",
       "      <td>2013-10-19</td>\n",
       "      <td>118.000000</td>\n",
       "    </tr>\n",
       "    <tr>\n",
       "      <th>fffa21388cdd78b7c80095f6092271a7</th>\n",
       "      <td>fffa21388cdd78b7</td>\n",
       "      <td>c80095f6092271a7</td>\n",
       "      <td>2013-10-19</td>\n",
       "      <td>76.000000</td>\n",
       "    </tr>\n",
       "  </tbody>\n",
       "</table>\n",
       "<p>10986 rows × 4 columns</p>\n",
       "</div>"
      ],
      "text/plain": [
       "                                           bout_id        fighter_id  \\\n",
       "fighter_bout_inst                                                      \n",
       "000da3152b7b5ab16da99156486ed6c2  000da3152b7b5ab1  6da99156486ed6c2   \n",
       "000da3152b7b5ab1d1a1314976c50bef  000da3152b7b5ab1  d1a1314976c50bef   \n",
       "0019ec81fd706ade326f94d6cfb1bf25  0019ec81fd706ade  326f94d6cfb1bf25   \n",
       "0019ec81fd706ade85073dbd1be65ed9  0019ec81fd706ade  85073dbd1be65ed9   \n",
       "0027e179b743c86c3aa794cbe1e3484b  0027e179b743c86c  3aa794cbe1e3484b   \n",
       "...                                            ...               ...   \n",
       "ffe629a5232a878bb361180739bed4b0  ffe629a5232a878b  b361180739bed4b0   \n",
       "ffea776913451b6d22a92d7f62195791  ffea776913451b6d  22a92d7f62195791   \n",
       "ffea776913451b6d75e5fec9f72910ef  ffea776913451b6d  75e5fec9f72910ef   \n",
       "fffa21388cdd78b75d7bdab5e03e3216  fffa21388cdd78b7  5d7bdab5e03e3216   \n",
       "fffa21388cdd78b7c80095f6092271a7  fffa21388cdd78b7  c80095f6092271a7   \n",
       "\n",
       "                                       date      target  \n",
       "fighter_bout_inst                                        \n",
       "000da3152b7b5ab16da99156486ed6c2 2006-07-08   88.000000  \n",
       "000da3152b7b5ab1d1a1314976c50bef 2006-07-08   39.000000  \n",
       "0019ec81fd706ade326f94d6cfb1bf25 2019-10-18   97.000000  \n",
       "0019ec81fd706ade85073dbd1be65ed9 2019-10-18  105.000000  \n",
       "0027e179b743c86c3aa794cbe1e3484b 2015-03-14   38.250000  \n",
       "...                                     ...         ...  \n",
       "ffe629a5232a878bb361180739bed4b0 2003-06-06    0.000000  \n",
       "ffea776913451b6d22a92d7f62195791 2015-02-28  217.834395  \n",
       "ffea776913451b6d75e5fec9f72910ef 2015-02-28  114.649682  \n",
       "fffa21388cdd78b75d7bdab5e03e3216 2013-10-19  118.000000  \n",
       "fffa21388cdd78b7c80095f6092271a7 2013-10-19   76.000000  \n",
       "\n",
       "[10986 rows x 4 columns]"
      ]
     },
     "execution_count": 8,
     "metadata": {},
     "output_type": "execute_result"
    }
   ],
   "source": [
    "fighter_bout_inst"
   ]
  },
  {
   "cell_type": "markdown",
   "metadata": {},
   "source": [
    "#### Remove bouts that take place after 2012\n",
    "\n",
    "Mixed Martial Arts has changed over the years and stylistic match ups from a decade ago might not be analgous to matchups today.\n",
    "Almost every fighter nowadays has at least some exposure to Wrestling, Brazilian Jiu Jitsu, Boxing, and Muay Thai, so stylistic \n",
    "differences tend to reflect personal choices by the fighter rather than the limits of their martial arts discipline. For now,\n",
    "we choose 2012 as the cut off point, but further analysis needs to be done regarding the appropriate date."
   ]
  },
  {
   "cell_type": "code",
   "execution_count": 9,
   "metadata": {},
   "outputs": [],
   "source": [
    "fighter_bout_inst = fighter_bout_inst[fighter_bout_inst['date']>pd.to_datetime('12-31-2011')]"
   ]
  },
  {
   "cell_type": "code",
   "execution_count": 10,
   "metadata": {},
   "outputs": [
    {
     "data": {
      "text/html": [
       "<div>\n",
       "<style scoped>\n",
       "    .dataframe tbody tr th:only-of-type {\n",
       "        vertical-align: middle;\n",
       "    }\n",
       "\n",
       "    .dataframe tbody tr th {\n",
       "        vertical-align: top;\n",
       "    }\n",
       "\n",
       "    .dataframe thead th {\n",
       "        text-align: right;\n",
       "    }\n",
       "</style>\n",
       "<table border=\"1\" class=\"dataframe\">\n",
       "  <thead>\n",
       "    <tr style=\"text-align: right;\">\n",
       "      <th></th>\n",
       "      <th>bout_id</th>\n",
       "      <th>fighter_id</th>\n",
       "      <th>date</th>\n",
       "      <th>target</th>\n",
       "    </tr>\n",
       "    <tr>\n",
       "      <th>fighter_bout_inst</th>\n",
       "      <th></th>\n",
       "      <th></th>\n",
       "      <th></th>\n",
       "      <th></th>\n",
       "    </tr>\n",
       "  </thead>\n",
       "  <tbody>\n",
       "    <tr>\n",
       "      <th>0019ec81fd706ade326f94d6cfb1bf25</th>\n",
       "      <td>0019ec81fd706ade</td>\n",
       "      <td>326f94d6cfb1bf25</td>\n",
       "      <td>2019-10-18</td>\n",
       "      <td>97.000000</td>\n",
       "    </tr>\n",
       "    <tr>\n",
       "      <th>0019ec81fd706ade85073dbd1be65ed9</th>\n",
       "      <td>0019ec81fd706ade</td>\n",
       "      <td>85073dbd1be65ed9</td>\n",
       "      <td>2019-10-18</td>\n",
       "      <td>105.000000</td>\n",
       "    </tr>\n",
       "    <tr>\n",
       "      <th>0027e179b743c86c3aa794cbe1e3484b</th>\n",
       "      <td>0027e179b743c86c</td>\n",
       "      <td>3aa794cbe1e3484b</td>\n",
       "      <td>2015-03-14</td>\n",
       "      <td>38.250000</td>\n",
       "    </tr>\n",
       "    <tr>\n",
       "      <th>0027e179b743c86c91ea901c458e95dd</th>\n",
       "      <td>0027e179b743c86c</td>\n",
       "      <td>91ea901c458e95dd</td>\n",
       "      <td>2015-03-14</td>\n",
       "      <td>51.187500</td>\n",
       "    </tr>\n",
       "    <tr>\n",
       "      <th>002921976d27b7dab4ad3a06ee4d660c</th>\n",
       "      <td>002921976d27b7da</td>\n",
       "      <td>b4ad3a06ee4d660c</td>\n",
       "      <td>2014-12-13</td>\n",
       "      <td>88.932806</td>\n",
       "    </tr>\n",
       "    <tr>\n",
       "      <th>...</th>\n",
       "      <td>...</td>\n",
       "      <td>...</td>\n",
       "      <td>...</td>\n",
       "      <td>...</td>\n",
       "    </tr>\n",
       "    <tr>\n",
       "      <th>ffd3e3d37cba32da92a9aa9c93192871</th>\n",
       "      <td>ffd3e3d37cba32da</td>\n",
       "      <td>92a9aa9c93192871</td>\n",
       "      <td>2014-10-25</td>\n",
       "      <td>154.000000</td>\n",
       "    </tr>\n",
       "    <tr>\n",
       "      <th>ffea776913451b6d22a92d7f62195791</th>\n",
       "      <td>ffea776913451b6d</td>\n",
       "      <td>22a92d7f62195791</td>\n",
       "      <td>2015-02-28</td>\n",
       "      <td>217.834395</td>\n",
       "    </tr>\n",
       "    <tr>\n",
       "      <th>ffea776913451b6d75e5fec9f72910ef</th>\n",
       "      <td>ffea776913451b6d</td>\n",
       "      <td>75e5fec9f72910ef</td>\n",
       "      <td>2015-02-28</td>\n",
       "      <td>114.649682</td>\n",
       "    </tr>\n",
       "    <tr>\n",
       "      <th>fffa21388cdd78b75d7bdab5e03e3216</th>\n",
       "      <td>fffa21388cdd78b7</td>\n",
       "      <td>5d7bdab5e03e3216</td>\n",
       "      <td>2013-10-19</td>\n",
       "      <td>118.000000</td>\n",
       "    </tr>\n",
       "    <tr>\n",
       "      <th>fffa21388cdd78b7c80095f6092271a7</th>\n",
       "      <td>fffa21388cdd78b7</td>\n",
       "      <td>c80095f6092271a7</td>\n",
       "      <td>2013-10-19</td>\n",
       "      <td>76.000000</td>\n",
       "    </tr>\n",
       "  </tbody>\n",
       "</table>\n",
       "<p>7752 rows × 4 columns</p>\n",
       "</div>"
      ],
      "text/plain": [
       "                                           bout_id        fighter_id  \\\n",
       "fighter_bout_inst                                                      \n",
       "0019ec81fd706ade326f94d6cfb1bf25  0019ec81fd706ade  326f94d6cfb1bf25   \n",
       "0019ec81fd706ade85073dbd1be65ed9  0019ec81fd706ade  85073dbd1be65ed9   \n",
       "0027e179b743c86c3aa794cbe1e3484b  0027e179b743c86c  3aa794cbe1e3484b   \n",
       "0027e179b743c86c91ea901c458e95dd  0027e179b743c86c  91ea901c458e95dd   \n",
       "002921976d27b7dab4ad3a06ee4d660c  002921976d27b7da  b4ad3a06ee4d660c   \n",
       "...                                            ...               ...   \n",
       "ffd3e3d37cba32da92a9aa9c93192871  ffd3e3d37cba32da  92a9aa9c93192871   \n",
       "ffea776913451b6d22a92d7f62195791  ffea776913451b6d  22a92d7f62195791   \n",
       "ffea776913451b6d75e5fec9f72910ef  ffea776913451b6d  75e5fec9f72910ef   \n",
       "fffa21388cdd78b75d7bdab5e03e3216  fffa21388cdd78b7  5d7bdab5e03e3216   \n",
       "fffa21388cdd78b7c80095f6092271a7  fffa21388cdd78b7  c80095f6092271a7   \n",
       "\n",
       "                                       date      target  \n",
       "fighter_bout_inst                                        \n",
       "0019ec81fd706ade326f94d6cfb1bf25 2019-10-18   97.000000  \n",
       "0019ec81fd706ade85073dbd1be65ed9 2019-10-18  105.000000  \n",
       "0027e179b743c86c3aa794cbe1e3484b 2015-03-14   38.250000  \n",
       "0027e179b743c86c91ea901c458e95dd 2015-03-14   51.187500  \n",
       "002921976d27b7dab4ad3a06ee4d660c 2014-12-13   88.932806  \n",
       "...                                     ...         ...  \n",
       "ffd3e3d37cba32da92a9aa9c93192871 2014-10-25  154.000000  \n",
       "ffea776913451b6d22a92d7f62195791 2015-02-28  217.834395  \n",
       "ffea776913451b6d75e5fec9f72910ef 2015-02-28  114.649682  \n",
       "fffa21388cdd78b75d7bdab5e03e3216 2013-10-19  118.000000  \n",
       "fffa21388cdd78b7c80095f6092271a7 2013-10-19   76.000000  \n",
       "\n",
       "[7752 rows x 4 columns]"
      ]
     },
     "execution_count": 10,
     "metadata": {},
     "output_type": "execute_result"
    }
   ],
   "source": [
    "fighter_bout_inst"
   ]
  },
  {
   "cell_type": "markdown",
   "metadata": {},
   "source": [
    "## Calculate metrics\n",
    "\n",
    "The metrics will be calculated from the fighters entire career and from their last 3 fights, to give an idea of their current state.\n",
    "Career averages are prefixed with 'ca_' and 3 fight averages with '3fa_'"
   ]
  },
  {
   "cell_type": "code",
   "execution_count": 11,
   "metadata": {},
   "outputs": [],
   "source": [
    "list_of_metrics = ['ss_a_p15m', 'td_s_p15m_di', 'ss_s_p15m_di', 'ss_a_p15m_di', \n",
    "                    'g_ss_s_p15m_di', 'g_ss_a_p15m_di', 'c_ss_s_p15m_di',\n",
    "                    'c_ss_a_p15m_di', 'd_ss_a_p15m_di', 'd_ss_s_p15m_di']"
   ]
  },
  {
   "cell_type": "markdown",
   "metadata": {},
   "source": [
    "#### How these metrics are calculated\n",
    "The following cell iterates through each row in the fighter bout instance table. It takes the unique fighter_id and the date from that row and calculates the fighters metrics up until that date. This represents the fact that our model will only have prior knowledge of the fighters when making it's predictions.\n",
    "\n",
    "\n",
    "This cell takes about 5-10 minutes to load."
   ]
  },
  {
   "cell_type": "code",
   "execution_count": 12,
   "metadata": {},
   "outputs": [
    {
     "name": "stdout",
     "output_type": "stream",
     "text": [
      "ss_a_p15m\n",
      "\n"
     ]
    },
    {
     "name": "stderr",
     "output_type": "stream",
     "text": [
      "<ipython-input-12-bedfd297c482>:9: SettingWithCopyWarning: \n",
      "A value is trying to be set on a copy of a slice from a DataFrame.\n",
      "Try using .loc[row_indexer,col_indexer] = value instead\n",
      "\n",
      "See the caveats in the documentation: https://pandas.pydata.org/pandas-docs/stable/user_guide/indexing.html#returning-a-view-versus-a-copy\n",
      "  fighter_bout_inst['ca_'+metric] = values.map(lambda x: x[0])\n",
      "<ipython-input-12-bedfd297c482>:10: SettingWithCopyWarning: \n",
      "A value is trying to be set on a copy of a slice from a DataFrame.\n",
      "Try using .loc[row_indexer,col_indexer] = value instead\n",
      "\n",
      "See the caveats in the documentation: https://pandas.pydata.org/pandas-docs/stable/user_guide/indexing.html#returning-a-view-versus-a-copy\n",
      "  fighter_bout_inst['3fa_'+metric] = values.map(lambda x: x[1])\n"
     ]
    },
    {
     "name": "stdout",
     "output_type": "stream",
     "text": [
      "td_s_p15m_di\n",
      "\n",
      "ss_s_p15m_di\n",
      "\n",
      "ss_a_p15m_di\n",
      "\n",
      "g_ss_s_p15m_di\n",
      "\n",
      "g_ss_a_p15m_di\n",
      "\n",
      "c_ss_s_p15m_di\n",
      "\n",
      "c_ss_a_p15m_di\n",
      "\n",
      "d_ss_a_p15m_di\n",
      "\n",
      "d_ss_s_p15m_di\n",
      "\n"
     ]
    }
   ],
   "source": [
    "for metric in list_of_metrics:\n",
    "    print(metric+'\\n')\n",
    "    values = fighter_bout_inst.apply(lambda row: functions.calculate_metric_average(metric, \n",
    "                                                                                    row['fighter_id'], \n",
    "                                                                                    row['date'], \n",
    "                                                                                    data), \n",
    "                                     axis=1)\n",
    "\n",
    "    fighter_bout_inst['ca_'+metric] = values.map(lambda x: x[0])\n",
    "    fighter_bout_inst['3fa_'+metric] = values.map(lambda x: x[1])"
   ]
  },
  {
   "cell_type": "markdown",
   "metadata": {},
   "source": [
    "### Debut fights and inexperienced fighters\n",
    "Many fights include fighter who have never fought in the UFC before, and some do not have long enough records to calculate 3 fight averages. These fighters would have null values in their career and 3-fight-averages, so I drop all of those rows here."
   ]
  },
  {
   "cell_type": "code",
   "execution_count": 13,
   "metadata": {},
   "outputs": [],
   "source": [
    "fighter_mask = fighter_bout_inst['3fa_ss_a_p15m'].isnull()\n",
    "debut_bouts = fighter_bout_inst[fighter_mask].bout_id"
   ]
  },
  {
   "cell_type": "code",
   "execution_count": 14,
   "metadata": {},
   "outputs": [
    {
     "data": {
      "text/plain": [
       "fighter_bout_inst\n",
       "0019ec81fd706ade326f94d6cfb1bf25    0019ec81fd706ade\n",
       "003c84fc7c3fa028873626e5547b5235    003c84fc7c3fa028\n",
       "004885f7983f46582aa49b3766a59bcd    004885f7983f4658\n",
       "0067048aaa2aa2da494b0bfdbac74502    0067048aaa2aa2da\n",
       "00731068c3195f7fc0eecd851dbf3146    00731068c3195f7f\n",
       "                                          ...       \n",
       "fe6b45e7210bfa8edef8166ff24bd237    fe6b45e7210bfa8e\n",
       "fe9a58e79d54695bb4192a975027aab6    fe9a58e79d54695b\n",
       "febbd4eb209b4579e93b04e308913c2e    febbd4eb209b4579\n",
       "fee873593f588437ed9d8ee3a4239b1c    fee873593f588437\n",
       "ffbc12e4f821ec687a703c565ccaa18f    ffbc12e4f821ec68\n",
       "Name: bout_id, Length: 1683, dtype: object"
      ]
     },
     "execution_count": 14,
     "metadata": {},
     "output_type": "execute_result"
    }
   ],
   "source": [
    "debut_bouts"
   ]
  },
  {
   "cell_type": "code",
   "execution_count": 16,
   "metadata": {},
   "outputs": [],
   "source": [
    "bout_mask = fighter_bout_inst.bout_id.isin(debut_bouts)\n",
    "fighter_bout_inst = fighter_bout_inst[-bout_mask]"
   ]
  },
  {
   "cell_type": "markdown",
   "metadata": {},
   "source": [
    "## Create the final dataframe\n",
    "\n",
    "The current fighter bout instance table has two rows for each fight (one row for each fighter). In order to create a table where each row represents one fight, I need get each fighter on the same row."
   ]
  },
  {
   "cell_type": "code",
   "execution_count": 17,
   "metadata": {},
   "outputs": [
    {
     "name": "stderr",
     "output_type": "stream",
     "text": [
      "/home/max/sports_science/match_finder/src/functions.py:353: SettingWithCopyWarning: \n",
      "A value is trying to be set on a copy of a slice from a DataFrame.\n",
      "Try using .loc[row_indexer,col_indexer] = value instead\n",
      "\n",
      "See the caveats in the documentation: https://pandas.pydata.org/pandas-docs/stable/user_guide/indexing.html#returning-a-view-versus-a-copy\n",
      "  instances_df['inst_id'] = instances_df['bout_id'] + instances_df['fighter_id']\n"
     ]
    }
   ],
   "source": [
    "model_df = functions.merge_fighter_instances(fighter_bout_inst)"
   ]
  },
  {
   "cell_type": "markdown",
   "metadata": {},
   "source": [
    "## Creating Combined Significant Strike Attempts Per 15 Minute (c_sig_str_a_p15m)"
   ]
  },
  {
   "cell_type": "code",
   "execution_count": 18,
   "metadata": {},
   "outputs": [
    {
     "data": {
      "text/html": [
       "<div>\n",
       "<style scoped>\n",
       "    .dataframe tbody tr th:only-of-type {\n",
       "        vertical-align: middle;\n",
       "    }\n",
       "\n",
       "    .dataframe tbody tr th {\n",
       "        vertical-align: top;\n",
       "    }\n",
       "\n",
       "    .dataframe thead th {\n",
       "        text-align: right;\n",
       "    }\n",
       "</style>\n",
       "<table border=\"1\" class=\"dataframe\">\n",
       "  <thead>\n",
       "    <tr style=\"text-align: right;\">\n",
       "      <th></th>\n",
       "      <th>bout_id</th>\n",
       "      <th>fighter_id_0</th>\n",
       "      <th>date_0</th>\n",
       "      <th>target_0</th>\n",
       "      <th>ca_ss_a_p15m_0</th>\n",
       "      <th>3fa_ss_a_p15m_0</th>\n",
       "      <th>ca_td_s_p15m_di_0</th>\n",
       "      <th>3fa_td_s_p15m_di_0</th>\n",
       "      <th>ca_ss_s_p15m_di_0</th>\n",
       "      <th>3fa_ss_s_p15m_di_0</th>\n",
       "      <th>...</th>\n",
       "      <th>ca_c_ss_s_p15m_di_1</th>\n",
       "      <th>3fa_c_ss_s_p15m_di_1</th>\n",
       "      <th>ca_c_ss_a_p15m_di_1</th>\n",
       "      <th>3fa_c_ss_a_p15m_di_1</th>\n",
       "      <th>ca_d_ss_a_p15m_di_1</th>\n",
       "      <th>3fa_d_ss_a_p15m_di_1</th>\n",
       "      <th>ca_d_ss_s_p15m_di_1</th>\n",
       "      <th>3fa_d_ss_s_p15m_di_1</th>\n",
       "      <th>inst_id_1</th>\n",
       "      <th>c_ss_a_p15m</th>\n",
       "    </tr>\n",
       "  </thead>\n",
       "  <tbody>\n",
       "    <tr>\n",
       "      <th>0</th>\n",
       "      <td>0027e179b743c86c</td>\n",
       "      <td>91ea901c458e95dd</td>\n",
       "      <td>2015-03-14</td>\n",
       "      <td>51.187500</td>\n",
       "      <td>78.528358</td>\n",
       "      <td>67.1834</td>\n",
       "      <td>1.500000</td>\n",
       "      <td>1.71429</td>\n",
       "      <td>23.986567</td>\n",
       "      <td>27.838</td>\n",
       "      <td>...</td>\n",
       "      <td>-5.000000</td>\n",
       "      <td>-5</td>\n",
       "      <td>-3.000000</td>\n",
       "      <td>-3</td>\n",
       "      <td>-86.000000</td>\n",
       "      <td>-86</td>\n",
       "      <td>-38.000000</td>\n",
       "      <td>-38</td>\n",
       "      <td>0027e179b743c86c3aa794cbe1e3484b</td>\n",
       "      <td>89.437500</td>\n",
       "    </tr>\n",
       "    <tr>\n",
       "      <th>1</th>\n",
       "      <td>002921976d27b7da</td>\n",
       "      <td>ebc1f40e00e0c481</td>\n",
       "      <td>2014-12-13</td>\n",
       "      <td>17.786561</td>\n",
       "      <td>131.820971</td>\n",
       "      <td>136.544</td>\n",
       "      <td>-0.433461</td>\n",
       "      <td>-1</td>\n",
       "      <td>-13.753972</td>\n",
       "      <td>-21.3637</td>\n",
       "      <td>...</td>\n",
       "      <td>3.825798</td>\n",
       "      <td>22.1577</td>\n",
       "      <td>-7.405384</td>\n",
       "      <td>30.1415</td>\n",
       "      <td>-46.427974</td>\n",
       "      <td>-12.943</td>\n",
       "      <td>-18.981288</td>\n",
       "      <td>11.4666</td>\n",
       "      <td>002921976d27b7dab4ad3a06ee4d660c</td>\n",
       "      <td>106.719368</td>\n",
       "    </tr>\n",
       "    <tr>\n",
       "      <th>2</th>\n",
       "      <td>002c1562708ac307</td>\n",
       "      <td>44470bfd9483c7ad</td>\n",
       "      <td>2014-05-24</td>\n",
       "      <td>160.975610</td>\n",
       "      <td>48.000000</td>\n",
       "      <td>48</td>\n",
       "      <td>3.000000</td>\n",
       "      <td>3</td>\n",
       "      <td>7.000000</td>\n",
       "      <td>7</td>\n",
       "      <td>...</td>\n",
       "      <td>2.628510</td>\n",
       "      <td>1.42347</td>\n",
       "      <td>3.107143</td>\n",
       "      <td>2.70918</td>\n",
       "      <td>27.566239</td>\n",
       "      <td>36.3214</td>\n",
       "      <td>3.747558</td>\n",
       "      <td>-3.9949</td>\n",
       "      <td>002c1562708ac30722a92d7f62195791</td>\n",
       "      <td>406.097561</td>\n",
       "    </tr>\n",
       "    <tr>\n",
       "      <th>3</th>\n",
       "      <td>00494c77d2a88f8c</td>\n",
       "      <td>7ea1f74cef32f906</td>\n",
       "      <td>2016-11-05</td>\n",
       "      <td>78.000000</td>\n",
       "      <td>135.141414</td>\n",
       "      <td>155.855</td>\n",
       "      <td>0.000000</td>\n",
       "      <td>0.333333</td>\n",
       "      <td>35.297980</td>\n",
       "      <td>37.7306</td>\n",
       "      <td>...</td>\n",
       "      <td>2.859965</td>\n",
       "      <td>5.47656</td>\n",
       "      <td>4.733184</td>\n",
       "      <td>8.82031</td>\n",
       "      <td>-11.864374</td>\n",
       "      <td>-15.3281</td>\n",
       "      <td>3.241653</td>\n",
       "      <td>15.4453</td>\n",
       "      <td>00494c77d2a88f8c08af939f41b5a57b</td>\n",
       "      <td>198.000000</td>\n",
       "    </tr>\n",
       "    <tr>\n",
       "      <th>4</th>\n",
       "      <td>0051d7fbb7893d27</td>\n",
       "      <td>b6c4451cb13c9303</td>\n",
       "      <td>2013-10-26</td>\n",
       "      <td>51.000000</td>\n",
       "      <td>73.500000</td>\n",
       "      <td>73.5</td>\n",
       "      <td>1.000000</td>\n",
       "      <td>1</td>\n",
       "      <td>9.500000</td>\n",
       "      <td>9.5</td>\n",
       "      <td>...</td>\n",
       "      <td>1.094035</td>\n",
       "      <td>2.57143</td>\n",
       "      <td>0.711377</td>\n",
       "      <td>2.14286</td>\n",
       "      <td>15.453581</td>\n",
       "      <td>38.3433</td>\n",
       "      <td>-3.594559</td>\n",
       "      <td>3.13362</td>\n",
       "      <td>0051d7fbb7893d27282fa667ff9c51ed</td>\n",
       "      <td>91.000000</td>\n",
       "    </tr>\n",
       "    <tr>\n",
       "      <th>...</th>\n",
       "      <td>...</td>\n",
       "      <td>...</td>\n",
       "      <td>...</td>\n",
       "      <td>...</td>\n",
       "      <td>...</td>\n",
       "      <td>...</td>\n",
       "      <td>...</td>\n",
       "      <td>...</td>\n",
       "      <td>...</td>\n",
       "      <td>...</td>\n",
       "      <td>...</td>\n",
       "      <td>...</td>\n",
       "      <td>...</td>\n",
       "      <td>...</td>\n",
       "      <td>...</td>\n",
       "      <td>...</td>\n",
       "      <td>...</td>\n",
       "      <td>...</td>\n",
       "      <td>...</td>\n",
       "      <td>...</td>\n",
       "      <td>...</td>\n",
       "    </tr>\n",
       "    <tr>\n",
       "      <th>2525</th>\n",
       "      <td>ff4cef86bef2d0aa</td>\n",
       "      <td>db1f2ed63b54b9a7</td>\n",
       "      <td>2017-09-16</td>\n",
       "      <td>161.862745</td>\n",
       "      <td>100.920958</td>\n",
       "      <td>99.2524</td>\n",
       "      <td>0.610672</td>\n",
       "      <td>-0.570652</td>\n",
       "      <td>-19.455496</td>\n",
       "      <td>-74.2916</td>\n",
       "      <td>...</td>\n",
       "      <td>3.772551</td>\n",
       "      <td>6.03383</td>\n",
       "      <td>3.311594</td>\n",
       "      <td>6.46739</td>\n",
       "      <td>19.882345</td>\n",
       "      <td>23.1807</td>\n",
       "      <td>10.922561</td>\n",
       "      <td>15.5133</td>\n",
       "      <td>ff4cef86bef2d0aad4c9dcd330403612</td>\n",
       "      <td>310.490196</td>\n",
       "    </tr>\n",
       "    <tr>\n",
       "      <th>2526</th>\n",
       "      <td>ff64fc34065565d0</td>\n",
       "      <td>6fb1ba67bef41b37</td>\n",
       "      <td>2015-05-30</td>\n",
       "      <td>92.000000</td>\n",
       "      <td>97.293860</td>\n",
       "      <td>104.333</td>\n",
       "      <td>1.429825</td>\n",
       "      <td>-0.333333</td>\n",
       "      <td>8.600877</td>\n",
       "      <td>10.3333</td>\n",
       "      <td>...</td>\n",
       "      <td>5.199375</td>\n",
       "      <td>8.58364</td>\n",
       "      <td>6.996808</td>\n",
       "      <td>11.8649</td>\n",
       "      <td>-9.012294</td>\n",
       "      <td>-10.3594</td>\n",
       "      <td>-0.139091</td>\n",
       "      <td>-4.54688</td>\n",
       "      <td>ff64fc34065565d007225ba28ae309b6</td>\n",
       "      <td>208.857143</td>\n",
       "    </tr>\n",
       "    <tr>\n",
       "      <th>2527</th>\n",
       "      <td>ffd3e3d37cba32da</td>\n",
       "      <td>92a9aa9c93192871</td>\n",
       "      <td>2014-10-25</td>\n",
       "      <td>154.000000</td>\n",
       "      <td>143.855810</td>\n",
       "      <td>175.261</td>\n",
       "      <td>3.018444</td>\n",
       "      <td>0</td>\n",
       "      <td>4.804949</td>\n",
       "      <td>-10.3109</td>\n",
       "      <td>...</td>\n",
       "      <td>-2.625000</td>\n",
       "      <td>-3</td>\n",
       "      <td>-3.750000</td>\n",
       "      <td>-4.28571</td>\n",
       "      <td>6.414204</td>\n",
       "      <td>11.3992</td>\n",
       "      <td>-11.206462</td>\n",
       "      <td>-6.29744</td>\n",
       "      <td>ffd3e3d37cba32da7413b80dbb0f8f9f</td>\n",
       "      <td>236.000000</td>\n",
       "    </tr>\n",
       "    <tr>\n",
       "      <th>2528</th>\n",
       "      <td>ffea776913451b6d</td>\n",
       "      <td>75e5fec9f72910ef</td>\n",
       "      <td>2015-02-28</td>\n",
       "      <td>114.649682</td>\n",
       "      <td>88.000347</td>\n",
       "      <td>98</td>\n",
       "      <td>3.846692</td>\n",
       "      <td>3.66667</td>\n",
       "      <td>-6.478311</td>\n",
       "      <td>-12.3333</td>\n",
       "      <td>...</td>\n",
       "      <td>1.852669</td>\n",
       "      <td>0.688907</td>\n",
       "      <td>1.276528</td>\n",
       "      <td>-1.46939</td>\n",
       "      <td>16.600578</td>\n",
       "      <td>0.152086</td>\n",
       "      <td>7.633712</td>\n",
       "      <td>13.4629</td>\n",
       "      <td>ffea776913451b6d22a92d7f62195791</td>\n",
       "      <td>332.484076</td>\n",
       "    </tr>\n",
       "    <tr>\n",
       "      <th>2529</th>\n",
       "      <td>fffa21388cdd78b7</td>\n",
       "      <td>c80095f6092271a7</td>\n",
       "      <td>2013-10-19</td>\n",
       "      <td>76.000000</td>\n",
       "      <td>94.686768</td>\n",
       "      <td>65.7201</td>\n",
       "      <td>0.131311</td>\n",
       "      <td>-1.33333</td>\n",
       "      <td>9.615759</td>\n",
       "      <td>-10.4402</td>\n",
       "      <td>...</td>\n",
       "      <td>1.266667</td>\n",
       "      <td>1.5</td>\n",
       "      <td>1.041495</td>\n",
       "      <td>2.625</td>\n",
       "      <td>-1.272581</td>\n",
       "      <td>-6.29243</td>\n",
       "      <td>-2.878148</td>\n",
       "      <td>-3.61583</td>\n",
       "      <td>fffa21388cdd78b75d7bdab5e03e3216</td>\n",
       "      <td>194.000000</td>\n",
       "    </tr>\n",
       "  </tbody>\n",
       "</table>\n",
       "<p>2530 rows × 50 columns</p>\n",
       "</div>"
      ],
      "text/plain": [
       "               bout_id      fighter_id_0     date_0    target_0  \\\n",
       "0     0027e179b743c86c  91ea901c458e95dd 2015-03-14   51.187500   \n",
       "1     002921976d27b7da  ebc1f40e00e0c481 2014-12-13   17.786561   \n",
       "2     002c1562708ac307  44470bfd9483c7ad 2014-05-24  160.975610   \n",
       "3     00494c77d2a88f8c  7ea1f74cef32f906 2016-11-05   78.000000   \n",
       "4     0051d7fbb7893d27  b6c4451cb13c9303 2013-10-26   51.000000   \n",
       "...                ...               ...        ...         ...   \n",
       "2525  ff4cef86bef2d0aa  db1f2ed63b54b9a7 2017-09-16  161.862745   \n",
       "2526  ff64fc34065565d0  6fb1ba67bef41b37 2015-05-30   92.000000   \n",
       "2527  ffd3e3d37cba32da  92a9aa9c93192871 2014-10-25  154.000000   \n",
       "2528  ffea776913451b6d  75e5fec9f72910ef 2015-02-28  114.649682   \n",
       "2529  fffa21388cdd78b7  c80095f6092271a7 2013-10-19   76.000000   \n",
       "\n",
       "      ca_ss_a_p15m_0 3fa_ss_a_p15m_0  ca_td_s_p15m_di_0 3fa_td_s_p15m_di_0  \\\n",
       "0          78.528358         67.1834           1.500000            1.71429   \n",
       "1         131.820971         136.544          -0.433461                 -1   \n",
       "2          48.000000              48           3.000000                  3   \n",
       "3         135.141414         155.855           0.000000           0.333333   \n",
       "4          73.500000            73.5           1.000000                  1   \n",
       "...              ...             ...                ...                ...   \n",
       "2525      100.920958         99.2524           0.610672          -0.570652   \n",
       "2526       97.293860         104.333           1.429825          -0.333333   \n",
       "2527      143.855810         175.261           3.018444                  0   \n",
       "2528       88.000347              98           3.846692            3.66667   \n",
       "2529       94.686768         65.7201           0.131311           -1.33333   \n",
       "\n",
       "      ca_ss_s_p15m_di_0 3fa_ss_s_p15m_di_0  ...  ca_c_ss_s_p15m_di_1  \\\n",
       "0             23.986567             27.838  ...            -5.000000   \n",
       "1            -13.753972           -21.3637  ...             3.825798   \n",
       "2              7.000000                  7  ...             2.628510   \n",
       "3             35.297980            37.7306  ...             2.859965   \n",
       "4              9.500000                9.5  ...             1.094035   \n",
       "...                 ...                ...  ...                  ...   \n",
       "2525         -19.455496           -74.2916  ...             3.772551   \n",
       "2526           8.600877            10.3333  ...             5.199375   \n",
       "2527           4.804949           -10.3109  ...            -2.625000   \n",
       "2528          -6.478311           -12.3333  ...             1.852669   \n",
       "2529           9.615759           -10.4402  ...             1.266667   \n",
       "\n",
       "     3fa_c_ss_s_p15m_di_1  ca_c_ss_a_p15m_di_1 3fa_c_ss_a_p15m_di_1  \\\n",
       "0                      -5            -3.000000                   -3   \n",
       "1                 22.1577            -7.405384              30.1415   \n",
       "2                 1.42347             3.107143              2.70918   \n",
       "3                 5.47656             4.733184              8.82031   \n",
       "4                 2.57143             0.711377              2.14286   \n",
       "...                   ...                  ...                  ...   \n",
       "2525              6.03383             3.311594              6.46739   \n",
       "2526              8.58364             6.996808              11.8649   \n",
       "2527                   -3            -3.750000             -4.28571   \n",
       "2528             0.688907             1.276528             -1.46939   \n",
       "2529                  1.5             1.041495                2.625   \n",
       "\n",
       "      ca_d_ss_a_p15m_di_1 3fa_d_ss_a_p15m_di_1  ca_d_ss_s_p15m_di_1  \\\n",
       "0              -86.000000                  -86           -38.000000   \n",
       "1              -46.427974              -12.943           -18.981288   \n",
       "2               27.566239              36.3214             3.747558   \n",
       "3              -11.864374             -15.3281             3.241653   \n",
       "4               15.453581              38.3433            -3.594559   \n",
       "...                   ...                  ...                  ...   \n",
       "2525            19.882345              23.1807            10.922561   \n",
       "2526            -9.012294             -10.3594            -0.139091   \n",
       "2527             6.414204              11.3992           -11.206462   \n",
       "2528            16.600578             0.152086             7.633712   \n",
       "2529            -1.272581             -6.29243            -2.878148   \n",
       "\n",
       "     3fa_d_ss_s_p15m_di_1                         inst_id_1 c_ss_a_p15m  \n",
       "0                     -38  0027e179b743c86c3aa794cbe1e3484b   89.437500  \n",
       "1                 11.4666  002921976d27b7dab4ad3a06ee4d660c  106.719368  \n",
       "2                 -3.9949  002c1562708ac30722a92d7f62195791  406.097561  \n",
       "3                 15.4453  00494c77d2a88f8c08af939f41b5a57b  198.000000  \n",
       "4                 3.13362  0051d7fbb7893d27282fa667ff9c51ed   91.000000  \n",
       "...                   ...                               ...         ...  \n",
       "2525              15.5133  ff4cef86bef2d0aad4c9dcd330403612  310.490196  \n",
       "2526             -4.54688  ff64fc34065565d007225ba28ae309b6  208.857143  \n",
       "2527             -6.29744  ffd3e3d37cba32da7413b80dbb0f8f9f  236.000000  \n",
       "2528              13.4629  ffea776913451b6d22a92d7f62195791  332.484076  \n",
       "2529             -3.61583  fffa21388cdd78b75d7bdab5e03e3216  194.000000  \n",
       "\n",
       "[2530 rows x 50 columns]"
      ]
     },
     "execution_count": 18,
     "metadata": {},
     "output_type": "execute_result"
    }
   ],
   "source": [
    "model_df['c_ss_a_p15m'] = model_df['target_0'] + model_df['target_1']\n",
    "model_df"
   ]
  },
  {
   "cell_type": "markdown",
   "metadata": {},
   "source": [
    "#### drop unnecessary columns"
   ]
  },
  {
   "cell_type": "code",
   "execution_count": 19,
   "metadata": {},
   "outputs": [
    {
     "data": {
      "text/plain": [
       "Index(['bout_id', 'fighter_id_0', 'date_0', 'target_0', 'ca_ss_a_p15m_0',\n",
       "       '3fa_ss_a_p15m_0', 'ca_td_s_p15m_di_0', '3fa_td_s_p15m_di_0',\n",
       "       'ca_ss_s_p15m_di_0', '3fa_ss_s_p15m_di_0', 'ca_ss_a_p15m_di_0',\n",
       "       '3fa_ss_a_p15m_di_0', 'ca_g_ss_s_p15m_di_0', '3fa_g_ss_s_p15m_di_0',\n",
       "       'ca_g_ss_a_p15m_di_0', '3fa_g_ss_a_p15m_di_0', 'ca_c_ss_s_p15m_di_0',\n",
       "       '3fa_c_ss_s_p15m_di_0', 'ca_c_ss_a_p15m_di_0', '3fa_c_ss_a_p15m_di_0',\n",
       "       'ca_d_ss_a_p15m_di_0', '3fa_d_ss_a_p15m_di_0', 'ca_d_ss_s_p15m_di_0',\n",
       "       '3fa_d_ss_s_p15m_di_0', 'inst_id_0', 'fighter_id_1', 'date_1',\n",
       "       'target_1', 'ca_ss_a_p15m_1', '3fa_ss_a_p15m_1', 'ca_td_s_p15m_di_1',\n",
       "       '3fa_td_s_p15m_di_1', 'ca_ss_s_p15m_di_1', '3fa_ss_s_p15m_di_1',\n",
       "       'ca_ss_a_p15m_di_1', '3fa_ss_a_p15m_di_1', 'ca_g_ss_s_p15m_di_1',\n",
       "       '3fa_g_ss_s_p15m_di_1', 'ca_g_ss_a_p15m_di_1', '3fa_g_ss_a_p15m_di_1',\n",
       "       'ca_c_ss_s_p15m_di_1', '3fa_c_ss_s_p15m_di_1', 'ca_c_ss_a_p15m_di_1',\n",
       "       '3fa_c_ss_a_p15m_di_1', 'ca_d_ss_a_p15m_di_1', '3fa_d_ss_a_p15m_di_1',\n",
       "       'ca_d_ss_s_p15m_di_1', '3fa_d_ss_s_p15m_di_1', 'inst_id_1',\n",
       "       'c_ss_a_p15m'],\n",
       "      dtype='object')"
      ]
     },
     "execution_count": 19,
     "metadata": {},
     "output_type": "execute_result"
    }
   ],
   "source": [
    "model_df.columns"
   ]
  },
  {
   "cell_type": "code",
   "execution_count": 22,
   "metadata": {},
   "outputs": [],
   "source": [
    "model_df = model_df.loc[:,['ca_ss_a_p15m_0',\n",
    "       '3fa_ss_a_p15m_0', 'ca_td_s_p15m_di_0', '3fa_td_s_p15m_di_0',\n",
    "       'ca_ss_s_p15m_di_0', '3fa_ss_s_p15m_di_0', 'ca_ss_a_p15m_di_0',\n",
    "       '3fa_ss_a_p15m_di_0', 'ca_g_ss_s_p15m_di_0', '3fa_g_ss_s_p15m_di_0',\n",
    "       'ca_g_ss_a_p15m_di_0', '3fa_g_ss_a_p15m_di_0', 'ca_c_ss_s_p15m_di_0',\n",
    "       '3fa_c_ss_s_p15m_di_0', 'ca_c_ss_a_p15m_di_0', '3fa_c_ss_a_p15m_di_0',\n",
    "       'ca_d_ss_a_p15m_di_0', '3fa_d_ss_a_p15m_di_0', 'ca_d_ss_s_p15m_di_0',\n",
    "       '3fa_d_ss_s_p15m_di_0', 'ca_ss_a_p15m_1', '3fa_ss_a_p15m_1', 'ca_td_s_p15m_di_1',\n",
    "       '3fa_td_s_p15m_di_1', 'ca_ss_s_p15m_di_1', '3fa_ss_s_p15m_di_1',\n",
    "       'ca_ss_a_p15m_di_1', '3fa_ss_a_p15m_di_1', 'ca_g_ss_s_p15m_di_1',\n",
    "       '3fa_g_ss_s_p15m_di_1', 'ca_g_ss_a_p15m_di_1', '3fa_g_ss_a_p15m_di_1',\n",
    "       'ca_c_ss_s_p15m_di_1', '3fa_c_ss_s_p15m_di_1', 'ca_c_ss_a_p15m_di_1',\n",
    "       '3fa_c_ss_a_p15m_di_1', 'ca_d_ss_a_p15m_di_1', '3fa_d_ss_a_p15m_di_1',\n",
    "       'ca_d_ss_s_p15m_di_1', '3fa_d_ss_s_p15m_di_1','c_ss_a_p15m']]"
   ]
  },
  {
   "cell_type": "code",
   "execution_count": 23,
   "metadata": {},
   "outputs": [
    {
     "data": {
      "text/html": [
       "<div>\n",
       "<style scoped>\n",
       "    .dataframe tbody tr th:only-of-type {\n",
       "        vertical-align: middle;\n",
       "    }\n",
       "\n",
       "    .dataframe tbody tr th {\n",
       "        vertical-align: top;\n",
       "    }\n",
       "\n",
       "    .dataframe thead th {\n",
       "        text-align: right;\n",
       "    }\n",
       "</style>\n",
       "<table border=\"1\" class=\"dataframe\">\n",
       "  <thead>\n",
       "    <tr style=\"text-align: right;\">\n",
       "      <th></th>\n",
       "      <th>ca_ss_a_p15m_0</th>\n",
       "      <th>3fa_ss_a_p15m_0</th>\n",
       "      <th>ca_td_s_p15m_di_0</th>\n",
       "      <th>3fa_td_s_p15m_di_0</th>\n",
       "      <th>ca_ss_s_p15m_di_0</th>\n",
       "      <th>3fa_ss_s_p15m_di_0</th>\n",
       "      <th>ca_ss_a_p15m_di_0</th>\n",
       "      <th>3fa_ss_a_p15m_di_0</th>\n",
       "      <th>ca_g_ss_s_p15m_di_0</th>\n",
       "      <th>3fa_g_ss_s_p15m_di_0</th>\n",
       "      <th>...</th>\n",
       "      <th>3fa_g_ss_a_p15m_di_1</th>\n",
       "      <th>ca_c_ss_s_p15m_di_1</th>\n",
       "      <th>3fa_c_ss_s_p15m_di_1</th>\n",
       "      <th>ca_c_ss_a_p15m_di_1</th>\n",
       "      <th>3fa_c_ss_a_p15m_di_1</th>\n",
       "      <th>ca_d_ss_a_p15m_di_1</th>\n",
       "      <th>3fa_d_ss_a_p15m_di_1</th>\n",
       "      <th>ca_d_ss_s_p15m_di_1</th>\n",
       "      <th>3fa_d_ss_s_p15m_di_1</th>\n",
       "      <th>c_ss_a_p15m</th>\n",
       "    </tr>\n",
       "  </thead>\n",
       "  <tbody>\n",
       "    <tr>\n",
       "      <th>0</th>\n",
       "      <td>78.528358</td>\n",
       "      <td>67.1834</td>\n",
       "      <td>1.500000</td>\n",
       "      <td>1.71429</td>\n",
       "      <td>23.986567</td>\n",
       "      <td>27.838</td>\n",
       "      <td>35.825373</td>\n",
       "      <td>36.6077</td>\n",
       "      <td>13.204478</td>\n",
       "      <td>15.435</td>\n",
       "      <td>...</td>\n",
       "      <td>0</td>\n",
       "      <td>-5.000000</td>\n",
       "      <td>-5</td>\n",
       "      <td>-3.000000</td>\n",
       "      <td>-3</td>\n",
       "      <td>-86.000000</td>\n",
       "      <td>-86</td>\n",
       "      <td>-38.000000</td>\n",
       "      <td>-38</td>\n",
       "      <td>89.437500</td>\n",
       "    </tr>\n",
       "    <tr>\n",
       "      <th>1</th>\n",
       "      <td>131.820971</td>\n",
       "      <td>136.544</td>\n",
       "      <td>-0.433461</td>\n",
       "      <td>-1</td>\n",
       "      <td>-13.753972</td>\n",
       "      <td>-21.3637</td>\n",
       "      <td>-17.983095</td>\n",
       "      <td>-1.4005</td>\n",
       "      <td>-1.755793</td>\n",
       "      <td>0</td>\n",
       "      <td>...</td>\n",
       "      <td>33.9381</td>\n",
       "      <td>3.825798</td>\n",
       "      <td>22.1577</td>\n",
       "      <td>-7.405384</td>\n",
       "      <td>30.1415</td>\n",
       "      <td>-46.427974</td>\n",
       "      <td>-12.943</td>\n",
       "      <td>-18.981288</td>\n",
       "      <td>11.4666</td>\n",
       "      <td>106.719368</td>\n",
       "    </tr>\n",
       "    <tr>\n",
       "      <th>2</th>\n",
       "      <td>48.000000</td>\n",
       "      <td>48</td>\n",
       "      <td>3.000000</td>\n",
       "      <td>3</td>\n",
       "      <td>7.000000</td>\n",
       "      <td>7</td>\n",
       "      <td>-15.000000</td>\n",
       "      <td>-15</td>\n",
       "      <td>3.000000</td>\n",
       "      <td>3</td>\n",
       "      <td>...</td>\n",
       "      <td>1.14796</td>\n",
       "      <td>2.628510</td>\n",
       "      <td>1.42347</td>\n",
       "      <td>3.107143</td>\n",
       "      <td>2.70918</td>\n",
       "      <td>27.566239</td>\n",
       "      <td>36.3214</td>\n",
       "      <td>3.747558</td>\n",
       "      <td>-3.9949</td>\n",
       "      <td>406.097561</td>\n",
       "    </tr>\n",
       "    <tr>\n",
       "      <th>3</th>\n",
       "      <td>135.141414</td>\n",
       "      <td>155.855</td>\n",
       "      <td>0.000000</td>\n",
       "      <td>0.333333</td>\n",
       "      <td>35.297980</td>\n",
       "      <td>37.7306</td>\n",
       "      <td>49.795455</td>\n",
       "      <td>56.0606</td>\n",
       "      <td>5.270202</td>\n",
       "      <td>6.6936</td>\n",
       "      <td>...</td>\n",
       "      <td>15.8203</td>\n",
       "      <td>2.859965</td>\n",
       "      <td>5.47656</td>\n",
       "      <td>4.733184</td>\n",
       "      <td>8.82031</td>\n",
       "      <td>-11.864374</td>\n",
       "      <td>-15.3281</td>\n",
       "      <td>3.241653</td>\n",
       "      <td>15.4453</td>\n",
       "      <td>198.000000</td>\n",
       "    </tr>\n",
       "    <tr>\n",
       "      <th>4</th>\n",
       "      <td>73.500000</td>\n",
       "      <td>73.5</td>\n",
       "      <td>1.000000</td>\n",
       "      <td>1</td>\n",
       "      <td>9.500000</td>\n",
       "      <td>9.5</td>\n",
       "      <td>14.000000</td>\n",
       "      <td>14</td>\n",
       "      <td>14.000000</td>\n",
       "      <td>14</td>\n",
       "      <td>...</td>\n",
       "      <td>-4.34601</td>\n",
       "      <td>1.094035</td>\n",
       "      <td>2.57143</td>\n",
       "      <td>0.711377</td>\n",
       "      <td>2.14286</td>\n",
       "      <td>15.453581</td>\n",
       "      <td>38.3433</td>\n",
       "      <td>-3.594559</td>\n",
       "      <td>3.13362</td>\n",
       "      <td>91.000000</td>\n",
       "    </tr>\n",
       "    <tr>\n",
       "      <th>...</th>\n",
       "      <td>...</td>\n",
       "      <td>...</td>\n",
       "      <td>...</td>\n",
       "      <td>...</td>\n",
       "      <td>...</td>\n",
       "      <td>...</td>\n",
       "      <td>...</td>\n",
       "      <td>...</td>\n",
       "      <td>...</td>\n",
       "      <td>...</td>\n",
       "      <td>...</td>\n",
       "      <td>...</td>\n",
       "      <td>...</td>\n",
       "      <td>...</td>\n",
       "      <td>...</td>\n",
       "      <td>...</td>\n",
       "      <td>...</td>\n",
       "      <td>...</td>\n",
       "      <td>...</td>\n",
       "      <td>...</td>\n",
       "      <td>...</td>\n",
       "    </tr>\n",
       "    <tr>\n",
       "      <th>2525</th>\n",
       "      <td>100.920958</td>\n",
       "      <td>99.2524</td>\n",
       "      <td>0.610672</td>\n",
       "      <td>-0.570652</td>\n",
       "      <td>-19.455496</td>\n",
       "      <td>-74.2916</td>\n",
       "      <td>-33.053421</td>\n",
       "      <td>-106.927</td>\n",
       "      <td>-10.786923</td>\n",
       "      <td>-39.7764</td>\n",
       "      <td>...</td>\n",
       "      <td>-16.6799</td>\n",
       "      <td>3.772551</td>\n",
       "      <td>6.03383</td>\n",
       "      <td>3.311594</td>\n",
       "      <td>6.46739</td>\n",
       "      <td>19.882345</td>\n",
       "      <td>23.1807</td>\n",
       "      <td>10.922561</td>\n",
       "      <td>15.5133</td>\n",
       "      <td>310.490196</td>\n",
       "    </tr>\n",
       "    <tr>\n",
       "      <th>2526</th>\n",
       "      <td>97.293860</td>\n",
       "      <td>104.333</td>\n",
       "      <td>1.429825</td>\n",
       "      <td>-0.333333</td>\n",
       "      <td>8.600877</td>\n",
       "      <td>10.3333</td>\n",
       "      <td>16.785088</td>\n",
       "      <td>35</td>\n",
       "      <td>5.789474</td>\n",
       "      <td>7.66667</td>\n",
       "      <td>...</td>\n",
       "      <td>-6.07996</td>\n",
       "      <td>5.199375</td>\n",
       "      <td>8.58364</td>\n",
       "      <td>6.996808</td>\n",
       "      <td>11.8649</td>\n",
       "      <td>-9.012294</td>\n",
       "      <td>-10.3594</td>\n",
       "      <td>-0.139091</td>\n",
       "      <td>-4.54688</td>\n",
       "      <td>208.857143</td>\n",
       "    </tr>\n",
       "    <tr>\n",
       "      <th>2527</th>\n",
       "      <td>143.855810</td>\n",
       "      <td>175.261</td>\n",
       "      <td>3.018444</td>\n",
       "      <td>0</td>\n",
       "      <td>4.804949</td>\n",
       "      <td>-10.3109</td>\n",
       "      <td>60.855043</td>\n",
       "      <td>69.0756</td>\n",
       "      <td>6.073953</td>\n",
       "      <td>1.78992</td>\n",
       "      <td>...</td>\n",
       "      <td>23.8957</td>\n",
       "      <td>-2.625000</td>\n",
       "      <td>-3</td>\n",
       "      <td>-3.750000</td>\n",
       "      <td>-4.28571</td>\n",
       "      <td>6.414204</td>\n",
       "      <td>11.3992</td>\n",
       "      <td>-11.206462</td>\n",
       "      <td>-6.29744</td>\n",
       "      <td>236.000000</td>\n",
       "    </tr>\n",
       "    <tr>\n",
       "      <th>2528</th>\n",
       "      <td>88.000347</td>\n",
       "      <td>98</td>\n",
       "      <td>3.846692</td>\n",
       "      <td>3.66667</td>\n",
       "      <td>-6.478311</td>\n",
       "      <td>-12.3333</td>\n",
       "      <td>-11.043388</td>\n",
       "      <td>-30.3333</td>\n",
       "      <td>1.829027</td>\n",
       "      <td>2.66667</td>\n",
       "      <td>...</td>\n",
       "      <td>-7.42085</td>\n",
       "      <td>1.852669</td>\n",
       "      <td>0.688907</td>\n",
       "      <td>1.276528</td>\n",
       "      <td>-1.46939</td>\n",
       "      <td>16.600578</td>\n",
       "      <td>0.152086</td>\n",
       "      <td>7.633712</td>\n",
       "      <td>13.4629</td>\n",
       "      <td>332.484076</td>\n",
       "    </tr>\n",
       "    <tr>\n",
       "      <th>2529</th>\n",
       "      <td>94.686768</td>\n",
       "      <td>65.7201</td>\n",
       "      <td>0.131311</td>\n",
       "      <td>-1.33333</td>\n",
       "      <td>9.615759</td>\n",
       "      <td>-10.4402</td>\n",
       "      <td>-3.153143</td>\n",
       "      <td>-24.2036</td>\n",
       "      <td>-9.597153</td>\n",
       "      <td>-26.5369</td>\n",
       "      <td>...</td>\n",
       "      <td>-7.47592</td>\n",
       "      <td>1.266667</td>\n",
       "      <td>1.5</td>\n",
       "      <td>1.041495</td>\n",
       "      <td>2.625</td>\n",
       "      <td>-1.272581</td>\n",
       "      <td>-6.29243</td>\n",
       "      <td>-2.878148</td>\n",
       "      <td>-3.61583</td>\n",
       "      <td>194.000000</td>\n",
       "    </tr>\n",
       "  </tbody>\n",
       "</table>\n",
       "<p>2530 rows × 41 columns</p>\n",
       "</div>"
      ],
      "text/plain": [
       "      ca_ss_a_p15m_0 3fa_ss_a_p15m_0  ca_td_s_p15m_di_0 3fa_td_s_p15m_di_0  \\\n",
       "0          78.528358         67.1834           1.500000            1.71429   \n",
       "1         131.820971         136.544          -0.433461                 -1   \n",
       "2          48.000000              48           3.000000                  3   \n",
       "3         135.141414         155.855           0.000000           0.333333   \n",
       "4          73.500000            73.5           1.000000                  1   \n",
       "...              ...             ...                ...                ...   \n",
       "2525      100.920958         99.2524           0.610672          -0.570652   \n",
       "2526       97.293860         104.333           1.429825          -0.333333   \n",
       "2527      143.855810         175.261           3.018444                  0   \n",
       "2528       88.000347              98           3.846692            3.66667   \n",
       "2529       94.686768         65.7201           0.131311           -1.33333   \n",
       "\n",
       "      ca_ss_s_p15m_di_0 3fa_ss_s_p15m_di_0  ca_ss_a_p15m_di_0  \\\n",
       "0             23.986567             27.838          35.825373   \n",
       "1            -13.753972           -21.3637         -17.983095   \n",
       "2              7.000000                  7         -15.000000   \n",
       "3             35.297980            37.7306          49.795455   \n",
       "4              9.500000                9.5          14.000000   \n",
       "...                 ...                ...                ...   \n",
       "2525         -19.455496           -74.2916         -33.053421   \n",
       "2526           8.600877            10.3333          16.785088   \n",
       "2527           4.804949           -10.3109          60.855043   \n",
       "2528          -6.478311           -12.3333         -11.043388   \n",
       "2529           9.615759           -10.4402          -3.153143   \n",
       "\n",
       "     3fa_ss_a_p15m_di_0  ca_g_ss_s_p15m_di_0 3fa_g_ss_s_p15m_di_0  ...  \\\n",
       "0               36.6077            13.204478               15.435  ...   \n",
       "1               -1.4005            -1.755793                    0  ...   \n",
       "2                   -15             3.000000                    3  ...   \n",
       "3               56.0606             5.270202               6.6936  ...   \n",
       "4                    14            14.000000                   14  ...   \n",
       "...                 ...                  ...                  ...  ...   \n",
       "2525           -106.927           -10.786923             -39.7764  ...   \n",
       "2526                 35             5.789474              7.66667  ...   \n",
       "2527            69.0756             6.073953              1.78992  ...   \n",
       "2528           -30.3333             1.829027              2.66667  ...   \n",
       "2529           -24.2036            -9.597153             -26.5369  ...   \n",
       "\n",
       "      3fa_g_ss_a_p15m_di_1 ca_c_ss_s_p15m_di_1  3fa_c_ss_s_p15m_di_1  \\\n",
       "0                        0           -5.000000                    -5   \n",
       "1                  33.9381            3.825798               22.1577   \n",
       "2                  1.14796            2.628510               1.42347   \n",
       "3                  15.8203            2.859965               5.47656   \n",
       "4                 -4.34601            1.094035               2.57143   \n",
       "...                    ...                 ...                   ...   \n",
       "2525              -16.6799            3.772551               6.03383   \n",
       "2526              -6.07996            5.199375               8.58364   \n",
       "2527               23.8957           -2.625000                    -3   \n",
       "2528              -7.42085            1.852669              0.688907   \n",
       "2529              -7.47592            1.266667                   1.5   \n",
       "\n",
       "     ca_c_ss_a_p15m_di_1  3fa_c_ss_a_p15m_di_1 ca_d_ss_a_p15m_di_1  \\\n",
       "0              -3.000000                    -3          -86.000000   \n",
       "1              -7.405384               30.1415          -46.427974   \n",
       "2               3.107143               2.70918           27.566239   \n",
       "3               4.733184               8.82031          -11.864374   \n",
       "4               0.711377               2.14286           15.453581   \n",
       "...                  ...                   ...                 ...   \n",
       "2525            3.311594               6.46739           19.882345   \n",
       "2526            6.996808               11.8649           -9.012294   \n",
       "2527           -3.750000              -4.28571            6.414204   \n",
       "2528            1.276528              -1.46939           16.600578   \n",
       "2529            1.041495                 2.625           -1.272581   \n",
       "\n",
       "      3fa_d_ss_a_p15m_di_1 ca_d_ss_s_p15m_di_1  3fa_d_ss_s_p15m_di_1  \\\n",
       "0                      -86          -38.000000                   -38   \n",
       "1                  -12.943          -18.981288               11.4666   \n",
       "2                  36.3214            3.747558               -3.9949   \n",
       "3                 -15.3281            3.241653               15.4453   \n",
       "4                  38.3433           -3.594559               3.13362   \n",
       "...                    ...                 ...                   ...   \n",
       "2525               23.1807           10.922561               15.5133   \n",
       "2526              -10.3594           -0.139091              -4.54688   \n",
       "2527               11.3992          -11.206462              -6.29744   \n",
       "2528              0.152086            7.633712               13.4629   \n",
       "2529              -6.29243           -2.878148              -3.61583   \n",
       "\n",
       "     c_ss_a_p15m  \n",
       "0      89.437500  \n",
       "1     106.719368  \n",
       "2     406.097561  \n",
       "3     198.000000  \n",
       "4      91.000000  \n",
       "...          ...  \n",
       "2525  310.490196  \n",
       "2526  208.857143  \n",
       "2527  236.000000  \n",
       "2528  332.484076  \n",
       "2529  194.000000  \n",
       "\n",
       "[2530 rows x 41 columns]"
      ]
     },
     "execution_count": 23,
     "metadata": {},
     "output_type": "execute_result"
    }
   ],
   "source": [
    "model_df"
   ]
  },
  {
   "cell_type": "markdown",
   "metadata": {},
   "source": [
    "# 2. Modelling"
   ]
  },
  {
   "cell_type": "code",
   "execution_count": 24,
   "metadata": {},
   "outputs": [],
   "source": [
    "import pandas as pd\n",
    "import matplotlib.pyplot as plt\n",
    "import seaborn as sns\n",
    "from sklearn.linear_model import PoissonRegressor\n",
    "from sklearn.model_selection import cross_val_score, train_test_split\n",
    "from sklearn.preprocessing import StandardScaler\n",
    "from sklearn.metrics import r2_score"
   ]
  },
  {
   "cell_type": "markdown",
   "metadata": {},
   "source": [
    "### Target\n",
    "The target variable for all current model iterations is the Combined Average Significant Strikes Attempts per Minute of a match. This calculates the sum of the significant strike attempts per minute of both fighters.\n",
    "\n",
    "#### First Simple Model\n",
    "- Model: Poisson Regressor\n",
    "- Features: Career Average Significant Strike Attempts per Minute\n",
    "- Preprocessing: Standard Scaler"
   ]
  },
  {
   "cell_type": "markdown",
   "metadata": {},
   "source": [
    "#### Split"
   ]
  },
  {
   "cell_type": "code",
   "execution_count": 25,
   "metadata": {},
   "outputs": [
    {
     "data": {
      "text/plain": [
       "0        78.528358\n",
       "1       131.820971\n",
       "2        48.000000\n",
       "3       135.141414\n",
       "4        73.500000\n",
       "           ...    \n",
       "2525    100.920958\n",
       "2526     97.293860\n",
       "2527    143.855810\n",
       "2528     88.000347\n",
       "2529     94.686768\n",
       "Name: ca_ss_a_p15m_0, Length: 2530, dtype: float64"
      ]
     },
     "execution_count": 25,
     "metadata": {},
     "output_type": "execute_result"
    }
   ],
   "source": [
    "model_df.ca_ss_a_p15m_0"
   ]
  },
  {
   "cell_type": "code",
   "execution_count": 27,
   "metadata": {},
   "outputs": [],
   "source": [
    "X = model_df.loc[:,['ca_ss_a_p15m_0', 'ca_ss_a_p15m_1']]\n",
    "y = model_df.c_ss_a_p15m"
   ]
  },
  {
   "cell_type": "code",
   "execution_count": 28,
   "metadata": {},
   "outputs": [],
   "source": [
    "X_train, X_test, y_train, y_test = train_test_split(X, y,random_state=1)"
   ]
  },
  {
   "cell_type": "markdown",
   "metadata": {},
   "source": [
    "#### Preprocessing"
   ]
  },
  {
   "cell_type": "code",
   "execution_count": 29,
   "metadata": {},
   "outputs": [],
   "source": [
    "ss = StandardScaler()\n",
    "X_train_ss = ss.fit_transform(X_train)\n",
    "X_test_ss = ss.transform(X_test)"
   ]
  },
  {
   "cell_type": "markdown",
   "metadata": {},
   "source": [
    "#### Cross-Validation\n",
    "performance was evaluated using the standard metric for Poisson regression, mean Poisson deviance, as well as r-squared, so that it can be compared to other non-Poisson models easily."
   ]
  },
  {
   "cell_type": "markdown",
   "metadata": {},
   "source": [
    "##### R-squared cross-val scores"
   ]
  },
  {
   "cell_type": "code",
   "execution_count": 30,
   "metadata": {},
   "outputs": [
    {
     "data": {
      "text/plain": [
       "array([0.13798269, 0.09213633, 0.09666464, 0.0394901 , 0.11371957])"
      ]
     },
     "execution_count": 30,
     "metadata": {},
     "output_type": "execute_result"
    }
   ],
   "source": [
    "pr = PoissonRegressor()\n",
    "cross_val_score(pr, X_train_ss, y_train, scoring='r2')"
   ]
  },
  {
   "cell_type": "markdown",
   "metadata": {},
   "source": [
    "##### Possoin Deviance cross-val scores"
   ]
  },
  {
   "cell_type": "code",
   "execution_count": 31,
   "metadata": {},
   "outputs": [
    {
     "data": {
      "text/plain": [
       "array([0.14262972, 0.10545858, 0.109673  , 0.04396868, 0.11916607])"
      ]
     },
     "execution_count": 31,
     "metadata": {},
     "output_type": "execute_result"
    }
   ],
   "source": [
    "cross_val_score(pr, X_train_ss, y_train)"
   ]
  },
  {
   "cell_type": "markdown",
   "metadata": {},
   "source": [
    "## Evaluation on Test Set"
   ]
  },
  {
   "cell_type": "code",
   "execution_count": 32,
   "metadata": {},
   "outputs": [
    {
     "data": {
      "text/plain": [
       "PoissonRegressor()"
      ]
     },
     "execution_count": 32,
     "metadata": {},
     "output_type": "execute_result"
    }
   ],
   "source": [
    "pr.fit(X_train_ss, y_train)"
   ]
  },
  {
   "cell_type": "markdown",
   "metadata": {},
   "source": [
    "#### R-squared"
   ]
  },
  {
   "cell_type": "code",
   "execution_count": 33,
   "metadata": {},
   "outputs": [],
   "source": [
    "y_hat = pr.predict(X_test_ss)"
   ]
  },
  {
   "cell_type": "code",
   "execution_count": 34,
   "metadata": {},
   "outputs": [
    {
     "data": {
      "text/plain": [
       "0.12123274259025885"
      ]
     },
     "execution_count": 34,
     "metadata": {},
     "output_type": "execute_result"
    }
   ],
   "source": [
    "r2_score(y_test, y_hat)"
   ]
  },
  {
   "cell_type": "markdown",
   "metadata": {},
   "source": [
    "#### Poisson Deviance"
   ]
  },
  {
   "cell_type": "code",
   "execution_count": 35,
   "metadata": {},
   "outputs": [
    {
     "data": {
      "text/plain": [
       "0.12886329003133157"
      ]
     },
     "execution_count": 35,
     "metadata": {},
     "output_type": "execute_result"
    }
   ],
   "source": [
    "pr.score(X_test_ss, y_test)"
   ]
  },
  {
   "cell_type": "markdown",
   "metadata": {},
   "source": [
    "Our goal is to predict at least 95% of the matches to within 5 strikes of the actual result, so this metric is also included. The table created below has a column for the predicitions and the actual results, with each row representing one observation."
   ]
  },
  {
   "cell_type": "code",
   "execution_count": 36,
   "metadata": {},
   "outputs": [],
   "source": [
    "results = pd.DataFrame({'model_predictions': list(y_hat), 'actual_results': list(y_test)})"
   ]
  },
  {
   "cell_type": "code",
   "execution_count": 37,
   "metadata": {},
   "outputs": [],
   "source": [
    "def compare_within_window(row):\n",
    "    \"\"\"\n",
    "    givern a row for the dataframe above, returns True if the prediction is\n",
    "    within 5 strikes of the actual result.\n",
    "    \"\"\"\n",
    "    pred = row['model_predictions']\n",
    "    true = row['actual_results']\n",
    "    return pred>=(true-5) and pred<=(true+5)"
   ]
  },
  {
   "cell_type": "code",
   "execution_count": 38,
   "metadata": {},
   "outputs": [],
   "source": [
    "accuracy_within_window = results.apply(compare_within_window, axis=1)"
   ]
  },
  {
   "cell_type": "code",
   "execution_count": 39,
   "metadata": {},
   "outputs": [
    {
     "data": {
      "text/plain": [
       "0.0315955766192733"
      ]
     },
     "execution_count": 39,
     "metadata": {},
     "output_type": "execute_result"
    }
   ],
   "source": [
    "accuracy_within_window.mean()"
   ]
  },
  {
   "cell_type": "markdown",
   "metadata": {},
   "source": [
    "The model is prediciton almost half of the fights within a 5 strike window. When it does get it right, what is it guessing?"
   ]
  },
  {
   "cell_type": "code",
   "execution_count": 40,
   "metadata": {},
   "outputs": [
    {
     "data": {
      "text/html": [
       "<div>\n",
       "<style scoped>\n",
       "    .dataframe tbody tr th:only-of-type {\n",
       "        vertical-align: middle;\n",
       "    }\n",
       "\n",
       "    .dataframe tbody tr th {\n",
       "        vertical-align: top;\n",
       "    }\n",
       "\n",
       "    .dataframe thead th {\n",
       "        text-align: right;\n",
       "    }\n",
       "</style>\n",
       "<table border=\"1\" class=\"dataframe\">\n",
       "  <thead>\n",
       "    <tr style=\"text-align: right;\">\n",
       "      <th></th>\n",
       "      <th>model_predictions</th>\n",
       "      <th>actual_results</th>\n",
       "    </tr>\n",
       "  </thead>\n",
       "  <tbody>\n",
       "    <tr>\n",
       "      <th>count</th>\n",
       "      <td>20.000000</td>\n",
       "      <td>20.000000</td>\n",
       "    </tr>\n",
       "    <tr>\n",
       "      <th>mean</th>\n",
       "      <td>254.249929</td>\n",
       "      <td>254.934066</td>\n",
       "    </tr>\n",
       "    <tr>\n",
       "      <th>std</th>\n",
       "      <td>40.033294</td>\n",
       "      <td>39.627806</td>\n",
       "    </tr>\n",
       "    <tr>\n",
       "      <th>min</th>\n",
       "      <td>179.720789</td>\n",
       "      <td>182.681818</td>\n",
       "    </tr>\n",
       "    <tr>\n",
       "      <th>25%</th>\n",
       "      <td>225.350084</td>\n",
       "      <td>223.724299</td>\n",
       "    </tr>\n",
       "    <tr>\n",
       "      <th>50%</th>\n",
       "      <td>253.582430</td>\n",
       "      <td>256.187500</td>\n",
       "    </tr>\n",
       "    <tr>\n",
       "      <th>75%</th>\n",
       "      <td>275.124765</td>\n",
       "      <td>276.250000</td>\n",
       "    </tr>\n",
       "    <tr>\n",
       "      <th>max</th>\n",
       "      <td>363.842710</td>\n",
       "      <td>362.068966</td>\n",
       "    </tr>\n",
       "  </tbody>\n",
       "</table>\n",
       "</div>"
      ],
      "text/plain": [
       "       model_predictions  actual_results\n",
       "count          20.000000       20.000000\n",
       "mean          254.249929      254.934066\n",
       "std            40.033294       39.627806\n",
       "min           179.720789      182.681818\n",
       "25%           225.350084      223.724299\n",
       "50%           253.582430      256.187500\n",
       "75%           275.124765      276.250000\n",
       "max           363.842710      362.068966"
      ]
     },
     "execution_count": 40,
     "metadata": {},
     "output_type": "execute_result"
    }
   ],
   "source": [
    "within_5 = results[accuracy_within_window]\n",
    "within_5.describe()"
   ]
  },
  {
   "cell_type": "markdown",
   "metadata": {},
   "source": [
    "It looks like it can handle fights where the target lies between 8 and 30 strikes. Here's a description of which matches it gets wrong."
   ]
  },
  {
   "cell_type": "code",
   "execution_count": 41,
   "metadata": {},
   "outputs": [
    {
     "data": {
      "text/html": [
       "<div>\n",
       "<style scoped>\n",
       "    .dataframe tbody tr th:only-of-type {\n",
       "        vertical-align: middle;\n",
       "    }\n",
       "\n",
       "    .dataframe tbody tr th {\n",
       "        vertical-align: top;\n",
       "    }\n",
       "\n",
       "    .dataframe thead th {\n",
       "        text-align: right;\n",
       "    }\n",
       "</style>\n",
       "<table border=\"1\" class=\"dataframe\">\n",
       "  <thead>\n",
       "    <tr style=\"text-align: right;\">\n",
       "      <th></th>\n",
       "      <th>model_predictions</th>\n",
       "      <th>actual_results</th>\n",
       "    </tr>\n",
       "  </thead>\n",
       "  <tbody>\n",
       "    <tr>\n",
       "      <th>count</th>\n",
       "      <td>613.000000</td>\n",
       "      <td>613.000000</td>\n",
       "    </tr>\n",
       "    <tr>\n",
       "      <th>mean</th>\n",
       "      <td>260.246112</td>\n",
       "      <td>265.507521</td>\n",
       "    </tr>\n",
       "    <tr>\n",
       "      <th>std</th>\n",
       "      <td>43.358574</td>\n",
       "      <td>148.857945</td>\n",
       "    </tr>\n",
       "    <tr>\n",
       "      <th>min</th>\n",
       "      <td>165.116156</td>\n",
       "      <td>17.088608</td>\n",
       "    </tr>\n",
       "    <tr>\n",
       "      <th>25%</th>\n",
       "      <td>230.180349</td>\n",
       "      <td>164.000000</td>\n",
       "    </tr>\n",
       "    <tr>\n",
       "      <th>50%</th>\n",
       "      <td>254.583513</td>\n",
       "      <td>248.000000</td>\n",
       "    </tr>\n",
       "    <tr>\n",
       "      <th>75%</th>\n",
       "      <td>284.702238</td>\n",
       "      <td>333.000000</td>\n",
       "    </tr>\n",
       "    <tr>\n",
       "      <th>max</th>\n",
       "      <td>522.325849</td>\n",
       "      <td>1237.500000</td>\n",
       "    </tr>\n",
       "  </tbody>\n",
       "</table>\n",
       "</div>"
      ],
      "text/plain": [
       "       model_predictions  actual_results\n",
       "count         613.000000      613.000000\n",
       "mean          260.246112      265.507521\n",
       "std            43.358574      148.857945\n",
       "min           165.116156       17.088608\n",
       "25%           230.180349      164.000000\n",
       "50%           254.583513      248.000000\n",
       "75%           284.702238      333.000000\n",
       "max           522.325849     1237.500000"
      ]
     },
     "execution_count": 41,
     "metadata": {},
     "output_type": "execute_result"
    }
   ],
   "source": [
    "results[-accuracy_within_window].describe()"
   ]
  },
  {
   "cell_type": "markdown",
   "metadata": {},
   "source": [
    "Of these observations, the actual results have a much higher spread, with a standard deviation over 3 times higher than the predictions.\n",
    "This model is consistently predicting that the fight will be within 11 and 39 strikes, even when the data has a much greater spread."
   ]
  },
  {
   "cell_type": "markdown",
   "metadata": {},
   "source": [
    "#### Latest model\n",
    "- Model: Poisson Regressor\n",
    "- Features: \n",
    "    - Career Average Significant Strike Attempts per Minute\n",
    "    - Differentials for both Attempts and Successes (3-fight and career averages):\n",
    "        - Ground Strikes\n",
    "        - Clinch Strikes\n",
    "        - Distance Strikes\n",
    "        - Significant Strikes\n",
    "        - Takedowns\n",
    "- Preprocessing: Standard Scaler"
   ]
  },
  {
   "cell_type": "markdown",
   "metadata": {},
   "source": [
    "#### Split"
   ]
  },
  {
   "cell_type": "code",
   "execution_count": 43,
   "metadata": {},
   "outputs": [],
   "source": [
    "X = model_df.drop('c_ss_a_p15m', axis=1)\n",
    "y = model_df.c_ss_a_p15m"
   ]
  },
  {
   "cell_type": "code",
   "execution_count": 44,
   "metadata": {},
   "outputs": [],
   "source": [
    "X_train, X_test, y_train, y_test = train_test_split(X, y,random_state=1)"
   ]
  },
  {
   "cell_type": "markdown",
   "metadata": {},
   "source": [
    "#### Preprocessing"
   ]
  },
  {
   "cell_type": "code",
   "execution_count": 45,
   "metadata": {},
   "outputs": [],
   "source": [
    "ss = StandardScaler()\n",
    "X_train_ss = ss.fit_transform(X_train)\n",
    "X_test_ss = ss.transform(X_test)"
   ]
  },
  {
   "cell_type": "markdown",
   "metadata": {},
   "source": [
    "#### Cross-Validation\n",
    "performance was evaluated using the standard metric for Poisson regression, mean Poisson deviance, as well as r-squared, so that it can be compared to other non-Poisson models easily."
   ]
  },
  {
   "cell_type": "markdown",
   "metadata": {},
   "source": [
    "##### R-squared cross-val scores"
   ]
  },
  {
   "cell_type": "code",
   "execution_count": 47,
   "metadata": {},
   "outputs": [
    {
     "data": {
      "text/plain": [
       "array([0.10380242, 0.12178651, 0.1472482 , 0.01400341, 0.11080822])"
      ]
     },
     "execution_count": 47,
     "metadata": {},
     "output_type": "execute_result"
    }
   ],
   "source": [
    "pr = PoissonRegressor(max_iter=200)\n",
    "cross_val_score(pr, X_train_ss, y_train, scoring='r2')"
   ]
  },
  {
   "cell_type": "markdown",
   "metadata": {},
   "source": [
    "##### Possoin Deviance cross-val scores"
   ]
  },
  {
   "cell_type": "code",
   "execution_count": 48,
   "metadata": {},
   "outputs": [
    {
     "data": {
      "text/plain": [
       "array([0.11883002, 0.13560646, 0.15118895, 0.02439766, 0.11346774])"
      ]
     },
     "execution_count": 48,
     "metadata": {},
     "output_type": "execute_result"
    }
   ],
   "source": [
    "cross_val_score(pr, X_train_ss, y_train)"
   ]
  },
  {
   "cell_type": "markdown",
   "metadata": {},
   "source": [
    "#### "
   ]
  },
  {
   "cell_type": "markdown",
   "metadata": {},
   "source": [
    "## Evaluation on Test Set"
   ]
  },
  {
   "cell_type": "code",
   "execution_count": 49,
   "metadata": {},
   "outputs": [
    {
     "data": {
      "text/plain": [
       "PoissonRegressor(max_iter=200)"
      ]
     },
     "execution_count": 49,
     "metadata": {},
     "output_type": "execute_result"
    }
   ],
   "source": [
    "pr.fit(X_train_ss, y_train)"
   ]
  },
  {
   "cell_type": "markdown",
   "metadata": {},
   "source": [
    "#### R-squared"
   ]
  },
  {
   "cell_type": "code",
   "execution_count": 50,
   "metadata": {},
   "outputs": [],
   "source": [
    "y_hat = pr.predict(X_test_ss)"
   ]
  },
  {
   "cell_type": "code",
   "execution_count": 51,
   "metadata": {},
   "outputs": [
    {
     "data": {
      "text/plain": [
       "0.10473800471537609"
      ]
     },
     "execution_count": 51,
     "metadata": {},
     "output_type": "execute_result"
    }
   ],
   "source": [
    "r2_score(y_test, y_hat)"
   ]
  },
  {
   "cell_type": "markdown",
   "metadata": {},
   "source": [
    "#### Poisson Deviance"
   ]
  },
  {
   "cell_type": "code",
   "execution_count": 52,
   "metadata": {},
   "outputs": [
    {
     "data": {
      "text/plain": [
       "0.120981379628327"
      ]
     },
     "execution_count": 52,
     "metadata": {},
     "output_type": "execute_result"
    }
   ],
   "source": [
    "pr.score(X_test_ss, y_test)"
   ]
  },
  {
   "cell_type": "markdown",
   "metadata": {},
   "source": [
    "Our goal is to predict at least 95% of the matches to within 5 strikes of the actual result, so this metric is also included. The table created below has a column for the predicitions and the actual results, with each row representing one observation."
   ]
  },
  {
   "cell_type": "code",
   "execution_count": 53,
   "metadata": {},
   "outputs": [],
   "source": [
    "results = pd.DataFrame({'model_predictions': list(y_hat), 'actual_results': list(y_test)})"
   ]
  },
  {
   "cell_type": "code",
   "execution_count": 54,
   "metadata": {},
   "outputs": [],
   "source": [
    "def compare_within_window(row):\n",
    "    \"\"\"\n",
    "    givern a row for the dataframe above, returns True if the prediction is\n",
    "    within 5 strikes of the actual result.\n",
    "    \"\"\"\n",
    "    pred = row['model_predictions']\n",
    "    true = row['actual_results']\n",
    "    return pred>=(true-5) and pred<=(true+5)"
   ]
  },
  {
   "cell_type": "code",
   "execution_count": 55,
   "metadata": {},
   "outputs": [],
   "source": [
    "accuracy_within_window = results.apply(compare_within_window, axis=1)"
   ]
  },
  {
   "cell_type": "code",
   "execution_count": 56,
   "metadata": {},
   "outputs": [
    {
     "data": {
      "text/plain": [
       "0.045813586097946286"
      ]
     },
     "execution_count": 56,
     "metadata": {},
     "output_type": "execute_result"
    }
   ],
   "source": [
    "accuracy_within_window.mean()"
   ]
  },
  {
   "cell_type": "markdown",
   "metadata": {},
   "source": [
    "The model is prediciton almost half of the fights within a 5 strike window. When it does get it right, what is it guessing?"
   ]
  },
  {
   "cell_type": "code",
   "execution_count": 57,
   "metadata": {},
   "outputs": [
    {
     "data": {
      "text/html": [
       "<div>\n",
       "<style scoped>\n",
       "    .dataframe tbody tr th:only-of-type {\n",
       "        vertical-align: middle;\n",
       "    }\n",
       "\n",
       "    .dataframe tbody tr th {\n",
       "        vertical-align: top;\n",
       "    }\n",
       "\n",
       "    .dataframe thead th {\n",
       "        text-align: right;\n",
       "    }\n",
       "</style>\n",
       "<table border=\"1\" class=\"dataframe\">\n",
       "  <thead>\n",
       "    <tr style=\"text-align: right;\">\n",
       "      <th></th>\n",
       "      <th>model_predictions</th>\n",
       "      <th>actual_results</th>\n",
       "    </tr>\n",
       "  </thead>\n",
       "  <tbody>\n",
       "    <tr>\n",
       "      <th>count</th>\n",
       "      <td>29.000000</td>\n",
       "      <td>29.000000</td>\n",
       "    </tr>\n",
       "    <tr>\n",
       "      <th>mean</th>\n",
       "      <td>265.899585</td>\n",
       "      <td>265.443675</td>\n",
       "    </tr>\n",
       "    <tr>\n",
       "      <th>std</th>\n",
       "      <td>40.986773</td>\n",
       "      <td>41.145494</td>\n",
       "    </tr>\n",
       "    <tr>\n",
       "      <th>min</th>\n",
       "      <td>192.960352</td>\n",
       "      <td>193.000000</td>\n",
       "    </tr>\n",
       "    <tr>\n",
       "      <th>25%</th>\n",
       "      <td>249.483763</td>\n",
       "      <td>247.000000</td>\n",
       "    </tr>\n",
       "    <tr>\n",
       "      <th>50%</th>\n",
       "      <td>264.330104</td>\n",
       "      <td>264.454976</td>\n",
       "    </tr>\n",
       "    <tr>\n",
       "      <th>75%</th>\n",
       "      <td>283.358228</td>\n",
       "      <td>285.000000</td>\n",
       "    </tr>\n",
       "    <tr>\n",
       "      <th>max</th>\n",
       "      <td>369.521294</td>\n",
       "      <td>368.000000</td>\n",
       "    </tr>\n",
       "  </tbody>\n",
       "</table>\n",
       "</div>"
      ],
      "text/plain": [
       "       model_predictions  actual_results\n",
       "count          29.000000       29.000000\n",
       "mean          265.899585      265.443675\n",
       "std            40.986773       41.145494\n",
       "min           192.960352      193.000000\n",
       "25%           249.483763      247.000000\n",
       "50%           264.330104      264.454976\n",
       "75%           283.358228      285.000000\n",
       "max           369.521294      368.000000"
      ]
     },
     "execution_count": 57,
     "metadata": {},
     "output_type": "execute_result"
    }
   ],
   "source": [
    "within_5 = results[accuracy_within_window]\n",
    "within_5.describe()"
   ]
  },
  {
   "cell_type": "markdown",
   "metadata": {},
   "source": [
    "It looks like it can handle fights where the target lies between 8 and 30 strikes. Here's a description of which matches it gets wrong."
   ]
  },
  {
   "cell_type": "code",
   "execution_count": 58,
   "metadata": {},
   "outputs": [
    {
     "data": {
      "text/html": [
       "<div>\n",
       "<style scoped>\n",
       "    .dataframe tbody tr th:only-of-type {\n",
       "        vertical-align: middle;\n",
       "    }\n",
       "\n",
       "    .dataframe tbody tr th {\n",
       "        vertical-align: top;\n",
       "    }\n",
       "\n",
       "    .dataframe thead th {\n",
       "        text-align: right;\n",
       "    }\n",
       "</style>\n",
       "<table border=\"1\" class=\"dataframe\">\n",
       "  <thead>\n",
       "    <tr style=\"text-align: right;\">\n",
       "      <th></th>\n",
       "      <th>model_predictions</th>\n",
       "      <th>actual_results</th>\n",
       "    </tr>\n",
       "  </thead>\n",
       "  <tbody>\n",
       "    <tr>\n",
       "      <th>count</th>\n",
       "      <td>604.000000</td>\n",
       "      <td>604.000000</td>\n",
       "    </tr>\n",
       "    <tr>\n",
       "      <th>mean</th>\n",
       "      <td>262.561047</td>\n",
       "      <td>265.160472</td>\n",
       "    </tr>\n",
       "    <tr>\n",
       "      <th>std</th>\n",
       "      <td>55.602406</td>\n",
       "      <td>149.879522</td>\n",
       "    </tr>\n",
       "    <tr>\n",
       "      <th>min</th>\n",
       "      <td>157.315581</td>\n",
       "      <td>17.088608</td>\n",
       "    </tr>\n",
       "    <tr>\n",
       "      <th>25%</th>\n",
       "      <td>224.877003</td>\n",
       "      <td>159.876561</td>\n",
       "    </tr>\n",
       "    <tr>\n",
       "      <th>50%</th>\n",
       "      <td>255.000260</td>\n",
       "      <td>246.965704</td>\n",
       "    </tr>\n",
       "    <tr>\n",
       "      <th>75%</th>\n",
       "      <td>286.996049</td>\n",
       "      <td>334.500000</td>\n",
       "    </tr>\n",
       "    <tr>\n",
       "      <th>max</th>\n",
       "      <td>624.925491</td>\n",
       "      <td>1237.500000</td>\n",
       "    </tr>\n",
       "  </tbody>\n",
       "</table>\n",
       "</div>"
      ],
      "text/plain": [
       "       model_predictions  actual_results\n",
       "count         604.000000      604.000000\n",
       "mean          262.561047      265.160472\n",
       "std            55.602406      149.879522\n",
       "min           157.315581       17.088608\n",
       "25%           224.877003      159.876561\n",
       "50%           255.000260      246.965704\n",
       "75%           286.996049      334.500000\n",
       "max           624.925491     1237.500000"
      ]
     },
     "execution_count": 58,
     "metadata": {},
     "output_type": "execute_result"
    }
   ],
   "source": [
    "results[-accuracy_within_window].describe()"
   ]
  },
  {
   "cell_type": "markdown",
   "metadata": {},
   "source": [
    "Of these observations, the actual results have a much higher spread, with a standard deviation over 3 times higher than the predictions.\n",
    "This model is consistently predicting that the fight will be within 11 and 39 strikes, even when the data has a much greater spread."
   ]
  },
  {
   "cell_type": "code",
   "execution_count": null,
   "metadata": {},
   "outputs": [],
   "source": []
  }
 ],
 "metadata": {
  "kernelspec": {
   "display_name": "Python 3",
   "language": "python",
   "name": "python3"
  },
  "language_info": {
   "codemirror_mode": {
    "name": "ipython",
    "version": 3
   },
   "file_extension": ".py",
   "mimetype": "text/x-python",
   "name": "python",
   "nbconvert_exporter": "python",
   "pygments_lexer": "ipython3",
   "version": "3.8.3"
  }
 },
 "nbformat": 4,
 "nbformat_minor": 4
}
