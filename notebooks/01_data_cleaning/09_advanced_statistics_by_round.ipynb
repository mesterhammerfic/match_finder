{
 "cells": [
  {
   "cell_type": "code",
   "execution_count": 73,
   "metadata": {},
   "outputs": [
    {
     "name": "stdout",
     "output_type": "stream",
     "text": [
      "The autoreload extension is already loaded. To reload it, use:\n",
      "  %reload_ext autoreload\n"
     ]
    }
   ],
   "source": [
    "%load_ext autoreload\n",
    "%autoreload 2\n",
    "\n",
    "import os\n",
    "import sys\n",
    "module_path = os.path.abspath(os.path.join(os.pardir, os.pardir))\n",
    "if module_path not in sys.path:\n",
    "    sys.path.append(module_path)\n",
    "\n",
    "import pandas as pd\n",
    "from sqlalchemy import create_engine\n",
    "from src import local\n",
    "\n",
    "\n",
    "# Credentials\n",
    "USER = local.user \n",
    "PASS = local.password\n",
    "HOST = local.host\n",
    "PORT = local.port\n",
    "\n",
    "#create engine\n",
    "engine = create_engine(f'postgresql://{USER}:{PASS}@{HOST}:{PORT}/match_finder')\n",
    "\n",
    "query = \"\"\"\n",
    "SELECT general_cleaned.*, \"Date\", \"Time\", \n",
    "\"Round\" as final_round, \"Timeformat\"\n",
    "FROM general_cleaned\n",
    "JOIN bouts ON bouts.link = general_cleaned.bout_link\n",
    "JOIN events ON events.link = bouts.event_link\n",
    "\"\"\"\n",
    "\n",
    "general_data = pd.read_sql(query, engine)"
   ]
  },
  {
   "cell_type": "code",
   "execution_count": 80,
   "metadata": {},
   "outputs": [
    {
     "name": "stdout",
     "output_type": "stream",
     "text": [
      "<class 'pandas.core.frame.DataFrame'>\n",
      "Int64Index: 26214 entries, 0 to 26451\n",
      "Data columns (total 20 columns):\n",
      " #   Column        Non-Null Count  Dtype         \n",
      "---  ------        --------------  -----         \n",
      " 0   fighter       26214 non-null  object        \n",
      " 1   kd            26214 non-null  int64         \n",
      " 2   sub_att       26214 non-null  int64         \n",
      " 3   pass          26214 non-null  int64         \n",
      " 4   rev           26214 non-null  int64         \n",
      " 5   round         26214 non-null  object        \n",
      " 6   bout_link     26214 non-null  object        \n",
      " 7   outcome       26214 non-null  object        \n",
      " 8   fighter_link  26214 non-null  object        \n",
      " 9   total_str_s   26214 non-null  int64         \n",
      " 10  total_str_a   26214 non-null  int64         \n",
      " 11  td_s          26214 non-null  int64         \n",
      " 12  td_a          26214 non-null  int64         \n",
      " 13  Date          26214 non-null  object        \n",
      " 14  Time          26214 non-null  object        \n",
      " 15  final_round   26214 non-null  int64         \n",
      " 16  Timeformat    26214 non-null  object        \n",
      " 17  date          26214 non-null  datetime64[ns]\n",
      " 18  fighter_id    26214 non-null  object        \n",
      " 19  bout_id       26214 non-null  object        \n",
      "dtypes: datetime64[ns](1), int64(9), object(10)\n",
      "memory usage: 4.2+ MB\n"
     ]
    }
   ],
   "source": [
    "general_data.info()"
   ]
  },
  {
   "cell_type": "code",
   "execution_count": 74,
   "metadata": {},
   "outputs": [
    {
     "name": "stdout",
     "output_type": "stream",
     "text": [
      "formatting data\n",
      "\n",
      "calculating minutes\n",
      "\n",
      "calculating accuracy for td\n",
      "\n",
      "combining rows\n",
      "\n",
      "calculating defense for td\n",
      "\n",
      "calculating differentials for td\n",
      "\n",
      "cleaning df\n",
      "\n"
     ]
    }
   ],
   "source": [
    "from src import functions\n",
    "takedown_stats = functions.calculate_stats(general_data, ['td'])"
   ]
  },
  {
   "cell_type": "code",
   "execution_count": 102,
   "metadata": {},
   "outputs": [],
   "source": [
    "drop_columns = ['fighter', 'kd', 'sub_att', 'pass', 'rev',\n",
    "       'outcome', 'total_str_s', 'total_str_a', 'td_s', 'td_a',\n",
    "       'date', 'time', 'final_round', 'timeformat', 'date', 'fighter_id',\n",
    "       'bout_id', 'round_length', 'minutes', 'inst_id']"
   ]
  },
  {
   "cell_type": "code",
   "execution_count": 105,
   "metadata": {},
   "outputs": [],
   "source": [
    "takedown_stats.drop(drop_columns, axis=1, inplace=True)"
   ]
  },
  {
   "cell_type": "code",
   "execution_count": 106,
   "metadata": {},
   "outputs": [],
   "source": [
    "takedown_stats.to_csv('../../data/takedown_stats.csv')"
   ]
  },
  {
   "cell_type": "code",
   "execution_count": 75,
   "metadata": {},
   "outputs": [
    {
     "name": "stdout",
     "output_type": "stream",
     "text": [
      "formatting data\n",
      "\n",
      "calculating minutes\n",
      "\n",
      "calculating accuracy for total_str\n",
      "\n",
      "combining rows\n",
      "\n",
      "calculating defense for total_str\n",
      "\n",
      "calculating differentials for total_str\n",
      "\n",
      "cleaning df\n",
      "\n"
     ]
    }
   ],
   "source": [
    "total_strike_stats = functions.calculate_stats(general_data, ['total_str'])"
   ]
  },
  {
   "cell_type": "code",
   "execution_count": 81,
   "metadata": {},
   "outputs": [
    {
     "name": "stdout",
     "output_type": "stream",
     "text": [
      "formatting data\n",
      "\n",
      "calculating minutes\n",
      "\n"
     ]
    },
    {
     "name": "stderr",
     "output_type": "stream",
     "text": [
      "/home/max/sports_science/match_finder/src/functions.py:166: SettingWithCopyWarning: \n",
      "A value is trying to be set on a copy of a slice from a DataFrame.\n",
      "Try using .loc[row_indexer,col_indexer] = value instead\n",
      "\n",
      "See the caveats in the documentation: https://pandas.pydata.org/pandas-docs/stable/user_guide/indexing.html#returning-a-view-versus-a-copy\n",
      "  df['round_id'] = df['bout_id']+df['round']\n"
     ]
    },
    {
     "name": "stdout",
     "output_type": "stream",
     "text": [
      "combining rows\n",
      "\n",
      "calculating differentials for rev\n",
      "\n",
      "calculating differentials for pass\n",
      "\n",
      "calculating differentials for sub_att\n",
      "\n",
      "cleaning df\n",
      "\n"
     ]
    }
   ],
   "source": [
    "grappling_stats = functions.calculate_stats_alt(general_data, ['rev', 'pass', 'sub_att'])"
   ]
  },
  {
   "cell_type": "code",
   "execution_count": 107,
   "metadata": {},
   "outputs": [],
   "source": [
    "grappling_stats.drop(drop_columns, axis=1, inplace=True)"
   ]
  },
  {
   "cell_type": "code",
   "execution_count": 108,
   "metadata": {},
   "outputs": [
    {
     "name": "stdout",
     "output_type": "stream",
     "text": [
      "<class 'pandas.core.frame.DataFrame'>\n",
      "Int64Index: 25772 entries, 0 to 12885\n",
      "Data columns (total 18 columns):\n",
      " #   Column           Non-Null Count  Dtype  \n",
      "---  ------           --------------  -----  \n",
      " 0   round            25772 non-null  object \n",
      " 1   bout_link        25772 non-null  object \n",
      " 2   fighter_link     25772 non-null  object \n",
      " 3   rev_p1m          25772 non-null  float64\n",
      " 4   rev_p15m         25772 non-null  float64\n",
      " 5   pass_p1m         25772 non-null  float64\n",
      " 6   pass_p15m        25772 non-null  float64\n",
      " 7   sub_att_p1m      25772 non-null  float64\n",
      " 8   sub_att_p15m     25772 non-null  float64\n",
      " 9   rev_pr_di        25772 non-null  int64  \n",
      " 10  rev_p1m_di       25772 non-null  float64\n",
      " 11  rev_p15m_di      25772 non-null  float64\n",
      " 12  pass_pr_di       25772 non-null  int64  \n",
      " 13  pass_p1m_di      25772 non-null  float64\n",
      " 14  pass_p15m_di     25772 non-null  float64\n",
      " 15  sub_att_pr_di    25772 non-null  int64  \n",
      " 16  sub_att_p1m_di   25772 non-null  float64\n",
      " 17  sub_att_p15m_di  25772 non-null  float64\n",
      "dtypes: float64(12), int64(3), object(3)\n",
      "memory usage: 3.7+ MB\n"
     ]
    }
   ],
   "source": [
    "grappling_stats.info()"
   ]
  },
  {
   "cell_type": "code",
   "execution_count": 109,
   "metadata": {},
   "outputs": [],
   "source": [
    "grappling_stats.to_csv('../../data/grappling_stats.csv', index=False)"
   ]
  },
  {
   "cell_type": "code",
   "execution_count": 83,
   "metadata": {},
   "outputs": [
    {
     "name": "stdout",
     "output_type": "stream",
     "text": [
      "formatting data\n",
      "\n"
     ]
    },
    {
     "name": "stderr",
     "output_type": "stream",
     "text": [
      "/home/max/sports_science/match_finder/src/functions.py:166: SettingWithCopyWarning: \n",
      "A value is trying to be set on a copy of a slice from a DataFrame.\n",
      "Try using .loc[row_indexer,col_indexer] = value instead\n",
      "\n",
      "See the caveats in the documentation: https://pandas.pydata.org/pandas-docs/stable/user_guide/indexing.html#returning-a-view-versus-a-copy\n",
      "  df['round_id'] = df['bout_id']+df['round']\n"
     ]
    },
    {
     "name": "stdout",
     "output_type": "stream",
     "text": [
      "calculating minutes\n",
      "\n",
      "combining rows\n",
      "\n",
      "calculating differentials for kd\n",
      "\n",
      "cleaning df\n",
      "\n"
     ]
    }
   ],
   "source": [
    "knockdown_stats = functions.calculate_stats_alt(general_data, ['kd'])"
   ]
  },
  {
   "cell_type": "code",
   "execution_count": 110,
   "metadata": {},
   "outputs": [],
   "source": [
    "knockdown_stats.drop(drop_columns, axis=1, inplace=True)"
   ]
  },
  {
   "cell_type": "code",
   "execution_count": 114,
   "metadata": {},
   "outputs": [
    {
     "data": {
      "text/html": [
       "<div>\n",
       "<style scoped>\n",
       "    .dataframe tbody tr th:only-of-type {\n",
       "        vertical-align: middle;\n",
       "    }\n",
       "\n",
       "    .dataframe tbody tr th {\n",
       "        vertical-align: top;\n",
       "    }\n",
       "\n",
       "    .dataframe thead th {\n",
       "        text-align: right;\n",
       "    }\n",
       "</style>\n",
       "<table border=\"1\" class=\"dataframe\">\n",
       "  <thead>\n",
       "    <tr style=\"text-align: right;\">\n",
       "      <th></th>\n",
       "      <th>round</th>\n",
       "      <th>bout_link</th>\n",
       "      <th>fighter_link</th>\n",
       "      <th>kd_p1m</th>\n",
       "      <th>kd_p15m</th>\n",
       "      <th>kd_pr_di</th>\n",
       "      <th>kd_p1m_di</th>\n",
       "      <th>kd_p15m_di</th>\n",
       "    </tr>\n",
       "  </thead>\n",
       "  <tbody>\n",
       "    <tr>\n",
       "      <th>0</th>\n",
       "      <td>1</td>\n",
       "      <td>http://www.ufcstats.com/fight-details/11f715fa...</td>\n",
       "      <td>http://www.ufcstats.com/fighter-details/e1147d...</td>\n",
       "      <td>0.000000</td>\n",
       "      <td>0.000000</td>\n",
       "      <td>0</td>\n",
       "      <td>0.000000</td>\n",
       "      <td>0.000000</td>\n",
       "    </tr>\n",
       "    <tr>\n",
       "      <th>1</th>\n",
       "      <td>2</td>\n",
       "      <td>http://www.ufcstats.com/fight-details/11f715fa...</td>\n",
       "      <td>http://www.ufcstats.com/fighter-details/e1147d...</td>\n",
       "      <td>0.200000</td>\n",
       "      <td>3.000000</td>\n",
       "      <td>1</td>\n",
       "      <td>0.200000</td>\n",
       "      <td>3.000000</td>\n",
       "    </tr>\n",
       "    <tr>\n",
       "      <th>2</th>\n",
       "      <td>3</td>\n",
       "      <td>http://www.ufcstats.com/fight-details/11f715fa...</td>\n",
       "      <td>http://www.ufcstats.com/fighter-details/e1147d...</td>\n",
       "      <td>0.000000</td>\n",
       "      <td>0.000000</td>\n",
       "      <td>0</td>\n",
       "      <td>0.000000</td>\n",
       "      <td>0.000000</td>\n",
       "    </tr>\n",
       "    <tr>\n",
       "      <th>3</th>\n",
       "      <td>4</td>\n",
       "      <td>http://www.ufcstats.com/fight-details/11f715fa...</td>\n",
       "      <td>http://www.ufcstats.com/fighter-details/e1147d...</td>\n",
       "      <td>0.000000</td>\n",
       "      <td>0.000000</td>\n",
       "      <td>0</td>\n",
       "      <td>0.000000</td>\n",
       "      <td>0.000000</td>\n",
       "    </tr>\n",
       "    <tr>\n",
       "      <th>4</th>\n",
       "      <td>5</td>\n",
       "      <td>http://www.ufcstats.com/fight-details/11f715fa...</td>\n",
       "      <td>http://www.ufcstats.com/fighter-details/e1147d...</td>\n",
       "      <td>0.000000</td>\n",
       "      <td>0.000000</td>\n",
       "      <td>0</td>\n",
       "      <td>0.000000</td>\n",
       "      <td>0.000000</td>\n",
       "    </tr>\n",
       "    <tr>\n",
       "      <th>...</th>\n",
       "      <td>...</td>\n",
       "      <td>...</td>\n",
       "      <td>...</td>\n",
       "      <td>...</td>\n",
       "      <td>...</td>\n",
       "      <td>...</td>\n",
       "      <td>...</td>\n",
       "      <td>...</td>\n",
       "    </tr>\n",
       "    <tr>\n",
       "      <th>12881</th>\n",
       "      <td>1</td>\n",
       "      <td>http://www.ufcstats.com/fight-details/693e4a0b...</td>\n",
       "      <td>http://www.ufcstats.com/fighter-details/669a3c...</td>\n",
       "      <td>0.000000</td>\n",
       "      <td>0.000000</td>\n",
       "      <td>0</td>\n",
       "      <td>0.000000</td>\n",
       "      <td>0.000000</td>\n",
       "    </tr>\n",
       "    <tr>\n",
       "      <th>12882</th>\n",
       "      <td>2</td>\n",
       "      <td>http://www.ufcstats.com/fight-details/693e4a0b...</td>\n",
       "      <td>http://www.ufcstats.com/fighter-details/669a3c...</td>\n",
       "      <td>0.000000</td>\n",
       "      <td>0.000000</td>\n",
       "      <td>-1</td>\n",
       "      <td>-0.759494</td>\n",
       "      <td>-11.392405</td>\n",
       "    </tr>\n",
       "    <tr>\n",
       "      <th>12883</th>\n",
       "      <td>1</td>\n",
       "      <td>http://www.ufcstats.com/fight-details/c6f85419...</td>\n",
       "      <td>http://www.ufcstats.com/fighter-details/a54a35...</td>\n",
       "      <td>0.350877</td>\n",
       "      <td>5.263158</td>\n",
       "      <td>1</td>\n",
       "      <td>0.350877</td>\n",
       "      <td>5.263158</td>\n",
       "    </tr>\n",
       "    <tr>\n",
       "      <th>12884</th>\n",
       "      <td>1</td>\n",
       "      <td>http://www.ufcstats.com/fight-details/1db8bed8...</td>\n",
       "      <td>http://www.ufcstats.com/fighter-details/911fb2...</td>\n",
       "      <td>0.000000</td>\n",
       "      <td>0.000000</td>\n",
       "      <td>0</td>\n",
       "      <td>0.000000</td>\n",
       "      <td>0.000000</td>\n",
       "    </tr>\n",
       "    <tr>\n",
       "      <th>12885</th>\n",
       "      <td>2</td>\n",
       "      <td>http://www.ufcstats.com/fight-details/1db8bed8...</td>\n",
       "      <td>http://www.ufcstats.com/fighter-details/911fb2...</td>\n",
       "      <td>0.200000</td>\n",
       "      <td>3.000000</td>\n",
       "      <td>1</td>\n",
       "      <td>0.200000</td>\n",
       "      <td>3.000000</td>\n",
       "    </tr>\n",
       "  </tbody>\n",
       "</table>\n",
       "<p>25772 rows × 8 columns</p>\n",
       "</div>"
      ],
      "text/plain": [
       "      round                                          bout_link  \\\n",
       "0         1  http://www.ufcstats.com/fight-details/11f715fa...   \n",
       "1         2  http://www.ufcstats.com/fight-details/11f715fa...   \n",
       "2         3  http://www.ufcstats.com/fight-details/11f715fa...   \n",
       "3         4  http://www.ufcstats.com/fight-details/11f715fa...   \n",
       "4         5  http://www.ufcstats.com/fight-details/11f715fa...   \n",
       "...     ...                                                ...   \n",
       "12881     1  http://www.ufcstats.com/fight-details/693e4a0b...   \n",
       "12882     2  http://www.ufcstats.com/fight-details/693e4a0b...   \n",
       "12883     1  http://www.ufcstats.com/fight-details/c6f85419...   \n",
       "12884     1  http://www.ufcstats.com/fight-details/1db8bed8...   \n",
       "12885     2  http://www.ufcstats.com/fight-details/1db8bed8...   \n",
       "\n",
       "                                            fighter_link    kd_p1m   kd_p15m  \\\n",
       "0      http://www.ufcstats.com/fighter-details/e1147d...  0.000000  0.000000   \n",
       "1      http://www.ufcstats.com/fighter-details/e1147d...  0.200000  3.000000   \n",
       "2      http://www.ufcstats.com/fighter-details/e1147d...  0.000000  0.000000   \n",
       "3      http://www.ufcstats.com/fighter-details/e1147d...  0.000000  0.000000   \n",
       "4      http://www.ufcstats.com/fighter-details/e1147d...  0.000000  0.000000   \n",
       "...                                                  ...       ...       ...   \n",
       "12881  http://www.ufcstats.com/fighter-details/669a3c...  0.000000  0.000000   \n",
       "12882  http://www.ufcstats.com/fighter-details/669a3c...  0.000000  0.000000   \n",
       "12883  http://www.ufcstats.com/fighter-details/a54a35...  0.350877  5.263158   \n",
       "12884  http://www.ufcstats.com/fighter-details/911fb2...  0.000000  0.000000   \n",
       "12885  http://www.ufcstats.com/fighter-details/911fb2...  0.200000  3.000000   \n",
       "\n",
       "       kd_pr_di  kd_p1m_di  kd_p15m_di  \n",
       "0             0   0.000000    0.000000  \n",
       "1             1   0.200000    3.000000  \n",
       "2             0   0.000000    0.000000  \n",
       "3             0   0.000000    0.000000  \n",
       "4             0   0.000000    0.000000  \n",
       "...         ...        ...         ...  \n",
       "12881         0   0.000000    0.000000  \n",
       "12882        -1  -0.759494  -11.392405  \n",
       "12883         1   0.350877    5.263158  \n",
       "12884         0   0.000000    0.000000  \n",
       "12885         1   0.200000    3.000000  \n",
       "\n",
       "[25772 rows x 8 columns]"
      ]
     },
     "execution_count": 114,
     "metadata": {},
     "output_type": "execute_result"
    }
   ],
   "source": [
    "knockdown_stats"
   ]
  },
  {
   "cell_type": "code",
   "execution_count": 115,
   "metadata": {},
   "outputs": [],
   "source": [
    "knockdown_stats.to_csv('../../knockdown_stats.csv', index=False)"
   ]
  },
  {
   "cell_type": "code",
   "execution_count": 76,
   "metadata": {},
   "outputs": [],
   "source": [
    "query = \"\"\"\n",
    "SELECT strikes_cleaned.*, \"Date\", \"Time\", \n",
    "\"Round\" as final_round, \"Timeformat\"\n",
    "FROM strikes_cleaned\n",
    "JOIN bouts ON bouts.link = strikes_cleaned.bout_link\n",
    "JOIN events ON events.link = bouts.event_link\n",
    "\"\"\"\n",
    "\n",
    "strike_data = pd.read_sql(query, engine)"
   ]
  },
  {
   "cell_type": "code",
   "execution_count": 77,
   "metadata": {},
   "outputs": [
    {
     "name": "stdout",
     "output_type": "stream",
     "text": [
      "<class 'pandas.core.frame.DataFrame'>\n",
      "RangeIndex: 26452 entries, 0 to 26451\n",
      "Data columns (total 23 columns):\n",
      " #   Column        Non-Null Count  Dtype \n",
      "---  ------        --------------  ----- \n",
      " 0   fighter       26452 non-null  object\n",
      " 1   round         26452 non-null  int64 \n",
      " 2   bout_link     26452 non-null  object\n",
      " 3   outcome       26452 non-null  object\n",
      " 4   fighter_link  26452 non-null  object\n",
      " 5   sig_str_s     26452 non-null  int64 \n",
      " 6   sig_str_a     26452 non-null  int64 \n",
      " 7   head_s        26452 non-null  int64 \n",
      " 8   head_a        26452 non-null  int64 \n",
      " 9   body_s        26452 non-null  int64 \n",
      " 10  body_a        26452 non-null  int64 \n",
      " 11  leg_s         26452 non-null  int64 \n",
      " 12  leg_a         26452 non-null  int64 \n",
      " 13  distance_s    26452 non-null  int64 \n",
      " 14  distance_a    26452 non-null  int64 \n",
      " 15  clinch_s      26452 non-null  int64 \n",
      " 16  clinch_a      26452 non-null  int64 \n",
      " 17  ground_s      26452 non-null  int64 \n",
      " 18  ground_a      26452 non-null  int64 \n",
      " 19  Date          26452 non-null  object\n",
      " 20  Time          26452 non-null  object\n",
      " 21  final_round   26452 non-null  int64 \n",
      " 22  Timeformat    26452 non-null  object\n",
      "dtypes: int64(16), object(7)\n",
      "memory usage: 4.6+ MB\n"
     ]
    }
   ],
   "source": [
    "strike_data.info()"
   ]
  },
  {
   "cell_type": "code",
   "execution_count": 78,
   "metadata": {},
   "outputs": [
    {
     "name": "stdout",
     "output_type": "stream",
     "text": [
      "formatting data\n",
      "\n",
      "calculating minutes\n",
      "\n"
     ]
    },
    {
     "name": "stderr",
     "output_type": "stream",
     "text": [
      "/home/max/sports_science/match_finder/src/functions.py:166: SettingWithCopyWarning: \n",
      "A value is trying to be set on a copy of a slice from a DataFrame.\n",
      "Try using .loc[row_indexer,col_indexer] = value instead\n",
      "\n",
      "See the caveats in the documentation: https://pandas.pydata.org/pandas-docs/stable/user_guide/indexing.html#returning-a-view-versus-a-copy\n",
      "  df['round_id'] = df['bout_id']+df['round']\n"
     ]
    },
    {
     "name": "stdout",
     "output_type": "stream",
     "text": [
      "calculating accuracy for sig_str\n",
      "\n",
      "combining rows\n",
      "\n",
      "calculating defense for sig_str\n",
      "\n",
      "calculating differentials for sig_str\n",
      "\n",
      "cleaning df\n",
      "\n"
     ]
    }
   ],
   "source": [
    "sig_str_stats = functions.calculate_stats(strike_data, ['sig_str'])"
   ]
  },
  {
   "cell_type": "code",
   "execution_count": 121,
   "metadata": {},
   "outputs": [],
   "source": [
    "drop_columns = ['fighter', 'outcome', 'sig_str_s',\n",
    "       'sig_str_a', 'head_s', 'head_a', 'body_s', 'body_a', 'leg_s', 'leg_a',\n",
    "       'distance_s', 'distance_a', 'clinch_s', 'clinch_a', 'ground_s',\n",
    "       'ground_a', 'date', 'time', 'final_round', 'timeformat', 'date',\n",
    "       'fighter_id', 'bout_id', 'round_length', 'minutes', 'inst_id']"
   ]
  },
  {
   "cell_type": "code",
   "execution_count": 123,
   "metadata": {},
   "outputs": [],
   "source": [
    "sig_str_stats.drop(drop_columns, axis=1, inplace=True)"
   ]
  },
  {
   "cell_type": "code",
   "execution_count": 125,
   "metadata": {},
   "outputs": [
    {
     "name": "stdout",
     "output_type": "stream",
     "text": [
      "<class 'pandas.core.frame.DataFrame'>\n",
      "Int64Index: 25772 entries, 0 to 12885\n",
      "Data columns (total 15 columns):\n",
      " #   Column             Non-Null Count  Dtype  \n",
      "---  ------             --------------  -----  \n",
      " 0   round              25772 non-null  object \n",
      " 1   bout_link          25772 non-null  object \n",
      " 2   fighter_link       25772 non-null  object \n",
      " 3   sig_str_a_p1m      25772 non-null  float64\n",
      " 4   sig_str_s_p1m      25772 non-null  float64\n",
      " 5   sig_str_a_p15m     25772 non-null  float64\n",
      " 6   sig_str_s_p15m     25772 non-null  float64\n",
      " 7   sig_str_ac         25646 non-null  object \n",
      " 8   sig_str_de         25646 non-null  object \n",
      " 9   sig_str_s_pr_di    25772 non-null  int64  \n",
      " 10  sig_str_a_pr_di    25772 non-null  int64  \n",
      " 11  sig_str_s_p1m_di   25772 non-null  float64\n",
      " 12  sig_str_a_p1m_di   25772 non-null  float64\n",
      " 13  sig_str_s_p15m_di  25772 non-null  float64\n",
      " 14  sig_str_a_p15m_di  25772 non-null  float64\n",
      "dtypes: float64(8), int64(2), object(5)\n",
      "memory usage: 3.1+ MB\n"
     ]
    }
   ],
   "source": [
    "sig_str_stats.info()"
   ]
  },
  {
   "cell_type": "code",
   "execution_count": 126,
   "metadata": {},
   "outputs": [],
   "source": [
    "sig_str_stats.to_csv('../../data/sig_str_stats.csv', index=False)"
   ]
  },
  {
   "cell_type": "code",
   "execution_count": 79,
   "metadata": {},
   "outputs": [
    {
     "name": "stdout",
     "output_type": "stream",
     "text": [
      "formatting data\n",
      "\n",
      "calculating minutes\n",
      "\n",
      "calculating accuracy for body\n",
      "\n",
      "combining rows\n",
      "\n",
      "calculating defense for body\n",
      "\n",
      "calculating differentials for body\n",
      "\n",
      "cleaning df\n",
      "\n",
      "formatting data\n",
      "\n",
      "calculating minutes\n",
      "\n",
      "calculating accuracy for head\n",
      "\n",
      "combining rows\n",
      "\n",
      "calculating defense for head\n",
      "\n",
      "calculating differentials for head\n",
      "\n",
      "cleaning df\n",
      "\n",
      "formatting data\n",
      "\n",
      "calculating minutes\n",
      "\n",
      "calculating accuracy for leg\n",
      "\n",
      "combining rows\n",
      "\n",
      "calculating defense for leg\n",
      "\n",
      "calculating differentials for leg\n",
      "\n",
      "cleaning df\n",
      "\n",
      "formatting data\n",
      "\n",
      "calculating minutes\n",
      "\n",
      "calculating accuracy for distance\n",
      "\n",
      "combining rows\n",
      "\n",
      "calculating defense for distance\n",
      "\n",
      "calculating differentials for distance\n",
      "\n",
      "cleaning df\n",
      "\n",
      "formatting data\n",
      "\n",
      "calculating minutes\n",
      "\n",
      "calculating accuracy for clinch\n",
      "\n",
      "combining rows\n",
      "\n",
      "calculating defense for clinch\n",
      "\n",
      "calculating differentials for clinch\n",
      "\n",
      "cleaning df\n",
      "\n",
      "formatting data\n",
      "\n",
      "calculating minutes\n",
      "\n",
      "calculating accuracy for ground\n",
      "\n",
      "combining rows\n",
      "\n",
      "calculating defense for ground\n",
      "\n",
      "calculating differentials for ground\n",
      "\n",
      "cleaning df\n",
      "\n"
     ]
    }
   ],
   "source": [
    "body_ss_stats = functions.calculate_stats(strike_data, ['body'])\n",
    "head_ss_stats = functions.calculate_stats(strike_data, ['head'])\n",
    "leg_ss_stats = functions.calculate_stats(strike_data, ['leg'])\n",
    "distance_ss_stats = functions.calculate_stats(strike_data, ['distance'])\n",
    "clinch_ss_stats = functions.calculate_stats(strike_data, ['clinch'])\n",
    "ground_ss_stats = functions.calculate_stats(strike_data, ['ground'])"
   ]
  },
  {
   "cell_type": "code",
   "execution_count": 127,
   "metadata": {},
   "outputs": [],
   "source": [
    "body_ss_stats.drop(drop_columns, axis=1, inplace=True)\n",
    "head_ss_stats.drop(drop_columns, axis=1, inplace=True)\n",
    "leg_ss_stats.drop(drop_columns, axis=1, inplace=True)\n",
    "distance_ss_stats.drop(drop_columns, axis=1, inplace=True)\n",
    "clinch_ss_stats.drop(drop_columns, axis=1, inplace=True)\n",
    "ground_ss_stats.drop(drop_columns, axis=1, inplace=True)"
   ]
  },
  {
   "cell_type": "code",
   "execution_count": 128,
   "metadata": {},
   "outputs": [],
   "source": [
    "body_ss_stats.to_csv('../../data/body_ss_stats.csv', index=False)\n",
    "head_ss_stats.to_csv('../../data/head_ss_stats.csv', index=False)\n",
    "leg_ss_stats.to_csv('../../data/leg_ss_stats.csv', index=False)\n",
    "distance_ss_stats.to_csv('../../data/distance_ss_stats.csv', index=False)\n",
    "clinch_ss_stats.to_csv('../../data/clinch_ss_stats.csv', index=False)\n",
    "ground_ss_stats.to_csv('../../data/ground_ss_stats.csv', index=False)"
   ]
  },
  {
   "cell_type": "code",
   "execution_count": null,
   "metadata": {},
   "outputs": [],
   "source": []
  }
 ],
 "metadata": {
  "kernelspec": {
   "display_name": "Python 3",
   "language": "python",
   "name": "python3"
  },
  "language_info": {
   "codemirror_mode": {
    "name": "ipython",
    "version": 3
   },
   "file_extension": ".py",
   "mimetype": "text/x-python",
   "name": "python",
   "nbconvert_exporter": "python",
   "pygments_lexer": "ipython3",
   "version": "3.8.3"
  }
 },
 "nbformat": 4,
 "nbformat_minor": 4
}
