{
 "cells": [
  {
   "cell_type": "code",
   "execution_count": 13,
   "metadata": {},
   "outputs": [
    {
     "name": "stdout",
     "output_type": "stream",
     "text": [
      "The autoreload extension is already loaded. To reload it, use:\n",
      "  %reload_ext autoreload\n"
     ]
    }
   ],
   "source": [
    "%load_ext autoreload\n",
    "%autoreload 2\n",
    "# Add custom functions to path\n",
    "import os\n",
    "import sys\n",
    "module_path = os.path.abspath(os.path.join(os.pardir, os.pardir))\n",
    "if module_path not in sys.path:\n",
    "    sys.path.append(module_path)\n",
    "\n",
    "from src import functions\n",
    "import pandas as pd\n",
    "from sqlalchemy import create_engine\n",
    "\n",
    "# Credentials\n",
    "from src import local\n",
    "USER = local.user \n",
    "PASS = local.password\n",
    "HOST = local.host\n",
    "PORT = local.port\n",
    "\n",
    "#create engine\n",
    "engine = create_engine(f'postgresql://{USER}:{PASS}@{HOST}:{PORT}/match_finder')\n",
    "\n",
    "query = \"\"\"\n",
    "SELECT rounds.*, date, time, \n",
    "final_round, timeformat\n",
    "FROM rounds\n",
    "JOIN bouts ON bouts.id = rounds.bout_id\n",
    "JOIN events ON events.id = bouts.event_id\n",
    "\"\"\"\n",
    "\n",
    "rounds = pd.read_sql(query, engine)"
   ]
  },
  {
   "cell_type": "code",
   "execution_count": 14,
   "metadata": {},
   "outputs": [
    {
     "name": "stdout",
     "output_type": "stream",
     "text": [
      "<class 'pandas.core.frame.DataFrame'>\n",
      "RangeIndex: 26214 entries, 0 to 26213\n",
      "Data columns (total 31 columns):\n",
      " #   Column       Non-Null Count  Dtype \n",
      "---  ------       --------------  ----- \n",
      " 0   fighter      26214 non-null  object\n",
      " 1   kd           26214 non-null  int64 \n",
      " 2   sba          26214 non-null  int64 \n",
      " 3   ps           26214 non-null  int64 \n",
      " 4   rev          26214 non-null  int64 \n",
      " 5   ss_s         26214 non-null  int64 \n",
      " 6   ss_a         26214 non-null  int64 \n",
      " 7   h_ss_s       26214 non-null  int64 \n",
      " 8   h_ss_a       26214 non-null  int64 \n",
      " 9   b_ss_s       26214 non-null  int64 \n",
      " 10  b_ss_a       26214 non-null  int64 \n",
      " 11  l_ss_s       26214 non-null  int64 \n",
      " 12  l_ss_a       26214 non-null  int64 \n",
      " 13  d_ss_s       26214 non-null  int64 \n",
      " 14  d_ss_a       26214 non-null  int64 \n",
      " 15  c_ss_s       26214 non-null  int64 \n",
      " 16  c_ss_a       26214 non-null  int64 \n",
      " 17  g_ss_s       26214 non-null  int64 \n",
      " 18  g_ss_a       26214 non-null  int64 \n",
      " 19  ts_s         26214 non-null  int64 \n",
      " 20  ts_a         26214 non-null  int64 \n",
      " 21  td_s         26214 non-null  int64 \n",
      " 22  td_a         26214 non-null  int64 \n",
      " 23  outcome      26214 non-null  object\n",
      " 24  bout_id      26214 non-null  object\n",
      " 25  fighter_id   26214 non-null  object\n",
      " 26  round        26214 non-null  object\n",
      " 27  date         26214 non-null  object\n",
      " 28  time         26214 non-null  object\n",
      " 29  final_round  26214 non-null  int64 \n",
      " 30  timeformat   26214 non-null  object\n",
      "dtypes: int64(23), object(8)\n",
      "memory usage: 6.2+ MB\n"
     ]
    }
   ],
   "source": [
    "rounds.info()"
   ]
  },
  {
   "cell_type": "code",
   "execution_count": 15,
   "metadata": {},
   "outputs": [
    {
     "data": {
      "text/plain": [
       "Index(['fighter', 'kd', 'sba', 'ps', 'rev', 'ss_s', 'ss_a', 'h_ss_s', 'h_ss_a',\n",
       "       'b_ss_s', 'b_ss_a', 'l_ss_s', 'l_ss_a', 'd_ss_s', 'd_ss_a', 'c_ss_s',\n",
       "       'c_ss_a', 'g_ss_s', 'g_ss_a', 'ts_s', 'ts_a', 'td_s', 'td_a', 'outcome',\n",
       "       'bout_id', 'fighter_id', 'round', 'date', 'time', 'final_round',\n",
       "       'timeformat'],\n",
       "      dtype='object')"
      ]
     },
     "execution_count": 15,
     "metadata": {},
     "output_type": "execute_result"
    }
   ],
   "source": [
    "rounds.columns"
   ]
  },
  {
   "cell_type": "markdown",
   "metadata": {},
   "source": [
    "### Differential Calculation\n",
    "A differential is the difference in the amount of times a fighter executes a technique vs the amount of times his opponent does.\n",
    "To calculate this, we transform our original table so that each row has a fighter AND his opponent."
   ]
  },
  {
   "cell_type": "code",
   "execution_count": 20,
   "metadata": {},
   "outputs": [
    {
     "data": {
      "text/html": [
       "<div>\n",
       "<style scoped>\n",
       "    .dataframe tbody tr th:only-of-type {\n",
       "        vertical-align: middle;\n",
       "    }\n",
       "\n",
       "    .dataframe tbody tr th {\n",
       "        vertical-align: top;\n",
       "    }\n",
       "\n",
       "    .dataframe thead th {\n",
       "        text-align: right;\n",
       "    }\n",
       "</style>\n",
       "<table border=\"1\" class=\"dataframe\">\n",
       "  <thead>\n",
       "    <tr style=\"text-align: right;\">\n",
       "      <th></th>\n",
       "      <th>fighter_0</th>\n",
       "      <th>kd_0</th>\n",
       "      <th>sba_0</th>\n",
       "      <th>ps_0</th>\n",
       "      <th>rev_0</th>\n",
       "      <th>ss_s_0</th>\n",
       "      <th>ss_a_0</th>\n",
       "      <th>h_ss_s_0</th>\n",
       "      <th>h_ss_a_0</th>\n",
       "      <th>b_ss_s_0</th>\n",
       "      <th>...</th>\n",
       "      <th>td_s_1</th>\n",
       "      <th>td_a_1</th>\n",
       "      <th>outcome_1</th>\n",
       "      <th>fighter_id_1</th>\n",
       "      <th>round_1</th>\n",
       "      <th>date_1</th>\n",
       "      <th>time_1</th>\n",
       "      <th>final_round_1</th>\n",
       "      <th>timeformat_1</th>\n",
       "      <th>inst_id_1</th>\n",
       "    </tr>\n",
       "  </thead>\n",
       "  <tbody>\n",
       "    <tr>\n",
       "      <th>0</th>\n",
       "      <td>Robert Whittaker</td>\n",
       "      <td>0</td>\n",
       "      <td>0</td>\n",
       "      <td>0</td>\n",
       "      <td>0</td>\n",
       "      <td>11</td>\n",
       "      <td>30</td>\n",
       "      <td>4</td>\n",
       "      <td>22</td>\n",
       "      <td>1</td>\n",
       "      <td>...</td>\n",
       "      <td>0</td>\n",
       "      <td>0</td>\n",
       "      <td>L</td>\n",
       "      <td>9ce6d5a03af801b7</td>\n",
       "      <td>1</td>\n",
       "      <td>July 25, 2020</td>\n",
       "      <td>5:00</td>\n",
       "      <td>5</td>\n",
       "      <td>5 Rnd (5-5-5-5-5)</td>\n",
       "      <td>11f715fa5e825e519ce6d5a03af801b7</td>\n",
       "    </tr>\n",
       "    <tr>\n",
       "      <th>1</th>\n",
       "      <td>Robert Whittaker</td>\n",
       "      <td>0</td>\n",
       "      <td>0</td>\n",
       "      <td>0</td>\n",
       "      <td>0</td>\n",
       "      <td>11</td>\n",
       "      <td>30</td>\n",
       "      <td>4</td>\n",
       "      <td>22</td>\n",
       "      <td>1</td>\n",
       "      <td>...</td>\n",
       "      <td>0</td>\n",
       "      <td>0</td>\n",
       "      <td>L</td>\n",
       "      <td>9ce6d5a03af801b7</td>\n",
       "      <td>2</td>\n",
       "      <td>July 25, 2020</td>\n",
       "      <td>5:00</td>\n",
       "      <td>5</td>\n",
       "      <td>5 Rnd (5-5-5-5-5)</td>\n",
       "      <td>11f715fa5e825e519ce6d5a03af801b7</td>\n",
       "    </tr>\n",
       "    <tr>\n",
       "      <th>2</th>\n",
       "      <td>Robert Whittaker</td>\n",
       "      <td>0</td>\n",
       "      <td>0</td>\n",
       "      <td>0</td>\n",
       "      <td>0</td>\n",
       "      <td>11</td>\n",
       "      <td>30</td>\n",
       "      <td>4</td>\n",
       "      <td>22</td>\n",
       "      <td>1</td>\n",
       "      <td>...</td>\n",
       "      <td>0</td>\n",
       "      <td>0</td>\n",
       "      <td>L</td>\n",
       "      <td>9ce6d5a03af801b7</td>\n",
       "      <td>3</td>\n",
       "      <td>July 25, 2020</td>\n",
       "      <td>5:00</td>\n",
       "      <td>5</td>\n",
       "      <td>5 Rnd (5-5-5-5-5)</td>\n",
       "      <td>11f715fa5e825e519ce6d5a03af801b7</td>\n",
       "    </tr>\n",
       "    <tr>\n",
       "      <th>3</th>\n",
       "      <td>Robert Whittaker</td>\n",
       "      <td>0</td>\n",
       "      <td>0</td>\n",
       "      <td>0</td>\n",
       "      <td>0</td>\n",
       "      <td>11</td>\n",
       "      <td>30</td>\n",
       "      <td>4</td>\n",
       "      <td>22</td>\n",
       "      <td>1</td>\n",
       "      <td>...</td>\n",
       "      <td>0</td>\n",
       "      <td>0</td>\n",
       "      <td>L</td>\n",
       "      <td>9ce6d5a03af801b7</td>\n",
       "      <td>4</td>\n",
       "      <td>July 25, 2020</td>\n",
       "      <td>5:00</td>\n",
       "      <td>5</td>\n",
       "      <td>5 Rnd (5-5-5-5-5)</td>\n",
       "      <td>11f715fa5e825e519ce6d5a03af801b7</td>\n",
       "    </tr>\n",
       "    <tr>\n",
       "      <th>4</th>\n",
       "      <td>Robert Whittaker</td>\n",
       "      <td>0</td>\n",
       "      <td>0</td>\n",
       "      <td>0</td>\n",
       "      <td>0</td>\n",
       "      <td>11</td>\n",
       "      <td>30</td>\n",
       "      <td>4</td>\n",
       "      <td>22</td>\n",
       "      <td>1</td>\n",
       "      <td>...</td>\n",
       "      <td>0</td>\n",
       "      <td>0</td>\n",
       "      <td>L</td>\n",
       "      <td>9ce6d5a03af801b7</td>\n",
       "      <td>5</td>\n",
       "      <td>July 25, 2020</td>\n",
       "      <td>5:00</td>\n",
       "      <td>5</td>\n",
       "      <td>5 Rnd (5-5-5-5-5)</td>\n",
       "      <td>11f715fa5e825e519ce6d5a03af801b7</td>\n",
       "    </tr>\n",
       "  </tbody>\n",
       "</table>\n",
       "<p>5 rows × 63 columns</p>\n",
       "</div>"
      ],
      "text/plain": [
       "          fighter_0  kd_0  sba_0  ps_0  rev_0  ss_s_0  ss_a_0  h_ss_s_0  \\\n",
       "0  Robert Whittaker     0      0     0      0      11      30         4   \n",
       "1  Robert Whittaker     0      0     0      0      11      30         4   \n",
       "2  Robert Whittaker     0      0     0      0      11      30         4   \n",
       "3  Robert Whittaker     0      0     0      0      11      30         4   \n",
       "4  Robert Whittaker     0      0     0      0      11      30         4   \n",
       "\n",
       "   h_ss_a_0  b_ss_s_0  ...  td_s_1  td_a_1  outcome_1      fighter_id_1  \\\n",
       "0        22         1  ...       0       0          L  9ce6d5a03af801b7   \n",
       "1        22         1  ...       0       0          L  9ce6d5a03af801b7   \n",
       "2        22         1  ...       0       0          L  9ce6d5a03af801b7   \n",
       "3        22         1  ...       0       0          L  9ce6d5a03af801b7   \n",
       "4        22         1  ...       0       0          L  9ce6d5a03af801b7   \n",
       "\n",
       "   round_1         date_1  time_1  final_round_1       timeformat_1  \\\n",
       "0        1  July 25, 2020    5:00              5  5 Rnd (5-5-5-5-5)   \n",
       "1        2  July 25, 2020    5:00              5  5 Rnd (5-5-5-5-5)   \n",
       "2        3  July 25, 2020    5:00              5  5 Rnd (5-5-5-5-5)   \n",
       "3        4  July 25, 2020    5:00              5  5 Rnd (5-5-5-5-5)   \n",
       "4        5  July 25, 2020    5:00              5  5 Rnd (5-5-5-5-5)   \n",
       "\n",
       "                          inst_id_1  \n",
       "0  11f715fa5e825e519ce6d5a03af801b7  \n",
       "1  11f715fa5e825e519ce6d5a03af801b7  \n",
       "2  11f715fa5e825e519ce6d5a03af801b7  \n",
       "3  11f715fa5e825e519ce6d5a03af801b7  \n",
       "4  11f715fa5e825e519ce6d5a03af801b7  \n",
       "\n",
       "[5 rows x 63 columns]"
      ]
     },
     "execution_count": 20,
     "metadata": {},
     "output_type": "execute_result"
    }
   ],
   "source": [
    "dif_calc_df = functions.merge_fighter_instances(rounds, rounds=False)\n",
    "dif_calc_df.head()"
   ]
  },
  {
   "cell_type": "markdown",
   "metadata": {},
   "source": [
    "##### In this dataframe, each row has two fighters. The first is suffixed with a _0 and the second with a _1.\n",
    "##### In order to get the significant strike attempts per round differential (ss_a_pr_di), all we need to do \n",
    "##### is subtract ss_a_1 from ss_a_0"
   ]
  },
  {
   "cell_type": "code",
   "execution_count": 21,
   "metadata": {},
   "outputs": [],
   "source": [
    "dif_calc_df['ss_a_pr_di'] = dif_calc_df['ss_a_0'] - dif_calc_df['ss_a_1']"
   ]
  },
  {
   "cell_type": "code",
   "execution_count": 33,
   "metadata": {},
   "outputs": [
    {
     "data": {
      "text/html": [
       "<div>\n",
       "<style scoped>\n",
       "    .dataframe tbody tr th:only-of-type {\n",
       "        vertical-align: middle;\n",
       "    }\n",
       "\n",
       "    .dataframe tbody tr th {\n",
       "        vertical-align: top;\n",
       "    }\n",
       "\n",
       "    .dataframe thead th {\n",
       "        text-align: right;\n",
       "    }\n",
       "</style>\n",
       "<table border=\"1\" class=\"dataframe\">\n",
       "  <thead>\n",
       "    <tr style=\"text-align: right;\">\n",
       "      <th></th>\n",
       "      <th>ss_a_pr_di</th>\n",
       "      <th>ss_a_0</th>\n",
       "      <th>ss_a_1</th>\n",
       "    </tr>\n",
       "  </thead>\n",
       "  <tbody>\n",
       "    <tr>\n",
       "      <th>35998</th>\n",
       "      <td>-14</td>\n",
       "      <td>3</td>\n",
       "      <td>17</td>\n",
       "    </tr>\n",
       "    <tr>\n",
       "      <th>35999</th>\n",
       "      <td>-7</td>\n",
       "      <td>1</td>\n",
       "      <td>8</td>\n",
       "    </tr>\n",
       "    <tr>\n",
       "      <th>36000</th>\n",
       "      <td>-3</td>\n",
       "      <td>0</td>\n",
       "      <td>3</td>\n",
       "    </tr>\n",
       "    <tr>\n",
       "      <th>36001</th>\n",
       "      <td>1</td>\n",
       "      <td>28</td>\n",
       "      <td>27</td>\n",
       "    </tr>\n",
       "    <tr>\n",
       "      <th>36002</th>\n",
       "      <td>-4</td>\n",
       "      <td>1</td>\n",
       "      <td>5</td>\n",
       "    </tr>\n",
       "  </tbody>\n",
       "</table>\n",
       "</div>"
      ],
      "text/plain": [
       "       ss_a_pr_di  ss_a_0  ss_a_1\n",
       "35998         -14       3      17\n",
       "35999          -7       1       8\n",
       "36000          -3       0       3\n",
       "36001           1      28      27\n",
       "36002          -4       1       5"
      ]
     },
     "execution_count": 33,
     "metadata": {},
     "output_type": "execute_result"
    }
   ],
   "source": [
    "dif_calc_df.loc[len(dif_calc_df)-5:,['ss_a_pr_di', 'ss_a_0', 'ss_a_1']]"
   ]
  },
  {
   "cell_type": "markdown",
   "metadata": {},
   "source": [
    "##### In the list above, the first fighter only attempted 3 strikes, while his opponent attempted 17, resulting in a differential of -14"
   ]
  },
  {
   "cell_type": "markdown",
   "metadata": {},
   "source": [
    "#### Calculating for all stats\n",
    "##### I wrote a function that calculates the differentials for\n",
    "##### per round counts, per 1 minute rates, and per 15 minute rates"
   ]
  },
  {
   "cell_type": "code",
   "execution_count": 34,
   "metadata": {},
   "outputs": [
    {
     "name": "stdout",
     "output_type": "stream",
     "text": [
      "calculating minutes\n",
      "\n"
     ]
    },
    {
     "name": "stderr",
     "output_type": "stream",
     "text": [
      "/home/max/sports_science/match_finder/src/functions.py:77: SettingWithCopyWarning: \n",
      "A value is trying to be set on a copy of a slice from a DataFrame.\n",
      "Try using .loc[row_indexer,col_indexer] = value instead\n",
      "\n",
      "See the caveats in the documentation: https://pandas.pydata.org/pandas-docs/stable/user_guide/indexing.html#returning-a-view-versus-a-copy\n",
      "  df['round_id'] = df['bout_id']+df['round']\n"
     ]
    },
    {
     "name": "stdout",
     "output_type": "stream",
     "text": [
      "combining rows\n",
      "\n",
      "calculating differentials for kd\n",
      "\n",
      "calculating differentials for sba\n",
      "\n",
      "calculating differentials for ps\n",
      "\n",
      "calculating differentials for rev\n",
      "\n",
      "calculating differentials for ss_s\n",
      "\n",
      "calculating differentials for ss_a\n",
      "\n",
      "calculating differentials for h_ss_s\n",
      "\n",
      "calculating differentials for h_ss_a\n",
      "\n",
      "calculating differentials for b_ss_s\n",
      "\n",
      "calculating differentials for b_ss_a\n",
      "\n",
      "calculating differentials for l_ss_s\n",
      "\n",
      "calculating differentials for l_ss_a\n",
      "\n",
      "calculating differentials for d_ss_s\n",
      "\n",
      "calculating differentials for d_ss_a\n",
      "\n",
      "calculating differentials for c_ss_s\n",
      "\n",
      "calculating differentials for c_ss_a\n",
      "\n",
      "calculating differentials for g_ss_s\n",
      "\n",
      "calculating differentials for g_ss_a\n",
      "\n",
      "calculating differentials for ts_s\n",
      "\n",
      "calculating differentials for ts_a\n",
      "\n",
      "calculating differentials for td_s\n",
      "\n",
      "calculating differentials for td_a\n",
      "\n",
      "cleaning df\n",
      "\n"
     ]
    }
   ],
   "source": [
    "advanced_stats = functions.calculate_stats_alt(rounds, \n",
    "                                               ['kd', 'sba', 'ps', 'rev', \n",
    "                                                'ss_s', 'ss_a', 'h_ss_s', \n",
    "                                                'h_ss_a','b_ss_s', 'b_ss_a', \n",
    "                                                'l_ss_s', 'l_ss_a', 'd_ss_s', \n",
    "                                                'd_ss_a', 'c_ss_s', 'c_ss_a', \n",
    "                                                'g_ss_s', 'g_ss_a', 'ts_s', \n",
    "                                                'ts_a', 'td_s', 'td_a'])"
   ]
  },
  {
   "cell_type": "markdown",
   "metadata": {},
   "source": []
  },
  {
   "cell_type": "code",
   "execution_count": 37,
   "metadata": {},
   "outputs": [
    {
     "name": "stdout",
     "output_type": "stream",
     "text": [
      "<class 'pandas.core.frame.DataFrame'>\n",
      "Int64Index: 25772 entries, 0 to 12885\n",
      "Columns: 144 entries, fighter to td_a_p15m_di\n",
      "dtypes: float64(89), int64(45), object(9), timedelta64[ns](1)\n",
      "memory usage: 28.5+ MB\n"
     ]
    }
   ],
   "source": [
    "advanced_stats.info()"
   ]
  },
  {
   "cell_type": "markdown",
   "metadata": {},
   "source": [
    "Because this dataframe has 144 rows, I'm going to split it up into the following advanced stats tables:\n",
    "- Grappling, includes\n",
    "    - Takedowns\n",
    "    - Submission Attempts\n",
    "    - Reversals\n",
    "    - Guard Passes\n",
    "- Strikes\n",
    "    - Significant Strikes\n",
    "    - Total Strikes\n",
    "    - Knockdowns\n",
    "- Strikes by Target\n",
    "    - Head\n",
    "    - Leg\n",
    "    - Body\n",
    "- Strikes by Position\n",
    "    - Distance\n",
    "    - Ground \n",
    "    - Clinch"
   ]
  },
  {
   "cell_type": "markdown",
   "metadata": {},
   "source": [
    "### Functions"
   ]
  },
  {
   "cell_type": "code",
   "execution_count": 53,
   "metadata": {},
   "outputs": [],
   "source": [
    "def get_metric_columns(stat, metrics_list=None):\n",
    "    \"\"\"\n",
    "    input: stat (string) - the abbreviation of a stat from the dataframe\n",
    "    output: list of column names for:\n",
    "            - per 1 minute rate (_p1m)\n",
    "            - per 15 minute rate (_p15m)\n",
    "            - per round differential (_pr_di)\n",
    "            - per 1 minute differential (_p1m_di)\n",
    "            - per 15 minute differential (_p15m_di)\n",
    "    \"\"\"\n",
    "    if metrics_list:\n",
    "        metrics = metrics_list\n",
    "    else:\n",
    "        metrics = ['_p1m', '_p15m', '_pr_di', '_p1m_di', '_p15m_di']\n",
    "    \n",
    "    columns = [stat]\n",
    "    for metric in metrics:\n",
    "        # combine the stat and the metric name and add to columns list\n",
    "        columns.append(stat+metric)\n",
    "        \n",
    "    return columns"
   ]
  },
  {
   "cell_type": "code",
   "execution_count": 57,
   "metadata": {},
   "outputs": [],
   "source": [
    "def get_advanced_stats_table_columns(table_stats, metrics_list=None):\n",
    "    \"\"\"\n",
    "    input: table_stats(list) - list of stats that will go in the table\n",
    "    output: list of column names for the advanced stats table\n",
    "    \"\"\"\n",
    "    columns = ['bout_id', 'fighter_id', 'round', 'fighter']\n",
    "    for stat in table_stats:\n",
    "        columns = columns + get_metric_columns(stat, metrics_list=metrics_list)\n",
    "    \n",
    "    return columns"
   ]
  },
  {
   "cell_type": "markdown",
   "metadata": {},
   "source": [
    "#### Grappling"
   ]
  },
  {
   "cell_type": "code",
   "execution_count": 58,
   "metadata": {},
   "outputs": [
    {
     "data": {
      "text/plain": [
       "['bout_id',\n",
       " 'fighter_id',\n",
       " 'round',\n",
       " 'fighter',\n",
       " 'td_s',\n",
       " 'td_s_p1m',\n",
       " 'td_s_p15m',\n",
       " 'td_s_pr_di',\n",
       " 'td_s_p1m_di',\n",
       " 'td_s_p15m_di',\n",
       " 'td_a',\n",
       " 'td_a_p1m',\n",
       " 'td_a_p15m',\n",
       " 'td_a_pr_di',\n",
       " 'td_a_p1m_di',\n",
       " 'td_a_p15m_di',\n",
       " 'sba',\n",
       " 'sba_p1m',\n",
       " 'sba_p15m',\n",
       " 'sba_pr_di',\n",
       " 'sba_p1m_di',\n",
       " 'sba_p15m_di',\n",
       " 'rev',\n",
       " 'rev_p1m',\n",
       " 'rev_p15m',\n",
       " 'rev_pr_di',\n",
       " 'rev_p1m_di',\n",
       " 'rev_p15m_di',\n",
       " 'ps',\n",
       " 'ps_p1m',\n",
       " 'ps_p15m',\n",
       " 'ps_pr_di',\n",
       " 'ps_p1m_di',\n",
       " 'ps_p15m_di']"
      ]
     },
     "execution_count": 58,
     "metadata": {},
     "output_type": "execute_result"
    }
   ],
   "source": [
    "get_advanced_stats_table_columns(['td_s', 'td_a', 'sba', 'rev', 'ps'])"
   ]
  },
  {
   "cell_type": "code",
   "execution_count": 62,
   "metadata": {},
   "outputs": [
    {
     "name": "stdout",
     "output_type": "stream",
     "text": [
      "<class 'pandas.core.frame.DataFrame'>\n",
      "Int64Index: 25772 entries, 0 to 12885\n",
      "Data columns (total 34 columns):\n",
      " #   Column        Non-Null Count  Dtype  \n",
      "---  ------        --------------  -----  \n",
      " 0   bout_id       25772 non-null  object \n",
      " 1   fighter_id    25772 non-null  object \n",
      " 2   round         25772 non-null  object \n",
      " 3   fighter       25772 non-null  object \n",
      " 4   td_s          25772 non-null  int64  \n",
      " 5   td_s_p1m      25772 non-null  float64\n",
      " 6   td_s_p15m     25772 non-null  float64\n",
      " 7   td_s_pr_di    25772 non-null  int64  \n",
      " 8   td_s_p1m_di   25772 non-null  float64\n",
      " 9   td_s_p15m_di  25772 non-null  float64\n",
      " 10  td_a          25772 non-null  int64  \n",
      " 11  td_a_p1m      25772 non-null  float64\n",
      " 12  td_a_p15m     25772 non-null  float64\n",
      " 13  td_a_pr_di    25772 non-null  int64  \n",
      " 14  td_a_p1m_di   25772 non-null  float64\n",
      " 15  td_a_p15m_di  25772 non-null  float64\n",
      " 16  sba           25772 non-null  int64  \n",
      " 17  sba_p1m       25772 non-null  float64\n",
      " 18  sba_p15m      25772 non-null  float64\n",
      " 19  sba_pr_di     25772 non-null  int64  \n",
      " 20  sba_p1m_di    25772 non-null  float64\n",
      " 21  sba_p15m_di   25772 non-null  float64\n",
      " 22  rev           25772 non-null  int64  \n",
      " 23  rev_p1m       25772 non-null  float64\n",
      " 24  rev_p15m      25772 non-null  float64\n",
      " 25  rev_pr_di     25772 non-null  int64  \n",
      " 26  rev_p1m_di    25772 non-null  float64\n",
      " 27  rev_p15m_di   25772 non-null  float64\n",
      " 28  ps            25772 non-null  int64  \n",
      " 29  ps_p1m        25772 non-null  float64\n",
      " 30  ps_p15m       25772 non-null  float64\n",
      " 31  ps_pr_di      25772 non-null  int64  \n",
      " 32  ps_p1m_di     25772 non-null  float64\n",
      " 33  ps_p15m_di    25772 non-null  float64\n",
      "dtypes: float64(20), int64(10), object(4)\n",
      "memory usage: 6.9+ MB\n"
     ]
    }
   ],
   "source": [
    "grappling_stats = ['td_s', 'td_a', 'sba', 'rev', 'ps']\n",
    "grappling_columns = get_advanced_stats_table_columns(grappling_stats)\n",
    "\n",
    "grappling = advanced_stats.loc[:,grappling_columns]\n",
    "grappling.info()"
   ]
  },
  {
   "cell_type": "markdown",
   "metadata": {},
   "source": [
    "##### Send to SQL"
   ]
  },
  {
   "cell_type": "code",
   "execution_count": null,
   "metadata": {},
   "outputs": [],
   "source": [
    "grappling.to_csv('../../data/ufcstats_data/advanced_stats/grappling_adv.csv')\n",
    "grappling.to_sql('grappling_adv')"
   ]
  },
  {
   "cell_type": "markdown",
   "metadata": {},
   "source": [
    "#### Strikes"
   ]
  },
  {
   "cell_type": "code",
   "execution_count": 41,
   "metadata": {},
   "outputs": [
    {
     "data": {
      "text/plain": [
       "['fighter',\n",
       " 'kd',\n",
       " 'sba',\n",
       " 'ps',\n",
       " 'rev',\n",
       " 'ss_s',\n",
       " 'ss_a',\n",
       " 'h_ss_s',\n",
       " 'h_ss_a',\n",
       " 'b_ss_s',\n",
       " 'b_ss_a',\n",
       " 'l_ss_s',\n",
       " 'l_ss_a',\n",
       " 'd_ss_s',\n",
       " 'd_ss_a',\n",
       " 'c_ss_s',\n",
       " 'c_ss_a',\n",
       " 'g_ss_s',\n",
       " 'g_ss_a',\n",
       " 'ts_s',\n",
       " 'ts_a',\n",
       " 'td_s',\n",
       " 'td_a',\n",
       " 'outcome',\n",
       " 'bout_id',\n",
       " 'fighter_id',\n",
       " 'round',\n",
       " 'date',\n",
       " 'time',\n",
       " 'final_round',\n",
       " 'timeformat',\n",
       " 'inst_id',\n",
       " 'round_length',\n",
       " 'minutes',\n",
       " 'kd_p1m',\n",
       " 'kd_p15m',\n",
       " 'sba_p1m',\n",
       " 'sba_p15m',\n",
       " 'ps_p1m',\n",
       " 'ps_p15m',\n",
       " 'rev_p1m',\n",
       " 'rev_p15m',\n",
       " 'ss_s_p1m',\n",
       " 'ss_s_p15m',\n",
       " 'ss_a_p1m',\n",
       " 'ss_a_p15m',\n",
       " 'h_ss_s_p1m',\n",
       " 'h_ss_s_p15m',\n",
       " 'h_ss_a_p1m',\n",
       " 'h_ss_a_p15m',\n",
       " 'b_ss_s_p1m',\n",
       " 'b_ss_s_p15m',\n",
       " 'b_ss_a_p1m',\n",
       " 'b_ss_a_p15m',\n",
       " 'l_ss_s_p1m',\n",
       " 'l_ss_s_p15m',\n",
       " 'l_ss_a_p1m',\n",
       " 'l_ss_a_p15m',\n",
       " 'd_ss_s_p1m',\n",
       " 'd_ss_s_p15m',\n",
       " 'd_ss_a_p1m',\n",
       " 'd_ss_a_p15m',\n",
       " 'c_ss_s_p1m',\n",
       " 'c_ss_s_p15m',\n",
       " 'c_ss_a_p1m',\n",
       " 'c_ss_a_p15m',\n",
       " 'g_ss_s_p1m',\n",
       " 'g_ss_s_p15m',\n",
       " 'g_ss_a_p1m',\n",
       " 'g_ss_a_p15m',\n",
       " 'ts_s_p1m',\n",
       " 'ts_s_p15m',\n",
       " 'ts_a_p1m',\n",
       " 'ts_a_p15m',\n",
       " 'td_s_p1m',\n",
       " 'td_s_p15m',\n",
       " 'td_a_p1m',\n",
       " 'td_a_p15m',\n",
       " 'kd_pr_di',\n",
       " 'kd_p1m_di',\n",
       " 'kd_p15m_di',\n",
       " 'sba_pr_di',\n",
       " 'sba_p1m_di',\n",
       " 'sba_p15m_di',\n",
       " 'ps_pr_di',\n",
       " 'ps_p1m_di',\n",
       " 'ps_p15m_di',\n",
       " 'rev_pr_di',\n",
       " 'rev_p1m_di',\n",
       " 'rev_p15m_di',\n",
       " 'ss_s_pr_di',\n",
       " 'ss_s_p1m_di',\n",
       " 'ss_s_p15m_di',\n",
       " 'ss_a_pr_di',\n",
       " 'ss_a_p1m_di',\n",
       " 'ss_a_p15m_di',\n",
       " 'h_ss_s_pr_di',\n",
       " 'h_ss_s_p1m_di',\n",
       " 'h_ss_s_p15m_di',\n",
       " 'h_ss_a_pr_di',\n",
       " 'h_ss_a_p1m_di',\n",
       " 'h_ss_a_p15m_di',\n",
       " 'b_ss_s_pr_di',\n",
       " 'b_ss_s_p1m_di',\n",
       " 'b_ss_s_p15m_di',\n",
       " 'b_ss_a_pr_di',\n",
       " 'b_ss_a_p1m_di',\n",
       " 'b_ss_a_p15m_di',\n",
       " 'l_ss_s_pr_di',\n",
       " 'l_ss_s_p1m_di',\n",
       " 'l_ss_s_p15m_di',\n",
       " 'l_ss_a_pr_di',\n",
       " 'l_ss_a_p1m_di',\n",
       " 'l_ss_a_p15m_di',\n",
       " 'd_ss_s_pr_di',\n",
       " 'd_ss_s_p1m_di',\n",
       " 'd_ss_s_p15m_di',\n",
       " 'd_ss_a_pr_di',\n",
       " 'd_ss_a_p1m_di',\n",
       " 'd_ss_a_p15m_di',\n",
       " 'c_ss_s_pr_di',\n",
       " 'c_ss_s_p1m_di',\n",
       " 'c_ss_s_p15m_di',\n",
       " 'c_ss_a_pr_di',\n",
       " 'c_ss_a_p1m_di',\n",
       " 'c_ss_a_p15m_di',\n",
       " 'g_ss_s_pr_di',\n",
       " 'g_ss_s_p1m_di',\n",
       " 'g_ss_s_p15m_di',\n",
       " 'g_ss_a_pr_di',\n",
       " 'g_ss_a_p1m_di',\n",
       " 'g_ss_a_p15m_di',\n",
       " 'ts_s_pr_di',\n",
       " 'ts_s_p1m_di',\n",
       " 'ts_s_p15m_di',\n",
       " 'ts_a_pr_di',\n",
       " 'ts_a_p1m_di',\n",
       " 'ts_a_p15m_di',\n",
       " 'td_s_pr_di',\n",
       " 'td_s_p1m_di',\n",
       " 'td_s_p15m_di',\n",
       " 'td_a_pr_di',\n",
       " 'td_a_p1m_di',\n",
       " 'td_a_p15m_di']"
      ]
     },
     "execution_count": 41,
     "metadata": {},
     "output_type": "execute_result"
    }
   ],
   "source": [
    "list(advanced_stats.columns)"
   ]
  },
  {
   "cell_type": "code",
   "execution_count": null,
   "metadata": {},
   "outputs": [],
   "source": [
    "zzz"
   ]
  },
  {
   "cell_type": "code",
   "execution_count": null,
   "metadata": {},
   "outputs": [],
   "source": []
  },
  {
   "cell_type": "code",
   "execution_count": null,
   "metadata": {},
   "outputs": [],
   "source": []
  },
  {
   "cell_type": "code",
   "execution_count": null,
   "metadata": {},
   "outputs": [],
   "source": []
  },
  {
   "cell_type": "code",
   "execution_count": null,
   "metadata": {},
   "outputs": [],
   "source": []
  },
  {
   "cell_type": "code",
   "execution_count": null,
   "metadata": {},
   "outputs": [],
   "source": []
  },
  {
   "cell_type": "code",
   "execution_count": null,
   "metadata": {},
   "outputs": [],
   "source": []
  },
  {
   "cell_type": "code",
   "execution_count": null,
   "metadata": {},
   "outputs": [],
   "source": []
  },
  {
   "cell_type": "code",
   "execution_count": null,
   "metadata": {},
   "outputs": [],
   "source": []
  },
  {
   "cell_type": "code",
   "execution_count": null,
   "metadata": {},
   "outputs": [],
   "source": []
  },
  {
   "cell_type": "code",
   "execution_count": null,
   "metadata": {},
   "outputs": [],
   "source": []
  },
  {
   "cell_type": "code",
   "execution_count": null,
   "metadata": {},
   "outputs": [],
   "source": []
  },
  {
   "cell_type": "code",
   "execution_count": null,
   "metadata": {},
   "outputs": [],
   "source": []
  },
  {
   "cell_type": "code",
   "execution_count": null,
   "metadata": {},
   "outputs": [],
   "source": []
  },
  {
   "cell_type": "code",
   "execution_count": 4,
   "metadata": {},
   "outputs": [],
   "source": [
    "drop_columns = ['fighter', 'kd', 'sub_att', 'pass', 'rev',\n",
    "       'outcome', 'total_str_s', 'total_str_a', 'td_s', 'td_a',\n",
    "       'date', 'time', 'final_round', 'timeformat', 'date', 'fighter_id',\n",
    "       'bout_id', 'round_length', 'minutes', 'inst_id']"
   ]
  },
  {
   "cell_type": "code",
   "execution_count": 105,
   "metadata": {},
   "outputs": [],
   "source": [
    "takedown_stats.drop(drop_columns, axis=1, inplace=True)"
   ]
  },
  {
   "cell_type": "code",
   "execution_count": 106,
   "metadata": {},
   "outputs": [],
   "source": [
    "takedown_stats.to_csv('../../data/takedown_stats.csv')"
   ]
  },
  {
   "cell_type": "code",
   "execution_count": 106,
   "metadata": {},
   "outputs": [],
   "source": [
    "takedown_stats.to_csv('../../data/takedown_stats.csv')"
   ]
  },
  {
   "cell_type": "code",
   "execution_count": 2,
   "metadata": {},
   "outputs": [
    {
     "name": "stdout",
     "output_type": "stream",
     "text": [
      "formatting data\n",
      "\n",
      "calculating minutes\n",
      "\n"
     ]
    },
    {
     "name": "stderr",
     "output_type": "stream",
     "text": [
      "/home/max/sports_science/match_finder/src/functions.py:168: SettingWithCopyWarning: \n",
      "A value is trying to be set on a copy of a slice from a DataFrame.\n",
      "Try using .loc[row_indexer,col_indexer] = value instead\n",
      "\n",
      "See the caveats in the documentation: https://pandas.pydata.org/pandas-docs/stable/user_guide/indexing.html#returning-a-view-versus-a-copy\n",
      "  df['round_id'] = df['bout_id']+df['round']\n"
     ]
    },
    {
     "name": "stdout",
     "output_type": "stream",
     "text": [
      "calculating accuracy for total_str\n",
      "\n",
      "combining rows\n",
      "\n",
      "calculating defense for total_str\n",
      "\n",
      "calculating differentials for total_str\n",
      "\n",
      "cleaning df\n",
      "\n"
     ]
    }
   ],
   "source": [
    "from src import functions\n",
    "total_strike_stats = functions.calculate_stats(general_data, ['total_str'])"
   ]
  },
  {
   "cell_type": "code",
   "execution_count": 5,
   "metadata": {},
   "outputs": [],
   "source": [
    "total_strike_stats.drop(drop_columns, axis=1, inplace=True)"
   ]
  },
  {
   "cell_type": "code",
   "execution_count": 6,
   "metadata": {},
   "outputs": [],
   "source": [
    "total_strike_stats.to_csv('../../total_strike_stats.csv', index=False)"
   ]
  },
  {
   "cell_type": "code",
   "execution_count": 81,
   "metadata": {},
   "outputs": [
    {
     "name": "stdout",
     "output_type": "stream",
     "text": [
      "formatting data\n",
      "\n",
      "calculating minutes\n",
      "\n"
     ]
    },
    {
     "name": "stderr",
     "output_type": "stream",
     "text": [
      "/home/max/sports_science/match_finder/src/functions.py:166: SettingWithCopyWarning: \n",
      "A value is trying to be set on a copy of a slice from a DataFrame.\n",
      "Try using .loc[row_indexer,col_indexer] = value instead\n",
      "\n",
      "See the caveats in the documentation: https://pandas.pydata.org/pandas-docs/stable/user_guide/indexing.html#returning-a-view-versus-a-copy\n",
      "  df['round_id'] = df['bout_id']+df['round']\n"
     ]
    },
    {
     "name": "stdout",
     "output_type": "stream",
     "text": [
      "combining rows\n",
      "\n",
      "calculating differentials for rev\n",
      "\n",
      "calculating differentials for pass\n",
      "\n",
      "calculating differentials for sub_att\n",
      "\n",
      "cleaning df\n",
      "\n"
     ]
    }
   ],
   "source": [
    "grappling_stats = functions.calculate_stats_alt(general_data, ['rev', 'pass', 'sub_att'])"
   ]
  },
  {
   "cell_type": "code",
   "execution_count": 107,
   "metadata": {},
   "outputs": [],
   "source": [
    "grappling_stats.drop(drop_columns, axis=1, inplace=True)"
   ]
  },
  {
   "cell_type": "code",
   "execution_count": 108,
   "metadata": {},
   "outputs": [
    {
     "name": "stdout",
     "output_type": "stream",
     "text": [
      "<class 'pandas.core.frame.DataFrame'>\n",
      "Int64Index: 25772 entries, 0 to 12885\n",
      "Data columns (total 18 columns):\n",
      " #   Column           Non-Null Count  Dtype  \n",
      "---  ------           --------------  -----  \n",
      " 0   round            25772 non-null  object \n",
      " 1   bout_link        25772 non-null  object \n",
      " 2   fighter_link     25772 non-null  object \n",
      " 3   rev_p1m          25772 non-null  float64\n",
      " 4   rev_p15m         25772 non-null  float64\n",
      " 5   pass_p1m         25772 non-null  float64\n",
      " 6   pass_p15m        25772 non-null  float64\n",
      " 7   sub_att_p1m      25772 non-null  float64\n",
      " 8   sub_att_p15m     25772 non-null  float64\n",
      " 9   rev_pr_di        25772 non-null  int64  \n",
      " 10  rev_p1m_di       25772 non-null  float64\n",
      " 11  rev_p15m_di      25772 non-null  float64\n",
      " 12  pass_pr_di       25772 non-null  int64  \n",
      " 13  pass_p1m_di      25772 non-null  float64\n",
      " 14  pass_p15m_di     25772 non-null  float64\n",
      " 15  sub_att_pr_di    25772 non-null  int64  \n",
      " 16  sub_att_p1m_di   25772 non-null  float64\n",
      " 17  sub_att_p15m_di  25772 non-null  float64\n",
      "dtypes: float64(12), int64(3), object(3)\n",
      "memory usage: 3.7+ MB\n"
     ]
    }
   ],
   "source": [
    "grappling_stats.info()"
   ]
  },
  {
   "cell_type": "code",
   "execution_count": 109,
   "metadata": {},
   "outputs": [],
   "source": [
    "grappling_stats.to_csv('../../data/grappling_stats.csv', index=False)"
   ]
  },
  {
   "cell_type": "code",
   "execution_count": 7,
   "metadata": {},
   "outputs": [
    {
     "name": "stdout",
     "output_type": "stream",
     "text": [
      "formatting data\n",
      "\n",
      "calculating minutes\n",
      "\n"
     ]
    },
    {
     "name": "stderr",
     "output_type": "stream",
     "text": [
      "/home/max/sports_science/match_finder/src/functions.py:168: SettingWithCopyWarning: \n",
      "A value is trying to be set on a copy of a slice from a DataFrame.\n",
      "Try using .loc[row_indexer,col_indexer] = value instead\n",
      "\n",
      "See the caveats in the documentation: https://pandas.pydata.org/pandas-docs/stable/user_guide/indexing.html#returning-a-view-versus-a-copy\n",
      "  df['round_id'] = df['bout_id']+df['round']\n"
     ]
    },
    {
     "name": "stdout",
     "output_type": "stream",
     "text": [
      "combining rows\n",
      "\n",
      "calculating differentials for kd\n",
      "\n",
      "cleaning df\n",
      "\n"
     ]
    }
   ],
   "source": [
    "knockdown_stats = functions.calculate_stats_alt(general_data, ['kd'])"
   ]
  },
  {
   "cell_type": "code",
   "execution_count": 8,
   "metadata": {},
   "outputs": [],
   "source": [
    "knockdown_stats.drop(drop_columns, axis=1, inplace=True)"
   ]
  },
  {
   "cell_type": "code",
   "execution_count": 9,
   "metadata": {},
   "outputs": [
    {
     "data": {
      "text/html": [
       "<div>\n",
       "<style scoped>\n",
       "    .dataframe tbody tr th:only-of-type {\n",
       "        vertical-align: middle;\n",
       "    }\n",
       "\n",
       "    .dataframe tbody tr th {\n",
       "        vertical-align: top;\n",
       "    }\n",
       "\n",
       "    .dataframe thead th {\n",
       "        text-align: right;\n",
       "    }\n",
       "</style>\n",
       "<table border=\"1\" class=\"dataframe\">\n",
       "  <thead>\n",
       "    <tr style=\"text-align: right;\">\n",
       "      <th></th>\n",
       "      <th>round</th>\n",
       "      <th>bout_link</th>\n",
       "      <th>fighter_link</th>\n",
       "      <th>kd_p1m</th>\n",
       "      <th>kd_p15m</th>\n",
       "      <th>kd_pr_di</th>\n",
       "      <th>kd_p1m_di</th>\n",
       "      <th>kd_p15m_di</th>\n",
       "    </tr>\n",
       "  </thead>\n",
       "  <tbody>\n",
       "    <tr>\n",
       "      <th>0</th>\n",
       "      <td>1</td>\n",
       "      <td>http://www.ufcstats.com/fight-details/11f715fa...</td>\n",
       "      <td>http://www.ufcstats.com/fighter-details/e1147d...</td>\n",
       "      <td>0.000000</td>\n",
       "      <td>0.000000</td>\n",
       "      <td>0</td>\n",
       "      <td>0.000000</td>\n",
       "      <td>0.000000</td>\n",
       "    </tr>\n",
       "    <tr>\n",
       "      <th>1</th>\n",
       "      <td>2</td>\n",
       "      <td>http://www.ufcstats.com/fight-details/11f715fa...</td>\n",
       "      <td>http://www.ufcstats.com/fighter-details/e1147d...</td>\n",
       "      <td>0.200000</td>\n",
       "      <td>3.000000</td>\n",
       "      <td>1</td>\n",
       "      <td>0.200000</td>\n",
       "      <td>3.000000</td>\n",
       "    </tr>\n",
       "    <tr>\n",
       "      <th>2</th>\n",
       "      <td>3</td>\n",
       "      <td>http://www.ufcstats.com/fight-details/11f715fa...</td>\n",
       "      <td>http://www.ufcstats.com/fighter-details/e1147d...</td>\n",
       "      <td>0.000000</td>\n",
       "      <td>0.000000</td>\n",
       "      <td>0</td>\n",
       "      <td>0.000000</td>\n",
       "      <td>0.000000</td>\n",
       "    </tr>\n",
       "    <tr>\n",
       "      <th>3</th>\n",
       "      <td>4</td>\n",
       "      <td>http://www.ufcstats.com/fight-details/11f715fa...</td>\n",
       "      <td>http://www.ufcstats.com/fighter-details/e1147d...</td>\n",
       "      <td>0.000000</td>\n",
       "      <td>0.000000</td>\n",
       "      <td>0</td>\n",
       "      <td>0.000000</td>\n",
       "      <td>0.000000</td>\n",
       "    </tr>\n",
       "    <tr>\n",
       "      <th>4</th>\n",
       "      <td>5</td>\n",
       "      <td>http://www.ufcstats.com/fight-details/11f715fa...</td>\n",
       "      <td>http://www.ufcstats.com/fighter-details/e1147d...</td>\n",
       "      <td>0.000000</td>\n",
       "      <td>0.000000</td>\n",
       "      <td>0</td>\n",
       "      <td>0.000000</td>\n",
       "      <td>0.000000</td>\n",
       "    </tr>\n",
       "    <tr>\n",
       "      <th>...</th>\n",
       "      <td>...</td>\n",
       "      <td>...</td>\n",
       "      <td>...</td>\n",
       "      <td>...</td>\n",
       "      <td>...</td>\n",
       "      <td>...</td>\n",
       "      <td>...</td>\n",
       "      <td>...</td>\n",
       "    </tr>\n",
       "    <tr>\n",
       "      <th>12881</th>\n",
       "      <td>1</td>\n",
       "      <td>http://www.ufcstats.com/fight-details/693e4a0b...</td>\n",
       "      <td>http://www.ufcstats.com/fighter-details/669a3c...</td>\n",
       "      <td>0.000000</td>\n",
       "      <td>0.000000</td>\n",
       "      <td>0</td>\n",
       "      <td>0.000000</td>\n",
       "      <td>0.000000</td>\n",
       "    </tr>\n",
       "    <tr>\n",
       "      <th>12882</th>\n",
       "      <td>2</td>\n",
       "      <td>http://www.ufcstats.com/fight-details/693e4a0b...</td>\n",
       "      <td>http://www.ufcstats.com/fighter-details/669a3c...</td>\n",
       "      <td>0.000000</td>\n",
       "      <td>0.000000</td>\n",
       "      <td>-1</td>\n",
       "      <td>-0.759494</td>\n",
       "      <td>-11.392405</td>\n",
       "    </tr>\n",
       "    <tr>\n",
       "      <th>12883</th>\n",
       "      <td>1</td>\n",
       "      <td>http://www.ufcstats.com/fight-details/c6f85419...</td>\n",
       "      <td>http://www.ufcstats.com/fighter-details/a54a35...</td>\n",
       "      <td>0.350877</td>\n",
       "      <td>5.263158</td>\n",
       "      <td>1</td>\n",
       "      <td>0.350877</td>\n",
       "      <td>5.263158</td>\n",
       "    </tr>\n",
       "    <tr>\n",
       "      <th>12884</th>\n",
       "      <td>1</td>\n",
       "      <td>http://www.ufcstats.com/fight-details/1db8bed8...</td>\n",
       "      <td>http://www.ufcstats.com/fighter-details/911fb2...</td>\n",
       "      <td>0.000000</td>\n",
       "      <td>0.000000</td>\n",
       "      <td>0</td>\n",
       "      <td>0.000000</td>\n",
       "      <td>0.000000</td>\n",
       "    </tr>\n",
       "    <tr>\n",
       "      <th>12885</th>\n",
       "      <td>2</td>\n",
       "      <td>http://www.ufcstats.com/fight-details/1db8bed8...</td>\n",
       "      <td>http://www.ufcstats.com/fighter-details/911fb2...</td>\n",
       "      <td>0.200000</td>\n",
       "      <td>3.000000</td>\n",
       "      <td>1</td>\n",
       "      <td>0.200000</td>\n",
       "      <td>3.000000</td>\n",
       "    </tr>\n",
       "  </tbody>\n",
       "</table>\n",
       "<p>25772 rows × 8 columns</p>\n",
       "</div>"
      ],
      "text/plain": [
       "      round                                          bout_link  \\\n",
       "0         1  http://www.ufcstats.com/fight-details/11f715fa...   \n",
       "1         2  http://www.ufcstats.com/fight-details/11f715fa...   \n",
       "2         3  http://www.ufcstats.com/fight-details/11f715fa...   \n",
       "3         4  http://www.ufcstats.com/fight-details/11f715fa...   \n",
       "4         5  http://www.ufcstats.com/fight-details/11f715fa...   \n",
       "...     ...                                                ...   \n",
       "12881     1  http://www.ufcstats.com/fight-details/693e4a0b...   \n",
       "12882     2  http://www.ufcstats.com/fight-details/693e4a0b...   \n",
       "12883     1  http://www.ufcstats.com/fight-details/c6f85419...   \n",
       "12884     1  http://www.ufcstats.com/fight-details/1db8bed8...   \n",
       "12885     2  http://www.ufcstats.com/fight-details/1db8bed8...   \n",
       "\n",
       "                                            fighter_link    kd_p1m   kd_p15m  \\\n",
       "0      http://www.ufcstats.com/fighter-details/e1147d...  0.000000  0.000000   \n",
       "1      http://www.ufcstats.com/fighter-details/e1147d...  0.200000  3.000000   \n",
       "2      http://www.ufcstats.com/fighter-details/e1147d...  0.000000  0.000000   \n",
       "3      http://www.ufcstats.com/fighter-details/e1147d...  0.000000  0.000000   \n",
       "4      http://www.ufcstats.com/fighter-details/e1147d...  0.000000  0.000000   \n",
       "...                                                  ...       ...       ...   \n",
       "12881  http://www.ufcstats.com/fighter-details/669a3c...  0.000000  0.000000   \n",
       "12882  http://www.ufcstats.com/fighter-details/669a3c...  0.000000  0.000000   \n",
       "12883  http://www.ufcstats.com/fighter-details/a54a35...  0.350877  5.263158   \n",
       "12884  http://www.ufcstats.com/fighter-details/911fb2...  0.000000  0.000000   \n",
       "12885  http://www.ufcstats.com/fighter-details/911fb2...  0.200000  3.000000   \n",
       "\n",
       "       kd_pr_di  kd_p1m_di  kd_p15m_di  \n",
       "0             0   0.000000    0.000000  \n",
       "1             1   0.200000    3.000000  \n",
       "2             0   0.000000    0.000000  \n",
       "3             0   0.000000    0.000000  \n",
       "4             0   0.000000    0.000000  \n",
       "...         ...        ...         ...  \n",
       "12881         0   0.000000    0.000000  \n",
       "12882        -1  -0.759494  -11.392405  \n",
       "12883         1   0.350877    5.263158  \n",
       "12884         0   0.000000    0.000000  \n",
       "12885         1   0.200000    3.000000  \n",
       "\n",
       "[25772 rows x 8 columns]"
      ]
     },
     "execution_count": 9,
     "metadata": {},
     "output_type": "execute_result"
    }
   ],
   "source": [
    "knockdown_stats"
   ]
  },
  {
   "cell_type": "code",
   "execution_count": 10,
   "metadata": {},
   "outputs": [],
   "source": [
    "knockdown_stats.to_csv('../../knockdown_stats.csv', index=False)"
   ]
  },
  {
   "cell_type": "code",
   "execution_count": 76,
   "metadata": {},
   "outputs": [],
   "source": [
    "query = \"\"\"\n",
    "SELECT strikes_cleaned.*, \"Date\", \"Time\", \n",
    "\"Round\" as final_round, \"Timeformat\"\n",
    "FROM strikes_cleaned\n",
    "JOIN bouts ON bouts.link = strikes_cleaned.bout_link\n",
    "JOIN events ON events.link = bouts.event_link\n",
    "\"\"\"\n",
    "\n",
    "strike_data = pd.read_sql(query, engine)"
   ]
  },
  {
   "cell_type": "code",
   "execution_count": 77,
   "metadata": {},
   "outputs": [
    {
     "name": "stdout",
     "output_type": "stream",
     "text": [
      "<class 'pandas.core.frame.DataFrame'>\n",
      "RangeIndex: 26452 entries, 0 to 26451\n",
      "Data columns (total 23 columns):\n",
      " #   Column        Non-Null Count  Dtype \n",
      "---  ------        --------------  ----- \n",
      " 0   fighter       26452 non-null  object\n",
      " 1   round         26452 non-null  int64 \n",
      " 2   bout_link     26452 non-null  object\n",
      " 3   outcome       26452 non-null  object\n",
      " 4   fighter_link  26452 non-null  object\n",
      " 5   sig_str_s     26452 non-null  int64 \n",
      " 6   sig_str_a     26452 non-null  int64 \n",
      " 7   head_s        26452 non-null  int64 \n",
      " 8   head_a        26452 non-null  int64 \n",
      " 9   body_s        26452 non-null  int64 \n",
      " 10  body_a        26452 non-null  int64 \n",
      " 11  leg_s         26452 non-null  int64 \n",
      " 12  leg_a         26452 non-null  int64 \n",
      " 13  distance_s    26452 non-null  int64 \n",
      " 14  distance_a    26452 non-null  int64 \n",
      " 15  clinch_s      26452 non-null  int64 \n",
      " 16  clinch_a      26452 non-null  int64 \n",
      " 17  ground_s      26452 non-null  int64 \n",
      " 18  ground_a      26452 non-null  int64 \n",
      " 19  Date          26452 non-null  object\n",
      " 20  Time          26452 non-null  object\n",
      " 21  final_round   26452 non-null  int64 \n",
      " 22  Timeformat    26452 non-null  object\n",
      "dtypes: int64(16), object(7)\n",
      "memory usage: 4.6+ MB\n"
     ]
    }
   ],
   "source": [
    "strike_data.info()"
   ]
  },
  {
   "cell_type": "code",
   "execution_count": 78,
   "metadata": {},
   "outputs": [
    {
     "name": "stdout",
     "output_type": "stream",
     "text": [
      "formatting data\n",
      "\n",
      "calculating minutes\n",
      "\n"
     ]
    },
    {
     "name": "stderr",
     "output_type": "stream",
     "text": [
      "/home/max/sports_science/match_finder/src/functions.py:166: SettingWithCopyWarning: \n",
      "A value is trying to be set on a copy of a slice from a DataFrame.\n",
      "Try using .loc[row_indexer,col_indexer] = value instead\n",
      "\n",
      "See the caveats in the documentation: https://pandas.pydata.org/pandas-docs/stable/user_guide/indexing.html#returning-a-view-versus-a-copy\n",
      "  df['round_id'] = df['bout_id']+df['round']\n"
     ]
    },
    {
     "name": "stdout",
     "output_type": "stream",
     "text": [
      "calculating accuracy for sig_str\n",
      "\n",
      "combining rows\n",
      "\n",
      "calculating defense for sig_str\n",
      "\n",
      "calculating differentials for sig_str\n",
      "\n",
      "cleaning df\n",
      "\n"
     ]
    }
   ],
   "source": [
    "sig_str_stats = functions.calculate_stats(strike_data, ['sig_str'])"
   ]
  },
  {
   "cell_type": "code",
   "execution_count": 121,
   "metadata": {},
   "outputs": [],
   "source": [
    "drop_columns = ['fighter', 'outcome', 'sig_str_s',\n",
    "       'sig_str_a', 'head_s', 'head_a', 'body_s', 'body_a', 'leg_s', 'leg_a',\n",
    "       'distance_s', 'distance_a', 'clinch_s', 'clinch_a', 'ground_s',\n",
    "       'ground_a', 'date', 'time', 'final_round', 'timeformat', 'date',\n",
    "       'fighter_id', 'bout_id', 'round_length', 'minutes', 'inst_id']"
   ]
  },
  {
   "cell_type": "code",
   "execution_count": 123,
   "metadata": {},
   "outputs": [],
   "source": [
    "sig_str_stats.drop(drop_columns, axis=1, inplace=True)"
   ]
  },
  {
   "cell_type": "code",
   "execution_count": 125,
   "metadata": {},
   "outputs": [
    {
     "name": "stdout",
     "output_type": "stream",
     "text": [
      "<class 'pandas.core.frame.DataFrame'>\n",
      "Int64Index: 25772 entries, 0 to 12885\n",
      "Data columns (total 15 columns):\n",
      " #   Column             Non-Null Count  Dtype  \n",
      "---  ------             --------------  -----  \n",
      " 0   round              25772 non-null  object \n",
      " 1   bout_link          25772 non-null  object \n",
      " 2   fighter_link       25772 non-null  object \n",
      " 3   sig_str_a_p1m      25772 non-null  float64\n",
      " 4   sig_str_s_p1m      25772 non-null  float64\n",
      " 5   sig_str_a_p15m     25772 non-null  float64\n",
      " 6   sig_str_s_p15m     25772 non-null  float64\n",
      " 7   sig_str_ac         25646 non-null  object \n",
      " 8   sig_str_de         25646 non-null  object \n",
      " 9   sig_str_s_pr_di    25772 non-null  int64  \n",
      " 10  sig_str_a_pr_di    25772 non-null  int64  \n",
      " 11  sig_str_s_p1m_di   25772 non-null  float64\n",
      " 12  sig_str_a_p1m_di   25772 non-null  float64\n",
      " 13  sig_str_s_p15m_di  25772 non-null  float64\n",
      " 14  sig_str_a_p15m_di  25772 non-null  float64\n",
      "dtypes: float64(8), int64(2), object(5)\n",
      "memory usage: 3.1+ MB\n"
     ]
    }
   ],
   "source": [
    "sig_str_stats.info()"
   ]
  },
  {
   "cell_type": "code",
   "execution_count": 126,
   "metadata": {},
   "outputs": [],
   "source": [
    "sig_str_stats.to_csv('../../data/sig_str_stats.csv', index=False)"
   ]
  },
  {
   "cell_type": "code",
   "execution_count": 79,
   "metadata": {},
   "outputs": [
    {
     "name": "stdout",
     "output_type": "stream",
     "text": [
      "formatting data\n",
      "\n",
      "calculating minutes\n",
      "\n",
      "calculating accuracy for body\n",
      "\n",
      "combining rows\n",
      "\n",
      "calculating defense for body\n",
      "\n",
      "calculating differentials for body\n",
      "\n",
      "cleaning df\n",
      "\n",
      "formatting data\n",
      "\n",
      "calculating minutes\n",
      "\n",
      "calculating accuracy for head\n",
      "\n",
      "combining rows\n",
      "\n",
      "calculating defense for head\n",
      "\n",
      "calculating differentials for head\n",
      "\n",
      "cleaning df\n",
      "\n",
      "formatting data\n",
      "\n",
      "calculating minutes\n",
      "\n",
      "calculating accuracy for leg\n",
      "\n",
      "combining rows\n",
      "\n",
      "calculating defense for leg\n",
      "\n",
      "calculating differentials for leg\n",
      "\n",
      "cleaning df\n",
      "\n",
      "formatting data\n",
      "\n",
      "calculating minutes\n",
      "\n",
      "calculating accuracy for distance\n",
      "\n",
      "combining rows\n",
      "\n",
      "calculating defense for distance\n",
      "\n",
      "calculating differentials for distance\n",
      "\n",
      "cleaning df\n",
      "\n",
      "formatting data\n",
      "\n",
      "calculating minutes\n",
      "\n",
      "calculating accuracy for clinch\n",
      "\n",
      "combining rows\n",
      "\n",
      "calculating defense for clinch\n",
      "\n",
      "calculating differentials for clinch\n",
      "\n",
      "cleaning df\n",
      "\n",
      "formatting data\n",
      "\n",
      "calculating minutes\n",
      "\n",
      "calculating accuracy for ground\n",
      "\n",
      "combining rows\n",
      "\n",
      "calculating defense for ground\n",
      "\n",
      "calculating differentials for ground\n",
      "\n",
      "cleaning df\n",
      "\n"
     ]
    }
   ],
   "source": [
    "body_ss_stats = functions.calculate_stats(strike_data, ['body'])\n",
    "head_ss_stats = functions.calculate_stats(strike_data, ['head'])\n",
    "leg_ss_stats = functions.calculate_stats(strike_data, ['leg'])\n",
    "distance_ss_stats = functions.calculate_stats(strike_data, ['distance'])\n",
    "clinch_ss_stats = functions.calculate_stats(strike_data, ['clinch'])\n",
    "ground_ss_stats = functions.calculate_stats(strike_data, ['ground'])"
   ]
  },
  {
   "cell_type": "code",
   "execution_count": 127,
   "metadata": {},
   "outputs": [],
   "source": [
    "body_ss_stats.drop(drop_columns, axis=1, inplace=True)\n",
    "head_ss_stats.drop(drop_columns, axis=1, inplace=True)\n",
    "leg_ss_stats.drop(drop_columns, axis=1, inplace=True)\n",
    "distance_ss_stats.drop(drop_columns, axis=1, inplace=True)\n",
    "clinch_ss_stats.drop(drop_columns, axis=1, inplace=True)\n",
    "ground_ss_stats.drop(drop_columns, axis=1, inplace=True)"
   ]
  },
  {
   "cell_type": "code",
   "execution_count": 128,
   "metadata": {},
   "outputs": [],
   "source": [
    "body_ss_stats.to_csv('../../data/body_ss_stats.csv', index=False)\n",
    "head_ss_stats.to_csv('../../data/head_ss_stats.csv', index=False)\n",
    "leg_ss_stats.to_csv('../../data/leg_ss_stats.csv', index=False)\n",
    "distance_ss_stats.to_csv('../../data/distance_ss_stats.csv', index=False)\n",
    "clinch_ss_stats.to_csv('../../data/clinch_ss_stats.csv', index=False)\n",
    "ground_ss_stats.to_csv('../../data/ground_ss_stats.csv', index=False)"
   ]
  },
  {
   "cell_type": "markdown",
   "metadata": {},
   "source": [
    "## Last minute addition, adding to sql"
   ]
  },
  {
   "cell_type": "code",
   "execution_count": 1,
   "metadata": {},
   "outputs": [],
   "source": [
    "%load_ext autoreload\n",
    "%autoreload 2\n",
    "\n",
    "import os\n",
    "import sys\n",
    "module_path = os.path.abspath(os.path.join(os.pardir, os.pardir))\n",
    "if module_path not in sys.path:\n",
    "    sys.path.append(module_path)\n",
    "\n",
    "import pandas as pd\n",
    "from sqlalchemy import create_engine\n",
    "from src import local\n",
    "\n",
    "\n",
    "# Credentials\n",
    "USER = local.user \n",
    "PASS = local.password\n",
    "HOST = local.host\n",
    "PORT = local.port\n",
    "\n",
    "#create engine\n",
    "engine = create_engine(f'postgresql://{USER}:{PASS}@{HOST}:{PORT}/match_finder')"
   ]
  }
 ],
 "metadata": {
  "kernelspec": {
   "display_name": "Python 3",
   "language": "python",
   "name": "python3"
  },
  "language_info": {
   "codemirror_mode": {
    "name": "ipython",
    "version": 3
   },
   "file_extension": ".py",
   "mimetype": "text/x-python",
   "name": "python",
   "nbconvert_exporter": "python",
   "pygments_lexer": "ipython3",
   "version": "3.8.3"
  }
 },
 "nbformat": 4,
 "nbformat_minor": 4
}
