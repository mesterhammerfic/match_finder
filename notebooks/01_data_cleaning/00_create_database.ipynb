{
 "cells": [
  {
   "cell_type": "markdown",
   "metadata": {},
   "source": [
    "# Purpose\n",
    "The purpose of this notebook is to create a postgresql database using the 4 csv files from the data folder.\n",
    "\n",
    "## Requirements\n",
    "You may either create a local.py file in the src folder, or simply input your local sql database information in 'Credentials' cell below (after the module import cell)\n",
    "\n",
    "Your local postgresql must have a database called 'match_finder'"
   ]
  },
  {
   "cell_type": "code",
   "execution_count": 1,
   "metadata": {},
   "outputs": [],
   "source": [
    "import os\n",
    "import sys\n",
    "module_path = os.path.abspath(os.path.join(os.pardir, os.pardir))\n",
    "if module_path not in sys.path:\n",
    "    sys.path.append(module_path)\n",
    "\n",
    "import pandas as pd\n",
    "from sqlalchemy import create_engine\n",
    "from src import local\n",
    "from src import functions"
   ]
  },
  {
   "cell_type": "markdown",
   "metadata": {},
   "source": [
    "#### PostgreSQL connection set up"
   ]
  },
  {
   "cell_type": "code",
   "execution_count": 2,
   "metadata": {},
   "outputs": [],
   "source": [
    "# Credentials\n",
    "USER = local.user \n",
    "PASS = local.password\n",
    "HOST = local.host\n",
    "PORT = local.port\n",
    "\n",
    "#create engine\n",
    "engine = create_engine(f'postgresql://{USER}:{PASS}@{HOST}:{PORT}/match_finder')"
   ]
  },
  {
   "cell_type": "markdown",
   "metadata": {},
   "source": [
    "## 5 Primary tables\n",
    "- events\n",
    "- bouts\n",
    "- fighters\n",
    "- rounds tables:\n",
    "    - general\n",
    "    - strikes"
   ]
  },
  {
   "cell_type": "markdown",
   "metadata": {},
   "source": [
    "### Events"
   ]
  },
  {
   "cell_type": "code",
   "execution_count": 3,
   "metadata": {},
   "outputs": [
    {
     "name": "stdout",
     "output_type": "stream",
     "text": [
      "<class 'pandas.core.frame.DataFrame'>\n",
      "RangeIndex: 525 entries, 0 to 524\n",
      "Data columns (total 5 columns):\n",
      " #   Column      Non-Null Count  Dtype \n",
      "---  ------      --------------  ----- \n",
      " 0   Date        525 non-null    object\n",
      " 1   Location    525 non-null    object\n",
      " 2   Attendance  504 non-null    object\n",
      " 3   name        525 non-null    object\n",
      " 4   link        525 non-null    object\n",
      "dtypes: object(5)\n",
      "memory usage: 20.6+ KB\n"
     ]
    }
   ],
   "source": [
    "events = pd.read_csv('../../data/ufcstats_data/events.csv')\n",
    "events.info()"
   ]
  },
  {
   "cell_type": "markdown",
   "metadata": {},
   "source": [
    "#### Lower case all columns"
   ]
  },
  {
   "cell_type": "code",
   "execution_count": 4,
   "metadata": {},
   "outputs": [],
   "source": [
    "events.columns = events.columns.map(lambda x: x.lower())"
   ]
  },
  {
   "cell_type": "markdown",
   "metadata": {},
   "source": [
    "#### Get id"
   ]
  },
  {
   "cell_type": "code",
   "execution_count": 5,
   "metadata": {},
   "outputs": [
    {
     "name": "stdout",
     "output_type": "stream",
     "text": [
      "<class 'pandas.core.frame.DataFrame'>\n",
      "RangeIndex: 525 entries, 0 to 524\n",
      "Data columns (total 5 columns):\n",
      " #   Column      Non-Null Count  Dtype \n",
      "---  ------      --------------  ----- \n",
      " 0   date        525 non-null    object\n",
      " 1   location    525 non-null    object\n",
      " 2   attendance  504 non-null    object\n",
      " 3   name        525 non-null    object\n",
      " 4   id          525 non-null    object\n",
      "dtypes: object(5)\n",
      "memory usage: 20.6+ KB\n"
     ]
    }
   ],
   "source": [
    "events['id'] = events['link'].map(functions.get_id)\n",
    "\n",
    "#drop link column\n",
    "events.drop('link', axis=1, inplace=True)\n",
    "events.info()"
   ]
  },
  {
   "cell_type": "markdown",
   "metadata": {},
   "source": [
    "##### Drop duplicates"
   ]
  },
  {
   "cell_type": "code",
   "execution_count": 6,
   "metadata": {},
   "outputs": [
    {
     "name": "stdout",
     "output_type": "stream",
     "text": [
      "<class 'pandas.core.frame.DataFrame'>\n",
      "Int64Index: 525 entries, 0 to 524\n",
      "Data columns (total 5 columns):\n",
      " #   Column      Non-Null Count  Dtype \n",
      "---  ------      --------------  ----- \n",
      " 0   date        525 non-null    object\n",
      " 1   location    525 non-null    object\n",
      " 2   attendance  504 non-null    object\n",
      " 3   name        525 non-null    object\n",
      " 4   id          525 non-null    object\n",
      "dtypes: object(5)\n",
      "memory usage: 24.6+ KB\n"
     ]
    }
   ],
   "source": [
    "events.drop_duplicates(inplace=True)\n",
    "events.info()"
   ]
  },
  {
   "cell_type": "markdown",
   "metadata": {},
   "source": [
    "#### to sql"
   ]
  },
  {
   "cell_type": "code",
   "execution_count": 7,
   "metadata": {},
   "outputs": [],
   "source": [
    "events.to_sql('events', engine, index=False, if_exists='replace')"
   ]
  },
  {
   "cell_type": "markdown",
   "metadata": {},
   "source": [
    "### Bouts"
   ]
  },
  {
   "cell_type": "code",
   "execution_count": 8,
   "metadata": {},
   "outputs": [
    {
     "name": "stdout",
     "output_type": "stream",
     "text": [
      "<class 'pandas.core.frame.DataFrame'>\n",
      "RangeIndex: 5688 entries, 0 to 5687\n",
      "Data columns (total 8 columns):\n",
      " #   Column      Non-Null Count  Dtype \n",
      "---  ------      --------------  ----- \n",
      " 0   Method      5688 non-null   object\n",
      " 1   Round       5688 non-null   int64 \n",
      " 2   Time        5688 non-null   object\n",
      " 3   Timeformat  5688 non-null   object\n",
      " 4   Referee     5660 non-null   object\n",
      " 5   details     2535 non-null   object\n",
      " 6   event_link  5688 non-null   object\n",
      " 7   link        5688 non-null   object\n",
      "dtypes: int64(1), object(7)\n",
      "memory usage: 355.6+ KB\n"
     ]
    }
   ],
   "source": [
    "bouts = pd.read_csv('../../data/ufcstats_data/bouts.csv')\n",
    "bouts.info()"
   ]
  },
  {
   "cell_type": "markdown",
   "metadata": {},
   "source": [
    "#### Lower case all columns"
   ]
  },
  {
   "cell_type": "code",
   "execution_count": 9,
   "metadata": {},
   "outputs": [],
   "source": [
    "bouts.columns = bouts.columns.map(lambda x: x.lower())"
   ]
  },
  {
   "cell_type": "code",
   "execution_count": 10,
   "metadata": {},
   "outputs": [],
   "source": [
    "bouts.columns = ['method', \n",
    "                 'final_round', \n",
    "                 'time', \n",
    "                 'timeformat', \n",
    "                 'referee', \n",
    "                 'details', \n",
    "                 'event_link',\n",
    "                 'link']"
   ]
  },
  {
   "cell_type": "markdown",
   "metadata": {},
   "source": [
    "#### Get id"
   ]
  },
  {
   "cell_type": "code",
   "execution_count": 11,
   "metadata": {},
   "outputs": [
    {
     "name": "stdout",
     "output_type": "stream",
     "text": [
      "<class 'pandas.core.frame.DataFrame'>\n",
      "RangeIndex: 5688 entries, 0 to 5687\n",
      "Data columns (total 8 columns):\n",
      " #   Column       Non-Null Count  Dtype \n",
      "---  ------       --------------  ----- \n",
      " 0   method       5688 non-null   object\n",
      " 1   final_round  5688 non-null   int64 \n",
      " 2   time         5688 non-null   object\n",
      " 3   timeformat   5688 non-null   object\n",
      " 4   referee      5660 non-null   object\n",
      " 5   details      2535 non-null   object\n",
      " 6   id           5688 non-null   object\n",
      " 7   event_id     5688 non-null   object\n",
      "dtypes: int64(1), object(7)\n",
      "memory usage: 355.6+ KB\n"
     ]
    }
   ],
   "source": [
    "bouts['id'] = bouts['link'].map(functions.get_id)\n",
    "bouts['event_id'] = bouts['event_link'].map(functions.get_id)\n",
    "#drop link column\n",
    "bouts.drop(['link', 'event_link'], axis=1, inplace=True)\n",
    "bouts.info()"
   ]
  },
  {
   "cell_type": "markdown",
   "metadata": {},
   "source": [
    "##### Drop duplicates"
   ]
  },
  {
   "cell_type": "code",
   "execution_count": 13,
   "metadata": {},
   "outputs": [
    {
     "name": "stdout",
     "output_type": "stream",
     "text": [
      "<class 'pandas.core.frame.DataFrame'>\n",
      "Int64Index: 5681 entries, 0 to 5687\n",
      "Data columns (total 8 columns):\n",
      " #   Column       Non-Null Count  Dtype \n",
      "---  ------       --------------  ----- \n",
      " 0   method       5681 non-null   object\n",
      " 1   final_round  5681 non-null   int64 \n",
      " 2   time         5681 non-null   object\n",
      " 3   timeformat   5681 non-null   object\n",
      " 4   referee      5653 non-null   object\n",
      " 5   details      2530 non-null   object\n",
      " 6   id           5681 non-null   object\n",
      " 7   event_id     5681 non-null   object\n",
      "dtypes: int64(1), object(7)\n",
      "memory usage: 399.4+ KB\n"
     ]
    }
   ],
   "source": [
    "bouts.drop_duplicates(inplace=True)\n",
    "bouts.info()"
   ]
  },
  {
   "cell_type": "markdown",
   "metadata": {},
   "source": [
    "#### Send to sql"
   ]
  },
  {
   "cell_type": "code",
   "execution_count": 14,
   "metadata": {},
   "outputs": [],
   "source": [
    "bouts.to_sql('bouts', engine, index=False, if_exists='replace')"
   ]
  },
  {
   "cell_type": "markdown",
   "metadata": {},
   "source": [
    "### Fighters"
   ]
  },
  {
   "cell_type": "code",
   "execution_count": 15,
   "metadata": {},
   "outputs": [
    {
     "data": {
      "text/html": [
       "<div>\n",
       "<style scoped>\n",
       "    .dataframe tbody tr th:only-of-type {\n",
       "        vertical-align: middle;\n",
       "    }\n",
       "\n",
       "    .dataframe tbody tr th {\n",
       "        vertical-align: top;\n",
       "    }\n",
       "\n",
       "    .dataframe thead th {\n",
       "        text-align: right;\n",
       "    }\n",
       "</style>\n",
       "<table border=\"1\" class=\"dataframe\">\n",
       "  <thead>\n",
       "    <tr style=\"text-align: right;\">\n",
       "      <th></th>\n",
       "      <th>Height</th>\n",
       "      <th>Weight</th>\n",
       "      <th>Reach</th>\n",
       "      <th>STANCE</th>\n",
       "      <th>DOB</th>\n",
       "      <th>name</th>\n",
       "      <th>link</th>\n",
       "    </tr>\n",
       "  </thead>\n",
       "  <tbody>\n",
       "    <tr>\n",
       "      <th>0</th>\n",
       "      <td>6' 3\"</td>\n",
       "      <td>257 lbs.</td>\n",
       "      <td>--</td>\n",
       "      <td>Orthodox</td>\n",
       "      <td>Jun 30, 1972</td>\n",
       "      <td>Fabiano Scherner</td>\n",
       "      <td>http://www.ufcstats.com/fighter-details/0bc7e6...</td>\n",
       "    </tr>\n",
       "    <tr>\n",
       "      <th>1</th>\n",
       "      <td>6' 2\"</td>\n",
       "      <td>238 lbs.</td>\n",
       "      <td>--</td>\n",
       "      <td>Orthodox</td>\n",
       "      <td>Mar 01, 1979</td>\n",
       "      <td>Alexandre Dantas</td>\n",
       "      <td>http://www.ufcstats.com/fighter-details/8dc46e...</td>\n",
       "    </tr>\n",
       "    <tr>\n",
       "      <th>2</th>\n",
       "      <td>5' 10\"</td>\n",
       "      <td>170 lbs.</td>\n",
       "      <td>74\"</td>\n",
       "      <td>Orthodox</td>\n",
       "      <td>Mar 03, 1980</td>\n",
       "      <td>Kevin Burns</td>\n",
       "      <td>http://www.ufcstats.com/fighter-details/a6d8bf...</td>\n",
       "    </tr>\n",
       "    <tr>\n",
       "      <th>3</th>\n",
       "      <td>5' 7\"</td>\n",
       "      <td>135 lbs.</td>\n",
       "      <td>--</td>\n",
       "      <td>Southpaw</td>\n",
       "      <td>May 11, 1986</td>\n",
       "      <td>Joseph Sandoval</td>\n",
       "      <td>http://www.ufcstats.com/fighter-details/696002...</td>\n",
       "    </tr>\n",
       "    <tr>\n",
       "      <th>4</th>\n",
       "      <td>5' 7\"</td>\n",
       "      <td>135 lbs.</td>\n",
       "      <td>70\"</td>\n",
       "      <td>Orthodox</td>\n",
       "      <td>Sep 09, 1986</td>\n",
       "      <td>Jose Aldo</td>\n",
       "      <td>http://www.ufcstats.com/fighter-details/d0f395...</td>\n",
       "    </tr>\n",
       "    <tr>\n",
       "      <th>...</th>\n",
       "      <td>...</td>\n",
       "      <td>...</td>\n",
       "      <td>...</td>\n",
       "      <td>...</td>\n",
       "      <td>...</td>\n",
       "      <td>...</td>\n",
       "      <td>...</td>\n",
       "    </tr>\n",
       "    <tr>\n",
       "      <th>2040</th>\n",
       "      <td>6' 3\"</td>\n",
       "      <td>227 lbs.</td>\n",
       "      <td>--</td>\n",
       "      <td>Orthodox</td>\n",
       "      <td>Sep 16, 1968</td>\n",
       "      <td>Roberto Traven</td>\n",
       "      <td>http://www.ufcstats.com/fighter-details/20ec00...</td>\n",
       "    </tr>\n",
       "    <tr>\n",
       "      <th>2041</th>\n",
       "      <td>5' 9\"</td>\n",
       "      <td>155 lbs.</td>\n",
       "      <td>70\"</td>\n",
       "      <td>Orthodox</td>\n",
       "      <td>Sep 12, 1984</td>\n",
       "      <td>Paul Kelly</td>\n",
       "      <td>http://www.ufcstats.com/fighter-details/aac5ac...</td>\n",
       "    </tr>\n",
       "    <tr>\n",
       "      <th>2042</th>\n",
       "      <td>6' 1\"</td>\n",
       "      <td>205 lbs.</td>\n",
       "      <td>75\"</td>\n",
       "      <td>Orthodox</td>\n",
       "      <td>Jun 22, 1963</td>\n",
       "      <td>Randy Couture</td>\n",
       "      <td>http://www.ufcstats.com/fighter-details/0aa925...</td>\n",
       "    </tr>\n",
       "    <tr>\n",
       "      <th>2043</th>\n",
       "      <td>6' 1\"</td>\n",
       "      <td>240 lbs.</td>\n",
       "      <td>77\"</td>\n",
       "      <td>Orthodox</td>\n",
       "      <td>Jul 28, 1982</td>\n",
       "      <td>Cain Velasquez</td>\n",
       "      <td>http://www.ufcstats.com/fighter-details/0ff11c...</td>\n",
       "    </tr>\n",
       "    <tr>\n",
       "      <th>2044</th>\n",
       "      <td>5' 8\"</td>\n",
       "      <td>135 lbs.</td>\n",
       "      <td>69\"</td>\n",
       "      <td>Orthodox</td>\n",
       "      <td>Dec 18, 1985</td>\n",
       "      <td>Davey Grant</td>\n",
       "      <td>http://www.ufcstats.com/fighter-details/113df4...</td>\n",
       "    </tr>\n",
       "  </tbody>\n",
       "</table>\n",
       "<p>2045 rows × 7 columns</p>\n",
       "</div>"
      ],
      "text/plain": [
       "      Height    Weight Reach    STANCE           DOB              name  \\\n",
       "0      6' 3\"  257 lbs.    --  Orthodox  Jun 30, 1972  Fabiano Scherner   \n",
       "1      6' 2\"  238 lbs.    --  Orthodox  Mar 01, 1979  Alexandre Dantas   \n",
       "2     5' 10\"  170 lbs.   74\"  Orthodox  Mar 03, 1980       Kevin Burns   \n",
       "3      5' 7\"  135 lbs.    --  Southpaw  May 11, 1986   Joseph Sandoval   \n",
       "4      5' 7\"  135 lbs.   70\"  Orthodox  Sep 09, 1986         Jose Aldo   \n",
       "...      ...       ...   ...       ...           ...               ...   \n",
       "2040   6' 3\"  227 lbs.    --  Orthodox  Sep 16, 1968    Roberto Traven   \n",
       "2041   5' 9\"  155 lbs.   70\"  Orthodox  Sep 12, 1984        Paul Kelly   \n",
       "2042   6' 1\"  205 lbs.   75\"  Orthodox  Jun 22, 1963     Randy Couture   \n",
       "2043   6' 1\"  240 lbs.   77\"  Orthodox  Jul 28, 1982    Cain Velasquez   \n",
       "2044   5' 8\"  135 lbs.   69\"  Orthodox  Dec 18, 1985       Davey Grant   \n",
       "\n",
       "                                                   link  \n",
       "0     http://www.ufcstats.com/fighter-details/0bc7e6...  \n",
       "1     http://www.ufcstats.com/fighter-details/8dc46e...  \n",
       "2     http://www.ufcstats.com/fighter-details/a6d8bf...  \n",
       "3     http://www.ufcstats.com/fighter-details/696002...  \n",
       "4     http://www.ufcstats.com/fighter-details/d0f395...  \n",
       "...                                                 ...  \n",
       "2040  http://www.ufcstats.com/fighter-details/20ec00...  \n",
       "2041  http://www.ufcstats.com/fighter-details/aac5ac...  \n",
       "2042  http://www.ufcstats.com/fighter-details/0aa925...  \n",
       "2043  http://www.ufcstats.com/fighter-details/0ff11c...  \n",
       "2044  http://www.ufcstats.com/fighter-details/113df4...  \n",
       "\n",
       "[2045 rows x 7 columns]"
      ]
     },
     "execution_count": 15,
     "metadata": {},
     "output_type": "execute_result"
    }
   ],
   "source": [
    "fighters = pd.read_csv('../../data/ufcstats_data/fighters.csv')\n",
    "fighters"
   ]
  },
  {
   "cell_type": "markdown",
   "metadata": {},
   "source": [
    "#### Lower case all columns"
   ]
  },
  {
   "cell_type": "code",
   "execution_count": 16,
   "metadata": {},
   "outputs": [],
   "source": [
    "fighters.columns = fighters.columns.map(lambda x: x.lower())"
   ]
  },
  {
   "cell_type": "markdown",
   "metadata": {},
   "source": [
    "#### Get id"
   ]
  },
  {
   "cell_type": "code",
   "execution_count": 17,
   "metadata": {},
   "outputs": [
    {
     "name": "stdout",
     "output_type": "stream",
     "text": [
      "<class 'pandas.core.frame.DataFrame'>\n",
      "RangeIndex: 2045 entries, 0 to 2044\n",
      "Data columns (total 7 columns):\n",
      " #   Column  Non-Null Count  Dtype \n",
      "---  ------  --------------  ----- \n",
      " 0   height  2045 non-null   object\n",
      " 1   weight  2045 non-null   object\n",
      " 2   reach   2045 non-null   object\n",
      " 3   stance  1972 non-null   object\n",
      " 4   dob     2045 non-null   object\n",
      " 5   name    2045 non-null   object\n",
      " 6   id      2045 non-null   object\n",
      "dtypes: object(7)\n",
      "memory usage: 112.0+ KB\n"
     ]
    }
   ],
   "source": [
    "fighters['id'] = fighters['link'].map(functions.get_id)\n",
    "#drop link column\n",
    "fighters.drop(['link'], axis=1, inplace=True)"
   ]
  },
  {
   "cell_type": "markdown",
   "metadata": {},
   "source": [
    "##### Drop duplicates"
   ]
  },
  {
   "cell_type": "code",
   "execution_count": 21,
   "metadata": {},
   "outputs": [
    {
     "name": "stdout",
     "output_type": "stream",
     "text": [
      "<class 'pandas.core.frame.DataFrame'>\n",
      "Int64Index: 2045 entries, 0 to 2044\n",
      "Data columns (total 7 columns):\n",
      " #   Column  Non-Null Count  Dtype \n",
      "---  ------  --------------  ----- \n",
      " 0   height  2045 non-null   object\n",
      " 1   weight  2045 non-null   object\n",
      " 2   reach   2045 non-null   object\n",
      " 3   stance  1972 non-null   object\n",
      " 4   dob     2045 non-null   object\n",
      " 5   name    2045 non-null   object\n",
      " 6   id      2045 non-null   object\n",
      "dtypes: object(7)\n",
      "memory usage: 127.8+ KB\n"
     ]
    }
   ],
   "source": [
    "fighters.drop_duplicates(inplace=True)\n",
    "fighters.info()"
   ]
  },
  {
   "cell_type": "markdown",
   "metadata": {},
   "source": [
    "#### Send to sql"
   ]
  },
  {
   "cell_type": "code",
   "execution_count": 20,
   "metadata": {},
   "outputs": [],
   "source": [
    "fighters.to_sql('fighters', engine, index=False, if_exists='replace')"
   ]
  },
  {
   "cell_type": "markdown",
   "metadata": {},
   "source": [
    "### Rounds tables\n",
    "#### Combine General and Strikes"
   ]
  },
  {
   "cell_type": "markdown",
   "metadata": {},
   "source": [
    "##### Import and get bout and fighter IDs"
   ]
  },
  {
   "cell_type": "code",
   "execution_count": 16,
   "metadata": {},
   "outputs": [
    {
     "data": {
      "text/html": [
       "<div>\n",
       "<style scoped>\n",
       "    .dataframe tbody tr th:only-of-type {\n",
       "        vertical-align: middle;\n",
       "    }\n",
       "\n",
       "    .dataframe tbody tr th {\n",
       "        vertical-align: top;\n",
       "    }\n",
       "\n",
       "    .dataframe thead th {\n",
       "        text-align: right;\n",
       "    }\n",
       "</style>\n",
       "<table border=\"1\" class=\"dataframe\">\n",
       "  <thead>\n",
       "    <tr style=\"text-align: right;\">\n",
       "      <th></th>\n",
       "      <th>fighter</th>\n",
       "      <th>kd</th>\n",
       "      <th>sig_str</th>\n",
       "      <th>sig_str_prcnt</th>\n",
       "      <th>total_str</th>\n",
       "      <th>td_count</th>\n",
       "      <th>td_prcnt</th>\n",
       "      <th>sub_att</th>\n",
       "      <th>pass</th>\n",
       "      <th>rev</th>\n",
       "      <th>round</th>\n",
       "      <th>bout_link</th>\n",
       "      <th>outcome</th>\n",
       "      <th>fighter_link</th>\n",
       "      <th>fighter_id</th>\n",
       "      <th>bout_id</th>\n",
       "    </tr>\n",
       "  </thead>\n",
       "  <tbody>\n",
       "    <tr>\n",
       "      <th>0</th>\n",
       "      <td>Robert Whittaker</td>\n",
       "      <td>0</td>\n",
       "      <td>11 of 30</td>\n",
       "      <td>36%</td>\n",
       "      <td>13 of 32</td>\n",
       "      <td>0 of 2</td>\n",
       "      <td>0%</td>\n",
       "      <td>0</td>\n",
       "      <td>0</td>\n",
       "      <td>0</td>\n",
       "      <td>1</td>\n",
       "      <td>http://www.ufcstats.com/fight-details/11f715fa...</td>\n",
       "      <td>W</td>\n",
       "      <td>http://www.ufcstats.com/fighter-details/e1147d...</td>\n",
       "      <td>e1147d3d2dabe1ce</td>\n",
       "      <td>11f715fa5e825e51</td>\n",
       "    </tr>\n",
       "    <tr>\n",
       "      <th>1</th>\n",
       "      <td>Robert Whittaker</td>\n",
       "      <td>1</td>\n",
       "      <td>15 of 30</td>\n",
       "      <td>50%</td>\n",
       "      <td>42 of 57</td>\n",
       "      <td>0 of 0</td>\n",
       "      <td>0%</td>\n",
       "      <td>0</td>\n",
       "      <td>1</td>\n",
       "      <td>0</td>\n",
       "      <td>2</td>\n",
       "      <td>http://www.ufcstats.com/fight-details/11f715fa...</td>\n",
       "      <td>W</td>\n",
       "      <td>http://www.ufcstats.com/fighter-details/e1147d...</td>\n",
       "      <td>e1147d3d2dabe1ce</td>\n",
       "      <td>11f715fa5e825e51</td>\n",
       "    </tr>\n",
       "    <tr>\n",
       "      <th>2</th>\n",
       "      <td>Robert Whittaker</td>\n",
       "      <td>0</td>\n",
       "      <td>13 of 32</td>\n",
       "      <td>40%</td>\n",
       "      <td>13 of 32</td>\n",
       "      <td>0 of 2</td>\n",
       "      <td>0%</td>\n",
       "      <td>0</td>\n",
       "      <td>0</td>\n",
       "      <td>0</td>\n",
       "      <td>3</td>\n",
       "      <td>http://www.ufcstats.com/fight-details/11f715fa...</td>\n",
       "      <td>W</td>\n",
       "      <td>http://www.ufcstats.com/fighter-details/e1147d...</td>\n",
       "      <td>e1147d3d2dabe1ce</td>\n",
       "      <td>11f715fa5e825e51</td>\n",
       "    </tr>\n",
       "    <tr>\n",
       "      <th>3</th>\n",
       "      <td>Robert Whittaker</td>\n",
       "      <td>0</td>\n",
       "      <td>13 of 34</td>\n",
       "      <td>38%</td>\n",
       "      <td>14 of 35</td>\n",
       "      <td>0 of 2</td>\n",
       "      <td>0%</td>\n",
       "      <td>0</td>\n",
       "      <td>0</td>\n",
       "      <td>0</td>\n",
       "      <td>4</td>\n",
       "      <td>http://www.ufcstats.com/fight-details/11f715fa...</td>\n",
       "      <td>W</td>\n",
       "      <td>http://www.ufcstats.com/fighter-details/e1147d...</td>\n",
       "      <td>e1147d3d2dabe1ce</td>\n",
       "      <td>11f715fa5e825e51</td>\n",
       "    </tr>\n",
       "    <tr>\n",
       "      <th>4</th>\n",
       "      <td>Robert Whittaker</td>\n",
       "      <td>0</td>\n",
       "      <td>17 of 31</td>\n",
       "      <td>54%</td>\n",
       "      <td>18 of 32</td>\n",
       "      <td>2 of 7</td>\n",
       "      <td>28%</td>\n",
       "      <td>0</td>\n",
       "      <td>0</td>\n",
       "      <td>0</td>\n",
       "      <td>5</td>\n",
       "      <td>http://www.ufcstats.com/fight-details/11f715fa...</td>\n",
       "      <td>W</td>\n",
       "      <td>http://www.ufcstats.com/fighter-details/e1147d...</td>\n",
       "      <td>e1147d3d2dabe1ce</td>\n",
       "      <td>11f715fa5e825e51</td>\n",
       "    </tr>\n",
       "  </tbody>\n",
       "</table>\n",
       "</div>"
      ],
      "text/plain": [
       "            fighter  kd   sig_str sig_str_prcnt total_str td_count td_prcnt  \\\n",
       "0  Robert Whittaker   0  11 of 30           36%  13 of 32   0 of 2       0%   \n",
       "1  Robert Whittaker   1  15 of 30           50%  42 of 57   0 of 0       0%   \n",
       "2  Robert Whittaker   0  13 of 32           40%  13 of 32   0 of 2       0%   \n",
       "3  Robert Whittaker   0  13 of 34           38%  14 of 35   0 of 2       0%   \n",
       "4  Robert Whittaker   0  17 of 31           54%  18 of 32   2 of 7      28%   \n",
       "\n",
       "   sub_att  pass  rev  round  \\\n",
       "0        0     0    0      1   \n",
       "1        0     1    0      2   \n",
       "2        0     0    0      3   \n",
       "3        0     0    0      4   \n",
       "4        0     0    0      5   \n",
       "\n",
       "                                           bout_link outcome  \\\n",
       "0  http://www.ufcstats.com/fight-details/11f715fa...       W   \n",
       "1  http://www.ufcstats.com/fight-details/11f715fa...       W   \n",
       "2  http://www.ufcstats.com/fight-details/11f715fa...       W   \n",
       "3  http://www.ufcstats.com/fight-details/11f715fa...       W   \n",
       "4  http://www.ufcstats.com/fight-details/11f715fa...       W   \n",
       "\n",
       "                                        fighter_link        fighter_id  \\\n",
       "0  http://www.ufcstats.com/fighter-details/e1147d...  e1147d3d2dabe1ce   \n",
       "1  http://www.ufcstats.com/fighter-details/e1147d...  e1147d3d2dabe1ce   \n",
       "2  http://www.ufcstats.com/fighter-details/e1147d...  e1147d3d2dabe1ce   \n",
       "3  http://www.ufcstats.com/fighter-details/e1147d...  e1147d3d2dabe1ce   \n",
       "4  http://www.ufcstats.com/fighter-details/e1147d...  e1147d3d2dabe1ce   \n",
       "\n",
       "            bout_id  \n",
       "0  11f715fa5e825e51  \n",
       "1  11f715fa5e825e51  \n",
       "2  11f715fa5e825e51  \n",
       "3  11f715fa5e825e51  \n",
       "4  11f715fa5e825e51  "
      ]
     },
     "execution_count": 16,
     "metadata": {},
     "output_type": "execute_result"
    }
   ],
   "source": [
    "general = pd.read_csv('../../data/ufcstats_data/general.csv')\n",
    "strikes= pd.read_csv('../../data/ufcstats_data/strikes.csv')\n",
    "\n",
    "# rename bout_id column to bout_link\n",
    "general.rename(mapper={'bout_id': 'bout_link'}, axis=1, inplace=True)\n",
    "strikes.rename(mapper={'bout_id': 'bout_link'}, axis=1, inplace=True)\n",
    "\n",
    "general = functions.get_all_ids(general, event=False)\n",
    "strikes = functions.get_all_ids(strikes, event=False)\n",
    "\n",
    "general.head()"
   ]
  },
  {
   "cell_type": "code",
   "execution_count": 17,
   "metadata": {},
   "outputs": [
    {
     "data": {
      "text/html": [
       "<div>\n",
       "<style scoped>\n",
       "    .dataframe tbody tr th:only-of-type {\n",
       "        vertical-align: middle;\n",
       "    }\n",
       "\n",
       "    .dataframe tbody tr th {\n",
       "        vertical-align: top;\n",
       "    }\n",
       "\n",
       "    .dataframe thead th {\n",
       "        text-align: right;\n",
       "    }\n",
       "</style>\n",
       "<table border=\"1\" class=\"dataframe\">\n",
       "  <thead>\n",
       "    <tr style=\"text-align: right;\">\n",
       "      <th></th>\n",
       "      <th>fighter</th>\n",
       "      <th>sig_str</th>\n",
       "      <th>sig_str_prcnt</th>\n",
       "      <th>head</th>\n",
       "      <th>body</th>\n",
       "      <th>leg</th>\n",
       "      <th>distance</th>\n",
       "      <th>clinch</th>\n",
       "      <th>ground</th>\n",
       "      <th>round</th>\n",
       "      <th>bout_link</th>\n",
       "      <th>outcome</th>\n",
       "      <th>fighter_link</th>\n",
       "      <th>fighter_id</th>\n",
       "      <th>bout_id</th>\n",
       "    </tr>\n",
       "  </thead>\n",
       "  <tbody>\n",
       "    <tr>\n",
       "      <th>0</th>\n",
       "      <td>Robert Whittaker</td>\n",
       "      <td>11 of 30</td>\n",
       "      <td>36%</td>\n",
       "      <td>4 of 22</td>\n",
       "      <td>1 of 2</td>\n",
       "      <td>6 of 6</td>\n",
       "      <td>10 of 29</td>\n",
       "      <td>1 of 1</td>\n",
       "      <td>0 of 0</td>\n",
       "      <td>1</td>\n",
       "      <td>http://www.ufcstats.com/fight-details/11f715fa...</td>\n",
       "      <td>W</td>\n",
       "      <td>http://www.ufcstats.com/fighter-details/e1147d...</td>\n",
       "      <td>e1147d3d2dabe1ce</td>\n",
       "      <td>11f715fa5e825e51</td>\n",
       "    </tr>\n",
       "    <tr>\n",
       "      <th>1</th>\n",
       "      <td>Robert Whittaker</td>\n",
       "      <td>15 of 30</td>\n",
       "      <td>50%</td>\n",
       "      <td>7 of 22</td>\n",
       "      <td>1 of 1</td>\n",
       "      <td>7 of 7</td>\n",
       "      <td>10 of 23</td>\n",
       "      <td>0 of 0</td>\n",
       "      <td>5 of 7</td>\n",
       "      <td>2</td>\n",
       "      <td>http://www.ufcstats.com/fight-details/11f715fa...</td>\n",
       "      <td>W</td>\n",
       "      <td>http://www.ufcstats.com/fighter-details/e1147d...</td>\n",
       "      <td>e1147d3d2dabe1ce</td>\n",
       "      <td>11f715fa5e825e51</td>\n",
       "    </tr>\n",
       "    <tr>\n",
       "      <th>2</th>\n",
       "      <td>Robert Whittaker</td>\n",
       "      <td>13 of 32</td>\n",
       "      <td>40%</td>\n",
       "      <td>8 of 26</td>\n",
       "      <td>0 of 1</td>\n",
       "      <td>5 of 5</td>\n",
       "      <td>11 of 30</td>\n",
       "      <td>2 of 2</td>\n",
       "      <td>0 of 0</td>\n",
       "      <td>3</td>\n",
       "      <td>http://www.ufcstats.com/fight-details/11f715fa...</td>\n",
       "      <td>W</td>\n",
       "      <td>http://www.ufcstats.com/fighter-details/e1147d...</td>\n",
       "      <td>e1147d3d2dabe1ce</td>\n",
       "      <td>11f715fa5e825e51</td>\n",
       "    </tr>\n",
       "    <tr>\n",
       "      <th>3</th>\n",
       "      <td>Robert Whittaker</td>\n",
       "      <td>13 of 34</td>\n",
       "      <td>38%</td>\n",
       "      <td>7 of 26</td>\n",
       "      <td>1 of 2</td>\n",
       "      <td>5 of 6</td>\n",
       "      <td>12 of 31</td>\n",
       "      <td>1 of 3</td>\n",
       "      <td>0 of 0</td>\n",
       "      <td>4</td>\n",
       "      <td>http://www.ufcstats.com/fight-details/11f715fa...</td>\n",
       "      <td>W</td>\n",
       "      <td>http://www.ufcstats.com/fighter-details/e1147d...</td>\n",
       "      <td>e1147d3d2dabe1ce</td>\n",
       "      <td>11f715fa5e825e51</td>\n",
       "    </tr>\n",
       "    <tr>\n",
       "      <th>4</th>\n",
       "      <td>Robert Whittaker</td>\n",
       "      <td>17 of 31</td>\n",
       "      <td>54%</td>\n",
       "      <td>6 of 20</td>\n",
       "      <td>4 of 4</td>\n",
       "      <td>7 of 7</td>\n",
       "      <td>14 of 26</td>\n",
       "      <td>3 of 5</td>\n",
       "      <td>0 of 0</td>\n",
       "      <td>5</td>\n",
       "      <td>http://www.ufcstats.com/fight-details/11f715fa...</td>\n",
       "      <td>W</td>\n",
       "      <td>http://www.ufcstats.com/fighter-details/e1147d...</td>\n",
       "      <td>e1147d3d2dabe1ce</td>\n",
       "      <td>11f715fa5e825e51</td>\n",
       "    </tr>\n",
       "    <tr>\n",
       "      <th>...</th>\n",
       "      <td>...</td>\n",
       "      <td>...</td>\n",
       "      <td>...</td>\n",
       "      <td>...</td>\n",
       "      <td>...</td>\n",
       "      <td>...</td>\n",
       "      <td>...</td>\n",
       "      <td>...</td>\n",
       "      <td>...</td>\n",
       "      <td>...</td>\n",
       "      <td>...</td>\n",
       "      <td>...</td>\n",
       "      <td>...</td>\n",
       "      <td>...</td>\n",
       "      <td>...</td>\n",
       "    </tr>\n",
       "    <tr>\n",
       "      <th>26239</th>\n",
       "      <td>Art Jimmerson</td>\n",
       "      <td>0 of 0</td>\n",
       "      <td>0%</td>\n",
       "      <td>0 of 0</td>\n",
       "      <td>0 of 0</td>\n",
       "      <td>0 of 0</td>\n",
       "      <td>0 of 0</td>\n",
       "      <td>0 of 0</td>\n",
       "      <td>0 of 0</td>\n",
       "      <td>1</td>\n",
       "      <td>http://www.ufcstats.com/fight-details/cecdc0da...</td>\n",
       "      <td>L</td>\n",
       "      <td>http://www.ufcstats.com/fighter-details/a5c53b...</td>\n",
       "      <td>a5c53b3ddb31cc7d</td>\n",
       "      <td>cecdc0da584274b9</td>\n",
       "    </tr>\n",
       "    <tr>\n",
       "      <th>26240</th>\n",
       "      <td>Kevin Rosier</td>\n",
       "      <td>15 of 27</td>\n",
       "      <td>55%</td>\n",
       "      <td>12 of 23</td>\n",
       "      <td>3 of 4</td>\n",
       "      <td>0 of 0</td>\n",
       "      <td>4 of 10</td>\n",
       "      <td>4 of 9</td>\n",
       "      <td>7 of 8</td>\n",
       "      <td>1</td>\n",
       "      <td>http://www.ufcstats.com/fight-details/2d2bbc86...</td>\n",
       "      <td>W</td>\n",
       "      <td>http://www.ufcstats.com/fighter-details/598a58...</td>\n",
       "      <td>598a58db87b890ee</td>\n",
       "      <td>2d2bbc86e941e05c</td>\n",
       "    </tr>\n",
       "    <tr>\n",
       "      <th>26241</th>\n",
       "      <td>Zane Frazier</td>\n",
       "      <td>12 of 28</td>\n",
       "      <td>42%</td>\n",
       "      <td>7 of 19</td>\n",
       "      <td>3 of 6</td>\n",
       "      <td>2 of 3</td>\n",
       "      <td>0 of 7</td>\n",
       "      <td>10 of 19</td>\n",
       "      <td>2 of 2</td>\n",
       "      <td>1</td>\n",
       "      <td>http://www.ufcstats.com/fight-details/2d2bbc86...</td>\n",
       "      <td>L</td>\n",
       "      <td>http://www.ufcstats.com/fighter-details/d3711d...</td>\n",
       "      <td>d3711d3784b76255</td>\n",
       "      <td>2d2bbc86e941e05c</td>\n",
       "    </tr>\n",
       "    <tr>\n",
       "      <th>26242</th>\n",
       "      <td>Gerard Gordeau</td>\n",
       "      <td>3 of 5</td>\n",
       "      <td>60%</td>\n",
       "      <td>3 of 5</td>\n",
       "      <td>0 of 0</td>\n",
       "      <td>0 of 0</td>\n",
       "      <td>1 of 3</td>\n",
       "      <td>0 of 0</td>\n",
       "      <td>2 of 2</td>\n",
       "      <td>1</td>\n",
       "      <td>http://www.ufcstats.com/fight-details/567a09fd...</td>\n",
       "      <td>W</td>\n",
       "      <td>http://www.ufcstats.com/fighter-details/279093...</td>\n",
       "      <td>279093302a6f44b3</td>\n",
       "      <td>567a09fd200cfa05</td>\n",
       "    </tr>\n",
       "    <tr>\n",
       "      <th>26243</th>\n",
       "      <td>Teila Tuli</td>\n",
       "      <td>0 of 1</td>\n",
       "      <td>0%</td>\n",
       "      <td>0 of 1</td>\n",
       "      <td>0 of 0</td>\n",
       "      <td>0 of 0</td>\n",
       "      <td>0 of 1</td>\n",
       "      <td>0 of 0</td>\n",
       "      <td>0 of 0</td>\n",
       "      <td>1</td>\n",
       "      <td>http://www.ufcstats.com/fight-details/567a09fd...</td>\n",
       "      <td>L</td>\n",
       "      <td>http://www.ufcstats.com/fighter-details/96eff1...</td>\n",
       "      <td>96eff1a628adcc7f</td>\n",
       "      <td>567a09fd200cfa05</td>\n",
       "    </tr>\n",
       "  </tbody>\n",
       "</table>\n",
       "<p>26244 rows × 15 columns</p>\n",
       "</div>"
      ],
      "text/plain": [
       "                fighter    sig_str sig_str_prcnt      head     body      leg  \\\n",
       "0      Robert Whittaker   11 of 30           36%   4 of 22   1 of 2   6 of 6   \n",
       "1      Robert Whittaker   15 of 30           50%   7 of 22   1 of 1   7 of 7   \n",
       "2      Robert Whittaker   13 of 32           40%   8 of 26   0 of 1   5 of 5   \n",
       "3      Robert Whittaker   13 of 34           38%   7 of 26   1 of 2   5 of 6   \n",
       "4      Robert Whittaker   17 of 31           54%   6 of 20   4 of 4   7 of 7   \n",
       "...                 ...        ...           ...       ...      ...      ...   \n",
       "26239     Art Jimmerson     0 of 0            0%    0 of 0   0 of 0   0 of 0   \n",
       "26240      Kevin Rosier   15 of 27           55%  12 of 23   3 of 4   0 of 0   \n",
       "26241      Zane Frazier   12 of 28           42%   7 of 19   3 of 6   2 of 3   \n",
       "26242    Gerard Gordeau     3 of 5           60%    3 of 5   0 of 0   0 of 0   \n",
       "26243        Teila Tuli     0 of 1            0%    0 of 1   0 of 0   0 of 0   \n",
       "\n",
       "       distance     clinch   ground  round  \\\n",
       "0      10 of 29     1 of 1   0 of 0      1   \n",
       "1      10 of 23     0 of 0   5 of 7      2   \n",
       "2      11 of 30     2 of 2   0 of 0      3   \n",
       "3      12 of 31     1 of 3   0 of 0      4   \n",
       "4      14 of 26     3 of 5   0 of 0      5   \n",
       "...         ...        ...      ...    ...   \n",
       "26239    0 of 0     0 of 0   0 of 0      1   \n",
       "26240   4 of 10     4 of 9   7 of 8      1   \n",
       "26241    0 of 7   10 of 19   2 of 2      1   \n",
       "26242    1 of 3     0 of 0   2 of 2      1   \n",
       "26243    0 of 1     0 of 0   0 of 0      1   \n",
       "\n",
       "                                               bout_link outcome  \\\n",
       "0      http://www.ufcstats.com/fight-details/11f715fa...       W   \n",
       "1      http://www.ufcstats.com/fight-details/11f715fa...       W   \n",
       "2      http://www.ufcstats.com/fight-details/11f715fa...       W   \n",
       "3      http://www.ufcstats.com/fight-details/11f715fa...       W   \n",
       "4      http://www.ufcstats.com/fight-details/11f715fa...       W   \n",
       "...                                                  ...     ...   \n",
       "26239  http://www.ufcstats.com/fight-details/cecdc0da...       L   \n",
       "26240  http://www.ufcstats.com/fight-details/2d2bbc86...       W   \n",
       "26241  http://www.ufcstats.com/fight-details/2d2bbc86...       L   \n",
       "26242  http://www.ufcstats.com/fight-details/567a09fd...       W   \n",
       "26243  http://www.ufcstats.com/fight-details/567a09fd...       L   \n",
       "\n",
       "                                            fighter_link        fighter_id  \\\n",
       "0      http://www.ufcstats.com/fighter-details/e1147d...  e1147d3d2dabe1ce   \n",
       "1      http://www.ufcstats.com/fighter-details/e1147d...  e1147d3d2dabe1ce   \n",
       "2      http://www.ufcstats.com/fighter-details/e1147d...  e1147d3d2dabe1ce   \n",
       "3      http://www.ufcstats.com/fighter-details/e1147d...  e1147d3d2dabe1ce   \n",
       "4      http://www.ufcstats.com/fighter-details/e1147d...  e1147d3d2dabe1ce   \n",
       "...                                                  ...               ...   \n",
       "26239  http://www.ufcstats.com/fighter-details/a5c53b...  a5c53b3ddb31cc7d   \n",
       "26240  http://www.ufcstats.com/fighter-details/598a58...  598a58db87b890ee   \n",
       "26241  http://www.ufcstats.com/fighter-details/d3711d...  d3711d3784b76255   \n",
       "26242  http://www.ufcstats.com/fighter-details/279093...  279093302a6f44b3   \n",
       "26243  http://www.ufcstats.com/fighter-details/96eff1...  96eff1a628adcc7f   \n",
       "\n",
       "                bout_id  \n",
       "0      11f715fa5e825e51  \n",
       "1      11f715fa5e825e51  \n",
       "2      11f715fa5e825e51  \n",
       "3      11f715fa5e825e51  \n",
       "4      11f715fa5e825e51  \n",
       "...                 ...  \n",
       "26239  cecdc0da584274b9  \n",
       "26240  2d2bbc86e941e05c  \n",
       "26241  2d2bbc86e941e05c  \n",
       "26242  567a09fd200cfa05  \n",
       "26243  567a09fd200cfa05  \n",
       "\n",
       "[26244 rows x 15 columns]"
      ]
     },
     "execution_count": 17,
     "metadata": {},
     "output_type": "execute_result"
    }
   ],
   "source": [
    "strikes"
   ]
  },
  {
   "cell_type": "markdown",
   "metadata": {},
   "source": [
    "##### Convert round to string"
   ]
  },
  {
   "cell_type": "code",
   "execution_count": 18,
   "metadata": {},
   "outputs": [],
   "source": [
    "strikes['round'] = strikes['round'].map(str)\n",
    "general['round'] = general['round'].map(str)"
   ]
  },
  {
   "cell_type": "markdown",
   "metadata": {},
   "source": [
    "##### Create unique ID for each row"
   ]
  },
  {
   "cell_type": "code",
   "execution_count": 19,
   "metadata": {},
   "outputs": [],
   "source": [
    "strikes['round_id'] = strikes['bout_id'] + strikes['fighter_id'] + strikes['round']\n",
    "general['round_id'] = general['bout_id'] + general['fighter_id'] + general['round']"
   ]
  },
  {
   "cell_type": "markdown",
   "metadata": {},
   "source": [
    "##### Merge"
   ]
  },
  {
   "cell_type": "code",
   "execution_count": 20,
   "metadata": {},
   "outputs": [
    {
     "name": "stdout",
     "output_type": "stream",
     "text": [
      "<class 'pandas.core.frame.DataFrame'>\n",
      "Int64Index: 26364 entries, 0 to 26363\n",
      "Data columns (total 23 columns):\n",
      " #   Column         Non-Null Count  Dtype \n",
      "---  ------         --------------  ----- \n",
      " 0   fighter        26364 non-null  object\n",
      " 1   sig_str        26364 non-null  object\n",
      " 2   sig_str_prcnt  26364 non-null  object\n",
      " 3   head           26364 non-null  object\n",
      " 4   body           26364 non-null  object\n",
      " 5   leg            26364 non-null  object\n",
      " 6   distance       26364 non-null  object\n",
      " 7   clinch         26364 non-null  object\n",
      " 8   ground         26364 non-null  object\n",
      " 9   round          26364 non-null  object\n",
      " 10  bout_link      26364 non-null  object\n",
      " 11  outcome        26364 non-null  object\n",
      " 12  fighter_link   26364 non-null  object\n",
      " 13  fighter_id     26364 non-null  object\n",
      " 14  bout_id        26364 non-null  object\n",
      " 15  round_id       26364 non-null  object\n",
      " 16  kd             26364 non-null  int64 \n",
      " 17  total_str      26364 non-null  object\n",
      " 18  td_count       26364 non-null  object\n",
      " 19  td_prcnt       26364 non-null  object\n",
      " 20  sub_att        26364 non-null  int64 \n",
      " 21  pass           26364 non-null  int64 \n",
      " 22  rev            26364 non-null  int64 \n",
      "dtypes: int64(4), object(19)\n",
      "memory usage: 4.8+ MB\n"
     ]
    }
   ],
   "source": [
    "rounds = pd.merge(strikes, general, copy=False)\n",
    "rounds.info()"
   ]
  },
  {
   "cell_type": "markdown",
   "metadata": {},
   "source": [
    "##### Reorganize columns"
   ]
  },
  {
   "cell_type": "code",
   "execution_count": 21,
   "metadata": {},
   "outputs": [
    {
     "data": {
      "text/plain": [
       "Index(['fighter', 'sig_str', 'sig_str_prcnt', 'head', 'body', 'leg',\n",
       "       'distance', 'clinch', 'ground', 'round', 'bout_link', 'outcome',\n",
       "       'fighter_link', 'fighter_id', 'bout_id', 'round_id', 'kd', 'total_str',\n",
       "       'td_count', 'td_prcnt', 'sub_att', 'pass', 'rev'],\n",
       "      dtype='object')"
      ]
     },
     "execution_count": 21,
     "metadata": {},
     "output_type": "execute_result"
    }
   ],
   "source": [
    "rounds.columns"
   ]
  },
  {
   "cell_type": "code",
   "execution_count": 22,
   "metadata": {},
   "outputs": [
    {
     "data": {
      "text/plain": [
       "Index(['fighter', 'sig_str', 'head', 'body', 'leg', 'distance', 'clinch',\n",
       "       'ground', 'kd', 'total_str', 'td_count', 'sub_att', 'pass', 'rev',\n",
       "       'outcome', 'bout_id', 'fighter_id', 'round'],\n",
       "      dtype='object')"
      ]
     },
     "execution_count": 22,
     "metadata": {},
     "output_type": "execute_result"
    }
   ],
   "source": [
    "rounds = rounds.loc[:, ['fighter', 'sig_str', 'head', 'body', 'leg', 'distance', \n",
    "                        'clinch', 'ground', 'kd', 'total_str','td_count', 'sub_att', \n",
    "                        'pass', 'rev', 'outcome', 'bout_id', 'fighter_id', 'round']]\n",
    "\n",
    "rounds.columns"
   ]
  },
  {
   "cell_type": "markdown",
   "metadata": {},
   "source": [
    "##### Abreviate column names"
   ]
  },
  {
   "cell_type": "code",
   "execution_count": 23,
   "metadata": {},
   "outputs": [],
   "source": [
    "rounds.columns = ['fighter', 'ss', 'h_ss', 'b_ss', 'l_ss', 'd_ss', \n",
    "                  'c_ss', 'g_ss', 'kd', 'ts', 'td', 'sba', 'ps', 'rev', \n",
    "                  'outcome', 'bout_id', 'fighter_id', 'round']"
   ]
  },
  {
   "cell_type": "code",
   "execution_count": 24,
   "metadata": {},
   "outputs": [],
   "source": [
    "rounds.drop_duplicates(inplace=True, ignore_index=True)"
   ]
  },
  {
   "cell_type": "markdown",
   "metadata": {},
   "source": [
    "##### parse values into attempts (_a suffix) and successes (_s suffix)"
   ]
  },
  {
   "cell_type": "code",
   "execution_count": 25,
   "metadata": {},
   "outputs": [],
   "source": [
    "to_be_formatted = ['ss', 'h_ss', 'b_ss', 'l_ss', 'd_ss',\n",
    "                   'c_ss', 'g_ss', 'ts', 'td']\n",
    "\n",
    "for column in to_be_formatted:\n",
    "    # Clear whitespace\n",
    "    rounds[column] = rounds[column].map(lambda x: x.strip())\n",
    "    rounds[column+'_s'] = rounds[column].map(functions.get_successful)\n",
    "    rounds[column+'_a'] = rounds[column].map(functions.get_attempts)"
   ]
  },
  {
   "cell_type": "code",
   "execution_count": 26,
   "metadata": {},
   "outputs": [
    {
     "name": "stdout",
     "output_type": "stream",
     "text": [
      "<class 'pandas.core.frame.DataFrame'>\n",
      "RangeIndex: 26214 entries, 0 to 26213\n",
      "Data columns (total 36 columns):\n",
      " #   Column      Non-Null Count  Dtype \n",
      "---  ------      --------------  ----- \n",
      " 0   fighter     26214 non-null  object\n",
      " 1   ss          26214 non-null  object\n",
      " 2   h_ss        26214 non-null  object\n",
      " 3   b_ss        26214 non-null  object\n",
      " 4   l_ss        26214 non-null  object\n",
      " 5   d_ss        26214 non-null  object\n",
      " 6   c_ss        26214 non-null  object\n",
      " 7   g_ss        26214 non-null  object\n",
      " 8   kd          26214 non-null  int64 \n",
      " 9   ts          26214 non-null  object\n",
      " 10  td          26214 non-null  object\n",
      " 11  sba         26214 non-null  int64 \n",
      " 12  ps          26214 non-null  int64 \n",
      " 13  rev         26214 non-null  int64 \n",
      " 14  outcome     26214 non-null  object\n",
      " 15  bout_id     26214 non-null  object\n",
      " 16  fighter_id  26214 non-null  object\n",
      " 17  round       26214 non-null  object\n",
      " 18  ss_s        26214 non-null  int64 \n",
      " 19  ss_a        26214 non-null  int64 \n",
      " 20  h_ss_s      26214 non-null  int64 \n",
      " 21  h_ss_a      26214 non-null  int64 \n",
      " 22  b_ss_s      26214 non-null  int64 \n",
      " 23  b_ss_a      26214 non-null  int64 \n",
      " 24  l_ss_s      26214 non-null  int64 \n",
      " 25  l_ss_a      26214 non-null  int64 \n",
      " 26  d_ss_s      26214 non-null  int64 \n",
      " 27  d_ss_a      26214 non-null  int64 \n",
      " 28  c_ss_s      26214 non-null  int64 \n",
      " 29  c_ss_a      26214 non-null  int64 \n",
      " 30  g_ss_s      26214 non-null  int64 \n",
      " 31  g_ss_a      26214 non-null  int64 \n",
      " 32  ts_s        26214 non-null  int64 \n",
      " 33  ts_a        26214 non-null  int64 \n",
      " 34  td_s        26214 non-null  int64 \n",
      " 35  td_a        26214 non-null  int64 \n",
      "dtypes: int64(22), object(14)\n",
      "memory usage: 7.2+ MB\n"
     ]
    }
   ],
   "source": [
    "rounds.info()"
   ]
  },
  {
   "cell_type": "markdown",
   "metadata": {},
   "source": [
    "##### Reformat columns to remove old rows"
   ]
  },
  {
   "cell_type": "code",
   "execution_count": 27,
   "metadata": {},
   "outputs": [],
   "source": [
    "rounds = rounds.loc[:,['fighter', 'kd', 'sba', 'ps', 'rev', \n",
    "              'ss_s', 'ss_a', 'h_ss_s', 'h_ss_a', \n",
    "              'b_ss_s', 'b_ss_a', 'l_ss_s', 'l_ss_a', \n",
    "              'd_ss_s', 'd_ss_a', 'c_ss_s', 'c_ss_a', \n",
    "              'g_ss_s', 'g_ss_a', 'ts_s', 'ts_a', \n",
    "              'td_s', 'td_a', 'outcome', 'bout_id', \n",
    "              'fighter_id', 'round', ]]"
   ]
  },
  {
   "cell_type": "markdown",
   "metadata": {},
   "source": [
    "#### Send to sql"
   ]
  },
  {
   "cell_type": "code",
   "execution_count": 28,
   "metadata": {},
   "outputs": [],
   "source": [
    "rounds.to_sql('rounds', engine, index=False, if_exists='replace')"
   ]
  },
  {
   "cell_type": "markdown",
   "metadata": {},
   "source": [
    "### Advanced Statistics tables"
   ]
  },
  {
   "cell_type": "markdown",
   "metadata": {},
   "source": [
    "Read from csv"
   ]
  },
  {
   "cell_type": "code",
   "execution_count": 29,
   "metadata": {},
   "outputs": [],
   "source": [
    "body_ss_stats = pd.read_csv('../../data/ufcstats_data/advanced_stats/body_ss_stats.csv')\n",
    "head_ss_stats = pd.read_csv('../../data/ufcstats_data/advanced_stats/head_ss_stats.csv')\n",
    "leg_ss_stats = pd.read_csv('../../data/ufcstats_data/advanced_stats/leg_ss_stats.csv')\n",
    "distance_ss_stats = pd.read_csv('../../data/ufcstats_data/advanced_stats/distance_ss_stats.csv')\n",
    "clinch_ss_stats = pd.read_csv('../../data/ufcstats_data/advanced_stats/clinch_ss_stats.csv')\n",
    "ground_ss_stats = pd.read_csv('../../data/ufcstats_data/advanced_stats/ground_ss_stats.csv')\n",
    "sig_str_stats = pd.read_csv('../../data/ufcstats_data/advanced_stats/sig_str_stats.csv')\n",
    "grappling_stats = pd.read_csv('../../data/ufcstats_data/advanced_stats/grappling_stats.csv')\n",
    "takedown_stats = pd.read_csv('../../data/ufcstats_data/advanced_stats/takedown_stats.csv')\n",
    "total_strikes_stats = pd.read_csv('../../data/ufcstats_data/advanced_stats/total_strike_stats.csv')\n",
    "knockdown_stats = pd.read_csv('../../data/ufcstats_data/advanced_stats/knockdown_stats.csv')"
   ]
  },
  {
   "cell_type": "markdown",
   "metadata": {},
   "source": [
    "Send to SQL"
   ]
  },
  {
   "cell_type": "code",
   "execution_count": 30,
   "metadata": {},
   "outputs": [],
   "source": [
    "body_ss_stats.to_sql('body_ss_stats', engine, index=False, if_exists='replace')\n",
    "head_ss_stats.to_sql('head_ss_stats', engine, index=False, if_exists='replace')\n",
    "leg_ss_stats.to_sql('leg_ss_stats', engine, index=False, if_exists='replace')\n",
    "distance_ss_stats.to_sql('distance_ss_stats', engine, index=False, if_exists='replace')\n",
    "clinch_ss_stats.to_sql('clinch_ss_stats', engine, index=False, if_exists='replace')\n",
    "ground_ss_stats.to_sql('ground_ss_stats', engine, index=False, if_exists='replace')\n",
    "sig_str_stats.to_sql('sig_str_stats', engine, index=False, if_exists='replace')\n",
    "grappling_stats.to_sql('grappling_stats', engine, index=False, if_exists='replace')\n",
    "takedown_stats.to_sql('takedown_stats', engine, index=False, if_exists='replace')\n",
    "total_strikes_stats.to_sql('total_strike_stats', engine, index=False, if_exists='replace')\n",
    "knockdown_stats.to_sql('knockdown_stats', engine, index=False, if_exists='replace')"
   ]
  }
 ],
 "metadata": {
  "kernelspec": {
   "display_name": "Python 3",
   "language": "python",
   "name": "python3"
  },
  "language_info": {
   "codemirror_mode": {
    "name": "ipython",
    "version": 3
   },
   "file_extension": ".py",
   "mimetype": "text/x-python",
   "name": "python",
   "nbconvert_exporter": "python",
   "pygments_lexer": "ipython3",
   "version": "3.8.3"
  }
 },
 "nbformat": 4,
 "nbformat_minor": 4
}
