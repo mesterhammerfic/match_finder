{
 "cells": [
  {
   "cell_type": "markdown",
   "metadata": {},
   "source": [
    "This notebook is aimed at analyzing the career statistics of two of the UFC's most accomplished grapplers: Demian Maia and Khabib Nurmagomedov."
   ]
  },
  {
   "cell_type": "code",
   "execution_count": 1,
   "metadata": {},
   "outputs": [],
   "source": [
    "%load_ext autoreload\n",
    "%autoreload 2\n",
    "\n",
    "import os\n",
    "import sys\n",
    "module_path = os.path.abspath(os.path.join(os.pardir, os.pardir))\n",
    "if module_path not in sys.path:\n",
    "    sys.path.append(module_path)\n",
    "\n",
    "import pandas as pd\n",
    "from sqlalchemy import create_engine\n",
    "from src import local\n",
    "from src import functions\n",
    "import matplotlib.pyplot as plt\n",
    "import seaborn as sns\n",
    "from scipy.stats import ttest_ind"
   ]
  },
  {
   "cell_type": "markdown",
   "metadata": {},
   "source": [
    "### Grappling Stats import\n",
    "Here we import our grappling stats data, this has advanced statistics on reversals, submission attempts, and guard passes for every round in the UFC"
   ]
  },
  {
   "cell_type": "code",
   "execution_count": 2,
   "metadata": {},
   "outputs": [
    {
     "data": {
      "text/html": [
       "<div>\n",
       "<style scoped>\n",
       "    .dataframe tbody tr th:only-of-type {\n",
       "        vertical-align: middle;\n",
       "    }\n",
       "\n",
       "    .dataframe tbody tr th {\n",
       "        vertical-align: top;\n",
       "    }\n",
       "\n",
       "    .dataframe thead th {\n",
       "        text-align: right;\n",
       "    }\n",
       "</style>\n",
       "<table border=\"1\" class=\"dataframe\">\n",
       "  <thead>\n",
       "    <tr style=\"text-align: right;\">\n",
       "      <th></th>\n",
       "      <th>round</th>\n",
       "      <th>bout_link</th>\n",
       "      <th>fighter_link</th>\n",
       "      <th>sig_str_a_p1m</th>\n",
       "      <th>sig_str_s_p1m</th>\n",
       "      <th>sig_str_a_p15m</th>\n",
       "      <th>sig_str_s_p15m</th>\n",
       "      <th>sig_str_ac</th>\n",
       "      <th>sig_str_de</th>\n",
       "      <th>sig_str_s_pr_di</th>\n",
       "      <th>sig_str_a_pr_di</th>\n",
       "      <th>sig_str_s_p1m_di</th>\n",
       "      <th>sig_str_a_p1m_di</th>\n",
       "      <th>sig_str_s_p15m_di</th>\n",
       "      <th>sig_str_a_p15m_di</th>\n",
       "    </tr>\n",
       "  </thead>\n",
       "  <tbody>\n",
       "    <tr>\n",
       "      <th>0</th>\n",
       "      <td>1</td>\n",
       "      <td>http://www.ufcstats.com/fight-details/11f715fa...</td>\n",
       "      <td>http://www.ufcstats.com/fighter-details/e1147d...</td>\n",
       "      <td>6.000000</td>\n",
       "      <td>2.200000</td>\n",
       "      <td>90.000000</td>\n",
       "      <td>33.000000</td>\n",
       "      <td>0.366667</td>\n",
       "      <td>0.500000</td>\n",
       "      <td>-1</td>\n",
       "      <td>6</td>\n",
       "      <td>-0.200000</td>\n",
       "      <td>1.200000</td>\n",
       "      <td>-3.000000</td>\n",
       "      <td>18.000000</td>\n",
       "    </tr>\n",
       "    <tr>\n",
       "      <th>1</th>\n",
       "      <td>2</td>\n",
       "      <td>http://www.ufcstats.com/fight-details/11f715fa...</td>\n",
       "      <td>http://www.ufcstats.com/fighter-details/e1147d...</td>\n",
       "      <td>6.000000</td>\n",
       "      <td>3.000000</td>\n",
       "      <td>90.000000</td>\n",
       "      <td>45.000000</td>\n",
       "      <td>0.500000</td>\n",
       "      <td>0.750000</td>\n",
       "      <td>12</td>\n",
       "      <td>18</td>\n",
       "      <td>2.400000</td>\n",
       "      <td>3.600000</td>\n",
       "      <td>36.000000</td>\n",
       "      <td>54.000000</td>\n",
       "    </tr>\n",
       "    <tr>\n",
       "      <th>2</th>\n",
       "      <td>3</td>\n",
       "      <td>http://www.ufcstats.com/fight-details/11f715fa...</td>\n",
       "      <td>http://www.ufcstats.com/fighter-details/e1147d...</td>\n",
       "      <td>6.400000</td>\n",
       "      <td>2.600000</td>\n",
       "      <td>96.000000</td>\n",
       "      <td>39.000000</td>\n",
       "      <td>0.406250</td>\n",
       "      <td>0.714286</td>\n",
       "      <td>7</td>\n",
       "      <td>11</td>\n",
       "      <td>1.400000</td>\n",
       "      <td>2.200000</td>\n",
       "      <td>21.000000</td>\n",
       "      <td>33.000000</td>\n",
       "    </tr>\n",
       "    <tr>\n",
       "      <th>3</th>\n",
       "      <td>4</td>\n",
       "      <td>http://www.ufcstats.com/fight-details/11f715fa...</td>\n",
       "      <td>http://www.ufcstats.com/fighter-details/e1147d...</td>\n",
       "      <td>6.800000</td>\n",
       "      <td>2.600000</td>\n",
       "      <td>102.000000</td>\n",
       "      <td>39.000000</td>\n",
       "      <td>0.382353</td>\n",
       "      <td>0.578947</td>\n",
       "      <td>5</td>\n",
       "      <td>15</td>\n",
       "      <td>1.000000</td>\n",
       "      <td>3.000000</td>\n",
       "      <td>15.000000</td>\n",
       "      <td>45.000000</td>\n",
       "    </tr>\n",
       "    <tr>\n",
       "      <th>4</th>\n",
       "      <td>5</td>\n",
       "      <td>http://www.ufcstats.com/fight-details/11f715fa...</td>\n",
       "      <td>http://www.ufcstats.com/fighter-details/e1147d...</td>\n",
       "      <td>6.200000</td>\n",
       "      <td>3.400000</td>\n",
       "      <td>93.000000</td>\n",
       "      <td>51.000000</td>\n",
       "      <td>0.548387</td>\n",
       "      <td>0.478261</td>\n",
       "      <td>5</td>\n",
       "      <td>8</td>\n",
       "      <td>1.000000</td>\n",
       "      <td>1.600000</td>\n",
       "      <td>15.000000</td>\n",
       "      <td>24.000000</td>\n",
       "    </tr>\n",
       "    <tr>\n",
       "      <th>...</th>\n",
       "      <td>...</td>\n",
       "      <td>...</td>\n",
       "      <td>...</td>\n",
       "      <td>...</td>\n",
       "      <td>...</td>\n",
       "      <td>...</td>\n",
       "      <td>...</td>\n",
       "      <td>...</td>\n",
       "      <td>...</td>\n",
       "      <td>...</td>\n",
       "      <td>...</td>\n",
       "      <td>...</td>\n",
       "      <td>...</td>\n",
       "      <td>...</td>\n",
       "      <td>...</td>\n",
       "    </tr>\n",
       "    <tr>\n",
       "      <th>25767</th>\n",
       "      <td>1</td>\n",
       "      <td>http://www.ufcstats.com/fight-details/693e4a0b...</td>\n",
       "      <td>http://www.ufcstats.com/fighter-details/669a3c...</td>\n",
       "      <td>4.400000</td>\n",
       "      <td>2.200000</td>\n",
       "      <td>66.000000</td>\n",
       "      <td>33.000000</td>\n",
       "      <td>0.500000</td>\n",
       "      <td>0.575758</td>\n",
       "      <td>-3</td>\n",
       "      <td>-11</td>\n",
       "      <td>-0.600000</td>\n",
       "      <td>-2.200000</td>\n",
       "      <td>-9.000000</td>\n",
       "      <td>-33.000000</td>\n",
       "    </tr>\n",
       "    <tr>\n",
       "      <th>25768</th>\n",
       "      <td>2</td>\n",
       "      <td>http://www.ufcstats.com/fight-details/693e4a0b...</td>\n",
       "      <td>http://www.ufcstats.com/fighter-details/669a3c...</td>\n",
       "      <td>3.037975</td>\n",
       "      <td>0.000000</td>\n",
       "      <td>45.569620</td>\n",
       "      <td>0.000000</td>\n",
       "      <td>0.000000</td>\n",
       "      <td>0.461538</td>\n",
       "      <td>-7</td>\n",
       "      <td>-9</td>\n",
       "      <td>-5.316456</td>\n",
       "      <td>-6.835443</td>\n",
       "      <td>-79.746835</td>\n",
       "      <td>-102.531646</td>\n",
       "    </tr>\n",
       "    <tr>\n",
       "      <th>25769</th>\n",
       "      <td>1</td>\n",
       "      <td>http://www.ufcstats.com/fight-details/c6f85419...</td>\n",
       "      <td>http://www.ufcstats.com/fighter-details/a54a35...</td>\n",
       "      <td>7.017544</td>\n",
       "      <td>3.508772</td>\n",
       "      <td>105.263158</td>\n",
       "      <td>52.631579</td>\n",
       "      <td>0.500000</td>\n",
       "      <td>0.541667</td>\n",
       "      <td>-12</td>\n",
       "      <td>-28</td>\n",
       "      <td>-4.210526</td>\n",
       "      <td>-9.824561</td>\n",
       "      <td>-63.157895</td>\n",
       "      <td>-147.368421</td>\n",
       "    </tr>\n",
       "    <tr>\n",
       "      <th>25770</th>\n",
       "      <td>1</td>\n",
       "      <td>http://www.ufcstats.com/fight-details/1db8bed8...</td>\n",
       "      <td>http://www.ufcstats.com/fighter-details/911fb2...</td>\n",
       "      <td>2.600000</td>\n",
       "      <td>1.800000</td>\n",
       "      <td>39.000000</td>\n",
       "      <td>27.000000</td>\n",
       "      <td>0.692308</td>\n",
       "      <td>NaN</td>\n",
       "      <td>9</td>\n",
       "      <td>13</td>\n",
       "      <td>1.800000</td>\n",
       "      <td>2.600000</td>\n",
       "      <td>27.000000</td>\n",
       "      <td>39.000000</td>\n",
       "    </tr>\n",
       "    <tr>\n",
       "      <th>25771</th>\n",
       "      <td>2</td>\n",
       "      <td>http://www.ufcstats.com/fight-details/1db8bed8...</td>\n",
       "      <td>http://www.ufcstats.com/fighter-details/911fb2...</td>\n",
       "      <td>3.800000</td>\n",
       "      <td>3.200000</td>\n",
       "      <td>57.000000</td>\n",
       "      <td>48.000000</td>\n",
       "      <td>0.842105</td>\n",
       "      <td>NaN</td>\n",
       "      <td>16</td>\n",
       "      <td>19</td>\n",
       "      <td>3.200000</td>\n",
       "      <td>3.800000</td>\n",
       "      <td>48.000000</td>\n",
       "      <td>57.000000</td>\n",
       "    </tr>\n",
       "  </tbody>\n",
       "</table>\n",
       "<p>25772 rows × 15 columns</p>\n",
       "</div>"
      ],
      "text/plain": [
       "       round                                          bout_link  \\\n",
       "0          1  http://www.ufcstats.com/fight-details/11f715fa...   \n",
       "1          2  http://www.ufcstats.com/fight-details/11f715fa...   \n",
       "2          3  http://www.ufcstats.com/fight-details/11f715fa...   \n",
       "3          4  http://www.ufcstats.com/fight-details/11f715fa...   \n",
       "4          5  http://www.ufcstats.com/fight-details/11f715fa...   \n",
       "...      ...                                                ...   \n",
       "25767      1  http://www.ufcstats.com/fight-details/693e4a0b...   \n",
       "25768      2  http://www.ufcstats.com/fight-details/693e4a0b...   \n",
       "25769      1  http://www.ufcstats.com/fight-details/c6f85419...   \n",
       "25770      1  http://www.ufcstats.com/fight-details/1db8bed8...   \n",
       "25771      2  http://www.ufcstats.com/fight-details/1db8bed8...   \n",
       "\n",
       "                                            fighter_link  sig_str_a_p1m  \\\n",
       "0      http://www.ufcstats.com/fighter-details/e1147d...       6.000000   \n",
       "1      http://www.ufcstats.com/fighter-details/e1147d...       6.000000   \n",
       "2      http://www.ufcstats.com/fighter-details/e1147d...       6.400000   \n",
       "3      http://www.ufcstats.com/fighter-details/e1147d...       6.800000   \n",
       "4      http://www.ufcstats.com/fighter-details/e1147d...       6.200000   \n",
       "...                                                  ...            ...   \n",
       "25767  http://www.ufcstats.com/fighter-details/669a3c...       4.400000   \n",
       "25768  http://www.ufcstats.com/fighter-details/669a3c...       3.037975   \n",
       "25769  http://www.ufcstats.com/fighter-details/a54a35...       7.017544   \n",
       "25770  http://www.ufcstats.com/fighter-details/911fb2...       2.600000   \n",
       "25771  http://www.ufcstats.com/fighter-details/911fb2...       3.800000   \n",
       "\n",
       "       sig_str_s_p1m  sig_str_a_p15m  sig_str_s_p15m  sig_str_ac  sig_str_de  \\\n",
       "0           2.200000       90.000000       33.000000    0.366667    0.500000   \n",
       "1           3.000000       90.000000       45.000000    0.500000    0.750000   \n",
       "2           2.600000       96.000000       39.000000    0.406250    0.714286   \n",
       "3           2.600000      102.000000       39.000000    0.382353    0.578947   \n",
       "4           3.400000       93.000000       51.000000    0.548387    0.478261   \n",
       "...              ...             ...             ...         ...         ...   \n",
       "25767       2.200000       66.000000       33.000000    0.500000    0.575758   \n",
       "25768       0.000000       45.569620        0.000000    0.000000    0.461538   \n",
       "25769       3.508772      105.263158       52.631579    0.500000    0.541667   \n",
       "25770       1.800000       39.000000       27.000000    0.692308         NaN   \n",
       "25771       3.200000       57.000000       48.000000    0.842105         NaN   \n",
       "\n",
       "       sig_str_s_pr_di  sig_str_a_pr_di  sig_str_s_p1m_di  sig_str_a_p1m_di  \\\n",
       "0                   -1                6         -0.200000          1.200000   \n",
       "1                   12               18          2.400000          3.600000   \n",
       "2                    7               11          1.400000          2.200000   \n",
       "3                    5               15          1.000000          3.000000   \n",
       "4                    5                8          1.000000          1.600000   \n",
       "...                ...              ...               ...               ...   \n",
       "25767               -3              -11         -0.600000         -2.200000   \n",
       "25768               -7               -9         -5.316456         -6.835443   \n",
       "25769              -12              -28         -4.210526         -9.824561   \n",
       "25770                9               13          1.800000          2.600000   \n",
       "25771               16               19          3.200000          3.800000   \n",
       "\n",
       "       sig_str_s_p15m_di  sig_str_a_p15m_di  \n",
       "0              -3.000000          18.000000  \n",
       "1              36.000000          54.000000  \n",
       "2              21.000000          33.000000  \n",
       "3              15.000000          45.000000  \n",
       "4              15.000000          24.000000  \n",
       "...                  ...                ...  \n",
       "25767          -9.000000         -33.000000  \n",
       "25768         -79.746835        -102.531646  \n",
       "25769         -63.157895        -147.368421  \n",
       "25770          27.000000          39.000000  \n",
       "25771          48.000000          57.000000  \n",
       "\n",
       "[25772 rows x 15 columns]"
      ]
     },
     "execution_count": 2,
     "metadata": {},
     "output_type": "execute_result"
    }
   ],
   "source": [
    "strikes = pd.read_csv('../../data/ufcstats_data/sig_str_stats.csv')\n",
    "strikes"
   ]
  },
  {
   "cell_type": "code",
   "execution_count": 3,
   "metadata": {},
   "outputs": [],
   "source": [
    "# Credentials\n",
    "USER = local.user \n",
    "PASS = local.password\n",
    "HOST = local.host\n",
    "PORT = local.port\n",
    "\n",
    "#create engine\n",
    "engine = create_engine(f'postgresql://{USER}:{PASS}@{HOST}:{PORT}/match_finder')"
   ]
  },
  {
   "cell_type": "code",
   "execution_count": 4,
   "metadata": {},
   "outputs": [],
   "source": [
    "query = \"\"\"\n",
    "SELECT name, link\n",
    "FROM fighters\n",
    "\"\"\"\n",
    "\n",
    "fighters = pd.read_sql(query, engine)"
   ]
  },
  {
   "cell_type": "code",
   "execution_count": 5,
   "metadata": {},
   "outputs": [
    {
     "data": {
      "text/html": [
       "<div>\n",
       "<style scoped>\n",
       "    .dataframe tbody tr th:only-of-type {\n",
       "        vertical-align: middle;\n",
       "    }\n",
       "\n",
       "    .dataframe tbody tr th {\n",
       "        vertical-align: top;\n",
       "    }\n",
       "\n",
       "    .dataframe thead th {\n",
       "        text-align: right;\n",
       "    }\n",
       "</style>\n",
       "<table border=\"1\" class=\"dataframe\">\n",
       "  <thead>\n",
       "    <tr style=\"text-align: right;\">\n",
       "      <th></th>\n",
       "      <th>name</th>\n",
       "      <th>link</th>\n",
       "    </tr>\n",
       "  </thead>\n",
       "  <tbody>\n",
       "    <tr>\n",
       "      <th>0</th>\n",
       "      <td>Fabiano Scherner</td>\n",
       "      <td>http://www.ufcstats.com/fighter-details/0bc7e6...</td>\n",
       "    </tr>\n",
       "    <tr>\n",
       "      <th>1</th>\n",
       "      <td>Alexandre Dantas</td>\n",
       "      <td>http://www.ufcstats.com/fighter-details/8dc46e...</td>\n",
       "    </tr>\n",
       "    <tr>\n",
       "      <th>2</th>\n",
       "      <td>Kevin Burns</td>\n",
       "      <td>http://www.ufcstats.com/fighter-details/a6d8bf...</td>\n",
       "    </tr>\n",
       "    <tr>\n",
       "      <th>3</th>\n",
       "      <td>Joseph Sandoval</td>\n",
       "      <td>http://www.ufcstats.com/fighter-details/696002...</td>\n",
       "    </tr>\n",
       "    <tr>\n",
       "      <th>4</th>\n",
       "      <td>Jose Aldo</td>\n",
       "      <td>http://www.ufcstats.com/fighter-details/d0f395...</td>\n",
       "    </tr>\n",
       "  </tbody>\n",
       "</table>\n",
       "</div>"
      ],
      "text/plain": [
       "               name                                               link\n",
       "0  Fabiano Scherner  http://www.ufcstats.com/fighter-details/0bc7e6...\n",
       "1  Alexandre Dantas  http://www.ufcstats.com/fighter-details/8dc46e...\n",
       "2       Kevin Burns  http://www.ufcstats.com/fighter-details/a6d8bf...\n",
       "3   Joseph Sandoval  http://www.ufcstats.com/fighter-details/696002...\n",
       "4         Jose Aldo  http://www.ufcstats.com/fighter-details/d0f395..."
      ]
     },
     "execution_count": 5,
     "metadata": {},
     "output_type": "execute_result"
    }
   ],
   "source": [
    "fighters.head()"
   ]
  },
  {
   "cell_type": "code",
   "execution_count": 6,
   "metadata": {},
   "outputs": [],
   "source": [
    "query = \"\"\"\n",
    "SELECT \"Date\" as date, bouts.link\n",
    "FROM bouts\n",
    "JOIN events on events.link = bouts.event_link\n",
    "\"\"\"\n",
    "\n",
    "bouts = pd.read_sql(query, engine)"
   ]
  },
  {
   "cell_type": "code",
   "execution_count": 7,
   "metadata": {},
   "outputs": [
    {
     "data": {
      "text/html": [
       "<div>\n",
       "<style scoped>\n",
       "    .dataframe tbody tr th:only-of-type {\n",
       "        vertical-align: middle;\n",
       "    }\n",
       "\n",
       "    .dataframe tbody tr th {\n",
       "        vertical-align: top;\n",
       "    }\n",
       "\n",
       "    .dataframe thead th {\n",
       "        text-align: right;\n",
       "    }\n",
       "</style>\n",
       "<table border=\"1\" class=\"dataframe\">\n",
       "  <thead>\n",
       "    <tr style=\"text-align: right;\">\n",
       "      <th></th>\n",
       "      <th>date</th>\n",
       "      <th>link</th>\n",
       "    </tr>\n",
       "  </thead>\n",
       "  <tbody>\n",
       "    <tr>\n",
       "      <th>0</th>\n",
       "      <td>July 25, 2020</td>\n",
       "      <td>http://www.ufcstats.com/fight-details/11f715fa...</td>\n",
       "    </tr>\n",
       "    <tr>\n",
       "      <th>1</th>\n",
       "      <td>July 25, 2020</td>\n",
       "      <td>http://www.ufcstats.com/fight-details/11f715fa...</td>\n",
       "    </tr>\n",
       "    <tr>\n",
       "      <th>2</th>\n",
       "      <td>July 25, 2020</td>\n",
       "      <td>http://www.ufcstats.com/fight-details/11f715fa...</td>\n",
       "    </tr>\n",
       "    <tr>\n",
       "      <th>3</th>\n",
       "      <td>July 25, 2020</td>\n",
       "      <td>http://www.ufcstats.com/fight-details/11f715fa...</td>\n",
       "    </tr>\n",
       "    <tr>\n",
       "      <th>4</th>\n",
       "      <td>July 25, 2020</td>\n",
       "      <td>http://www.ufcstats.com/fight-details/11f715fa...</td>\n",
       "    </tr>\n",
       "  </tbody>\n",
       "</table>\n",
       "</div>"
      ],
      "text/plain": [
       "            date                                               link\n",
       "0  July 25, 2020  http://www.ufcstats.com/fight-details/11f715fa...\n",
       "1  July 25, 2020  http://www.ufcstats.com/fight-details/11f715fa...\n",
       "2  July 25, 2020  http://www.ufcstats.com/fight-details/11f715fa...\n",
       "3  July 25, 2020  http://www.ufcstats.com/fight-details/11f715fa...\n",
       "4  July 25, 2020  http://www.ufcstats.com/fight-details/11f715fa..."
      ]
     },
     "execution_count": 7,
     "metadata": {},
     "output_type": "execute_result"
    }
   ],
   "source": [
    "bouts.head()"
   ]
  },
  {
   "cell_type": "code",
   "execution_count": 8,
   "metadata": {},
   "outputs": [],
   "source": [
    "strikes = strikes.join(fighters.set_index('link'), on='fighter_link')"
   ]
  },
  {
   "cell_type": "code",
   "execution_count": 9,
   "metadata": {},
   "outputs": [],
   "source": [
    "strikes = strikes.join(bouts.set_index('link'), on='bout_link')"
   ]
  },
  {
   "cell_type": "markdown",
   "metadata": {},
   "source": [
    "we can easily get the career averages by grouping a column by the fighters name and getting the average for whatever stat we want. First we'll look at the the Takedown Successes Differential per 15 Minutes, which is denoted as td_s_p15m_di in our table. This is a measure of how many more takedowns a fighter landed than their opponent for each 15 minutes they've fought in the UFC."
   ]
  },
  {
   "cell_type": "code",
   "execution_count": 10,
   "metadata": {},
   "outputs": [
    {
     "data": {
      "text/plain": [
       "name\n",
       "Justin Jaynes         43.902439\n",
       "Khaos Williams        37.777778\n",
       "Nick Denis            35.678018\n",
       "Christian Aguilera    23.389831\n",
       "Todd Duffee           20.552749\n",
       "Julia Avila           19.736364\n",
       "Chan-Mi Jeon          19.666667\n",
       "Daniel Rodriguez      19.533272\n",
       "Lara Procopio         19.333333\n",
       "Karol Rosa            19.300000\n",
       "Mariya Agapova        19.259259\n",
       "Martin Bravo          18.751218\n",
       "Leslie Smith          18.645414\n",
       "Ronda Rousey          18.316534\n",
       "Gabe Green            18.200000\n",
       "Randy Costa           17.896296\n",
       "Juan Manuel Puig      17.517730\n",
       "Sean Woodson          16.910569\n",
       "Weili Zhang           16.833255\n",
       "Ryan Janes            16.831328\n",
       "Paulo Costa           16.801537\n",
       "Ariane Carnelossi     16.735632\n",
       "Marco Polo Reyes      16.691553\n",
       "Abdul-Kerim Edilov    16.492105\n",
       "Matt Van Buren        16.348711\n",
       "Ross Pointon          16.105471\n",
       "Vernon Ramos Ho       16.000000\n",
       "Sergei Pavlovich      15.979750\n",
       "Xiaonan Yan           15.946667\n",
       "Irene Aldana          15.873973\n",
       "Name: sig_str_a_p1m, dtype: float64"
      ]
     },
     "execution_count": 10,
     "metadata": {},
     "output_type": "execute_result"
    }
   ],
   "source": [
    "strikes.groupby('name').sig_str_a_p1m.mean().sort_values(ascending=False)[:30]"
   ]
  },
  {
   "cell_type": "markdown",
   "metadata": {},
   "source": [
    "It looks like we have a lot of fighters who haven't fought in the ufc very much which likely skewed their numbers pretty high. We'll filter it by fighters who have at least 3 fights in the UFC."
   ]
  },
  {
   "cell_type": "code",
   "execution_count": 11,
   "metadata": {},
   "outputs": [],
   "source": [
    "bouts_by_name = pd.DataFrame(strikes.groupby(['bout_link', 'fighter_link']).name.max())"
   ]
  },
  {
   "cell_type": "code",
   "execution_count": 12,
   "metadata": {},
   "outputs": [
    {
     "data": {
      "text/plain": [
       "name\n",
       "Aalon Cruz            1\n",
       "Aaron Brink           1\n",
       "Aaron Phillips        3\n",
       "Aaron Riley           9\n",
       "Aaron Rosa            3\n",
       "                     ..\n",
       "Zarah Fairn           2\n",
       "Zarrukh Adashev       1\n",
       "Zelim Imadaev         2\n",
       "Zhalgas Zhumagulov    1\n",
       "Zubaira Tukhugov      6\n",
       "Name: name, Length: 1918, dtype: int64"
      ]
     },
     "execution_count": 12,
     "metadata": {},
     "output_type": "execute_result"
    }
   ],
   "source": [
    "number_of_bouts = bouts_by_name.groupby('name').name.count()\n",
    "number_of_bouts"
   ]
  },
  {
   "cell_type": "markdown",
   "metadata": {},
   "source": [
    "Now that we have match counts for every fighter we will create a list of fighters with less than 3 bouts."
   ]
  },
  {
   "cell_type": "code",
   "execution_count": 13,
   "metadata": {},
   "outputs": [
    {
     "data": {
      "text/plain": [
       "675"
      ]
     },
     "execution_count": 13,
     "metadata": {},
     "output_type": "execute_result"
    }
   ],
   "source": [
    "inexperienced_fighters = list(number_of_bouts[number_of_bouts<3].index)\n",
    "len(inexperienced_fighters)"
   ]
  },
  {
   "cell_type": "code",
   "execution_count": 14,
   "metadata": {},
   "outputs": [],
   "source": [
    "mask = strikes.name.map(lambda x: functions.black_list_entry(x, inexperienced_fighters))\n",
    "strikes = strikes[mask]"
   ]
  },
  {
   "cell_type": "code",
   "execution_count": 15,
   "metadata": {},
   "outputs": [
    {
     "data": {
      "text/plain": [
       "name\n",
       "Todd Duffee         20.552749\n",
       "Martin Bravo        18.751218\n",
       "Leslie Smith        18.645414\n",
       "Ronda Rousey        18.316534\n",
       "Weili Zhang         16.833255\n",
       "Ryan Janes          16.831328\n",
       "Paulo Costa         16.801537\n",
       "Marco Polo Reyes    16.691553\n",
       "Sergei Pavlovich    15.979750\n",
       "Xiaonan Yan         15.946667\n",
       "Name: sig_str_a_p1m, dtype: float64"
      ]
     },
     "execution_count": 15,
     "metadata": {},
     "output_type": "execute_result"
    }
   ],
   "source": [
    "strikes.groupby('name').sig_str_a_p1m.mean().sort_values(ascending=False)[:10]"
   ]
  },
  {
   "cell_type": "code",
   "execution_count": 16,
   "metadata": {},
   "outputs": [
    {
     "data": {
      "image/png": "[encoded data removed]",
      "text/plain": [
       "<Figure size 1080x648 with 1 Axes>"
      ]
     },
     "metadata": {
      "needs_background": "light"
     },
     "output_type": "display_data"
    }
   ],
   "source": [
    "fig, ax = plt.subplots(1,1, figsize=(15, 9))\n",
    "sns.distplot(strikes.groupby('name').sig_str_a_p1m.mean(), ax=ax)\n",
    "plt.savefig('stat_dist.png')"
   ]
  },
  {
   "cell_type": "markdown",
   "metadata": {},
   "source": [
    "Now we see some more familiar names. We have Khabib at #13, but we also see Ronda Rousey at #5 and Curtis Blaydes at #6. These are all highly regarded grapplers and they are all in the top 15 for 15m takedown differential. But how do they compare to the rest of the UFC? Let's see how big our list is."
   ]
  },
  {
   "cell_type": "markdown",
   "metadata": {},
   "source": [
    "#### Average Takedowns\n",
    "But is a differential the best way to measure takedown ability? We could also look at the average number of successful takedowns per 15 minutes."
   ]
  },
  {
   "cell_type": "code",
   "execution_count": 20,
   "metadata": {},
   "outputs": [
    {
     "data": {
      "text/plain": [
       "name\n",
       "Todd Duffee          106.805038\n",
       "Mark Weir             83.785400\n",
       "Benji Radach          82.969792\n",
       "Edmen Shahbazyan      79.676244\n",
       "Kenan Song            78.775940\n",
       "Devonte Smith         74.812794\n",
       "Cristiane Justino     74.296909\n",
       "Sergei Pavlovich      71.681543\n",
       "Greg Hardy            66.454608\n",
       "Weili Zhang           65.178509\n",
       "Cain Velasquez        64.576199\n",
       "Chan Sung Jung        64.405173\n",
       "Sean O'Malley         59.604940\n",
       "Cory Sandhagen        59.356299\n",
       "Thiago Perpetuo       58.256922\n",
       "Ion Cutelaba          57.765334\n",
       "David Terrell         57.306576\n",
       "Lavar Johnson         55.612228\n",
       "Maycee Barber         55.151272\n",
       "Ryan Janes            55.137931\n",
       "Name: sig_str_s_p15m_di, dtype: float64"
      ]
     },
     "execution_count": 20,
     "metadata": {},
     "output_type": "execute_result"
    }
   ],
   "source": [
    "strikes.groupby('name').sig_str_s_p15m_di.mean().sort_values(ascending=False)[:20]"
   ]
  },
  {
   "cell_type": "code",
   "execution_count": 22,
   "metadata": {},
   "outputs": [
    {
     "data": {
      "text/plain": [
       "name\n",
       "Conor McGregor    44.976988\n",
       "Name: sig_str_s_p15m_di, dtype: float64"
      ]
     },
     "execution_count": 22,
     "metadata": {},
     "output_type": "execute_result"
    }
   ],
   "source": [
    "strikes[strikes['name']=='Conor McGregor'].groupby('name').sig_str_s_p15m_di.mean()"
   ]
  },
  {
   "cell_type": "code",
   "execution_count": 24,
   "metadata": {},
   "outputs": [
    {
     "data": {
      "text/plain": [
       "name\n",
       "Khabib Nurmagomedov    38.912196\n",
       "Name: sig_str_s_p15m_di, dtype: float64"
      ]
     },
     "execution_count": 24,
     "metadata": {},
     "output_type": "execute_result"
    }
   ],
   "source": [
    "strikes[strikes['name']=='Khabib Nurmagomedov'].groupby('name').sig_str_s_p15m_di.mean()"
   ]
  },
  {
   "cell_type": "code",
   "execution_count": 25,
   "metadata": {},
   "outputs": [
    {
     "data": {
      "text/plain": [
       "count    1243.000000\n",
       "mean       -2.871431\n",
       "std        26.982454\n",
       "min      -153.978947\n",
       "25%       -15.728749\n",
       "50%        -2.040810\n",
       "75%        12.700608\n",
       "max       106.805038\n",
       "Name: sig_str_s_p15m_di, dtype: float64"
      ]
     },
     "execution_count": 25,
     "metadata": {},
     "output_type": "execute_result"
    }
   ],
   "source": [
    "strikes.groupby('name').sig_str_s_p15m_di.mean().sort_values(ascending=False).describe()"
   ]
  },
  {
   "cell_type": "markdown",
   "metadata": {},
   "source": [
    "You see a lot of the same names but Khabib dropped 7 places down to 20th place. In order for Khabib to be higher on the average takedown top 20, he would have to successfully land more takedowns, regardless of whether or not his opponent landed takedowns on him. If his opponents had landed more takedowns on him, he would be lower on the differential list, but he would stay at the same place on the average takedowns list. It would be ideal to have a differential that is identical to your average, because this would mean that you never gave up a takedown. What would a column look like if the takedown average was subtracted from the differential?"
   ]
  },
  {
   "cell_type": "code",
   "execution_count": 66,
   "metadata": {},
   "outputs": [
    {
     "data": {
      "text/plain": [
       "<matplotlib.axes._subplots.AxesSubplot at 0x7f2c44305790>"
      ]
     },
     "execution_count": 66,
     "metadata": {},
     "output_type": "execute_result"
    },
    {
     "data": {
      "image/png": "[encoded data removed]",
      "text/plain": [
       "<Figure size 432x288 with 1 Axes>"
      ]
     },
     "metadata": {
      "needs_background": "light"
     },
     "output_type": "display_data"
    }
   ],
   "source": [
    "takedowns['dif_minus_av'] = takedowns.td_s_p15m_di - takedowns.td_s_p15m\n",
    "sns.distplot(takedowns.groupby('name').dif_minus_av.mean())"
   ]
  },
  {
   "cell_type": "code",
   "execution_count": 65,
   "metadata": {},
   "outputs": [
    {
     "data": {
      "text/plain": [
       "name\n",
       "Ben Alloway         -6.808143\n",
       "Jason Gonzalez      -6.670549\n",
       "Casey Kenney        -6.600000\n",
       "Sean Soriano        -6.397527\n",
       "Felipe Colares      -6.333333\n",
       "Francisco Trevino   -6.112782\n",
       "Rogerio Bontorin    -6.000000\n",
       "Rafael Cavalcante   -5.909091\n",
       "Jared Hamman        -5.900926\n",
       "Drew McFedries      -5.894528\n",
       "Garett Whiteley     -5.692308\n",
       "Aaron Phillips      -5.630034\n",
       "Ryan Jensen         -5.444704\n",
       "Adam Milstead       -5.281780\n",
       "James Irvin         -5.276480\n",
       "Name: dif_minus_av, dtype: float64"
      ]
     },
     "execution_count": 65,
     "metadata": {},
     "output_type": "execute_result"
    }
   ],
   "source": [
    "takedowns.groupby('name').dif_minus_av.mean().sort_values()[:15]"
   ]
  },
  {
   "cell_type": "markdown",
   "metadata": {},
   "source": [
    "This list doesn't have any familiar names, which is unsuprising, but if we look at the #2 spot, Jason Gonzalez, we'll notice that he fought Gregor Gilespie, our #7 ranked in takedown differential. \n",
    "\n",
    "This metric measures the number of takedowns that a fighter has given up and could be a good measurement of takedown defense."
   ]
  },
  {
   "cell_type": "markdown",
   "metadata": {},
   "source": [
    "### Submission attempts"
   ]
  },
  {
   "cell_type": "code",
   "execution_count": 75,
   "metadata": {},
   "outputs": [
    {
     "data": {
      "text/plain": [
       "name\n",
       "Ian Entwistle        19.497616\n",
       "Ronda Rousey          7.800269\n",
       "Sean McCorkle         7.407751\n",
       "Paul Sass             7.218045\n",
       "Rob Broughton         6.825243\n",
       "Teemu Packalen        6.750000\n",
       "Rousimar Palhares     6.291708\n",
       "Genki Sudo            5.374214\n",
       "TJ Waldburger         5.315116\n",
       "Renato Sobral         4.920935\n",
       "Patrick Williams      4.891304\n",
       "Manny Bermudez        4.841381\n",
       "Matt Arroyo           4.659574\n",
       "Fabiano Iha           4.604762\n",
       "Marcus Aurelio        4.446429\n",
       "Name: sub_att_p15m_di, dtype: float64"
      ]
     },
     "execution_count": 75,
     "metadata": {},
     "output_type": "execute_result"
    }
   ],
   "source": [
    "mask = grappling.name.map(lambda x: functions.black_list_entry(x, inexperienced_fighters))\n",
    "grappling = grappling[mask]\n",
    "\n",
    "grappling.groupby('name').sub_att_p15m_di.mean().sort_values(ascending=False)[:15]"
   ]
  },
  {
   "cell_type": "code",
   "execution_count": 78,
   "metadata": {},
   "outputs": [
    {
     "data": {
      "text/plain": [
       "name\n",
       "Gregor Gillespie       13.220946\n",
       "Tatiana Suarez         10.066494\n",
       "Teemu Packalen          9.250000\n",
       "Grant Dawson            8.779592\n",
       "Murilo Bustamante       8.506452\n",
       "Gillian Robertson       8.092862\n",
       "Denis Kang              7.751553\n",
       "Jake Rosholt            7.506276\n",
       "Ronda Rousey            6.498034\n",
       "Aspen Ladd              6.140637\n",
       "Edmen Shahbazyan        5.666667\n",
       "Claudio Silva           5.578009\n",
       "Khabib Nurmagomedov     5.429699\n",
       "Jimy Hettes             5.357632\n",
       "Misha Cirkunov          5.107617\n",
       "Name: pass_p15m_di, dtype: float64"
      ]
     },
     "execution_count": 78,
     "metadata": {},
     "output_type": "execute_result"
    }
   ],
   "source": [
    "grappling.groupby('name').pass_p15m_di.mean().sort_values(ascending=False)[:15]"
   ]
  },
  {
   "cell_type": "code",
   "execution_count": 80,
   "metadata": {},
   "outputs": [
    {
     "data": {
      "text/plain": [
       "name\n",
       "Ronda Rousey         19.869731\n",
       "Ian Entwistle        18.268107\n",
       "Teemu Packalen       15.000000\n",
       "Gregor Gillespie     14.348343\n",
       "Murilo Bustamante    11.777419\n",
       "Genki Sudo           10.224538\n",
       "Manny Bermudez       10.101642\n",
       "Grant Dawson         10.010204\n",
       "Gillian Robertson     9.435001\n",
       "Tatiana Suarez        9.286136\n",
       "Rousimar Palhares     8.947319\n",
       "Misha Cirkunov        8.585120\n",
       "TJ Waldburger         7.997151\n",
       "Edmen Shahbazyan      7.750000\n",
       "Diego Ferreira        7.694718\n",
       "Joe Duffy             7.310531\n",
       "Denis Kang            7.285714\n",
       "Joe Lauzon            7.177872\n",
       "Livinha Souza         6.904762\n",
       "Claudio Silva         6.904596\n",
       "Name: combined_grappling_p15m_di, dtype: float64"
      ]
     },
     "execution_count": 80,
     "metadata": {},
     "output_type": "execute_result"
    }
   ],
   "source": [
    "grappling['combined_grappling_p15m_di'] = grappling['pass_p15m_di'] + grappling['sub_att_p15m_di'] + grappling['rev_p15m_di']\n",
    "grappling.groupby('name').combined_grappling_p15m_di.mean().sort_values(ascending=False)[:20]"
   ]
  },
  {
   "cell_type": "code",
   "execution_count": 84,
   "metadata": {},
   "outputs": [
    {
     "data": {
      "text/plain": [
       "name\n",
       "Demian Maia    1.045441\n",
       "Name: sub_att_p15m_di, dtype: float64"
      ]
     },
     "execution_count": 84,
     "metadata": {},
     "output_type": "execute_result"
    }
   ],
   "source": [
    "av_sub_att = grappling.groupby('name').sub_att_p15m_di.mean()\n",
    "\n",
    "av_sub_att[av_sub_att.index == 'Demian Maia']"
   ]
  },
  {
   "cell_type": "code",
   "execution_count": 86,
   "metadata": {},
   "outputs": [
    {
     "data": {
      "text/plain": [
       "name\n",
       "Demian Maia   -0.023621\n",
       "Name: rev_p15m_di, dtype: float64"
      ]
     },
     "execution_count": 86,
     "metadata": {},
     "output_type": "execute_result"
    }
   ],
   "source": [
    "av_rev = grappling.groupby('name').rev_p15m_di.mean()\n",
    "\n",
    "av_rev[av_rev.index == 'Demian Maia']"
   ]
  },
  {
   "cell_type": "code",
   "execution_count": 87,
   "metadata": {},
   "outputs": [
    {
     "data": {
      "text/plain": [
       "name\n",
       "Demian Maia    3.722007\n",
       "Name: pass_p15m_di, dtype: float64"
      ]
     },
     "execution_count": 87,
     "metadata": {},
     "output_type": "execute_result"
    }
   ],
   "source": [
    "av_pass = grappling.groupby('name').pass_p15m_di.mean()\n",
    "\n",
    "av_pass[av_pass.index == 'Demian Maia']"
   ]
  },
  {
   "cell_type": "code",
   "execution_count": null,
   "metadata": {},
   "outputs": [],
   "source": []
  }
 ],
 "metadata": {
  "kernelspec": {
   "display_name": "Python 3",
   "language": "python",
   "name": "python3"
  },
  "language_info": {
   "codemirror_mode": {
    "name": "ipython",
    "version": 3
   },
   "file_extension": ".py",
   "mimetype": "text/x-python",
   "name": "python",
   "nbconvert_exporter": "python",
   "pygments_lexer": "ipython3",
   "version": "3.8.3"
  }
 },
 "nbformat": 4,
 "nbformat_minor": 4
}
