{
 "cells": [
  {
   "cell_type": "markdown",
   "metadata": {},
   "source": [
    "# Purpose\n",
    "Analyze the distributions of our features and target as well as any correlations.\n",
    "\n",
    "Features:\n",
    "- Career Average Standing Significant Strike Attempts per 15 Minutes\n",
    "    - This metric includes all significant strikes except those on the ground\n",
    "- Career Average Takedown Attempts per 15 minutes\n",
    "    \n",
    "Target:\n",
    "- Combined Average Standing Significant Strike Attempts per 15 Minutes\n",
    "    - This is the sum of the per 15 minute rates of both fighters in the bout"
   ]
  },
  {
   "cell_type": "code",
   "execution_count": 1,
   "metadata": {},
   "outputs": [],
   "source": [
    "import pandas as pd\n",
    "import matplotlib.pyplot as plt\n",
    "import seaborn as sns\n",
    "from scipy.stats import ttest_ind"
   ]
  },
  {
   "cell_type": "code",
   "execution_count": 3,
   "metadata": {},
   "outputs": [
    {
     "data": {
      "text/html": [
       "<div>\n",
       "<style scoped>\n",
       "    .dataframe tbody tr th:only-of-type {\n",
       "        vertical-align: middle;\n",
       "    }\n",
       "\n",
       "    .dataframe tbody tr th {\n",
       "        vertical-align: top;\n",
       "    }\n",
       "\n",
       "    .dataframe thead th {\n",
       "        text-align: right;\n",
       "    }\n",
       "</style>\n",
       "<table border=\"1\" class=\"dataframe\">\n",
       "  <thead>\n",
       "    <tr style=\"text-align: right;\">\n",
       "      <th></th>\n",
       "      <th>date_0</th>\n",
       "      <th>bout_id</th>\n",
       "      <th>fighter_id_0</th>\n",
       "      <th>ca_s_ss_a_p15m_0</th>\n",
       "      <th>ca_td_a_p15m_0</th>\n",
       "      <th>fighter_id_1</th>\n",
       "      <th>ca_s_ss_a_p15m_1</th>\n",
       "      <th>ca_td_a_p15m_1</th>\n",
       "      <th>c_s_ss_a_p15m</th>\n",
       "    </tr>\n",
       "  </thead>\n",
       "  <tbody>\n",
       "    <tr>\n",
       "      <th>0</th>\n",
       "      <td>2006-07-08</td>\n",
       "      <td>000da3152b7b5ab1</td>\n",
       "      <td>d1a1314976c50bef</td>\n",
       "      <td>40.846154</td>\n",
       "      <td>2.587045</td>\n",
       "      <td>6da99156486ed6c2</td>\n",
       "      <td>77.963058</td>\n",
       "      <td>12.964286</td>\n",
       "      <td>108.000000</td>\n",
       "    </tr>\n",
       "    <tr>\n",
       "      <th>1</th>\n",
       "      <td>2015-03-14</td>\n",
       "      <td>0027e179b743c86c</td>\n",
       "      <td>91ea901c458e95dd</td>\n",
       "      <td>58.128358</td>\n",
       "      <td>3.300000</td>\n",
       "      <td>3aa794cbe1e3484b</td>\n",
       "      <td>56.000000</td>\n",
       "      <td>0.000000</td>\n",
       "      <td>67.375000</td>\n",
       "    </tr>\n",
       "    <tr>\n",
       "      <th>2</th>\n",
       "      <td>2014-12-13</td>\n",
       "      <td>002921976d27b7da</td>\n",
       "      <td>ebc1f40e00e0c481</td>\n",
       "      <td>110.627907</td>\n",
       "      <td>0.616720</td>\n",
       "      <td>b4ad3a06ee4d660c</td>\n",
       "      <td>80.736725</td>\n",
       "      <td>1.455984</td>\n",
       "      <td>35.573123</td>\n",
       "    </tr>\n",
       "    <tr>\n",
       "      <th>3</th>\n",
       "      <td>2014-05-24</td>\n",
       "      <td>002c1562708ac307</td>\n",
       "      <td>44470bfd9483c7ad</td>\n",
       "      <td>43.000000</td>\n",
       "      <td>4.000000</td>\n",
       "      <td>22a92d7f62195791</td>\n",
       "      <td>189.508547</td>\n",
       "      <td>1.948718</td>\n",
       "      <td>406.097561</td>\n",
       "    </tr>\n",
       "    <tr>\n",
       "      <th>4</th>\n",
       "      <td>2006-03-04</td>\n",
       "      <td>002cb1bb411c5f60</td>\n",
       "      <td>d897897060f10a3a</td>\n",
       "      <td>150.972124</td>\n",
       "      <td>0.850746</td>\n",
       "      <td>22e47b53e4ceb27c</td>\n",
       "      <td>48.074099</td>\n",
       "      <td>1.851064</td>\n",
       "      <td>174.000000</td>\n",
       "    </tr>\n",
       "  </tbody>\n",
       "</table>\n",
       "</div>"
      ],
      "text/plain": [
       "       date_0           bout_id      fighter_id_0  ca_s_ss_a_p15m_0  \\\n",
       "0  2006-07-08  000da3152b7b5ab1  d1a1314976c50bef         40.846154   \n",
       "1  2015-03-14  0027e179b743c86c  91ea901c458e95dd         58.128358   \n",
       "2  2014-12-13  002921976d27b7da  ebc1f40e00e0c481        110.627907   \n",
       "3  2014-05-24  002c1562708ac307  44470bfd9483c7ad         43.000000   \n",
       "4  2006-03-04  002cb1bb411c5f60  d897897060f10a3a        150.972124   \n",
       "\n",
       "   ca_td_a_p15m_0      fighter_id_1  ca_s_ss_a_p15m_1  ca_td_a_p15m_1  \\\n",
       "0        2.587045  6da99156486ed6c2         77.963058       12.964286   \n",
       "1        3.300000  3aa794cbe1e3484b         56.000000        0.000000   \n",
       "2        0.616720  b4ad3a06ee4d660c         80.736725        1.455984   \n",
       "3        4.000000  22a92d7f62195791        189.508547        1.948718   \n",
       "4        0.850746  22e47b53e4ceb27c         48.074099        1.851064   \n",
       "\n",
       "   c_s_ss_a_p15m  \n",
       "0     108.000000  \n",
       "1      67.375000  \n",
       "2      35.573123  \n",
       "3     406.097561  \n",
       "4     174.000000  "
      ]
     },
     "execution_count": 3,
     "metadata": {},
     "output_type": "execute_result"
    }
   ],
   "source": [
    "data = pd.read_csv('../../data/modelling_data/model_2_data.csv', index_col=0)\n",
    "data.head()"
   ]
  },
  {
   "cell_type": "markdown",
   "metadata": {},
   "source": [
    "## Career Average Takedown Attempts per 15 Minutes"
   ]
  },
  {
   "cell_type": "code",
   "execution_count": 4,
   "metadata": {},
   "outputs": [
    {
     "data": {
      "text/plain": [
       "count    3971.000000\n",
       "mean        4.444201\n",
       "std         3.884238\n",
       "min         0.000000\n",
       "25%         1.500000\n",
       "50%         3.576923\n",
       "75%         6.472534\n",
       "max        34.615385\n",
       "Name: ca_td_a_p15m_0, dtype: float64"
      ]
     },
     "execution_count": 4,
     "metadata": {},
     "output_type": "execute_result"
    }
   ],
   "source": [
    "data.ca_td_a_p15m_0.describe()"
   ]
  },
  {
   "cell_type": "code",
   "execution_count": 5,
   "metadata": {},
   "outputs": [
    {
     "data": {
      "text/plain": [
       "count    3971.000000\n",
       "mean        4.372789\n",
       "std         3.962695\n",
       "min         0.000000\n",
       "25%         1.456737\n",
       "50%         3.597305\n",
       "75%         6.474805\n",
       "max        62.068966\n",
       "Name: ca_td_a_p15m_1, dtype: float64"
      ]
     },
     "execution_count": 5,
     "metadata": {},
     "output_type": "execute_result"
    }
   ],
   "source": [
    "data.ca_td_a_p15m_1.describe()"
   ]
  },
  {
   "cell_type": "markdown",
   "metadata": {},
   "source": [
    "### Outliers\n",
    "Lets check out the top performing fighters in each row"
   ]
  },
  {
   "cell_type": "markdown",
   "metadata": {},
   "source": [
    "#### Fighter 0"
   ]
  },
  {
   "cell_type": "code",
   "execution_count": 6,
   "metadata": {},
   "outputs": [
    {
     "data": {
      "text/html": [
       "<div>\n",
       "<style scoped>\n",
       "    .dataframe tbody tr th:only-of-type {\n",
       "        vertical-align: middle;\n",
       "    }\n",
       "\n",
       "    .dataframe tbody tr th {\n",
       "        vertical-align: top;\n",
       "    }\n",
       "\n",
       "    .dataframe thead th {\n",
       "        text-align: right;\n",
       "    }\n",
       "</style>\n",
       "<table border=\"1\" class=\"dataframe\">\n",
       "  <thead>\n",
       "    <tr style=\"text-align: right;\">\n",
       "      <th></th>\n",
       "      <th>date_0</th>\n",
       "      <th>bout_id</th>\n",
       "      <th>fighter_id_0</th>\n",
       "      <th>ca_s_ss_a_p15m_0</th>\n",
       "      <th>ca_td_a_p15m_0</th>\n",
       "      <th>fighter_id_1</th>\n",
       "      <th>ca_s_ss_a_p15m_1</th>\n",
       "      <th>ca_td_a_p15m_1</th>\n",
       "      <th>c_s_ss_a_p15m</th>\n",
       "    </tr>\n",
       "  </thead>\n",
       "  <tbody>\n",
       "    <tr>\n",
       "      <th>3460</th>\n",
       "      <td>2014-09-20</td>\n",
       "      <td>de2dad48d95305d7</td>\n",
       "      <td>276c60b14b571dd4</td>\n",
       "      <td>0.000000</td>\n",
       "      <td>34.615385</td>\n",
       "      <td>203c957eac95dd87</td>\n",
       "      <td>188.599790</td>\n",
       "      <td>0.472689</td>\n",
       "      <td>103.846154</td>\n",
       "    </tr>\n",
       "    <tr>\n",
       "      <th>3514</th>\n",
       "      <td>2002-01-11</td>\n",
       "      <td>e1bc211f43378ee7</td>\n",
       "      <td>73c7cfa551289285</td>\n",
       "      <td>76.767677</td>\n",
       "      <td>31.144781</td>\n",
       "      <td>44260175069b6276</td>\n",
       "      <td>66.787785</td>\n",
       "      <td>0.810559</td>\n",
       "      <td>93.000000</td>\n",
       "    </tr>\n",
       "    <tr>\n",
       "      <th>2596</th>\n",
       "      <td>2009-04-01</td>\n",
       "      <td>a561360edf66ee6f</td>\n",
       "      <td>d35c3ed553b71fa2</td>\n",
       "      <td>93.103448</td>\n",
       "      <td>31.034483</td>\n",
       "      <td>054defd5420a551f</td>\n",
       "      <td>8.953926</td>\n",
       "      <td>7.063170</td>\n",
       "      <td>213.157895</td>\n",
       "    </tr>\n",
       "    <tr>\n",
       "      <th>1869</th>\n",
       "      <td>2008-10-18</td>\n",
       "      <td>757c11f17278b06a</td>\n",
       "      <td>58bc81376286b3d3</td>\n",
       "      <td>43.000000</td>\n",
       "      <td>30.000000</td>\n",
       "      <td>1208ffc5be6e31ad</td>\n",
       "      <td>77.647059</td>\n",
       "      <td>0.000000</td>\n",
       "      <td>77.214953</td>\n",
       "    </tr>\n",
       "    <tr>\n",
       "      <th>2896</th>\n",
       "      <td>2008-04-02</td>\n",
       "      <td>b89dea8c3e6bba6f</td>\n",
       "      <td>cc6f9d1e89f3449a</td>\n",
       "      <td>64.186813</td>\n",
       "      <td>27.890110</td>\n",
       "      <td>c9bbf1a0285a8076</td>\n",
       "      <td>32.142857</td>\n",
       "      <td>8.035714</td>\n",
       "      <td>71.287129</td>\n",
       "    </tr>\n",
       "  </tbody>\n",
       "</table>\n",
       "</div>"
      ],
      "text/plain": [
       "          date_0           bout_id      fighter_id_0  ca_s_ss_a_p15m_0  \\\n",
       "3460  2014-09-20  de2dad48d95305d7  276c60b14b571dd4          0.000000   \n",
       "3514  2002-01-11  e1bc211f43378ee7  73c7cfa551289285         76.767677   \n",
       "2596  2009-04-01  a561360edf66ee6f  d35c3ed553b71fa2         93.103448   \n",
       "1869  2008-10-18  757c11f17278b06a  58bc81376286b3d3         43.000000   \n",
       "2896  2008-04-02  b89dea8c3e6bba6f  cc6f9d1e89f3449a         64.186813   \n",
       "\n",
       "      ca_td_a_p15m_0      fighter_id_1  ca_s_ss_a_p15m_1  ca_td_a_p15m_1  \\\n",
       "3460       34.615385  203c957eac95dd87        188.599790        0.472689   \n",
       "3514       31.144781  44260175069b6276         66.787785        0.810559   \n",
       "2596       31.034483  054defd5420a551f          8.953926        7.063170   \n",
       "1869       30.000000  1208ffc5be6e31ad         77.647059        0.000000   \n",
       "2896       27.890110  c9bbf1a0285a8076         32.142857        8.035714   \n",
       "\n",
       "      c_s_ss_a_p15m  \n",
       "3460     103.846154  \n",
       "3514      93.000000  \n",
       "2596     213.157895  \n",
       "1869      77.214953  \n",
       "2896      71.287129  "
      ]
     },
     "execution_count": 6,
     "metadata": {},
     "output_type": "execute_result"
    }
   ],
   "source": [
    "data.sort_values('ca_td_a_p15m_0', ascending=False).head()"
   ]
  },
  {
   "cell_type": "markdown",
   "metadata": {},
   "source": [
    "If you add the fighter id to the end of this link 'http://www.ufcstats.com/fighter-details/', you can find out the names and records of each of these fighters.\n",
    "\n",
    "Let's look at the first row: figher 0 in the first row has a career sig strike att. per 15m of about 940 on 2012-05-05. The fighter is Nick Denis who only had one UFC fight prior to this which was a first round knockout."
   ]
  },
  {
   "cell_type": "markdown",
   "metadata": {},
   "source": [
    "#### Fighter 1"
   ]
  },
  {
   "cell_type": "code",
   "execution_count": 12,
   "metadata": {},
   "outputs": [
    {
     "data": {
      "text/html": [
       "<div>\n",
       "<style scoped>\n",
       "    .dataframe tbody tr th:only-of-type {\n",
       "        vertical-align: middle;\n",
       "    }\n",
       "\n",
       "    .dataframe tbody tr th {\n",
       "        vertical-align: top;\n",
       "    }\n",
       "\n",
       "    .dataframe thead th {\n",
       "        text-align: right;\n",
       "    }\n",
       "</style>\n",
       "<table border=\"1\" class=\"dataframe\">\n",
       "  <thead>\n",
       "    <tr style=\"text-align: right;\">\n",
       "      <th></th>\n",
       "      <th>date_0</th>\n",
       "      <th>bout_id</th>\n",
       "      <th>fighter_id_0</th>\n",
       "      <th>ca_s_ss_a_p15m_0</th>\n",
       "      <th>fighter_id_1</th>\n",
       "      <th>ca_s_ss_a_p15m_1</th>\n",
       "      <th>c_s_ss_a_p15m</th>\n",
       "    </tr>\n",
       "  </thead>\n",
       "  <tbody>\n",
       "    <tr>\n",
       "      <th>2796</th>\n",
       "      <td>2005-08-06</td>\n",
       "      <td>b2f604f2332cd8af</td>\n",
       "      <td>ea3ef6206c7907d5</td>\n",
       "      <td>66.000000</td>\n",
       "      <td>9fe85152f351e737</td>\n",
       "      <td>585.000000</td>\n",
       "      <td>368.181818</td>\n",
       "    </tr>\n",
       "    <tr>\n",
       "      <th>2086</th>\n",
       "      <td>2008-12-10</td>\n",
       "      <td>83406cd29d3c2d0f</td>\n",
       "      <td>cbf94e4c4af4ff6d</td>\n",
       "      <td>10.344828</td>\n",
       "      <td>89b8d1bf1ff09d1d</td>\n",
       "      <td>521.052632</td>\n",
       "      <td>279.000000</td>\n",
       "    </tr>\n",
       "    <tr>\n",
       "      <th>832</th>\n",
       "      <td>2003-02-28</td>\n",
       "      <td>334cd8572d9842cb</td>\n",
       "      <td>50cc91ce2982785d</td>\n",
       "      <td>24.632220</td>\n",
       "      <td>2a542ee8a8b83559</td>\n",
       "      <td>507.480583</td>\n",
       "      <td>133.333333</td>\n",
       "    </tr>\n",
       "    <tr>\n",
       "      <th>1217</th>\n",
       "      <td>2007-09-22</td>\n",
       "      <td>4a7d39ebc9dce5db</td>\n",
       "      <td>7d21de9c6d7c98b2</td>\n",
       "      <td>70.967591</td>\n",
       "      <td>365fee2da473b177</td>\n",
       "      <td>484.615385</td>\n",
       "      <td>91.621622</td>\n",
       "    </tr>\n",
       "    <tr>\n",
       "      <th>3481</th>\n",
       "      <td>2018-11-03</td>\n",
       "      <td>df9aa51f6ccdfe02</td>\n",
       "      <td>f9b200db02b488d9</td>\n",
       "      <td>179.538732</td>\n",
       "      <td>dccb63727f2f5f74</td>\n",
       "      <td>450.000000</td>\n",
       "      <td>337.000000</td>\n",
       "    </tr>\n",
       "  </tbody>\n",
       "</table>\n",
       "</div>"
      ],
      "text/plain": [
       "          date_0           bout_id      fighter_id_0  ca_s_ss_a_p15m_0  \\\n",
       "2796  2005-08-06  b2f604f2332cd8af  ea3ef6206c7907d5         66.000000   \n",
       "2086  2008-12-10  83406cd29d3c2d0f  cbf94e4c4af4ff6d         10.344828   \n",
       "832   2003-02-28  334cd8572d9842cb  50cc91ce2982785d         24.632220   \n",
       "1217  2007-09-22  4a7d39ebc9dce5db  7d21de9c6d7c98b2         70.967591   \n",
       "3481  2018-11-03  df9aa51f6ccdfe02  f9b200db02b488d9        179.538732   \n",
       "\n",
       "          fighter_id_1  ca_s_ss_a_p15m_1  c_s_ss_a_p15m  \n",
       "2796  9fe85152f351e737        585.000000     368.181818  \n",
       "2086  89b8d1bf1ff09d1d        521.052632     279.000000  \n",
       "832   2a542ee8a8b83559        507.480583     133.333333  \n",
       "1217  365fee2da473b177        484.615385      91.621622  \n",
       "3481  dccb63727f2f5f74        450.000000     337.000000  "
      ]
     },
     "execution_count": 12,
     "metadata": {},
     "output_type": "execute_result"
    }
   ],
   "source": [
    "data.sort_values('ca_s_ss_a_p15m_1', ascending=False).head()"
   ]
  },
  {
   "cell_type": "markdown",
   "metadata": {},
   "source": [
    "Figher 1 in the first row has a career sig strike att. per 15m of 585 on 2005-08-06. The fighter is Mike Swick who only had one UFC fight prior to this which was a first round knockout."
   ]
  },
  {
   "cell_type": "markdown",
   "metadata": {},
   "source": [
    "### Correlation"
   ]
  },
  {
   "cell_type": "code",
   "execution_count": 14,
   "metadata": {},
   "outputs": [
    {
     "data": {
      "text/html": [
       "<div>\n",
       "<style scoped>\n",
       "    .dataframe tbody tr th:only-of-type {\n",
       "        vertical-align: middle;\n",
       "    }\n",
       "\n",
       "    .dataframe tbody tr th {\n",
       "        vertical-align: top;\n",
       "    }\n",
       "\n",
       "    .dataframe thead th {\n",
       "        text-align: right;\n",
       "    }\n",
       "</style>\n",
       "<table border=\"1\" class=\"dataframe\">\n",
       "  <thead>\n",
       "    <tr style=\"text-align: right;\">\n",
       "      <th></th>\n",
       "      <th>ca_s_ss_a_p15m_0</th>\n",
       "      <th>ca_s_ss_a_p15m_1</th>\n",
       "      <th>c_s_ss_a_p15m</th>\n",
       "    </tr>\n",
       "  </thead>\n",
       "  <tbody>\n",
       "    <tr>\n",
       "      <th>ca_s_ss_a_p15m_0</th>\n",
       "      <td>1.000000</td>\n",
       "      <td>0.142098</td>\n",
       "      <td>0.302473</td>\n",
       "    </tr>\n",
       "    <tr>\n",
       "      <th>ca_s_ss_a_p15m_1</th>\n",
       "      <td>0.142098</td>\n",
       "      <td>1.000000</td>\n",
       "      <td>0.243444</td>\n",
       "    </tr>\n",
       "    <tr>\n",
       "      <th>c_s_ss_a_p15m</th>\n",
       "      <td>0.302473</td>\n",
       "      <td>0.243444</td>\n",
       "      <td>1.000000</td>\n",
       "    </tr>\n",
       "  </tbody>\n",
       "</table>\n",
       "</div>"
      ],
      "text/plain": [
       "                  ca_s_ss_a_p15m_0  ca_s_ss_a_p15m_1  c_s_ss_a_p15m\n",
       "ca_s_ss_a_p15m_0          1.000000          0.142098       0.302473\n",
       "ca_s_ss_a_p15m_1          0.142098          1.000000       0.243444\n",
       "c_s_ss_a_p15m             0.302473          0.243444       1.000000"
      ]
     },
     "execution_count": 14,
     "metadata": {},
     "output_type": "execute_result"
    }
   ],
   "source": [
    "data.corr()"
   ]
  },
  {
   "cell_type": "markdown",
   "metadata": {},
   "source": [
    "The correlations between the target and fighter 0 is higher than the correlation between the target and fighter 1. This is unexpected because the ordering of the ordering of the fighters was random."
   ]
  },
  {
   "cell_type": "markdown",
   "metadata": {},
   "source": [
    "# Conclusion\n",
    "### Standing Significant Strike Rate\n",
    "Measuring strike attempts per 15 minutes can be used as a measure of how much striking occurs in a fight. First round knockouts create some outliers that seem unrealistic because they are often the result of an extemely high rate of striking activity that is unsustainable. Therefore, Career Average Significant Strike Attempts per 15 Minutes cannot measure a fighters ability to sustain that rate. \n",
    "\n",
    "\n",
    "### Correlations\n",
    "The career averages for fighter 0 have a pearson correlation coefficient of .3, while fighter 1 has .24. Ideally, we would see the almost exactly the same correlation between each fighter, because their order shouldn't matter.\n",
    "\n",
    "This could be due to random chance but it may warrant some preprocessing that will randomize which order the fighters are listed.\n"
   ]
  },
  {
   "cell_type": "code",
   "execution_count": null,
   "metadata": {},
   "outputs": [],
   "source": []
  }
 ],
 "metadata": {
  "kernelspec": {
   "display_name": "Python 3",
   "language": "python",
   "name": "python3"
  },
  "language_info": {
   "codemirror_mode": {
    "name": "ipython",
    "version": 3
   },
   "file_extension": ".py",
   "mimetype": "text/x-python",
   "name": "python",
   "nbconvert_exporter": "python",
   "pygments_lexer": "ipython3",
   "version": "3.8.3"
  }
 },
 "nbformat": 4,
 "nbformat_minor": 4
}
