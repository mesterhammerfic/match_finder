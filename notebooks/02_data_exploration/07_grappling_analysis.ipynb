{
 "cells": [
  {
   "cell_type": "markdown",
   "metadata": {},
   "source": [
    "This notebook is aimed at analyzing the career statistics of two of the UFC's most accomplished grapplers: Demian Maia and Khabib Nurmagomedov."
   ]
  },
  {
   "cell_type": "code",
   "execution_count": 1,
   "metadata": {},
   "outputs": [],
   "source": [
    "%load_ext autoreload\n",
    "%autoreload 2\n",
    "\n",
    "import os\n",
    "import sys\n",
    "module_path = os.path.abspath(os.path.join(os.pardir, os.pardir))\n",
    "if module_path not in sys.path:\n",
    "    sys.path.append(module_path)\n",
    "\n",
    "import pandas as pd\n",
    "from sqlalchemy import create_engine\n",
    "from src import local\n",
    "from src import functions\n",
    "import matplotlib.pyplot as plt\n",
    "import seaborn as sns\n",
    "from scipy.stats import ttest_ind"
   ]
  },
  {
   "cell_type": "markdown",
   "metadata": {},
   "source": [
    "### Grappling Stats import\n",
    "Here we import our grappling stats data, this has advanced statistics on reversals, submission attempts, and guard passes for every round in the UFC"
   ]
  },
  {
   "cell_type": "code",
   "execution_count": 2,
   "metadata": {},
   "outputs": [
    {
     "data": {
      "text/html": [
       "<div>\n",
       "<style scoped>\n",
       "    .dataframe tbody tr th:only-of-type {\n",
       "        vertical-align: middle;\n",
       "    }\n",
       "\n",
       "    .dataframe tbody tr th {\n",
       "        vertical-align: top;\n",
       "    }\n",
       "\n",
       "    .dataframe thead th {\n",
       "        text-align: right;\n",
       "    }\n",
       "</style>\n",
       "<table border=\"1\" class=\"dataframe\">\n",
       "  <thead>\n",
       "    <tr style=\"text-align: right;\">\n",
       "      <th></th>\n",
       "      <th>round</th>\n",
       "      <th>bout_link</th>\n",
       "      <th>fighter_link</th>\n",
       "      <th>rev_p1m</th>\n",
       "      <th>rev_p15m</th>\n",
       "      <th>pass_p1m</th>\n",
       "      <th>pass_p15m</th>\n",
       "      <th>sub_att_p1m</th>\n",
       "      <th>sub_att_p15m</th>\n",
       "      <th>rev_pr_di</th>\n",
       "      <th>rev_p1m_di</th>\n",
       "      <th>rev_p15m_di</th>\n",
       "      <th>pass_pr_di</th>\n",
       "      <th>pass_p1m_di</th>\n",
       "      <th>pass_p15m_di</th>\n",
       "      <th>sub_att_pr_di</th>\n",
       "      <th>sub_att_p1m_di</th>\n",
       "      <th>sub_att_p15m_di</th>\n",
       "    </tr>\n",
       "  </thead>\n",
       "  <tbody>\n",
       "    <tr>\n",
       "      <th>0</th>\n",
       "      <td>1</td>\n",
       "      <td>http://www.ufcstats.com/fight-details/11f715fa...</td>\n",
       "      <td>http://www.ufcstats.com/fighter-details/e1147d...</td>\n",
       "      <td>0.0</td>\n",
       "      <td>0.0</td>\n",
       "      <td>0.0</td>\n",
       "      <td>0.0</td>\n",
       "      <td>0.0</td>\n",
       "      <td>0.0</td>\n",
       "      <td>0</td>\n",
       "      <td>0.0</td>\n",
       "      <td>0.0</td>\n",
       "      <td>0</td>\n",
       "      <td>0.0</td>\n",
       "      <td>0.0</td>\n",
       "      <td>0</td>\n",
       "      <td>0.0</td>\n",
       "      <td>0.0</td>\n",
       "    </tr>\n",
       "    <tr>\n",
       "      <th>1</th>\n",
       "      <td>2</td>\n",
       "      <td>http://www.ufcstats.com/fight-details/11f715fa...</td>\n",
       "      <td>http://www.ufcstats.com/fighter-details/e1147d...</td>\n",
       "      <td>0.0</td>\n",
       "      <td>0.0</td>\n",
       "      <td>0.2</td>\n",
       "      <td>3.0</td>\n",
       "      <td>0.0</td>\n",
       "      <td>0.0</td>\n",
       "      <td>0</td>\n",
       "      <td>0.0</td>\n",
       "      <td>0.0</td>\n",
       "      <td>1</td>\n",
       "      <td>0.2</td>\n",
       "      <td>3.0</td>\n",
       "      <td>0</td>\n",
       "      <td>0.0</td>\n",
       "      <td>0.0</td>\n",
       "    </tr>\n",
       "    <tr>\n",
       "      <th>2</th>\n",
       "      <td>3</td>\n",
       "      <td>http://www.ufcstats.com/fight-details/11f715fa...</td>\n",
       "      <td>http://www.ufcstats.com/fighter-details/e1147d...</td>\n",
       "      <td>0.0</td>\n",
       "      <td>0.0</td>\n",
       "      <td>0.0</td>\n",
       "      <td>0.0</td>\n",
       "      <td>0.0</td>\n",
       "      <td>0.0</td>\n",
       "      <td>0</td>\n",
       "      <td>0.0</td>\n",
       "      <td>0.0</td>\n",
       "      <td>0</td>\n",
       "      <td>0.0</td>\n",
       "      <td>0.0</td>\n",
       "      <td>0</td>\n",
       "      <td>0.0</td>\n",
       "      <td>0.0</td>\n",
       "    </tr>\n",
       "    <tr>\n",
       "      <th>3</th>\n",
       "      <td>4</td>\n",
       "      <td>http://www.ufcstats.com/fight-details/11f715fa...</td>\n",
       "      <td>http://www.ufcstats.com/fighter-details/e1147d...</td>\n",
       "      <td>0.0</td>\n",
       "      <td>0.0</td>\n",
       "      <td>0.0</td>\n",
       "      <td>0.0</td>\n",
       "      <td>0.0</td>\n",
       "      <td>0.0</td>\n",
       "      <td>0</td>\n",
       "      <td>0.0</td>\n",
       "      <td>0.0</td>\n",
       "      <td>0</td>\n",
       "      <td>0.0</td>\n",
       "      <td>0.0</td>\n",
       "      <td>0</td>\n",
       "      <td>0.0</td>\n",
       "      <td>0.0</td>\n",
       "    </tr>\n",
       "    <tr>\n",
       "      <th>4</th>\n",
       "      <td>5</td>\n",
       "      <td>http://www.ufcstats.com/fight-details/11f715fa...</td>\n",
       "      <td>http://www.ufcstats.com/fighter-details/e1147d...</td>\n",
       "      <td>0.0</td>\n",
       "      <td>0.0</td>\n",
       "      <td>0.0</td>\n",
       "      <td>0.0</td>\n",
       "      <td>0.0</td>\n",
       "      <td>0.0</td>\n",
       "      <td>0</td>\n",
       "      <td>0.0</td>\n",
       "      <td>0.0</td>\n",
       "      <td>0</td>\n",
       "      <td>0.0</td>\n",
       "      <td>0.0</td>\n",
       "      <td>0</td>\n",
       "      <td>0.0</td>\n",
       "      <td>0.0</td>\n",
       "    </tr>\n",
       "  </tbody>\n",
       "</table>\n",
       "</div>"
      ],
      "text/plain": [
       "   round                                          bout_link  \\\n",
       "0      1  http://www.ufcstats.com/fight-details/11f715fa...   \n",
       "1      2  http://www.ufcstats.com/fight-details/11f715fa...   \n",
       "2      3  http://www.ufcstats.com/fight-details/11f715fa...   \n",
       "3      4  http://www.ufcstats.com/fight-details/11f715fa...   \n",
       "4      5  http://www.ufcstats.com/fight-details/11f715fa...   \n",
       "\n",
       "                                        fighter_link  rev_p1m  rev_p15m  \\\n",
       "0  http://www.ufcstats.com/fighter-details/e1147d...      0.0       0.0   \n",
       "1  http://www.ufcstats.com/fighter-details/e1147d...      0.0       0.0   \n",
       "2  http://www.ufcstats.com/fighter-details/e1147d...      0.0       0.0   \n",
       "3  http://www.ufcstats.com/fighter-details/e1147d...      0.0       0.0   \n",
       "4  http://www.ufcstats.com/fighter-details/e1147d...      0.0       0.0   \n",
       "\n",
       "   pass_p1m  pass_p15m  sub_att_p1m  sub_att_p15m  rev_pr_di  rev_p1m_di  \\\n",
       "0       0.0        0.0          0.0           0.0          0         0.0   \n",
       "1       0.2        3.0          0.0           0.0          0         0.0   \n",
       "2       0.0        0.0          0.0           0.0          0         0.0   \n",
       "3       0.0        0.0          0.0           0.0          0         0.0   \n",
       "4       0.0        0.0          0.0           0.0          0         0.0   \n",
       "\n",
       "   rev_p15m_di  pass_pr_di  pass_p1m_di  pass_p15m_di  sub_att_pr_di  \\\n",
       "0          0.0           0          0.0           0.0              0   \n",
       "1          0.0           1          0.2           3.0              0   \n",
       "2          0.0           0          0.0           0.0              0   \n",
       "3          0.0           0          0.0           0.0              0   \n",
       "4          0.0           0          0.0           0.0              0   \n",
       "\n",
       "   sub_att_p1m_di  sub_att_p15m_di  \n",
       "0             0.0              0.0  \n",
       "1             0.0              0.0  \n",
       "2             0.0              0.0  \n",
       "3             0.0              0.0  \n",
       "4             0.0              0.0  "
      ]
     },
     "execution_count": 2,
     "metadata": {},
     "output_type": "execute_result"
    }
   ],
   "source": [
    "grappling = pd.read_csv('../../data/ufcstats_data/grappling_stats.csv')\n",
    "grappling.head()"
   ]
  },
  {
   "cell_type": "markdown",
   "metadata": {},
   "source": [
    "We also want the takedown statistics as well as the strikes thrown on the ground."
   ]
  },
  {
   "cell_type": "code",
   "execution_count": 3,
   "metadata": {},
   "outputs": [],
   "source": [
    "ground_strikes = pd.read_csv('../../data/ufcstats_data/ground_ss_stats.csv')\n",
    "takedowns = pd.read_csv('../../data/ufcstats_data/takedown_stats.csv')"
   ]
  },
  {
   "cell_type": "markdown",
   "metadata": {},
   "source": [
    "In order to get name and date information, we need to merge these dataframes with our bouts and fighters tables. For this, we'll use sql as it will allow us to specify the exact rows we want."
   ]
  },
  {
   "cell_type": "code",
   "execution_count": 4,
   "metadata": {},
   "outputs": [],
   "source": [
    "# Credentials\n",
    "USER = local.user \n",
    "PASS = local.password\n",
    "HOST = local.host\n",
    "PORT = local.port\n",
    "\n",
    "#create engine\n",
    "engine = create_engine(f'postgresql://{USER}:{PASS}@{HOST}:{PORT}/match_finder')"
   ]
  },
  {
   "cell_type": "code",
   "execution_count": 5,
   "metadata": {},
   "outputs": [],
   "source": [
    "query = \"\"\"\n",
    "SELECT name, link\n",
    "FROM fighters\n",
    "\"\"\"\n",
    "\n",
    "fighters = pd.read_sql(query, engine)"
   ]
  },
  {
   "cell_type": "code",
   "execution_count": 6,
   "metadata": {},
   "outputs": [
    {
     "data": {
      "text/html": [
       "<div>\n",
       "<style scoped>\n",
       "    .dataframe tbody tr th:only-of-type {\n",
       "        vertical-align: middle;\n",
       "    }\n",
       "\n",
       "    .dataframe tbody tr th {\n",
       "        vertical-align: top;\n",
       "    }\n",
       "\n",
       "    .dataframe thead th {\n",
       "        text-align: right;\n",
       "    }\n",
       "</style>\n",
       "<table border=\"1\" class=\"dataframe\">\n",
       "  <thead>\n",
       "    <tr style=\"text-align: right;\">\n",
       "      <th></th>\n",
       "      <th>name</th>\n",
       "      <th>link</th>\n",
       "    </tr>\n",
       "  </thead>\n",
       "  <tbody>\n",
       "    <tr>\n",
       "      <th>0</th>\n",
       "      <td>Fabiano Scherner</td>\n",
       "      <td>http://www.ufcstats.com/fighter-details/0bc7e6...</td>\n",
       "    </tr>\n",
       "    <tr>\n",
       "      <th>1</th>\n",
       "      <td>Alexandre Dantas</td>\n",
       "      <td>http://www.ufcstats.com/fighter-details/8dc46e...</td>\n",
       "    </tr>\n",
       "    <tr>\n",
       "      <th>2</th>\n",
       "      <td>Kevin Burns</td>\n",
       "      <td>http://www.ufcstats.com/fighter-details/a6d8bf...</td>\n",
       "    </tr>\n",
       "    <tr>\n",
       "      <th>3</th>\n",
       "      <td>Joseph Sandoval</td>\n",
       "      <td>http://www.ufcstats.com/fighter-details/696002...</td>\n",
       "    </tr>\n",
       "    <tr>\n",
       "      <th>4</th>\n",
       "      <td>Jose Aldo</td>\n",
       "      <td>http://www.ufcstats.com/fighter-details/d0f395...</td>\n",
       "    </tr>\n",
       "  </tbody>\n",
       "</table>\n",
       "</div>"
      ],
      "text/plain": [
       "               name                                               link\n",
       "0  Fabiano Scherner  http://www.ufcstats.com/fighter-details/0bc7e6...\n",
       "1  Alexandre Dantas  http://www.ufcstats.com/fighter-details/8dc46e...\n",
       "2       Kevin Burns  http://www.ufcstats.com/fighter-details/a6d8bf...\n",
       "3   Joseph Sandoval  http://www.ufcstats.com/fighter-details/696002...\n",
       "4         Jose Aldo  http://www.ufcstats.com/fighter-details/d0f395..."
      ]
     },
     "execution_count": 6,
     "metadata": {},
     "output_type": "execute_result"
    }
   ],
   "source": [
    "fighters.head()"
   ]
  },
  {
   "cell_type": "code",
   "execution_count": 7,
   "metadata": {},
   "outputs": [],
   "source": [
    "query = \"\"\"\n",
    "SELECT \"Date\" as date, bouts.link\n",
    "FROM bouts\n",
    "JOIN events on events.link = bouts.event_link\n",
    "\"\"\"\n",
    "\n",
    "bouts = pd.read_sql(query, engine)"
   ]
  },
  {
   "cell_type": "code",
   "execution_count": 8,
   "metadata": {},
   "outputs": [
    {
     "data": {
      "text/html": [
       "<div>\n",
       "<style scoped>\n",
       "    .dataframe tbody tr th:only-of-type {\n",
       "        vertical-align: middle;\n",
       "    }\n",
       "\n",
       "    .dataframe tbody tr th {\n",
       "        vertical-align: top;\n",
       "    }\n",
       "\n",
       "    .dataframe thead th {\n",
       "        text-align: right;\n",
       "    }\n",
       "</style>\n",
       "<table border=\"1\" class=\"dataframe\">\n",
       "  <thead>\n",
       "    <tr style=\"text-align: right;\">\n",
       "      <th></th>\n",
       "      <th>date</th>\n",
       "      <th>link</th>\n",
       "    </tr>\n",
       "  </thead>\n",
       "  <tbody>\n",
       "    <tr>\n",
       "      <th>0</th>\n",
       "      <td>July 25, 2020</td>\n",
       "      <td>http://www.ufcstats.com/fight-details/11f715fa...</td>\n",
       "    </tr>\n",
       "    <tr>\n",
       "      <th>1</th>\n",
       "      <td>July 25, 2020</td>\n",
       "      <td>http://www.ufcstats.com/fight-details/11f715fa...</td>\n",
       "    </tr>\n",
       "    <tr>\n",
       "      <th>2</th>\n",
       "      <td>July 25, 2020</td>\n",
       "      <td>http://www.ufcstats.com/fight-details/11f715fa...</td>\n",
       "    </tr>\n",
       "    <tr>\n",
       "      <th>3</th>\n",
       "      <td>July 25, 2020</td>\n",
       "      <td>http://www.ufcstats.com/fight-details/11f715fa...</td>\n",
       "    </tr>\n",
       "    <tr>\n",
       "      <th>4</th>\n",
       "      <td>July 25, 2020</td>\n",
       "      <td>http://www.ufcstats.com/fight-details/11f715fa...</td>\n",
       "    </tr>\n",
       "  </tbody>\n",
       "</table>\n",
       "</div>"
      ],
      "text/plain": [
       "            date                                               link\n",
       "0  July 25, 2020  http://www.ufcstats.com/fight-details/11f715fa...\n",
       "1  July 25, 2020  http://www.ufcstats.com/fight-details/11f715fa...\n",
       "2  July 25, 2020  http://www.ufcstats.com/fight-details/11f715fa...\n",
       "3  July 25, 2020  http://www.ufcstats.com/fight-details/11f715fa...\n",
       "4  July 25, 2020  http://www.ufcstats.com/fight-details/11f715fa..."
      ]
     },
     "execution_count": 8,
     "metadata": {},
     "output_type": "execute_result"
    }
   ],
   "source": [
    "bouts.head()"
   ]
  },
  {
   "cell_type": "code",
   "execution_count": 9,
   "metadata": {},
   "outputs": [],
   "source": [
    "grappling = grappling.join(fighters.set_index('link'), on='fighter_link')\n",
    "ground_strikes = ground_strikes.join(fighters.set_index('link'), on='fighter_link')\n",
    "takedowns = takedowns.join(fighters.set_index('link'), on='fighter_link')"
   ]
  },
  {
   "cell_type": "code",
   "execution_count": 10,
   "metadata": {},
   "outputs": [],
   "source": [
    "grappling = grappling.join(bouts.set_index('link'), on='bout_link')\n",
    "ground_strikes = ground_strikes.join(bouts.set_index('link'), on='bout_link')\n",
    "takedowns = takedowns.join(bouts.set_index('link'), on='bout_link')"
   ]
  },
  {
   "cell_type": "markdown",
   "metadata": {},
   "source": [
    "we can easily get the career averages by grouping a column by the fighters name and getting the average for whatever stat we want. First we'll look at the the Takedown Successes Differential per 15 Minutes, which is denoted as td_s_p15m_di in our table. This is a measure of how many more takedowns a fighter landed than their opponent for each 15 minutes they've fought in the UFC."
   ]
  },
  {
   "cell_type": "code",
   "execution_count": 11,
   "metadata": {},
   "outputs": [
    {
     "data": {
      "text/plain": [
       "name\n",
       "Brad Kohler              30.000000\n",
       "James Lee                20.000000\n",
       "TJ Brown                 12.192661\n",
       "Mike Nickels             10.463472\n",
       "Homer Moore               9.681818\n",
       "Mark Madsen               9.125000\n",
       "Travis Wiuff              9.100000\n",
       "Manuel Rodriguez          9.090909\n",
       "Roman Mitichyan           8.960145\n",
       "Herbert Burns             8.385736\n",
       "Merab Dvalishvili         8.333333\n",
       "Juan Espino               8.333333\n",
       "Tom Murphy                7.521008\n",
       "Christina Marks           7.500000\n",
       "Gadzhimurad Antigulov     7.429470\n",
       "Robert Drysdale           7.317073\n",
       "Royce Alger               7.196203\n",
       "Jason Godsey              7.031250\n",
       "Jake Rosholt              6.963419\n",
       "Allen Berube              6.870229\n",
       "Tatiana Suarez            6.788785\n",
       "Khamzat Chimaev           6.753968\n",
       "Michel Batista            6.716418\n",
       "Rodolfo Vieira            6.626426\n",
       "Keith Rockel              6.489461\n",
       "Mike Wessel               6.488372\n",
       "Ronda Rousey              6.487653\n",
       "Sanae Kikuta              6.474820\n",
       "Curtis Blaydes            6.439129\n",
       "Gregor Gillespie          6.251899\n",
       "Name: td_s_p15m_di, dtype: float64"
      ]
     },
     "execution_count": 11,
     "metadata": {},
     "output_type": "execute_result"
    }
   ],
   "source": [
    "takedowns.groupby('name').td_s_p15m_di.mean().sort_values(ascending=False)[:30]"
   ]
  },
  {
   "cell_type": "markdown",
   "metadata": {},
   "source": [
    "It looks like we have a lot of fighters who haven't fought in the ufc very much which likely skewed their numbers pretty high. We'll filter it by fighters who have at least 3 fights in the UFC."
   ]
  },
  {
   "cell_type": "code",
   "execution_count": 12,
   "metadata": {},
   "outputs": [],
   "source": [
    "bouts_by_name = pd.DataFrame(takedowns.groupby(['bout_link', 'fighter_link']).name.max())"
   ]
  },
  {
   "cell_type": "code",
   "execution_count": 13,
   "metadata": {},
   "outputs": [
    {
     "data": {
      "text/plain": [
       "name\n",
       "Aalon Cruz            1\n",
       "Aaron Brink           1\n",
       "Aaron Phillips        3\n",
       "Aaron Riley           9\n",
       "Aaron Rosa            3\n",
       "                     ..\n",
       "Zarah Fairn           2\n",
       "Zarrukh Adashev       1\n",
       "Zelim Imadaev         2\n",
       "Zhalgas Zhumagulov    1\n",
       "Zubaira Tukhugov      6\n",
       "Name: name, Length: 1918, dtype: int64"
      ]
     },
     "execution_count": 13,
     "metadata": {},
     "output_type": "execute_result"
    }
   ],
   "source": [
    "number_of_bouts = bouts_by_name.groupby('name').name.count()\n",
    "number_of_bouts"
   ]
  },
  {
   "cell_type": "markdown",
   "metadata": {},
   "source": [
    "Now that we have match counts for every fighter we will create a list of fighters with less than 3 bouts."
   ]
  },
  {
   "cell_type": "code",
   "execution_count": 14,
   "metadata": {},
   "outputs": [
    {
     "data": {
      "text/plain": [
       "675"
      ]
     },
     "execution_count": 14,
     "metadata": {},
     "output_type": "execute_result"
    }
   ],
   "source": [
    "inexperienced_fighters = list(number_of_bouts[number_of_bouts<3].index)\n",
    "len(inexperienced_fighters)"
   ]
  },
  {
   "cell_type": "code",
   "execution_count": 15,
   "metadata": {},
   "outputs": [],
   "source": [
    "mask = takedowns.name.map(lambda x: functions.black_list_entry(x, inexperienced_fighters))\n",
    "takedowns = takedowns[mask]"
   ]
  },
  {
   "cell_type": "code",
   "execution_count": 16,
   "metadata": {},
   "outputs": [
    {
     "data": {
      "text/html": [
       "<div>\n",
       "<style scoped>\n",
       "    .dataframe tbody tr th:only-of-type {\n",
       "        vertical-align: middle;\n",
       "    }\n",
       "\n",
       "    .dataframe tbody tr th {\n",
       "        vertical-align: top;\n",
       "    }\n",
       "\n",
       "    .dataframe thead th {\n",
       "        text-align: right;\n",
       "    }\n",
       "</style>\n",
       "<table border=\"1\" class=\"dataframe\">\n",
       "  <thead>\n",
       "    <tr style=\"text-align: right;\">\n",
       "      <th></th>\n",
       "      <th>Unnamed: 0</th>\n",
       "      <th>round</th>\n",
       "      <th>bout_link</th>\n",
       "      <th>fighter_link</th>\n",
       "      <th>td_a_p1m</th>\n",
       "      <th>td_s_p1m</th>\n",
       "      <th>td_a_p15m</th>\n",
       "      <th>td_s_p15m</th>\n",
       "      <th>td_ac</th>\n",
       "      <th>td_de</th>\n",
       "      <th>td_s_pr_di</th>\n",
       "      <th>td_a_pr_di</th>\n",
       "      <th>td_s_p1m_di</th>\n",
       "      <th>td_a_p1m_di</th>\n",
       "      <th>td_s_p15m_di</th>\n",
       "      <th>td_a_p15m_di</th>\n",
       "      <th>name</th>\n",
       "      <th>date</th>\n",
       "    </tr>\n",
       "  </thead>\n",
       "  <tbody>\n",
       "    <tr>\n",
       "      <th>0</th>\n",
       "      <td>0</td>\n",
       "      <td>1</td>\n",
       "      <td>http://www.ufcstats.com/fight-details/11f715fa...</td>\n",
       "      <td>http://www.ufcstats.com/fighter-details/e1147d...</td>\n",
       "      <td>0.400000</td>\n",
       "      <td>0.0</td>\n",
       "      <td>6.000000</td>\n",
       "      <td>0.0</td>\n",
       "      <td>0.0</td>\n",
       "      <td>NaN</td>\n",
       "      <td>0</td>\n",
       "      <td>2</td>\n",
       "      <td>0.0</td>\n",
       "      <td>0.400000</td>\n",
       "      <td>0.0</td>\n",
       "      <td>6.000000</td>\n",
       "      <td>Robert Whittaker</td>\n",
       "      <td>July 25, 2020</td>\n",
       "    </tr>\n",
       "    <tr>\n",
       "      <th>0</th>\n",
       "      <td>0</td>\n",
       "      <td>1</td>\n",
       "      <td>http://www.ufcstats.com/fight-details/11f715fa...</td>\n",
       "      <td>http://www.ufcstats.com/fighter-details/e1147d...</td>\n",
       "      <td>0.400000</td>\n",
       "      <td>0.0</td>\n",
       "      <td>6.000000</td>\n",
       "      <td>0.0</td>\n",
       "      <td>0.0</td>\n",
       "      <td>NaN</td>\n",
       "      <td>0</td>\n",
       "      <td>2</td>\n",
       "      <td>0.0</td>\n",
       "      <td>0.400000</td>\n",
       "      <td>0.0</td>\n",
       "      <td>6.000000</td>\n",
       "      <td>Robert Whittaker</td>\n",
       "      <td>July 25, 2020</td>\n",
       "    </tr>\n",
       "    <tr>\n",
       "      <th>0</th>\n",
       "      <td>0</td>\n",
       "      <td>1</td>\n",
       "      <td>http://www.ufcstats.com/fight-details/11f715fa...</td>\n",
       "      <td>http://www.ufcstats.com/fighter-details/e1147d...</td>\n",
       "      <td>0.400000</td>\n",
       "      <td>0.0</td>\n",
       "      <td>6.000000</td>\n",
       "      <td>0.0</td>\n",
       "      <td>0.0</td>\n",
       "      <td>NaN</td>\n",
       "      <td>0</td>\n",
       "      <td>2</td>\n",
       "      <td>0.0</td>\n",
       "      <td>0.400000</td>\n",
       "      <td>0.0</td>\n",
       "      <td>6.000000</td>\n",
       "      <td>Robert Whittaker</td>\n",
       "      <td>July 25, 2020</td>\n",
       "    </tr>\n",
       "    <tr>\n",
       "      <th>0</th>\n",
       "      <td>0</td>\n",
       "      <td>1</td>\n",
       "      <td>http://www.ufcstats.com/fight-details/11f715fa...</td>\n",
       "      <td>http://www.ufcstats.com/fighter-details/e1147d...</td>\n",
       "      <td>0.400000</td>\n",
       "      <td>0.0</td>\n",
       "      <td>6.000000</td>\n",
       "      <td>0.0</td>\n",
       "      <td>0.0</td>\n",
       "      <td>NaN</td>\n",
       "      <td>0</td>\n",
       "      <td>2</td>\n",
       "      <td>0.0</td>\n",
       "      <td>0.400000</td>\n",
       "      <td>0.0</td>\n",
       "      <td>6.000000</td>\n",
       "      <td>Robert Whittaker</td>\n",
       "      <td>July 25, 2020</td>\n",
       "    </tr>\n",
       "    <tr>\n",
       "      <th>0</th>\n",
       "      <td>0</td>\n",
       "      <td>1</td>\n",
       "      <td>http://www.ufcstats.com/fight-details/11f715fa...</td>\n",
       "      <td>http://www.ufcstats.com/fighter-details/e1147d...</td>\n",
       "      <td>0.400000</td>\n",
       "      <td>0.0</td>\n",
       "      <td>6.000000</td>\n",
       "      <td>0.0</td>\n",
       "      <td>0.0</td>\n",
       "      <td>NaN</td>\n",
       "      <td>0</td>\n",
       "      <td>2</td>\n",
       "      <td>0.0</td>\n",
       "      <td>0.400000</td>\n",
       "      <td>0.0</td>\n",
       "      <td>6.000000</td>\n",
       "      <td>Robert Whittaker</td>\n",
       "      <td>July 25, 2020</td>\n",
       "    </tr>\n",
       "    <tr>\n",
       "      <th>...</th>\n",
       "      <td>...</td>\n",
       "      <td>...</td>\n",
       "      <td>...</td>\n",
       "      <td>...</td>\n",
       "      <td>...</td>\n",
       "      <td>...</td>\n",
       "      <td>...</td>\n",
       "      <td>...</td>\n",
       "      <td>...</td>\n",
       "      <td>...</td>\n",
       "      <td>...</td>\n",
       "      <td>...</td>\n",
       "      <td>...</td>\n",
       "      <td>...</td>\n",
       "      <td>...</td>\n",
       "      <td>...</td>\n",
       "      <td>...</td>\n",
       "      <td>...</td>\n",
       "    </tr>\n",
       "    <tr>\n",
       "      <th>25754</th>\n",
       "      <td>12868</td>\n",
       "      <td>3</td>\n",
       "      <td>http://www.ufcstats.com/fight-details/d9e86958...</td>\n",
       "      <td>http://www.ufcstats.com/fighter-details/621a6c...</td>\n",
       "      <td>0.200000</td>\n",
       "      <td>0.0</td>\n",
       "      <td>3.000000</td>\n",
       "      <td>0.0</td>\n",
       "      <td>0.0</td>\n",
       "      <td>NaN</td>\n",
       "      <td>0</td>\n",
       "      <td>1</td>\n",
       "      <td>0.0</td>\n",
       "      <td>0.200000</td>\n",
       "      <td>0.0</td>\n",
       "      <td>3.000000</td>\n",
       "      <td>Matt Hughes</td>\n",
       "      <td>September 24, 1999</td>\n",
       "    </tr>\n",
       "    <tr>\n",
       "      <th>25760</th>\n",
       "      <td>12874</td>\n",
       "      <td>1</td>\n",
       "      <td>http://www.ufcstats.com/fight-details/62ac5bff...</td>\n",
       "      <td>http://www.ufcstats.com/fighter-details/33e33d...</td>\n",
       "      <td>0.000000</td>\n",
       "      <td>0.0</td>\n",
       "      <td>0.000000</td>\n",
       "      <td>0.0</td>\n",
       "      <td>NaN</td>\n",
       "      <td>0.0</td>\n",
       "      <td>-1</td>\n",
       "      <td>-1</td>\n",
       "      <td>-0.2</td>\n",
       "      <td>-0.200000</td>\n",
       "      <td>-3.0</td>\n",
       "      <td>-3.000000</td>\n",
       "      <td>Maurice Smith</td>\n",
       "      <td>July 16, 1999</td>\n",
       "    </tr>\n",
       "    <tr>\n",
       "      <th>25763</th>\n",
       "      <td>12877</td>\n",
       "      <td>1</td>\n",
       "      <td>http://www.ufcstats.com/fight-details/38e3986b...</td>\n",
       "      <td>http://www.ufcstats.com/fighter-details/4f74c8...</td>\n",
       "      <td>0.213523</td>\n",
       "      <td>0.0</td>\n",
       "      <td>3.202847</td>\n",
       "      <td>0.0</td>\n",
       "      <td>0.0</td>\n",
       "      <td>NaN</td>\n",
       "      <td>0</td>\n",
       "      <td>1</td>\n",
       "      <td>0.0</td>\n",
       "      <td>0.213523</td>\n",
       "      <td>0.0</td>\n",
       "      <td>3.202847</td>\n",
       "      <td>Daiju Takase</td>\n",
       "      <td>July 16, 1999</td>\n",
       "    </tr>\n",
       "    <tr>\n",
       "      <th>25765</th>\n",
       "      <td>12879</td>\n",
       "      <td>1</td>\n",
       "      <td>http://www.ufcstats.com/fight-details/3e4199f9...</td>\n",
       "      <td>http://www.ufcstats.com/fighter-details/b76ed5...</td>\n",
       "      <td>0.200000</td>\n",
       "      <td>0.0</td>\n",
       "      <td>3.000000</td>\n",
       "      <td>0.0</td>\n",
       "      <td>0.0</td>\n",
       "      <td>NaN</td>\n",
       "      <td>0</td>\n",
       "      <td>1</td>\n",
       "      <td>0.0</td>\n",
       "      <td>0.200000</td>\n",
       "      <td>0.0</td>\n",
       "      <td>3.000000</td>\n",
       "      <td>Tsuyoshi Kohsaka</td>\n",
       "      <td>July 16, 1999</td>\n",
       "    </tr>\n",
       "    <tr>\n",
       "      <th>25766</th>\n",
       "      <td>12880</td>\n",
       "      <td>2</td>\n",
       "      <td>http://www.ufcstats.com/fight-details/3e4199f9...</td>\n",
       "      <td>http://www.ufcstats.com/fighter-details/b76ed5...</td>\n",
       "      <td>0.400000</td>\n",
       "      <td>0.0</td>\n",
       "      <td>6.000000</td>\n",
       "      <td>0.0</td>\n",
       "      <td>0.0</td>\n",
       "      <td>NaN</td>\n",
       "      <td>0</td>\n",
       "      <td>2</td>\n",
       "      <td>0.0</td>\n",
       "      <td>0.400000</td>\n",
       "      <td>0.0</td>\n",
       "      <td>6.000000</td>\n",
       "      <td>Tsuyoshi Kohsaka</td>\n",
       "      <td>July 16, 1999</td>\n",
       "    </tr>\n",
       "  </tbody>\n",
       "</table>\n",
       "<p>23636 rows × 18 columns</p>\n",
       "</div>"
      ],
      "text/plain": [
       "       Unnamed: 0  round                                          bout_link  \\\n",
       "0               0      1  http://www.ufcstats.com/fight-details/11f715fa...   \n",
       "0               0      1  http://www.ufcstats.com/fight-details/11f715fa...   \n",
       "0               0      1  http://www.ufcstats.com/fight-details/11f715fa...   \n",
       "0               0      1  http://www.ufcstats.com/fight-details/11f715fa...   \n",
       "0               0      1  http://www.ufcstats.com/fight-details/11f715fa...   \n",
       "...           ...    ...                                                ...   \n",
       "25754       12868      3  http://www.ufcstats.com/fight-details/d9e86958...   \n",
       "25760       12874      1  http://www.ufcstats.com/fight-details/62ac5bff...   \n",
       "25763       12877      1  http://www.ufcstats.com/fight-details/38e3986b...   \n",
       "25765       12879      1  http://www.ufcstats.com/fight-details/3e4199f9...   \n",
       "25766       12880      2  http://www.ufcstats.com/fight-details/3e4199f9...   \n",
       "\n",
       "                                            fighter_link  td_a_p1m  td_s_p1m  \\\n",
       "0      http://www.ufcstats.com/fighter-details/e1147d...  0.400000       0.0   \n",
       "0      http://www.ufcstats.com/fighter-details/e1147d...  0.400000       0.0   \n",
       "0      http://www.ufcstats.com/fighter-details/e1147d...  0.400000       0.0   \n",
       "0      http://www.ufcstats.com/fighter-details/e1147d...  0.400000       0.0   \n",
       "0      http://www.ufcstats.com/fighter-details/e1147d...  0.400000       0.0   \n",
       "...                                                  ...       ...       ...   \n",
       "25754  http://www.ufcstats.com/fighter-details/621a6c...  0.200000       0.0   \n",
       "25760  http://www.ufcstats.com/fighter-details/33e33d...  0.000000       0.0   \n",
       "25763  http://www.ufcstats.com/fighter-details/4f74c8...  0.213523       0.0   \n",
       "25765  http://www.ufcstats.com/fighter-details/b76ed5...  0.200000       0.0   \n",
       "25766  http://www.ufcstats.com/fighter-details/b76ed5...  0.400000       0.0   \n",
       "\n",
       "       td_a_p15m  td_s_p15m  td_ac  td_de  td_s_pr_di  td_a_pr_di  \\\n",
       "0       6.000000        0.0    0.0    NaN           0           2   \n",
       "0       6.000000        0.0    0.0    NaN           0           2   \n",
       "0       6.000000        0.0    0.0    NaN           0           2   \n",
       "0       6.000000        0.0    0.0    NaN           0           2   \n",
       "0       6.000000        0.0    0.0    NaN           0           2   \n",
       "...          ...        ...    ...    ...         ...         ...   \n",
       "25754   3.000000        0.0    0.0    NaN           0           1   \n",
       "25760   0.000000        0.0    NaN    0.0          -1          -1   \n",
       "25763   3.202847        0.0    0.0    NaN           0           1   \n",
       "25765   3.000000        0.0    0.0    NaN           0           1   \n",
       "25766   6.000000        0.0    0.0    NaN           0           2   \n",
       "\n",
       "       td_s_p1m_di  td_a_p1m_di  td_s_p15m_di  td_a_p15m_di              name  \\\n",
       "0              0.0     0.400000           0.0      6.000000  Robert Whittaker   \n",
       "0              0.0     0.400000           0.0      6.000000  Robert Whittaker   \n",
       "0              0.0     0.400000           0.0      6.000000  Robert Whittaker   \n",
       "0              0.0     0.400000           0.0      6.000000  Robert Whittaker   \n",
       "0              0.0     0.400000           0.0      6.000000  Robert Whittaker   \n",
       "...            ...          ...           ...           ...               ...   \n",
       "25754          0.0     0.200000           0.0      3.000000       Matt Hughes   \n",
       "25760         -0.2    -0.200000          -3.0     -3.000000     Maurice Smith   \n",
       "25763          0.0     0.213523           0.0      3.202847      Daiju Takase   \n",
       "25765          0.0     0.200000           0.0      3.000000  Tsuyoshi Kohsaka   \n",
       "25766          0.0     0.400000           0.0      6.000000  Tsuyoshi Kohsaka   \n",
       "\n",
       "                     date  \n",
       "0           July 25, 2020  \n",
       "0           July 25, 2020  \n",
       "0           July 25, 2020  \n",
       "0           July 25, 2020  \n",
       "0           July 25, 2020  \n",
       "...                   ...  \n",
       "25754  September 24, 1999  \n",
       "25760       July 16, 1999  \n",
       "25763       July 16, 1999  \n",
       "25765       July 16, 1999  \n",
       "25766       July 16, 1999  \n",
       "\n",
       "[23636 rows x 18 columns]"
      ]
     },
     "execution_count": 16,
     "metadata": {},
     "output_type": "execute_result"
    }
   ],
   "source": [
    "takedowns"
   ]
  },
  {
   "cell_type": "code",
   "execution_count": 17,
   "metadata": {},
   "outputs": [
    {
     "data": {
      "text/plain": [
       "name\n",
       "Merab Dvalishvili        8.333333\n",
       "Gadzhimurad Antigulov    7.429470\n",
       "Jake Rosholt             6.963419\n",
       "Tatiana Suarez           6.788785\n",
       "Ronda Rousey             6.487653\n",
       "Curtis Blaydes           6.439129\n",
       "Gregor Gillespie         6.251899\n",
       "Jake O'Brien             5.683165\n",
       "Murilo Bustamante        5.603226\n",
       "Edmen Shahbazyan         5.583333\n",
       "Jeremy Kennedy           5.179063\n",
       "Bartosz Fabinski         5.148387\n",
       "Khabib Nurmagomedov      5.143912\n",
       "Zabit Magomedsharipov    5.098636\n",
       "Corey Anderson           5.093446\n",
       "Robert Sanchez           5.071803\n",
       "Aaron Simpson            4.890756\n",
       "Colby Covington          4.874457\n",
       "Jordan Johnson           4.675325\n",
       "Ramsey Nijem             4.616337\n",
       "Name: td_s_p15m_di, dtype: float64"
      ]
     },
     "execution_count": 17,
     "metadata": {},
     "output_type": "execute_result"
    }
   ],
   "source": [
    "takedowns.groupby('name').td_s_p15m_di.mean().sort_values(ascending=False)[:20]"
   ]
  },
  {
   "cell_type": "markdown",
   "metadata": {},
   "source": [
    "Now we see some more familiar names. We have Khabib at #13, but we also see Ronda Rousey at #5 and Curtis Blaydes at #6. These are all highly regarded grapplers and they are all in the top 15 for 15m takedown differential. But how do they compare to the rest of the UFC? Let's see how big our list is."
   ]
  },
  {
   "cell_type": "code",
   "execution_count": null,
   "metadata": {},
   "outputs": [],
   "source": []
  },
  {
   "cell_type": "code",
   "execution_count": 18,
   "metadata": {},
   "outputs": [
    {
     "data": {
      "text/plain": [
       "1.045016077170418"
      ]
     },
     "execution_count": 18,
     "metadata": {},
     "output_type": "execute_result"
    }
   ],
   "source": [
    "(13/len(takedowns.name.unique()))*100"
   ]
  },
  {
   "cell_type": "markdown",
   "metadata": {},
   "source": [
    "These fighters are in the top 1% for 15m takedown differential."
   ]
  },
  {
   "cell_type": "markdown",
   "metadata": {},
   "source": [
    "#### Average Takedowns\n",
    "But is a differential the best way to measure takedown ability? We could also look at the average number of successful takedowns per 15 minutes."
   ]
  },
  {
   "cell_type": "code",
   "execution_count": 59,
   "metadata": {},
   "outputs": [
    {
     "data": {
      "text/plain": [
       "name\n",
       "Merab Dvalishvili        8.666667\n",
       "Jake Rosholt             8.316557\n",
       "Gadzhimurad Antigulov    7.429470\n",
       "Ronda Rousey             7.033108\n",
       "Curtis Blaydes           6.839129\n",
       "Tatiana Suarez           6.788785\n",
       "Bartosz Fabinski         6.600000\n",
       "Jake O'Brien             6.550602\n",
       "Robert Sanchez           6.271803\n",
       "Gregor Gillespie         6.251899\n",
       "Jimmy Crute              6.241627\n",
       "Edmen Shahbazyan         6.083333\n",
       "Rodney Wallace           6.000000\n",
       "Jeremy Kennedy           5.727273\n",
       "Murilo Bustamante        5.603226\n",
       "Zabit Magomedsharipov    5.500830\n",
       "Aaron Simpson            5.426471\n",
       "Wilson Reis              5.379805\n",
       "Jimy Hettes              5.330846\n",
       "Khabib Nurmagomedov      5.310579\n",
       "Name: td_s_p15m, dtype: float64"
      ]
     },
     "execution_count": 59,
     "metadata": {},
     "output_type": "execute_result"
    }
   ],
   "source": [
    "takedowns.groupby('name').td_s_p15m.mean().sort_values(ascending=False)[:20]"
   ]
  },
  {
   "cell_type": "markdown",
   "metadata": {},
   "source": [
    "You see a lot of the same names but Khabib dropped 7 places down to 20th place. In order for Khabib to be higher on the average takedown top 20, he would have to successfully land more takedowns, regardless of whether or not his opponent landed takedowns on him. If his opponents had landed more takedowns on him, he would be lower on the differential list, but he would stay at the same place on the average takedowns list. It would be ideal to have a differential that is identical to your average, because this would mean that you never gave up a takedown. What would a column look like if the takedown average was subtracted from the differential?"
   ]
  },
  {
   "cell_type": "code",
   "execution_count": 66,
   "metadata": {},
   "outputs": [
    {
     "data": {
      "text/plain": [
       "<matplotlib.axes._subplots.AxesSubplot at 0x7f2c44305790>"
      ]
     },
     "execution_count": 66,
     "metadata": {},
     "output_type": "execute_result"
    },
    {
     "data": {
      "image/png": "[encoded data removed]",
      "text/plain": [
       "<Figure size 432x288 with 1 Axes>"
      ]
     },
     "metadata": {
      "needs_background": "light"
     },
     "output_type": "display_data"
    }
   ],
   "source": [
    "takedowns['dif_minus_av'] = takedowns.td_s_p15m_di - takedowns.td_s_p15m\n",
    "sns.distplot(takedowns.groupby('name').dif_minus_av.mean())"
   ]
  },
  {
   "cell_type": "code",
   "execution_count": 65,
   "metadata": {},
   "outputs": [
    {
     "data": {
      "text/plain": [
       "name\n",
       "Ben Alloway         -6.808143\n",
       "Jason Gonzalez      -6.670549\n",
       "Casey Kenney        -6.600000\n",
       "Sean Soriano        -6.397527\n",
       "Felipe Colares      -6.333333\n",
       "Francisco Trevino   -6.112782\n",
       "Rogerio Bontorin    -6.000000\n",
       "Rafael Cavalcante   -5.909091\n",
       "Jared Hamman        -5.900926\n",
       "Drew McFedries      -5.894528\n",
       "Garett Whiteley     -5.692308\n",
       "Aaron Phillips      -5.630034\n",
       "Ryan Jensen         -5.444704\n",
       "Adam Milstead       -5.281780\n",
       "James Irvin         -5.276480\n",
       "Name: dif_minus_av, dtype: float64"
      ]
     },
     "execution_count": 65,
     "metadata": {},
     "output_type": "execute_result"
    }
   ],
   "source": [
    "takedowns.groupby('name').dif_minus_av.mean().sort_values()[:15]"
   ]
  },
  {
   "cell_type": "markdown",
   "metadata": {},
   "source": [
    "This list doesn't have any familiar names, which is unsuprising, but if we look at the #2 spot, Jason Gonzalez, we'll notice that he fought Gregor Gilespie, our #7 ranked in takedown differential. \n",
    "\n",
    "This metric measures the number of takedowns that a fighter has given up and could be a good measurement of takedown defense."
   ]
  },
  {
   "cell_type": "markdown",
   "metadata": {},
   "source": [
    "### Submission attempts"
   ]
  },
  {
   "cell_type": "code",
   "execution_count": 75,
   "metadata": {},
   "outputs": [
    {
     "data": {
      "text/plain": [
       "name\n",
       "Ian Entwistle        19.497616\n",
       "Ronda Rousey          7.800269\n",
       "Sean McCorkle         7.407751\n",
       "Paul Sass             7.218045\n",
       "Rob Broughton         6.825243\n",
       "Teemu Packalen        6.750000\n",
       "Rousimar Palhares     6.291708\n",
       "Genki Sudo            5.374214\n",
       "TJ Waldburger         5.315116\n",
       "Renato Sobral         4.920935\n",
       "Patrick Williams      4.891304\n",
       "Manny Bermudez        4.841381\n",
       "Matt Arroyo           4.659574\n",
       "Fabiano Iha           4.604762\n",
       "Marcus Aurelio        4.446429\n",
       "Name: sub_att_p15m_di, dtype: float64"
      ]
     },
     "execution_count": 75,
     "metadata": {},
     "output_type": "execute_result"
    }
   ],
   "source": [
    "mask = grappling.name.map(lambda x: functions.black_list_entry(x, inexperienced_fighters))\n",
    "grappling = grappling[mask]\n",
    "\n",
    "grappling.groupby('name').sub_att_p15m_di.mean().sort_values(ascending=False)[:15]"
   ]
  },
  {
   "cell_type": "code",
   "execution_count": 78,
   "metadata": {},
   "outputs": [
    {
     "data": {
      "text/plain": [
       "name\n",
       "Gregor Gillespie       13.220946\n",
       "Tatiana Suarez         10.066494\n",
       "Teemu Packalen          9.250000\n",
       "Grant Dawson            8.779592\n",
       "Murilo Bustamante       8.506452\n",
       "Gillian Robertson       8.092862\n",
       "Denis Kang              7.751553\n",
       "Jake Rosholt            7.506276\n",
       "Ronda Rousey            6.498034\n",
       "Aspen Ladd              6.140637\n",
       "Edmen Shahbazyan        5.666667\n",
       "Claudio Silva           5.578009\n",
       "Khabib Nurmagomedov     5.429699\n",
       "Jimy Hettes             5.357632\n",
       "Misha Cirkunov          5.107617\n",
       "Name: pass_p15m_di, dtype: float64"
      ]
     },
     "execution_count": 78,
     "metadata": {},
     "output_type": "execute_result"
    }
   ],
   "source": [
    "grappling.groupby('name').pass_p15m_di.mean().sort_values(ascending=False)[:15]"
   ]
  },
  {
   "cell_type": "code",
   "execution_count": 80,
   "metadata": {},
   "outputs": [
    {
     "data": {
      "text/plain": [
       "name\n",
       "Ronda Rousey         19.869731\n",
       "Ian Entwistle        18.268107\n",
       "Teemu Packalen       15.000000\n",
       "Gregor Gillespie     14.348343\n",
       "Murilo Bustamante    11.777419\n",
       "Genki Sudo           10.224538\n",
       "Manny Bermudez       10.101642\n",
       "Grant Dawson         10.010204\n",
       "Gillian Robertson     9.435001\n",
       "Tatiana Suarez        9.286136\n",
       "Rousimar Palhares     8.947319\n",
       "Misha Cirkunov        8.585120\n",
       "TJ Waldburger         7.997151\n",
       "Edmen Shahbazyan      7.750000\n",
       "Diego Ferreira        7.694718\n",
       "Joe Duffy             7.310531\n",
       "Denis Kang            7.285714\n",
       "Joe Lauzon            7.177872\n",
       "Livinha Souza         6.904762\n",
       "Claudio Silva         6.904596\n",
       "Name: combined_grappling_p15m_di, dtype: float64"
      ]
     },
     "execution_count": 80,
     "metadata": {},
     "output_type": "execute_result"
    }
   ],
   "source": [
    "grappling['combined_grappling_p15m_di'] = grappling['pass_p15m_di'] + grappling['sub_att_p15m_di'] + grappling['rev_p15m_di']\n",
    "grappling.groupby('name').combined_grappling_p15m_di.mean().sort_values(ascending=False)[:20]"
   ]
  },
  {
   "cell_type": "code",
   "execution_count": 84,
   "metadata": {},
   "outputs": [
    {
     "data": {
      "text/plain": [
       "name\n",
       "Demian Maia    1.045441\n",
       "Name: sub_att_p15m_di, dtype: float64"
      ]
     },
     "execution_count": 84,
     "metadata": {},
     "output_type": "execute_result"
    }
   ],
   "source": [
    "av_sub_att = grappling.groupby('name').sub_att_p15m_di.mean()\n",
    "\n",
    "av_sub_att[av_sub_att.index == 'Demian Maia']"
   ]
  },
  {
   "cell_type": "code",
   "execution_count": 86,
   "metadata": {},
   "outputs": [
    {
     "data": {
      "text/plain": [
       "name\n",
       "Demian Maia   -0.023621\n",
       "Name: rev_p15m_di, dtype: float64"
      ]
     },
     "execution_count": 86,
     "metadata": {},
     "output_type": "execute_result"
    }
   ],
   "source": [
    "av_rev = grappling.groupby('name').rev_p15m_di.mean()\n",
    "\n",
    "av_rev[av_rev.index == 'Demian Maia']"
   ]
  },
  {
   "cell_type": "code",
   "execution_count": 87,
   "metadata": {},
   "outputs": [
    {
     "data": {
      "text/plain": [
       "name\n",
       "Demian Maia    3.722007\n",
       "Name: pass_p15m_di, dtype: float64"
      ]
     },
     "execution_count": 87,
     "metadata": {},
     "output_type": "execute_result"
    }
   ],
   "source": [
    "av_pass = grappling.groupby('name').pass_p15m_di.mean()\n",
    "\n",
    "av_pass[av_pass.index == 'Demian Maia']"
   ]
  },
  {
   "cell_type": "code",
   "execution_count": 22,
   "metadata": {},
   "outputs": [
    {
     "data": {
      "text/plain": [
       "name\n",
       "Conor McGregor   -0.530995\n",
       "Name: td_s_p15m_di, dtype: float64"
      ]
     },
     "execution_count": 22,
     "metadata": {},
     "output_type": "execute_result"
    }
   ],
   "source": [
    "av_rev = takedowns.groupby('name').td_s_p15m_di.mean()\n",
    "\n",
    "av_rev[av_rev.index == 'Conor McGregor']"
   ]
  },
  {
   "cell_type": "code",
   "execution_count": null,
   "metadata": {},
   "outputs": [],
   "source": []
  }
 ],
 "metadata": {
  "kernelspec": {
   "display_name": "Python 3",
   "language": "python",
   "name": "python3"
  },
  "language_info": {
   "codemirror_mode": {
    "name": "ipython",
    "version": 3
   },
   "file_extension": ".py",
   "mimetype": "text/x-python",
   "name": "python",
   "nbconvert_exporter": "python",
   "pygments_lexer": "ipython3",
   "version": "3.8.3"
  }
 },
 "nbformat": 4,
 "nbformat_minor": 4
}
