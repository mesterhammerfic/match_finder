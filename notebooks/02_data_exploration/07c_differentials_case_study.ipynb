{
 "cells": [
  {
   "cell_type": "markdown",
   "metadata": {},
   "source": [
    "# Purpose\n",
    "This notebook serves as an exploratory analysis of new metrics created in this project. The primary metrics used are differentials, which measure the difference in the rate of techniques used between a fighter and his opponent. For instance, if fighter A lands 50 strikes-per-minute, and fighter B lands 30 strikes-per-minute, fighter A has a strikes-per-minute-differential (S/PM-Di) of 20, and fighter B would be rated at -20.\n",
    "#### Limitations\n",
    "This metric rates low accuracy strikers with great defense as being equal to high accuracy fighters with poor defense, beacuse the rate gets lower with every punch the fighter recieves.\n",
    "\n",
    "#### Example case\n",
    "As a case study for these metrics we are going to compare Khabib Nurmagomedov with Conor McGregor. Khabib is considered one of the best wrestlers of all time, while Conor is considered to be one of the best strikers of all time. In their matchup, Conor was unable to effectively use his striking against Khabib, and Khabib took him down repeatedly before submitting him. We want to see if our new metrics capture the nature of this performance better than the metrics commonly used in Mixed Martial Arts today."
   ]
  },
  {
   "cell_type": "code",
   "execution_count": 9,
   "metadata": {},
   "outputs": [
    {
     "name": "stdout",
     "output_type": "stream",
     "text": [
      "The autoreload extension is already loaded. To reload it, use:\n",
      "  %reload_ext autoreload\n"
     ]
    }
   ],
   "source": [
    "%load_ext autoreload\n",
    "%autoreload 2\n",
    "\n",
    "import os\n",
    "import sys\n",
    "module_path = os.path.abspath(os.path.join(os.pardir, os.pardir))\n",
    "if module_path not in sys.path:\n",
    "    sys.path.append(module_path)\n",
    "\n",
    "import pandas as pd\n",
    "from sqlalchemy import create_engine\n",
    "from src import local\n",
    "from src import functions\n",
    "import matplotlib.pyplot as plt\n",
    "import seaborn as sns\n",
    "plt.style.use('ggplot')"
   ]
  },
  {
   "cell_type": "markdown",
   "metadata": {},
   "source": [
    "### Grappling Stats import\n",
    "Here we import our grappling stats data, this has advanced statistics on reversals, submission attempts, and guard passes for every round in the UFC. We also import our ground strikes and takedown stats, which measure how many strikes are landed on the ground and how many takedowns an opponent lands. Each row in this data set is a single round in the UFC."
   ]
  },
  {
   "cell_type": "code",
   "execution_count": 2,
   "metadata": {},
   "outputs": [
    {
     "data": {
      "text/html": [
       "<div>\n",
       "<style scoped>\n",
       "    .dataframe tbody tr th:only-of-type {\n",
       "        vertical-align: middle;\n",
       "    }\n",
       "\n",
       "    .dataframe tbody tr th {\n",
       "        vertical-align: top;\n",
       "    }\n",
       "\n",
       "    .dataframe thead th {\n",
       "        text-align: right;\n",
       "    }\n",
       "</style>\n",
       "<table border=\"1\" class=\"dataframe\">\n",
       "  <thead>\n",
       "    <tr style=\"text-align: right;\">\n",
       "      <th></th>\n",
       "      <th>round</th>\n",
       "      <th>bout_link</th>\n",
       "      <th>fighter_link</th>\n",
       "      <th>rev_p1m</th>\n",
       "      <th>rev_p15m</th>\n",
       "      <th>pass_p1m</th>\n",
       "      <th>pass_p15m</th>\n",
       "      <th>sub_att_p1m</th>\n",
       "      <th>sub_att_p15m</th>\n",
       "      <th>rev_pr_di</th>\n",
       "      <th>rev_p1m_di</th>\n",
       "      <th>rev_p15m_di</th>\n",
       "      <th>pass_pr_di</th>\n",
       "      <th>pass_p1m_di</th>\n",
       "      <th>pass_p15m_di</th>\n",
       "      <th>sub_att_pr_di</th>\n",
       "      <th>sub_att_p1m_di</th>\n",
       "      <th>sub_att_p15m_di</th>\n",
       "    </tr>\n",
       "  </thead>\n",
       "  <tbody>\n",
       "    <tr>\n",
       "      <th>0</th>\n",
       "      <td>1</td>\n",
       "      <td>http://www.ufcstats.com/fight-details/11f715fa...</td>\n",
       "      <td>http://www.ufcstats.com/fighter-details/e1147d...</td>\n",
       "      <td>0.0</td>\n",
       "      <td>0.0</td>\n",
       "      <td>0.0</td>\n",
       "      <td>0.0</td>\n",
       "      <td>0.0</td>\n",
       "      <td>0.0</td>\n",
       "      <td>0</td>\n",
       "      <td>0.0</td>\n",
       "      <td>0.0</td>\n",
       "      <td>0</td>\n",
       "      <td>0.0</td>\n",
       "      <td>0.0</td>\n",
       "      <td>0</td>\n",
       "      <td>0.0</td>\n",
       "      <td>0.0</td>\n",
       "    </tr>\n",
       "    <tr>\n",
       "      <th>1</th>\n",
       "      <td>2</td>\n",
       "      <td>http://www.ufcstats.com/fight-details/11f715fa...</td>\n",
       "      <td>http://www.ufcstats.com/fighter-details/e1147d...</td>\n",
       "      <td>0.0</td>\n",
       "      <td>0.0</td>\n",
       "      <td>0.2</td>\n",
       "      <td>3.0</td>\n",
       "      <td>0.0</td>\n",
       "      <td>0.0</td>\n",
       "      <td>0</td>\n",
       "      <td>0.0</td>\n",
       "      <td>0.0</td>\n",
       "      <td>1</td>\n",
       "      <td>0.2</td>\n",
       "      <td>3.0</td>\n",
       "      <td>0</td>\n",
       "      <td>0.0</td>\n",
       "      <td>0.0</td>\n",
       "    </tr>\n",
       "    <tr>\n",
       "      <th>2</th>\n",
       "      <td>3</td>\n",
       "      <td>http://www.ufcstats.com/fight-details/11f715fa...</td>\n",
       "      <td>http://www.ufcstats.com/fighter-details/e1147d...</td>\n",
       "      <td>0.0</td>\n",
       "      <td>0.0</td>\n",
       "      <td>0.0</td>\n",
       "      <td>0.0</td>\n",
       "      <td>0.0</td>\n",
       "      <td>0.0</td>\n",
       "      <td>0</td>\n",
       "      <td>0.0</td>\n",
       "      <td>0.0</td>\n",
       "      <td>0</td>\n",
       "      <td>0.0</td>\n",
       "      <td>0.0</td>\n",
       "      <td>0</td>\n",
       "      <td>0.0</td>\n",
       "      <td>0.0</td>\n",
       "    </tr>\n",
       "    <tr>\n",
       "      <th>3</th>\n",
       "      <td>4</td>\n",
       "      <td>http://www.ufcstats.com/fight-details/11f715fa...</td>\n",
       "      <td>http://www.ufcstats.com/fighter-details/e1147d...</td>\n",
       "      <td>0.0</td>\n",
       "      <td>0.0</td>\n",
       "      <td>0.0</td>\n",
       "      <td>0.0</td>\n",
       "      <td>0.0</td>\n",
       "      <td>0.0</td>\n",
       "      <td>0</td>\n",
       "      <td>0.0</td>\n",
       "      <td>0.0</td>\n",
       "      <td>0</td>\n",
       "      <td>0.0</td>\n",
       "      <td>0.0</td>\n",
       "      <td>0</td>\n",
       "      <td>0.0</td>\n",
       "      <td>0.0</td>\n",
       "    </tr>\n",
       "    <tr>\n",
       "      <th>4</th>\n",
       "      <td>5</td>\n",
       "      <td>http://www.ufcstats.com/fight-details/11f715fa...</td>\n",
       "      <td>http://www.ufcstats.com/fighter-details/e1147d...</td>\n",
       "      <td>0.0</td>\n",
       "      <td>0.0</td>\n",
       "      <td>0.0</td>\n",
       "      <td>0.0</td>\n",
       "      <td>0.0</td>\n",
       "      <td>0.0</td>\n",
       "      <td>0</td>\n",
       "      <td>0.0</td>\n",
       "      <td>0.0</td>\n",
       "      <td>0</td>\n",
       "      <td>0.0</td>\n",
       "      <td>0.0</td>\n",
       "      <td>0</td>\n",
       "      <td>0.0</td>\n",
       "      <td>0.0</td>\n",
       "    </tr>\n",
       "  </tbody>\n",
       "</table>\n",
       "</div>"
      ],
      "text/plain": [
       "   round                                          bout_link  \\\n",
       "0      1  http://www.ufcstats.com/fight-details/11f715fa...   \n",
       "1      2  http://www.ufcstats.com/fight-details/11f715fa...   \n",
       "2      3  http://www.ufcstats.com/fight-details/11f715fa...   \n",
       "3      4  http://www.ufcstats.com/fight-details/11f715fa...   \n",
       "4      5  http://www.ufcstats.com/fight-details/11f715fa...   \n",
       "\n",
       "                                        fighter_link  rev_p1m  rev_p15m  \\\n",
       "0  http://www.ufcstats.com/fighter-details/e1147d...      0.0       0.0   \n",
       "1  http://www.ufcstats.com/fighter-details/e1147d...      0.0       0.0   \n",
       "2  http://www.ufcstats.com/fighter-details/e1147d...      0.0       0.0   \n",
       "3  http://www.ufcstats.com/fighter-details/e1147d...      0.0       0.0   \n",
       "4  http://www.ufcstats.com/fighter-details/e1147d...      0.0       0.0   \n",
       "\n",
       "   pass_p1m  pass_p15m  sub_att_p1m  sub_att_p15m  rev_pr_di  rev_p1m_di  \\\n",
       "0       0.0        0.0          0.0           0.0          0         0.0   \n",
       "1       0.2        3.0          0.0           0.0          0         0.0   \n",
       "2       0.0        0.0          0.0           0.0          0         0.0   \n",
       "3       0.0        0.0          0.0           0.0          0         0.0   \n",
       "4       0.0        0.0          0.0           0.0          0         0.0   \n",
       "\n",
       "   rev_p15m_di  pass_pr_di  pass_p1m_di  pass_p15m_di  sub_att_pr_di  \\\n",
       "0          0.0           0          0.0           0.0              0   \n",
       "1          0.0           1          0.2           3.0              0   \n",
       "2          0.0           0          0.0           0.0              0   \n",
       "3          0.0           0          0.0           0.0              0   \n",
       "4          0.0           0          0.0           0.0              0   \n",
       "\n",
       "   sub_att_p1m_di  sub_att_p15m_di  \n",
       "0             0.0              0.0  \n",
       "1             0.0              0.0  \n",
       "2             0.0              0.0  \n",
       "3             0.0              0.0  \n",
       "4             0.0              0.0  "
      ]
     },
     "execution_count": 2,
     "metadata": {},
     "output_type": "execute_result"
    }
   ],
   "source": [
    "grappling = pd.read_csv('../../data/ufcstats_data/advanced_stats/grappling_stats.csv')\n",
    "ground_strikes = pd.read_csv('../../data/ufcstats_data/advanced_stats/ground_ss_stats.csv')\n",
    "takedowns = pd.read_csv('../../data/ufcstats_data/advanced_stats/takedown_stats.csv')\n",
    "grappling.head()"
   ]
  },
  {
   "cell_type": "markdown",
   "metadata": {},
   "source": [
    "#### In order to get name and date information, we need to merge these dataframes with our bouts and fighters tables. \n",
    "\n",
    "The sql engine uses info in the local.py file. If you are running into an error with this cell, it may be because your local.py file contains incorrect data or is nonexistant. The data from this file should match up to the data on your local postgres database, you may have to set a password in postgres for this to work."
   ]
  },
  {
   "cell_type": "code",
   "execution_count": 3,
   "metadata": {},
   "outputs": [
    {
     "data": {
      "text/html": [
       "<div>\n",
       "<style scoped>\n",
       "    .dataframe tbody tr th:only-of-type {\n",
       "        vertical-align: middle;\n",
       "    }\n",
       "\n",
       "    .dataframe tbody tr th {\n",
       "        vertical-align: top;\n",
       "    }\n",
       "\n",
       "    .dataframe thead th {\n",
       "        text-align: right;\n",
       "    }\n",
       "</style>\n",
       "<table border=\"1\" class=\"dataframe\">\n",
       "  <thead>\n",
       "    <tr style=\"text-align: right;\">\n",
       "      <th></th>\n",
       "      <th>name</th>\n",
       "      <th>link</th>\n",
       "    </tr>\n",
       "  </thead>\n",
       "  <tbody>\n",
       "    <tr>\n",
       "      <th>0</th>\n",
       "      <td>Fabiano Scherner</td>\n",
       "      <td>http://www.ufcstats.com/fighter-details/0bc7e6...</td>\n",
       "    </tr>\n",
       "    <tr>\n",
       "      <th>1</th>\n",
       "      <td>Alexandre Dantas</td>\n",
       "      <td>http://www.ufcstats.com/fighter-details/8dc46e...</td>\n",
       "    </tr>\n",
       "    <tr>\n",
       "      <th>2</th>\n",
       "      <td>Kevin Burns</td>\n",
       "      <td>http://www.ufcstats.com/fighter-details/a6d8bf...</td>\n",
       "    </tr>\n",
       "    <tr>\n",
       "      <th>3</th>\n",
       "      <td>Joseph Sandoval</td>\n",
       "      <td>http://www.ufcstats.com/fighter-details/696002...</td>\n",
       "    </tr>\n",
       "    <tr>\n",
       "      <th>4</th>\n",
       "      <td>Jose Aldo</td>\n",
       "      <td>http://www.ufcstats.com/fighter-details/d0f395...</td>\n",
       "    </tr>\n",
       "  </tbody>\n",
       "</table>\n",
       "</div>"
      ],
      "text/plain": [
       "               name                                               link\n",
       "0  Fabiano Scherner  http://www.ufcstats.com/fighter-details/0bc7e6...\n",
       "1  Alexandre Dantas  http://www.ufcstats.com/fighter-details/8dc46e...\n",
       "2       Kevin Burns  http://www.ufcstats.com/fighter-details/a6d8bf...\n",
       "3   Joseph Sandoval  http://www.ufcstats.com/fighter-details/696002...\n",
       "4         Jose Aldo  http://www.ufcstats.com/fighter-details/d0f395..."
      ]
     },
     "execution_count": 3,
     "metadata": {},
     "output_type": "execute_result"
    }
   ],
   "source": [
    "# Credentials\n",
    "USER = local.user \n",
    "PASS = local.password\n",
    "HOST = local.host\n",
    "PORT = local.port\n",
    "#create engine\n",
    "engine = create_engine(f'postgresql://{USER}:{PASS}@{HOST}:{PORT}/match_finder')\n",
    "\n",
    "query = \"\"\"\n",
    "SELECT name, link\n",
    "FROM fighters\n",
    "\"\"\"\n",
    "\n",
    "fighters = pd.read_sql(query, engine)\n",
    "\n",
    "fighters.head()"
   ]
  },
  {
   "cell_type": "code",
   "execution_count": 4,
   "metadata": {},
   "outputs": [
    {
     "data": {
      "text/html": [
       "<div>\n",
       "<style scoped>\n",
       "    .dataframe tbody tr th:only-of-type {\n",
       "        vertical-align: middle;\n",
       "    }\n",
       "\n",
       "    .dataframe tbody tr th {\n",
       "        vertical-align: top;\n",
       "    }\n",
       "\n",
       "    .dataframe thead th {\n",
       "        text-align: right;\n",
       "    }\n",
       "</style>\n",
       "<table border=\"1\" class=\"dataframe\">\n",
       "  <thead>\n",
       "    <tr style=\"text-align: right;\">\n",
       "      <th></th>\n",
       "      <th>date</th>\n",
       "      <th>link</th>\n",
       "    </tr>\n",
       "  </thead>\n",
       "  <tbody>\n",
       "    <tr>\n",
       "      <th>0</th>\n",
       "      <td>July 25, 2020</td>\n",
       "      <td>http://www.ufcstats.com/fight-details/11f715fa...</td>\n",
       "    </tr>\n",
       "    <tr>\n",
       "      <th>1</th>\n",
       "      <td>July 25, 2020</td>\n",
       "      <td>http://www.ufcstats.com/fight-details/11f715fa...</td>\n",
       "    </tr>\n",
       "    <tr>\n",
       "      <th>2</th>\n",
       "      <td>July 25, 2020</td>\n",
       "      <td>http://www.ufcstats.com/fight-details/11f715fa...</td>\n",
       "    </tr>\n",
       "    <tr>\n",
       "      <th>3</th>\n",
       "      <td>July 25, 2020</td>\n",
       "      <td>http://www.ufcstats.com/fight-details/11f715fa...</td>\n",
       "    </tr>\n",
       "    <tr>\n",
       "      <th>4</th>\n",
       "      <td>July 25, 2020</td>\n",
       "      <td>http://www.ufcstats.com/fight-details/11f715fa...</td>\n",
       "    </tr>\n",
       "  </tbody>\n",
       "</table>\n",
       "</div>"
      ],
      "text/plain": [
       "            date                                               link\n",
       "0  July 25, 2020  http://www.ufcstats.com/fight-details/11f715fa...\n",
       "1  July 25, 2020  http://www.ufcstats.com/fight-details/11f715fa...\n",
       "2  July 25, 2020  http://www.ufcstats.com/fight-details/11f715fa...\n",
       "3  July 25, 2020  http://www.ufcstats.com/fight-details/11f715fa...\n",
       "4  July 25, 2020  http://www.ufcstats.com/fight-details/11f715fa..."
      ]
     },
     "execution_count": 4,
     "metadata": {},
     "output_type": "execute_result"
    }
   ],
   "source": [
    "query = \"\"\"\n",
    "SELECT \"Date\" as date, bouts.link\n",
    "FROM bouts\n",
    "JOIN events on events.link = bouts.event_link\n",
    "\"\"\"\n",
    "bouts = pd.read_sql(query, engine)\n",
    "\n",
    "bouts.head()"
   ]
  },
  {
   "cell_type": "markdown",
   "metadata": {},
   "source": [
    "Each fighter name can be linked to the stat tables using the unique fighter_link identifier. Then all dates will be connected via the bout_link identifier"
   ]
  },
  {
   "cell_type": "code",
   "execution_count": 5,
   "metadata": {},
   "outputs": [],
   "source": [
    "grappling = grappling.join(fighters.set_index('link'), on='fighter_link')\n",
    "ground_strikes = ground_strikes.join(fighters.set_index('link'), on='fighter_link')\n",
    "takedowns = takedowns.join(fighters.set_index('link'), on='fighter_link')"
   ]
  },
  {
   "cell_type": "code",
   "execution_count": 6,
   "metadata": {},
   "outputs": [],
   "source": [
    "grappling = grappling.join(bouts.set_index('link'), on='bout_link')\n",
    "ground_strikes = ground_strikes.join(bouts.set_index('link'), on='bout_link')\n",
    "takedowns = takedowns.join(bouts.set_index('link'), on='bout_link')"
   ]
  },
  {
   "cell_type": "markdown",
   "metadata": {},
   "source": [
    "#### We have some rows with missing names, we remove them here"
   ]
  },
  {
   "cell_type": "code",
   "execution_count": 7,
   "metadata": {},
   "outputs": [],
   "source": [
    "grappling.dropna(subset=['name'], inplace=True, axis=0)\n",
    "ground_strikes.dropna(subset=['name'], inplace=True, axis=0)\n",
    "takedowns.dropna(subset=['name'], inplace=True, axis=0)"
   ]
  },
  {
   "cell_type": "markdown",
   "metadata": {},
   "source": [
    "#### Removing fighters with less than 3 fights"
   ]
  },
  {
   "cell_type": "code",
   "execution_count": 8,
   "metadata": {},
   "outputs": [],
   "source": [
    "# calculate number of bouts for each fighter\n",
    "bouts_by_name = pd.DataFrame(takedowns.groupby(['bout_link', 'fighter_link']).name.max())\n",
    "number_of_bouts = bouts_by_name.groupby('name').name.count()\n",
    "\n",
    "# subset only the fighters who have had at least 3 bouts\n",
    "experienced_fighters = list(number_of_bouts[number_of_bouts>=3].index)\n",
    "\n",
    "# Remove inexperienced fighters\n",
    "mask = takedowns['name'].isin(experienced_fighters)\n",
    "takedowns = takedowns[mask]\n",
    "\n",
    "mask = ground_strikes['name'].isin(experienced_fighters)\n",
    "ground_strikes = ground_strikes[mask]\n",
    "\n",
    "mask = grappling['name'].isin(experienced_fighters)\n",
    "grappling = grappling[mask]"
   ]
  },
  {
   "cell_type": "markdown",
   "metadata": {},
   "source": [
    "### Measuring Takedown performance\n",
    "We can easily get the career averages by grouping a column by the fighters name and getting the average for whatever stat we want. First we'll look at the the Takedown Successes Differential per 15 Minutes, which is denoted as td_s_p15m_di in our table. This is a measure of how many more takedowns a fighter landed than their opponent for each 15 minutes they've fought in the UFC. \n",
    "\n",
    "#### Here is a function that generates bar graphs comparing two fighters stats."
   ]
  },
  {
   "cell_type": "code",
   "execution_count": 12,
   "metadata": {},
   "outputs": [],
   "source": [
    "def compare_stat(stat_df, \n",
    "                 stat, \n",
    "                 fighter_1='Conor McGregor', \n",
    "                 fighter_2='Khabib Nurmagomedov', \n",
    "                 graphic_des=False, \n",
    "                 fighter_1_offset=.1, \n",
    "                 fighter_2_offset=.1):\n",
    "    \"\"\"\n",
    "    input: stat_df -  one of the advanced statistics dataframes with a name column joined\n",
    "            stat - the stat used for comparison\n",
    "            fighter_1 and fighter_2 - the names of the fighters being compared\n",
    "            graphic_des - if True, generates a cleaner image used for reports\n",
    "            fighter_1_offset and fighter_2_offset - debugging parameters, use if\n",
    "                                                    numbers are misaligned on\n",
    "                                                    bar graph\n",
    "    \n",
    "    output: returns nothing, displays a matplotlib bar graph\n",
    "    \"\"\"\n",
    "    # getting min and max values for y dimensions, median used for formatting\n",
    "    min_stat_rating = (stat_df.groupby('name')[stat].mean()).describe()['min']\n",
    "    max_stat_rating = (stat_df.groupby('name')[stat].mean()).describe()['max']\n",
    "    median_stat_rating = (stat_df.groupby('name')[stat].mean()).describe()['50%']\n",
    "\n",
    "    #### Calculate stats for each fighter\n",
    "    fighter_2_stat = stat_df[stat_df['name']==fighter_2][stat].mean()\n",
    "    fighter_1_stat = stat_df[stat_df['name']==fighter_1][stat].mean()\n",
    "\n",
    "    # if the fighters score is below the median, the bar graph turns red\n",
    "    # and the number is flipped to the bottom of the graph\n",
    "    if fighter_1_stat>median_stat_rating:\n",
    "        fighter_1_pos = 'bottom'\n",
    "        fighter_1_col = 'tab:blue'\n",
    "    else:\n",
    "        fighter_1_pos = 'top'\n",
    "        fighter_1_col = 'tab:red'\n",
    "    if fighter_2_stat>median_stat_rating:\n",
    "        fighter_2_pos = 'bottom'\n",
    "        fighter_2_col = 'tab:blue'\n",
    "    else:\n",
    "        fighter_2_pos = 'top'\n",
    "        fighter_2_col = 'tab:red'\n",
    "        \n",
    "    \n",
    "    # graph\n",
    "    fig, ax = plt.subplots(1,1, figsize=(5, 10))\n",
    "    # set dimensions\n",
    "    ax.set_ylim(min_stat_rating, max_stat_rating)\n",
    "    # label columns with stat score\n",
    "    ax.text(x=-0.125, y=fighter_1_stat-fighter_1_offset, \n",
    "            s=str(round(fighter_1_stat, 2)), \n",
    "            ha='center', \n",
    "            va=fighter_1_pos, \n",
    "            fontsize=35)\n",
    "    ax.text(x=0.125, y=fighter_2_stat-fighter_2_offset, \n",
    "            s=str(round(fighter_2_stat, 2)), \n",
    "            ha='center', \n",
    "            va=fighter_2_pos, \n",
    "            fontsize=35)\n",
    "    \n",
    "    # yticks give context for scale\n",
    "    plt.yticks([median_stat_rating, max_stat_rating, min_stat_rating], labels=['Average\\nRating', 'Best\\nRating', 'Worst\\nRating'], fontsize=25)\n",
    "    \n",
    "    # graph stats\n",
    "    ax.bar(x=[-0.125], height=[fighter_1_stat], bottom=median_stat_rating, color=fighter_1_col, width=.2)\n",
    "    ax.bar(x=[.125], height=[fighter_2_stat], bottom=median_stat_rating, color=fighter_2_col, width=.2)\n",
    "    \n",
    "    if graphic_des:\n",
    "        #### Here's a minimalist graph for graphic design use\n",
    "        # hide ticks\n",
    "        ax.tick_params(\n",
    "            axis='both',\n",
    "            which='both',\n",
    "            bottom=False,\n",
    "            top=False,\n",
    "            labelbottom=False)\n",
    "        #export image\n",
    "        plt.tight_layout()\n",
    "        plt.savefig('../../report/figures/con_kha_'+stat+'.png', transparent=True)\n",
    "    else:\n",
    "        ax.set_ylabel(stat)\n",
    "        plt.xticks([-.125,.125], labels=['\\n'.join(fighter_1.split(' ')), '\\n'.join(fighter_2.split(' '))], fontsize=25)"
   ]
  },
  {
   "cell_type": "code",
   "execution_count": 13,
   "metadata": {},
   "outputs": [
    {
     "data": {
      "image/png": "[encoded data removed]",
      "text/plain": [
       "<Figure size 360x720 with 1 Axes>"
      ]
     },
     "metadata": {},
     "output_type": "display_data"
    }
   ],
   "source": [
    "compare_stat(takedowns, 'td_s_p15m_di', graphic_des=False, fighter_1_offset=.3, fighter_2_offset=.2)"
   ]
  },
  {
   "cell_type": "markdown",
   "metadata": {},
   "source": [
    "#### Khabib has a significantly higher takedown differential, representing his grappling advantage over Conor."
   ]
  },
  {
   "cell_type": "markdown",
   "metadata": {},
   "source": [
    "### Ground Strike performance"
   ]
  },
  {
   "cell_type": "code",
   "execution_count": 14,
   "metadata": {},
   "outputs": [
    {
     "data": {
      "image/png": "[encoded data removed]",
      "text/plain": [
       "<Figure size 360x720 with 1 Axes>"
      ]
     },
     "metadata": {},
     "output_type": "display_data"
    }
   ],
   "source": [
    "compare_stat(ground_strikes, 'ground_s_p1m_di', graphic_des=False, fighter_1_offset=.1, fighter_2_offset=.1)"
   ]
  },
  {
   "cell_type": "markdown",
   "metadata": {},
   "source": [
    "#### At this scale, this measure does not appear to show that Khabib is known for ground and pound.\n",
    "this could be due to Conor's tko's counting as ground strikes."
   ]
  },
  {
   "cell_type": "markdown",
   "metadata": {},
   "source": [
    "### Submission performance"
   ]
  },
  {
   "cell_type": "code",
   "execution_count": 15,
   "metadata": {},
   "outputs": [
    {
     "data": {
      "image/png": "[encoded data removed]",
      "text/plain": [
       "<Figure size 360x720 with 1 Axes>"
      ]
     },
     "metadata": {},
     "output_type": "display_data"
    }
   ],
   "source": [
    "compare_stat(grappling, 'sub_att_p15m_di', graphic_des=False, fighter_1_offset=0, fighter_2_offset=.2)"
   ]
  },
  {
   "cell_type": "markdown",
   "metadata": {},
   "source": [
    "#### It's important to note that this is submission 'attempts' per minute and does not include successful submissions. Khabib has rarely been in the position to be submitted, but Conor was submitted by Nate Diaz. One thing it does not show is that Khabib has won 3 of his fights by submission, so sub attempts does not seem to be a strong stylistic indicator"
   ]
  },
  {
   "cell_type": "markdown",
   "metadata": {},
   "source": [
    "## Striking Stats\n",
    "Here we will look at strikes from a distance and knockdown differentials to see if they show how well-rounded Khabib is and how skilled Conor is."
   ]
  },
  {
   "cell_type": "code",
   "execution_count": 16,
   "metadata": {},
   "outputs": [],
   "source": [
    "distance_ss_stats = pd.read_csv('../../data/ufcstats_data/advanced_stats/distance_ss_stats.csv')\n",
    "knockdown_stats = pd.read_csv('../../data/ufcstats_data/advanced_stats/knockdown_stats.csv')"
   ]
  },
  {
   "cell_type": "markdown",
   "metadata": {},
   "source": [
    "Each fighter name can be linked to the stat tables using the unique fighter_link identifier. Then all dates will be connected via the bout_link identifier"
   ]
  },
  {
   "cell_type": "code",
   "execution_count": 17,
   "metadata": {},
   "outputs": [
    {
     "data": {
      "text/html": [
       "<div>\n",
       "<style scoped>\n",
       "    .dataframe tbody tr th:only-of-type {\n",
       "        vertical-align: middle;\n",
       "    }\n",
       "\n",
       "    .dataframe tbody tr th {\n",
       "        vertical-align: top;\n",
       "    }\n",
       "\n",
       "    .dataframe thead th {\n",
       "        text-align: right;\n",
       "    }\n",
       "</style>\n",
       "<table border=\"1\" class=\"dataframe\">\n",
       "  <thead>\n",
       "    <tr style=\"text-align: right;\">\n",
       "      <th></th>\n",
       "      <th>round</th>\n",
       "      <th>bout_link</th>\n",
       "      <th>fighter_link</th>\n",
       "      <th>distance_a_p1m</th>\n",
       "      <th>distance_s_p1m</th>\n",
       "      <th>distance_a_p15m</th>\n",
       "      <th>distance_s_p15m</th>\n",
       "      <th>distance_ac</th>\n",
       "      <th>distance_de</th>\n",
       "      <th>distance_s_pr_di</th>\n",
       "      <th>distance_a_pr_di</th>\n",
       "      <th>distance_s_p1m_di</th>\n",
       "      <th>distance_a_p1m_di</th>\n",
       "      <th>distance_s_p15m_di</th>\n",
       "      <th>distance_a_p15m_di</th>\n",
       "    </tr>\n",
       "  </thead>\n",
       "  <tbody>\n",
       "    <tr>\n",
       "      <th>0</th>\n",
       "      <td>1</td>\n",
       "      <td>http://www.ufcstats.com/fight-details/11f715fa...</td>\n",
       "      <td>http://www.ufcstats.com/fighter-details/e1147d...</td>\n",
       "      <td>5.800000</td>\n",
       "      <td>2.000000</td>\n",
       "      <td>87.000000</td>\n",
       "      <td>30.000000</td>\n",
       "      <td>0.344828</td>\n",
       "      <td>0.666667</td>\n",
       "      <td>4</td>\n",
       "      <td>11</td>\n",
       "      <td>0.800000</td>\n",
       "      <td>2.200000</td>\n",
       "      <td>12.000000</td>\n",
       "      <td>33.000000</td>\n",
       "    </tr>\n",
       "    <tr>\n",
       "      <th>1</th>\n",
       "      <td>2</td>\n",
       "      <td>http://www.ufcstats.com/fight-details/11f715fa...</td>\n",
       "      <td>http://www.ufcstats.com/fighter-details/e1147d...</td>\n",
       "      <td>4.600000</td>\n",
       "      <td>2.000000</td>\n",
       "      <td>69.000000</td>\n",
       "      <td>30.000000</td>\n",
       "      <td>0.434783</td>\n",
       "      <td>0.750000</td>\n",
       "      <td>7</td>\n",
       "      <td>11</td>\n",
       "      <td>1.400000</td>\n",
       "      <td>2.200000</td>\n",
       "      <td>21.000000</td>\n",
       "      <td>33.000000</td>\n",
       "    </tr>\n",
       "    <tr>\n",
       "      <th>2</th>\n",
       "      <td>3</td>\n",
       "      <td>http://www.ufcstats.com/fight-details/11f715fa...</td>\n",
       "      <td>http://www.ufcstats.com/fighter-details/e1147d...</td>\n",
       "      <td>6.000000</td>\n",
       "      <td>2.200000</td>\n",
       "      <td>90.000000</td>\n",
       "      <td>33.000000</td>\n",
       "      <td>0.366667</td>\n",
       "      <td>0.750000</td>\n",
       "      <td>6</td>\n",
       "      <td>10</td>\n",
       "      <td>1.200000</td>\n",
       "      <td>2.000000</td>\n",
       "      <td>18.000000</td>\n",
       "      <td>30.000000</td>\n",
       "    </tr>\n",
       "    <tr>\n",
       "      <th>3</th>\n",
       "      <td>4</td>\n",
       "      <td>http://www.ufcstats.com/fight-details/11f715fa...</td>\n",
       "      <td>http://www.ufcstats.com/fighter-details/e1147d...</td>\n",
       "      <td>6.200000</td>\n",
       "      <td>2.400000</td>\n",
       "      <td>93.000000</td>\n",
       "      <td>36.000000</td>\n",
       "      <td>0.387097</td>\n",
       "      <td>0.625000</td>\n",
       "      <td>6</td>\n",
       "      <td>15</td>\n",
       "      <td>1.200000</td>\n",
       "      <td>3.000000</td>\n",
       "      <td>18.000000</td>\n",
       "      <td>45.000000</td>\n",
       "    </tr>\n",
       "    <tr>\n",
       "      <th>4</th>\n",
       "      <td>5</td>\n",
       "      <td>http://www.ufcstats.com/fight-details/11f715fa...</td>\n",
       "      <td>http://www.ufcstats.com/fighter-details/e1147d...</td>\n",
       "      <td>5.200000</td>\n",
       "      <td>2.800000</td>\n",
       "      <td>78.000000</td>\n",
       "      <td>42.000000</td>\n",
       "      <td>0.538462</td>\n",
       "      <td>0.476190</td>\n",
       "      <td>3</td>\n",
       "      <td>5</td>\n",
       "      <td>0.600000</td>\n",
       "      <td>1.000000</td>\n",
       "      <td>9.000000</td>\n",
       "      <td>15.000000</td>\n",
       "    </tr>\n",
       "    <tr>\n",
       "      <th>...</th>\n",
       "      <td>...</td>\n",
       "      <td>...</td>\n",
       "      <td>...</td>\n",
       "      <td>...</td>\n",
       "      <td>...</td>\n",
       "      <td>...</td>\n",
       "      <td>...</td>\n",
       "      <td>...</td>\n",
       "      <td>...</td>\n",
       "      <td>...</td>\n",
       "      <td>...</td>\n",
       "      <td>...</td>\n",
       "      <td>...</td>\n",
       "      <td>...</td>\n",
       "      <td>...</td>\n",
       "    </tr>\n",
       "    <tr>\n",
       "      <th>25767</th>\n",
       "      <td>1</td>\n",
       "      <td>http://www.ufcstats.com/fight-details/693e4a0b...</td>\n",
       "      <td>http://www.ufcstats.com/fighter-details/669a3c...</td>\n",
       "      <td>0.600000</td>\n",
       "      <td>0.000000</td>\n",
       "      <td>9.000000</td>\n",
       "      <td>0.000000</td>\n",
       "      <td>0.000000</td>\n",
       "      <td>0.782609</td>\n",
       "      <td>-5</td>\n",
       "      <td>-20</td>\n",
       "      <td>-1.000000</td>\n",
       "      <td>-4.000000</td>\n",
       "      <td>-15.000000</td>\n",
       "      <td>-60.000000</td>\n",
       "    </tr>\n",
       "    <tr>\n",
       "      <th>25768</th>\n",
       "      <td>2</td>\n",
       "      <td>http://www.ufcstats.com/fight-details/693e4a0b...</td>\n",
       "      <td>http://www.ufcstats.com/fighter-details/669a3c...</td>\n",
       "      <td>3.037975</td>\n",
       "      <td>0.000000</td>\n",
       "      <td>45.569620</td>\n",
       "      <td>0.000000</td>\n",
       "      <td>0.000000</td>\n",
       "      <td>0.454545</td>\n",
       "      <td>-6</td>\n",
       "      <td>-7</td>\n",
       "      <td>-4.556962</td>\n",
       "      <td>-5.316456</td>\n",
       "      <td>-68.354430</td>\n",
       "      <td>-79.746835</td>\n",
       "    </tr>\n",
       "    <tr>\n",
       "      <th>25769</th>\n",
       "      <td>1</td>\n",
       "      <td>http://www.ufcstats.com/fight-details/c6f85419...</td>\n",
       "      <td>http://www.ufcstats.com/fighter-details/a54a35...</td>\n",
       "      <td>3.157895</td>\n",
       "      <td>1.403509</td>\n",
       "      <td>47.368421</td>\n",
       "      <td>21.052632</td>\n",
       "      <td>0.444444</td>\n",
       "      <td>0.466667</td>\n",
       "      <td>-4</td>\n",
       "      <td>-6</td>\n",
       "      <td>-1.403509</td>\n",
       "      <td>-2.105263</td>\n",
       "      <td>-21.052632</td>\n",
       "      <td>-31.578947</td>\n",
       "    </tr>\n",
       "    <tr>\n",
       "      <th>25770</th>\n",
       "      <td>1</td>\n",
       "      <td>http://www.ufcstats.com/fight-details/1db8bed8...</td>\n",
       "      <td>http://www.ufcstats.com/fighter-details/911fb2...</td>\n",
       "      <td>0.400000</td>\n",
       "      <td>0.000000</td>\n",
       "      <td>6.000000</td>\n",
       "      <td>0.000000</td>\n",
       "      <td>0.000000</td>\n",
       "      <td>NaN</td>\n",
       "      <td>0</td>\n",
       "      <td>2</td>\n",
       "      <td>0.000000</td>\n",
       "      <td>0.400000</td>\n",
       "      <td>0.000000</td>\n",
       "      <td>6.000000</td>\n",
       "    </tr>\n",
       "    <tr>\n",
       "      <th>25771</th>\n",
       "      <td>2</td>\n",
       "      <td>http://www.ufcstats.com/fight-details/1db8bed8...</td>\n",
       "      <td>http://www.ufcstats.com/fighter-details/911fb2...</td>\n",
       "      <td>0.200000</td>\n",
       "      <td>0.000000</td>\n",
       "      <td>3.000000</td>\n",
       "      <td>0.000000</td>\n",
       "      <td>0.000000</td>\n",
       "      <td>NaN</td>\n",
       "      <td>0</td>\n",
       "      <td>1</td>\n",
       "      <td>0.000000</td>\n",
       "      <td>0.200000</td>\n",
       "      <td>0.000000</td>\n",
       "      <td>3.000000</td>\n",
       "    </tr>\n",
       "  </tbody>\n",
       "</table>\n",
       "<p>25772 rows × 15 columns</p>\n",
       "</div>"
      ],
      "text/plain": [
       "       round                                          bout_link  \\\n",
       "0          1  http://www.ufcstats.com/fight-details/11f715fa...   \n",
       "1          2  http://www.ufcstats.com/fight-details/11f715fa...   \n",
       "2          3  http://www.ufcstats.com/fight-details/11f715fa...   \n",
       "3          4  http://www.ufcstats.com/fight-details/11f715fa...   \n",
       "4          5  http://www.ufcstats.com/fight-details/11f715fa...   \n",
       "...      ...                                                ...   \n",
       "25767      1  http://www.ufcstats.com/fight-details/693e4a0b...   \n",
       "25768      2  http://www.ufcstats.com/fight-details/693e4a0b...   \n",
       "25769      1  http://www.ufcstats.com/fight-details/c6f85419...   \n",
       "25770      1  http://www.ufcstats.com/fight-details/1db8bed8...   \n",
       "25771      2  http://www.ufcstats.com/fight-details/1db8bed8...   \n",
       "\n",
       "                                            fighter_link  distance_a_p1m  \\\n",
       "0      http://www.ufcstats.com/fighter-details/e1147d...        5.800000   \n",
       "1      http://www.ufcstats.com/fighter-details/e1147d...        4.600000   \n",
       "2      http://www.ufcstats.com/fighter-details/e1147d...        6.000000   \n",
       "3      http://www.ufcstats.com/fighter-details/e1147d...        6.200000   \n",
       "4      http://www.ufcstats.com/fighter-details/e1147d...        5.200000   \n",
       "...                                                  ...             ...   \n",
       "25767  http://www.ufcstats.com/fighter-details/669a3c...        0.600000   \n",
       "25768  http://www.ufcstats.com/fighter-details/669a3c...        3.037975   \n",
       "25769  http://www.ufcstats.com/fighter-details/a54a35...        3.157895   \n",
       "25770  http://www.ufcstats.com/fighter-details/911fb2...        0.400000   \n",
       "25771  http://www.ufcstats.com/fighter-details/911fb2...        0.200000   \n",
       "\n",
       "       distance_s_p1m  distance_a_p15m  distance_s_p15m  distance_ac  \\\n",
       "0            2.000000        87.000000        30.000000     0.344828   \n",
       "1            2.000000        69.000000        30.000000     0.434783   \n",
       "2            2.200000        90.000000        33.000000     0.366667   \n",
       "3            2.400000        93.000000        36.000000     0.387097   \n",
       "4            2.800000        78.000000        42.000000     0.538462   \n",
       "...               ...              ...              ...          ...   \n",
       "25767        0.000000         9.000000         0.000000     0.000000   \n",
       "25768        0.000000        45.569620         0.000000     0.000000   \n",
       "25769        1.403509        47.368421        21.052632     0.444444   \n",
       "25770        0.000000         6.000000         0.000000     0.000000   \n",
       "25771        0.000000         3.000000         0.000000     0.000000   \n",
       "\n",
       "       distance_de  distance_s_pr_di  distance_a_pr_di  distance_s_p1m_di  \\\n",
       "0         0.666667                 4                11           0.800000   \n",
       "1         0.750000                 7                11           1.400000   \n",
       "2         0.750000                 6                10           1.200000   \n",
       "3         0.625000                 6                15           1.200000   \n",
       "4         0.476190                 3                 5           0.600000   \n",
       "...            ...               ...               ...                ...   \n",
       "25767     0.782609                -5               -20          -1.000000   \n",
       "25768     0.454545                -6                -7          -4.556962   \n",
       "25769     0.466667                -4                -6          -1.403509   \n",
       "25770          NaN                 0                 2           0.000000   \n",
       "25771          NaN                 0                 1           0.000000   \n",
       "\n",
       "       distance_a_p1m_di  distance_s_p15m_di  distance_a_p15m_di  \n",
       "0               2.200000           12.000000           33.000000  \n",
       "1               2.200000           21.000000           33.000000  \n",
       "2               2.000000           18.000000           30.000000  \n",
       "3               3.000000           18.000000           45.000000  \n",
       "4               1.000000            9.000000           15.000000  \n",
       "...                  ...                 ...                 ...  \n",
       "25767          -4.000000          -15.000000          -60.000000  \n",
       "25768          -5.316456          -68.354430          -79.746835  \n",
       "25769          -2.105263          -21.052632          -31.578947  \n",
       "25770           0.400000            0.000000            6.000000  \n",
       "25771           0.200000            0.000000            3.000000  \n",
       "\n",
       "[25772 rows x 15 columns]"
      ]
     },
     "execution_count": 17,
     "metadata": {},
     "output_type": "execute_result"
    }
   ],
   "source": [
    "distance_ss_stats"
   ]
  },
  {
   "cell_type": "code",
   "execution_count": 18,
   "metadata": {},
   "outputs": [],
   "source": [
    "distance_ss_stats = distance_ss_stats.join(fighters.set_index('link'), on='fighter_link')\n",
    "knockdown_stats = knockdown_stats.join(fighters.set_index('link'), on='fighter_link')\n",
    "\n",
    "distance_ss_stats = distance_ss_stats.join(bouts.set_index('link'), on='bout_link')\n",
    "knockdown_stats = knockdown_stats.join(bouts.set_index('link'), on='bout_link')\n",
    "\n",
    "#### We have some rows with missing names, we remove them here\n",
    "distance_ss_stats.dropna(subset=['name'], inplace=True, axis=0)\n",
    "knockdown_stats.dropna(subset=['name'], inplace=True, axis=0)"
   ]
  },
  {
   "cell_type": "markdown",
   "metadata": {},
   "source": [
    "#### Removing fighters with less than 3 fights"
   ]
  },
  {
   "cell_type": "code",
   "execution_count": 19,
   "metadata": {},
   "outputs": [],
   "source": [
    "# calculate number of bouts for each fighter\n",
    "bouts_by_name = pd.DataFrame(takedowns.groupby(['bout_link', 'fighter_link']).name.max())\n",
    "number_of_bouts = bouts_by_name.groupby('name').name.count()\n",
    "\n",
    "# subset only the fighters who have had at least 3 bouts\n",
    "experienced_fighters = list(number_of_bouts[number_of_bouts>=3].index)\n",
    "\n",
    "# Remove inexperienced fighters\n",
    "mask = distance_ss_stats['name'].isin(experienced_fighters)\n",
    "distance_ss_stats = distance_ss_stats[mask]\n",
    "mask = knockdown_stats['name'].isin(experienced_fighters)\n",
    "knockdown_stats = knockdown_stats[mask]"
   ]
  },
  {
   "cell_type": "markdown",
   "metadata": {},
   "source": [
    "#### Average Knockdowns"
   ]
  },
  {
   "cell_type": "code",
   "execution_count": 20,
   "metadata": {},
   "outputs": [
    {
     "data": {
      "image/png": "[encoded data removed]",
      "text/plain": [
       "<Figure size 360x720 with 1 Axes>"
      ]
     },
     "metadata": {},
     "output_type": "display_data"
    }
   ],
   "source": [
    "compare_stat(knockdown_stats, 'kd_p15m_di', graphic_des=False)"
   ]
  },
  {
   "cell_type": "markdown",
   "metadata": {},
   "source": [
    "#### This does show Conor's striking advantage, but not in a very compelling way. Maybe a regular bar graph would do better."
   ]
  },
  {
   "cell_type": "markdown",
   "metadata": {},
   "source": [
    "### Strikes at a Distance"
   ]
  },
  {
   "cell_type": "code",
   "execution_count": 21,
   "metadata": {},
   "outputs": [
    {
     "data": {
      "image/png": "[encoded data removed]",
      "text/plain": [
       "<Figure size 360x720 with 1 Axes>"
      ]
     },
     "metadata": {},
     "output_type": "display_data"
    }
   ],
   "source": [
    "compare_stat(distance_ss_stats, 'distance_s_p1m_di', graphic_des=False)"
   ]
  },
  {
   "cell_type": "markdown",
   "metadata": {},
   "source": [
    "#### These two differentials do highlight Conor's striking advantage without ignoring the fact that Khabib is still well rounded and possesses better than average striking skills."
   ]
  },
  {
   "cell_type": "markdown",
   "metadata": {},
   "source": [
    "### Next Steps\n",
    "The differentials work well as a metric of fighter tendencies, I will measure their predictive capabilities next. I should also look into better ways of diplaying the metrics, as the graphs used here were difficult to interpret. A regular bargraph starting at the worst rating and changing colors as it gets higher may be more intuitive for an MMA fan looking for quick stats."
   ]
  },
  {
   "cell_type": "code",
   "execution_count": null,
   "metadata": {},
   "outputs": [],
   "source": []
  }
 ],
 "metadata": {
  "kernelspec": {
   "display_name": "Python 3",
   "language": "python",
   "name": "python3"
  },
  "language_info": {
   "codemirror_mode": {
    "name": "ipython",
    "version": 3
   },
   "file_extension": ".py",
   "mimetype": "text/x-python",
   "name": "python",
   "nbconvert_exporter": "python",
   "pygments_lexer": "ipython3",
   "version": "3.8.3"
  }
 },
 "nbformat": 4,
 "nbformat_minor": 4
}
