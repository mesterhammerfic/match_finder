{
 "cells": [
  {
   "cell_type": "markdown",
   "metadata": {},
   "source": [
    "# Purpose\n",
    "This notebook serves as an exploratory analysis of new metrics created in this project. The primary metrics used are differentials, which measure the difference in the rate of techniques used between a fighter and his opponent. For instance, if fighter A lands 50 strikes-per-minute, and fighter B lands 30 strikes-per-minute, fighter A has a strikes-per-minute-differential (S/PM-Di) of 20, and fighter B would be rated at -20.\n",
    "#### Limitations\n",
    "This metric rates low accuracy strikers with great defense as being equal to high accuracy fighters with poor defense, beacuse the rate gets lower with every punch the fighter recieves.\n",
    "\n",
    "As a case study for these metrics we are going to compare Khabib Nurmagomedov with Conor McGregor. Khabib is considered one of the best wrestlers of all time, while Conor is considered to be one of the best strikers of all time. In their matchup, Conor was unable to effectively use his striking against Khabib, and Khabib took him down repeatedly before submitting him. We want to see if our new metrics capture the nature of this performance better than the metrics commonly used in Mixed Martial Arts today."
   ]
  },
  {
   "cell_type": "code",
   "execution_count": 1,
   "metadata": {},
   "outputs": [],
   "source": [
    "%load_ext autoreload\n",
    "%autoreload 2\n",
    "\n",
    "import os\n",
    "import sys\n",
    "module_path = os.path.abspath(os.path.join(os.pardir, os.pardir))\n",
    "if module_path not in sys.path:\n",
    "    sys.path.append(module_path)\n",
    "\n",
    "import pandas as pd\n",
    "from sqlalchemy import create_engine\n",
    "from src import local\n",
    "from src import functions\n",
    "import matplotlib.pyplot as plt\n",
    "import seaborn as sns\n",
    "from scipy.stats import ttest_ind"
   ]
  },
  {
   "cell_type": "markdown",
   "metadata": {},
   "source": [
    "### Grappling Stats import\n",
    "Here we import our grappling stats data, this has advanced statistics on reversals, submission attempts, and guard passes for every round in the UFC. We also import our ground strikes and takedown stats, which measure how many strikes are landed on the ground and how many takedowns an opponent lands. Each row in this data set is a single round in the UFC."
   ]
  },
  {
   "cell_type": "code",
   "execution_count": 5,
   "metadata": {},
   "outputs": [
    {
     "data": {
      "text/html": [
       "<div>\n",
       "<style scoped>\n",
       "    .dataframe tbody tr th:only-of-type {\n",
       "        vertical-align: middle;\n",
       "    }\n",
       "\n",
       "    .dataframe tbody tr th {\n",
       "        vertical-align: top;\n",
       "    }\n",
       "\n",
       "    .dataframe thead th {\n",
       "        text-align: right;\n",
       "    }\n",
       "</style>\n",
       "<table border=\"1\" class=\"dataframe\">\n",
       "  <thead>\n",
       "    <tr style=\"text-align: right;\">\n",
       "      <th></th>\n",
       "      <th>round</th>\n",
       "      <th>bout_link</th>\n",
       "      <th>fighter_link</th>\n",
       "      <th>rev_p1m</th>\n",
       "      <th>rev_p15m</th>\n",
       "      <th>pass_p1m</th>\n",
       "      <th>pass_p15m</th>\n",
       "      <th>sub_att_p1m</th>\n",
       "      <th>sub_att_p15m</th>\n",
       "      <th>rev_pr_di</th>\n",
       "      <th>rev_p1m_di</th>\n",
       "      <th>rev_p15m_di</th>\n",
       "      <th>pass_pr_di</th>\n",
       "      <th>pass_p1m_di</th>\n",
       "      <th>pass_p15m_di</th>\n",
       "      <th>sub_att_pr_di</th>\n",
       "      <th>sub_att_p1m_di</th>\n",
       "      <th>sub_att_p15m_di</th>\n",
       "    </tr>\n",
       "  </thead>\n",
       "  <tbody>\n",
       "    <tr>\n",
       "      <th>0</th>\n",
       "      <td>1</td>\n",
       "      <td>http://www.ufcstats.com/fight-details/11f715fa...</td>\n",
       "      <td>http://www.ufcstats.com/fighter-details/e1147d...</td>\n",
       "      <td>0.0</td>\n",
       "      <td>0.0</td>\n",
       "      <td>0.0</td>\n",
       "      <td>0.0</td>\n",
       "      <td>0.0</td>\n",
       "      <td>0.0</td>\n",
       "      <td>0</td>\n",
       "      <td>0.0</td>\n",
       "      <td>0.0</td>\n",
       "      <td>0</td>\n",
       "      <td>0.0</td>\n",
       "      <td>0.0</td>\n",
       "      <td>0</td>\n",
       "      <td>0.0</td>\n",
       "      <td>0.0</td>\n",
       "    </tr>\n",
       "    <tr>\n",
       "      <th>1</th>\n",
       "      <td>2</td>\n",
       "      <td>http://www.ufcstats.com/fight-details/11f715fa...</td>\n",
       "      <td>http://www.ufcstats.com/fighter-details/e1147d...</td>\n",
       "      <td>0.0</td>\n",
       "      <td>0.0</td>\n",
       "      <td>0.2</td>\n",
       "      <td>3.0</td>\n",
       "      <td>0.0</td>\n",
       "      <td>0.0</td>\n",
       "      <td>0</td>\n",
       "      <td>0.0</td>\n",
       "      <td>0.0</td>\n",
       "      <td>1</td>\n",
       "      <td>0.2</td>\n",
       "      <td>3.0</td>\n",
       "      <td>0</td>\n",
       "      <td>0.0</td>\n",
       "      <td>0.0</td>\n",
       "    </tr>\n",
       "    <tr>\n",
       "      <th>2</th>\n",
       "      <td>3</td>\n",
       "      <td>http://www.ufcstats.com/fight-details/11f715fa...</td>\n",
       "      <td>http://www.ufcstats.com/fighter-details/e1147d...</td>\n",
       "      <td>0.0</td>\n",
       "      <td>0.0</td>\n",
       "      <td>0.0</td>\n",
       "      <td>0.0</td>\n",
       "      <td>0.0</td>\n",
       "      <td>0.0</td>\n",
       "      <td>0</td>\n",
       "      <td>0.0</td>\n",
       "      <td>0.0</td>\n",
       "      <td>0</td>\n",
       "      <td>0.0</td>\n",
       "      <td>0.0</td>\n",
       "      <td>0</td>\n",
       "      <td>0.0</td>\n",
       "      <td>0.0</td>\n",
       "    </tr>\n",
       "    <tr>\n",
       "      <th>3</th>\n",
       "      <td>4</td>\n",
       "      <td>http://www.ufcstats.com/fight-details/11f715fa...</td>\n",
       "      <td>http://www.ufcstats.com/fighter-details/e1147d...</td>\n",
       "      <td>0.0</td>\n",
       "      <td>0.0</td>\n",
       "      <td>0.0</td>\n",
       "      <td>0.0</td>\n",
       "      <td>0.0</td>\n",
       "      <td>0.0</td>\n",
       "      <td>0</td>\n",
       "      <td>0.0</td>\n",
       "      <td>0.0</td>\n",
       "      <td>0</td>\n",
       "      <td>0.0</td>\n",
       "      <td>0.0</td>\n",
       "      <td>0</td>\n",
       "      <td>0.0</td>\n",
       "      <td>0.0</td>\n",
       "    </tr>\n",
       "    <tr>\n",
       "      <th>4</th>\n",
       "      <td>5</td>\n",
       "      <td>http://www.ufcstats.com/fight-details/11f715fa...</td>\n",
       "      <td>http://www.ufcstats.com/fighter-details/e1147d...</td>\n",
       "      <td>0.0</td>\n",
       "      <td>0.0</td>\n",
       "      <td>0.0</td>\n",
       "      <td>0.0</td>\n",
       "      <td>0.0</td>\n",
       "      <td>0.0</td>\n",
       "      <td>0</td>\n",
       "      <td>0.0</td>\n",
       "      <td>0.0</td>\n",
       "      <td>0</td>\n",
       "      <td>0.0</td>\n",
       "      <td>0.0</td>\n",
       "      <td>0</td>\n",
       "      <td>0.0</td>\n",
       "      <td>0.0</td>\n",
       "    </tr>\n",
       "  </tbody>\n",
       "</table>\n",
       "</div>"
      ],
      "text/plain": [
       "   round                                          bout_link  \\\n",
       "0      1  http://www.ufcstats.com/fight-details/11f715fa...   \n",
       "1      2  http://www.ufcstats.com/fight-details/11f715fa...   \n",
       "2      3  http://www.ufcstats.com/fight-details/11f715fa...   \n",
       "3      4  http://www.ufcstats.com/fight-details/11f715fa...   \n",
       "4      5  http://www.ufcstats.com/fight-details/11f715fa...   \n",
       "\n",
       "                                        fighter_link  rev_p1m  rev_p15m  \\\n",
       "0  http://www.ufcstats.com/fighter-details/e1147d...      0.0       0.0   \n",
       "1  http://www.ufcstats.com/fighter-details/e1147d...      0.0       0.0   \n",
       "2  http://www.ufcstats.com/fighter-details/e1147d...      0.0       0.0   \n",
       "3  http://www.ufcstats.com/fighter-details/e1147d...      0.0       0.0   \n",
       "4  http://www.ufcstats.com/fighter-details/e1147d...      0.0       0.0   \n",
       "\n",
       "   pass_p1m  pass_p15m  sub_att_p1m  sub_att_p15m  rev_pr_di  rev_p1m_di  \\\n",
       "0       0.0        0.0          0.0           0.0          0         0.0   \n",
       "1       0.2        3.0          0.0           0.0          0         0.0   \n",
       "2       0.0        0.0          0.0           0.0          0         0.0   \n",
       "3       0.0        0.0          0.0           0.0          0         0.0   \n",
       "4       0.0        0.0          0.0           0.0          0         0.0   \n",
       "\n",
       "   rev_p15m_di  pass_pr_di  pass_p1m_di  pass_p15m_di  sub_att_pr_di  \\\n",
       "0          0.0           0          0.0           0.0              0   \n",
       "1          0.0           1          0.2           3.0              0   \n",
       "2          0.0           0          0.0           0.0              0   \n",
       "3          0.0           0          0.0           0.0              0   \n",
       "4          0.0           0          0.0           0.0              0   \n",
       "\n",
       "   sub_att_p1m_di  sub_att_p15m_di  \n",
       "0             0.0              0.0  \n",
       "1             0.0              0.0  \n",
       "2             0.0              0.0  \n",
       "3             0.0              0.0  \n",
       "4             0.0              0.0  "
      ]
     },
     "execution_count": 5,
     "metadata": {},
     "output_type": "execute_result"
    }
   ],
   "source": [
    "grappling = pd.read_csv('../../data/ufcstats_data/advanced_stats/grappling_stats.csv')\n",
    "ground_strikes = pd.read_csv('../../data/ufcstats_data/advanced_stats/ground_ss_stats.csv')\n",
    "takedowns = pd.read_csv('../../data/ufcstats_data/advanced_stats/takedown_stats.csv')\n",
    "grappling.head()"
   ]
  },
  {
   "cell_type": "markdown",
   "metadata": {},
   "source": [
    "#### In order to get name and date information, we need to merge these dataframes with our bouts and fighters tables. For this, we'll use sql as it will allow us to specify the exact rows we want."
   ]
  },
  {
   "cell_type": "code",
   "execution_count": 7,
   "metadata": {},
   "outputs": [
    {
     "data": {
      "text/html": [
       "<div>\n",
       "<style scoped>\n",
       "    .dataframe tbody tr th:only-of-type {\n",
       "        vertical-align: middle;\n",
       "    }\n",
       "\n",
       "    .dataframe tbody tr th {\n",
       "        vertical-align: top;\n",
       "    }\n",
       "\n",
       "    .dataframe thead th {\n",
       "        text-align: right;\n",
       "    }\n",
       "</style>\n",
       "<table border=\"1\" class=\"dataframe\">\n",
       "  <thead>\n",
       "    <tr style=\"text-align: right;\">\n",
       "      <th></th>\n",
       "      <th>name</th>\n",
       "      <th>link</th>\n",
       "    </tr>\n",
       "  </thead>\n",
       "  <tbody>\n",
       "    <tr>\n",
       "      <th>0</th>\n",
       "      <td>Fabiano Scherner</td>\n",
       "      <td>http://www.ufcstats.com/fighter-details/0bc7e6...</td>\n",
       "    </tr>\n",
       "    <tr>\n",
       "      <th>1</th>\n",
       "      <td>Alexandre Dantas</td>\n",
       "      <td>http://www.ufcstats.com/fighter-details/8dc46e...</td>\n",
       "    </tr>\n",
       "    <tr>\n",
       "      <th>2</th>\n",
       "      <td>Kevin Burns</td>\n",
       "      <td>http://www.ufcstats.com/fighter-details/a6d8bf...</td>\n",
       "    </tr>\n",
       "    <tr>\n",
       "      <th>3</th>\n",
       "      <td>Joseph Sandoval</td>\n",
       "      <td>http://www.ufcstats.com/fighter-details/696002...</td>\n",
       "    </tr>\n",
       "    <tr>\n",
       "      <th>4</th>\n",
       "      <td>Jose Aldo</td>\n",
       "      <td>http://www.ufcstats.com/fighter-details/d0f395...</td>\n",
       "    </tr>\n",
       "  </tbody>\n",
       "</table>\n",
       "</div>"
      ],
      "text/plain": [
       "               name                                               link\n",
       "0  Fabiano Scherner  http://www.ufcstats.com/fighter-details/0bc7e6...\n",
       "1  Alexandre Dantas  http://www.ufcstats.com/fighter-details/8dc46e...\n",
       "2       Kevin Burns  http://www.ufcstats.com/fighter-details/a6d8bf...\n",
       "3   Joseph Sandoval  http://www.ufcstats.com/fighter-details/696002...\n",
       "4         Jose Aldo  http://www.ufcstats.com/fighter-details/d0f395..."
      ]
     },
     "execution_count": 7,
     "metadata": {},
     "output_type": "execute_result"
    }
   ],
   "source": [
    "# Credentials\n",
    "USER = local.user \n",
    "PASS = local.password\n",
    "HOST = local.host\n",
    "PORT = local.port\n",
    "#create engine\n",
    "engine = create_engine(f'postgresql://{USER}:{PASS}@{HOST}:{PORT}/match_finder')\n",
    "\n",
    "query = \"\"\"\n",
    "SELECT name, link\n",
    "FROM fighters\n",
    "\"\"\"\n",
    "\n",
    "fighters = pd.read_sql(query, engine)\n",
    "\n",
    "fighters.head()"
   ]
  },
  {
   "cell_type": "code",
   "execution_count": 8,
   "metadata": {},
   "outputs": [
    {
     "data": {
      "text/html": [
       "<div>\n",
       "<style scoped>\n",
       "    .dataframe tbody tr th:only-of-type {\n",
       "        vertical-align: middle;\n",
       "    }\n",
       "\n",
       "    .dataframe tbody tr th {\n",
       "        vertical-align: top;\n",
       "    }\n",
       "\n",
       "    .dataframe thead th {\n",
       "        text-align: right;\n",
       "    }\n",
       "</style>\n",
       "<table border=\"1\" class=\"dataframe\">\n",
       "  <thead>\n",
       "    <tr style=\"text-align: right;\">\n",
       "      <th></th>\n",
       "      <th>date</th>\n",
       "      <th>link</th>\n",
       "    </tr>\n",
       "  </thead>\n",
       "  <tbody>\n",
       "    <tr>\n",
       "      <th>0</th>\n",
       "      <td>July 25, 2020</td>\n",
       "      <td>http://www.ufcstats.com/fight-details/11f715fa...</td>\n",
       "    </tr>\n",
       "    <tr>\n",
       "      <th>1</th>\n",
       "      <td>July 25, 2020</td>\n",
       "      <td>http://www.ufcstats.com/fight-details/11f715fa...</td>\n",
       "    </tr>\n",
       "    <tr>\n",
       "      <th>2</th>\n",
       "      <td>July 25, 2020</td>\n",
       "      <td>http://www.ufcstats.com/fight-details/11f715fa...</td>\n",
       "    </tr>\n",
       "    <tr>\n",
       "      <th>3</th>\n",
       "      <td>July 25, 2020</td>\n",
       "      <td>http://www.ufcstats.com/fight-details/11f715fa...</td>\n",
       "    </tr>\n",
       "    <tr>\n",
       "      <th>4</th>\n",
       "      <td>July 25, 2020</td>\n",
       "      <td>http://www.ufcstats.com/fight-details/11f715fa...</td>\n",
       "    </tr>\n",
       "  </tbody>\n",
       "</table>\n",
       "</div>"
      ],
      "text/plain": [
       "            date                                               link\n",
       "0  July 25, 2020  http://www.ufcstats.com/fight-details/11f715fa...\n",
       "1  July 25, 2020  http://www.ufcstats.com/fight-details/11f715fa...\n",
       "2  July 25, 2020  http://www.ufcstats.com/fight-details/11f715fa...\n",
       "3  July 25, 2020  http://www.ufcstats.com/fight-details/11f715fa...\n",
       "4  July 25, 2020  http://www.ufcstats.com/fight-details/11f715fa..."
      ]
     },
     "execution_count": 8,
     "metadata": {},
     "output_type": "execute_result"
    }
   ],
   "source": [
    "query = \"\"\"\n",
    "SELECT \"Date\" as date, bouts.link\n",
    "FROM bouts\n",
    "JOIN events on events.link = bouts.event_link\n",
    "\"\"\"\n",
    "bouts = pd.read_sql(query, engine)\n",
    "\n",
    "bouts.head()"
   ]
  },
  {
   "cell_type": "markdown",
   "metadata": {},
   "source": [
    "Each fighter name can be linked to the stat tables using the unique fighter_link identifier. Then all dates will be connected via the bout_link identifier"
   ]
  },
  {
   "cell_type": "code",
   "execution_count": 9,
   "metadata": {},
   "outputs": [],
   "source": [
    "grappling = grappling.join(fighters.set_index('link'), on='fighter_link')\n",
    "ground_strikes = ground_strikes.join(fighters.set_index('link'), on='fighter_link')\n",
    "takedowns = takedowns.join(fighters.set_index('link'), on='fighter_link')"
   ]
  },
  {
   "cell_type": "code",
   "execution_count": 10,
   "metadata": {},
   "outputs": [],
   "source": [
    "grappling = grappling.join(bouts.set_index('link'), on='bout_link')\n",
    "ground_strikes = ground_strikes.join(bouts.set_index('link'), on='bout_link')\n",
    "takedowns = takedowns.join(bouts.set_index('link'), on='bout_link')"
   ]
  },
  {
   "cell_type": "markdown",
   "metadata": {},
   "source": [
    "#### We have some rows with missing names, we remove them here"
   ]
  },
  {
   "cell_type": "code",
   "execution_count": 40,
   "metadata": {},
   "outputs": [],
   "source": [
    "grappling.dropna(subset=['name'], inplace=True, axis=0)\n",
    "ground_strikes.dropna(subset=['name'], inplace=True, axis=0)\n",
    "takedowns.dropna(subset=['name'], inplace=True, axis=0)"
   ]
  },
  {
   "cell_type": "markdown",
   "metadata": {},
   "source": [
    "#### Removing fighters with less than 3 fights"
   ]
  },
  {
   "cell_type": "code",
   "execution_count": 212,
   "metadata": {},
   "outputs": [],
   "source": [
    "# calculate number of bouts for each fighter\n",
    "bouts_by_name = pd.DataFrame(takedowns.groupby(['bout_link', 'fighter_link']).name.max())\n",
    "number_of_bouts = bouts_by_name.groupby('name').name.count()\n",
    "\n",
    "# subset only the fighters who have had at least 3 bouts\n",
    "experienced_fighters = list(number_of_bouts[number_of_bouts>=3].index)\n",
    "\n",
    "# Remove inexperienced fighters\n",
    "mask = takedowns['name'].isin(experienced_fighters)\n",
    "takedowns = takedowns[mask]\n",
    "\n",
    "mask = ground_strikes['name'].isin(experienced_fighters)\n",
    "ground_strikes = ground_strikes[mask]\n",
    "\n",
    "mask = grappling['name'].isin(experienced_fighters)\n",
    "grappling = grappling[mask]"
   ]
  },
  {
   "cell_type": "markdown",
   "metadata": {},
   "source": [
    "### Measuring Takedown performance\n",
    "we can easily get the career averages by grouping a column by the fighters name and getting the average for whatever stat we want. First we'll look at the the Takedown Successes Differential per 15 Minutes, which is denoted as td_s_p15m_di in our table. This is a measure of how many more takedowns a fighter landed than their opponent for each 15 minutes they've fought in the UFC."
   ]
  },
  {
   "cell_type": "code",
   "execution_count": 283,
   "metadata": {},
   "outputs": [],
   "source": [
    "def compare_stat(stat_df, stat, fighter_1='Conor McGregor', fighter_2='Khabib Nurmagomedov', graphic_des=False, fighter_1_offset=.1, fighter_2_offset=.1):\n",
    "    min_stat_rating = (stat_df.groupby('name')[stat].mean()).describe()['min']\n",
    "    max_stat_rating = (stat_df.groupby('name')[stat].mean()).describe()['max']\n",
    "    median_stat_rating = (stat_df.groupby('name')[stat].mean()).describe()['50%']\n",
    "\n",
    "    #### Calculate stats for each fighter\n",
    "\n",
    "    fighter_2_stat = stat_df[stat_df['name']==fighter_2][stat].mean()\n",
    "    fighter_1_stat = stat_df[stat_df['name']==fighter_1][stat].mean()\n",
    "\n",
    "    if fighter_1_stat>median_stat_rating:\n",
    "        fighter_1_pos = 'bottom'\n",
    "        fighter_1_col = 'tab:blue'\n",
    "    else:\n",
    "        fighter_1_pos = 'top'\n",
    "        fighter_1_col = 'tab:red'\n",
    "    if fighter_2_stat>median_stat_rating:\n",
    "        fighter_2_pos = 'bottom'\n",
    "        fighter_2_col = 'tab:blue'\n",
    "    else:\n",
    "        fighter_2_pos = 'top'\n",
    "        fighter_2_col = 'tab:red'\n",
    "        \n",
    "        \n",
    "        \n",
    "    plt.style.use('ggplot')\n",
    "    \n",
    "    if graphic_des:\n",
    "        #### Here's one for graphic design use\n",
    "        fig, ax = plt.subplots(1,1, figsize=(5, 10))\n",
    "\n",
    "        ax.set_ylim(min_stat_rating, max_stat_rating)\n",
    "        ax.text(x=-0.125, y=fighter_1_stat-fighter_1_offset, \n",
    "                s=str(round(fighter_1_stat, 2)), \n",
    "                ha='center', \n",
    "                va=fighter_1_pos, \n",
    "                fontsize=35)\n",
    "        ax.text(x=0.125, y=fighter_2_stat-fighter_2_offset, \n",
    "                s=str(round(fighter_2_stat, 2)), \n",
    "                ha='center', \n",
    "                va=fighter_2_pos, \n",
    "                fontsize=35)\n",
    "        ax.tick_params(\n",
    "            axis='both',\n",
    "            which='both',\n",
    "            bottom=False,\n",
    "            top=False,\n",
    "            labelbottom=False)\n",
    "\n",
    "        ax.bar(x=[-0.125], height=[fighter_1_stat], bottom=median_stat_rating, color=fighter_1_col, width=.2)\n",
    "        ax.bar(x=[.125], height=[fighter_2_stat], bottom=median_stat_rating, color=fighter_2_col, width=.2)\n",
    "        plt.xticks([-.125,.125], labels=[fighter_1, fighter_2], fontsize=25)\n",
    "        plt.yticks([median_stat_rating, max_stat_rating, min_stat_rating], labels=['Average\\nRating', 'Best\\nRating', 'Worst\\nRating'], fontsize=25)\n",
    "        plt.tight_layout()\n",
    "        plt.savefig('../../report/figures/con_kha_'+stat+'.png', transparent=True)\n",
    "\n",
    "    else:\n",
    "        fig, ax = plt.subplots(1,1, figsize=(5, 10))\n",
    "\n",
    "        ax.set_ylim(min_stat_rating, max_stat_rating)\n",
    "        ax.text(x=-0.125, y=fighter_1_stat-fighter_1_offset, \n",
    "                s=str(round(fighter_1_stat, 2)), \n",
    "                ha='center', \n",
    "                va=fighter_1_pos, \n",
    "                fontsize=35)\n",
    "        ax.text(x=0.125, y=fighter_2_stat-fighter_2_offset, \n",
    "                s=str(round(fighter_2_stat, 2)), \n",
    "                ha='center', \n",
    "                va=fighter_2_pos, \n",
    "                fontsize=35)\n",
    "        ax.set_ylabel(stat)\n",
    "        plt.xticks([-.125,.125], labels=[fighter_1, fighter_2], fontsize=25)\n",
    "        plt.yticks([median_stat_rating, max_stat_rating, min_stat_rating], labels=['Average\\nRating', 'Best\\nRating', 'Worst\\nRating'], fontsize=25)\n",
    "        ax.bar(x=[-0.125], height=[fighter_1_stat], bottom=median_stat_rating, color=fighter_1_col, width=.2)\n",
    "        ax.bar(x=[.125], height=[fighter_2_stat], bottom=median_stat_rating, color=fighter_2_col, width=.2);"
   ]
  },
  {
   "cell_type": "code",
   "execution_count": 291,
   "metadata": {},
   "outputs": [
    {
     "data": {
      "image/png": "[encoded data removed]",
      "text/plain": [
       "<Figure size 360x720 with 1 Axes>"
      ]
     },
     "metadata": {},
     "output_type": "display_data"
    }
   ],
   "source": [
    "compare_stat(takedowns, 'td_s_p15m_di', graphic_des=True, fighter_1_offset=.3, fighter_2_offset=.2)"
   ]
  },
  {
   "cell_type": "markdown",
   "metadata": {},
   "source": [
    "### Ground Strike performance"
   ]
  },
  {
   "cell_type": "code",
   "execution_count": 294,
   "metadata": {},
   "outputs": [
    {
     "data": {
      "image/png": "[encoded data removed]",
      "text/plain": [
       "<Figure size 360x720 with 1 Axes>"
      ]
     },
     "metadata": {},
     "output_type": "display_data"
    }
   ],
   "source": [
    "compare_stat(ground_strikes, 'ground_s_p1m_di', graphic_des=True, fighter_1_offset=.1, fighter_2_offset=.1)"
   ]
  },
  {
   "cell_type": "markdown",
   "metadata": {},
   "source": [
    "### Submission performance"
   ]
  },
  {
   "cell_type": "code",
   "execution_count": 299,
   "metadata": {},
   "outputs": [
    {
     "data": {
      "image/png": "[encoded data removed]",
      "text/plain": [
       "<Figure size 360x720 with 1 Axes>"
      ]
     },
     "metadata": {},
     "output_type": "display_data"
    }
   ],
   "source": [
    "compare_stat(grappling, 'sub_att_p15m_di', graphic_des=True, fighter_1_offset=0, fighter_2_offset=.2)"
   ]
  },
  {
   "cell_type": "markdown",
   "metadata": {},
   "source": [
    "## Striking Stats"
   ]
  },
  {
   "cell_type": "code",
   "execution_count": 300,
   "metadata": {},
   "outputs": [],
   "source": [
    "distance_ss_stats = pd.read_csv('../../data/ufcstats_data/advanced_stats/distance_ss_stats.csv')\n",
    "knockdown_stats = pd.read_csv('../../data/ufcstats_data/advanced_stats/knockdown_stats.csv')"
   ]
  },
  {
   "cell_type": "markdown",
   "metadata": {},
   "source": [
    "Each fighter name can be linked to the stat tables using the unique fighter_link identifier. Then all dates will be connected via the bout_link identifier"
   ]
  },
  {
   "cell_type": "code",
   "execution_count": 301,
   "metadata": {},
   "outputs": [
    {
     "data": {
      "text/html": [
       "<div>\n",
       "<style scoped>\n",
       "    .dataframe tbody tr th:only-of-type {\n",
       "        vertical-align: middle;\n",
       "    }\n",
       "\n",
       "    .dataframe tbody tr th {\n",
       "        vertical-align: top;\n",
       "    }\n",
       "\n",
       "    .dataframe thead th {\n",
       "        text-align: right;\n",
       "    }\n",
       "</style>\n",
       "<table border=\"1\" class=\"dataframe\">\n",
       "  <thead>\n",
       "    <tr style=\"text-align: right;\">\n",
       "      <th></th>\n",
       "      <th>round</th>\n",
       "      <th>bout_link</th>\n",
       "      <th>fighter_link</th>\n",
       "      <th>distance_a_p1m</th>\n",
       "      <th>distance_s_p1m</th>\n",
       "      <th>distance_a_p15m</th>\n",
       "      <th>distance_s_p15m</th>\n",
       "      <th>distance_ac</th>\n",
       "      <th>distance_de</th>\n",
       "      <th>distance_s_pr_di</th>\n",
       "      <th>distance_a_pr_di</th>\n",
       "      <th>distance_s_p1m_di</th>\n",
       "      <th>distance_a_p1m_di</th>\n",
       "      <th>distance_s_p15m_di</th>\n",
       "      <th>distance_a_p15m_di</th>\n",
       "    </tr>\n",
       "  </thead>\n",
       "  <tbody>\n",
       "    <tr>\n",
       "      <th>0</th>\n",
       "      <td>1</td>\n",
       "      <td>http://www.ufcstats.com/fight-details/11f715fa...</td>\n",
       "      <td>http://www.ufcstats.com/fighter-details/e1147d...</td>\n",
       "      <td>5.800000</td>\n",
       "      <td>2.000000</td>\n",
       "      <td>87.000000</td>\n",
       "      <td>30.000000</td>\n",
       "      <td>0.344828</td>\n",
       "      <td>0.666667</td>\n",
       "      <td>4</td>\n",
       "      <td>11</td>\n",
       "      <td>0.800000</td>\n",
       "      <td>2.200000</td>\n",
       "      <td>12.000000</td>\n",
       "      <td>33.000000</td>\n",
       "    </tr>\n",
       "    <tr>\n",
       "      <th>1</th>\n",
       "      <td>2</td>\n",
       "      <td>http://www.ufcstats.com/fight-details/11f715fa...</td>\n",
       "      <td>http://www.ufcstats.com/fighter-details/e1147d...</td>\n",
       "      <td>4.600000</td>\n",
       "      <td>2.000000</td>\n",
       "      <td>69.000000</td>\n",
       "      <td>30.000000</td>\n",
       "      <td>0.434783</td>\n",
       "      <td>0.750000</td>\n",
       "      <td>7</td>\n",
       "      <td>11</td>\n",
       "      <td>1.400000</td>\n",
       "      <td>2.200000</td>\n",
       "      <td>21.000000</td>\n",
       "      <td>33.000000</td>\n",
       "    </tr>\n",
       "    <tr>\n",
       "      <th>2</th>\n",
       "      <td>3</td>\n",
       "      <td>http://www.ufcstats.com/fight-details/11f715fa...</td>\n",
       "      <td>http://www.ufcstats.com/fighter-details/e1147d...</td>\n",
       "      <td>6.000000</td>\n",
       "      <td>2.200000</td>\n",
       "      <td>90.000000</td>\n",
       "      <td>33.000000</td>\n",
       "      <td>0.366667</td>\n",
       "      <td>0.750000</td>\n",
       "      <td>6</td>\n",
       "      <td>10</td>\n",
       "      <td>1.200000</td>\n",
       "      <td>2.000000</td>\n",
       "      <td>18.000000</td>\n",
       "      <td>30.000000</td>\n",
       "    </tr>\n",
       "    <tr>\n",
       "      <th>3</th>\n",
       "      <td>4</td>\n",
       "      <td>http://www.ufcstats.com/fight-details/11f715fa...</td>\n",
       "      <td>http://www.ufcstats.com/fighter-details/e1147d...</td>\n",
       "      <td>6.200000</td>\n",
       "      <td>2.400000</td>\n",
       "      <td>93.000000</td>\n",
       "      <td>36.000000</td>\n",
       "      <td>0.387097</td>\n",
       "      <td>0.625000</td>\n",
       "      <td>6</td>\n",
       "      <td>15</td>\n",
       "      <td>1.200000</td>\n",
       "      <td>3.000000</td>\n",
       "      <td>18.000000</td>\n",
       "      <td>45.000000</td>\n",
       "    </tr>\n",
       "    <tr>\n",
       "      <th>4</th>\n",
       "      <td>5</td>\n",
       "      <td>http://www.ufcstats.com/fight-details/11f715fa...</td>\n",
       "      <td>http://www.ufcstats.com/fighter-details/e1147d...</td>\n",
       "      <td>5.200000</td>\n",
       "      <td>2.800000</td>\n",
       "      <td>78.000000</td>\n",
       "      <td>42.000000</td>\n",
       "      <td>0.538462</td>\n",
       "      <td>0.476190</td>\n",
       "      <td>3</td>\n",
       "      <td>5</td>\n",
       "      <td>0.600000</td>\n",
       "      <td>1.000000</td>\n",
       "      <td>9.000000</td>\n",
       "      <td>15.000000</td>\n",
       "    </tr>\n",
       "    <tr>\n",
       "      <th>...</th>\n",
       "      <td>...</td>\n",
       "      <td>...</td>\n",
       "      <td>...</td>\n",
       "      <td>...</td>\n",
       "      <td>...</td>\n",
       "      <td>...</td>\n",
       "      <td>...</td>\n",
       "      <td>...</td>\n",
       "      <td>...</td>\n",
       "      <td>...</td>\n",
       "      <td>...</td>\n",
       "      <td>...</td>\n",
       "      <td>...</td>\n",
       "      <td>...</td>\n",
       "      <td>...</td>\n",
       "    </tr>\n",
       "    <tr>\n",
       "      <th>25767</th>\n",
       "      <td>1</td>\n",
       "      <td>http://www.ufcstats.com/fight-details/693e4a0b...</td>\n",
       "      <td>http://www.ufcstats.com/fighter-details/669a3c...</td>\n",
       "      <td>0.600000</td>\n",
       "      <td>0.000000</td>\n",
       "      <td>9.000000</td>\n",
       "      <td>0.000000</td>\n",
       "      <td>0.000000</td>\n",
       "      <td>0.782609</td>\n",
       "      <td>-5</td>\n",
       "      <td>-20</td>\n",
       "      <td>-1.000000</td>\n",
       "      <td>-4.000000</td>\n",
       "      <td>-15.000000</td>\n",
       "      <td>-60.000000</td>\n",
       "    </tr>\n",
       "    <tr>\n",
       "      <th>25768</th>\n",
       "      <td>2</td>\n",
       "      <td>http://www.ufcstats.com/fight-details/693e4a0b...</td>\n",
       "      <td>http://www.ufcstats.com/fighter-details/669a3c...</td>\n",
       "      <td>3.037975</td>\n",
       "      <td>0.000000</td>\n",
       "      <td>45.569620</td>\n",
       "      <td>0.000000</td>\n",
       "      <td>0.000000</td>\n",
       "      <td>0.454545</td>\n",
       "      <td>-6</td>\n",
       "      <td>-7</td>\n",
       "      <td>-4.556962</td>\n",
       "      <td>-5.316456</td>\n",
       "      <td>-68.354430</td>\n",
       "      <td>-79.746835</td>\n",
       "    </tr>\n",
       "    <tr>\n",
       "      <th>25769</th>\n",
       "      <td>1</td>\n",
       "      <td>http://www.ufcstats.com/fight-details/c6f85419...</td>\n",
       "      <td>http://www.ufcstats.com/fighter-details/a54a35...</td>\n",
       "      <td>3.157895</td>\n",
       "      <td>1.403509</td>\n",
       "      <td>47.368421</td>\n",
       "      <td>21.052632</td>\n",
       "      <td>0.444444</td>\n",
       "      <td>0.466667</td>\n",
       "      <td>-4</td>\n",
       "      <td>-6</td>\n",
       "      <td>-1.403509</td>\n",
       "      <td>-2.105263</td>\n",
       "      <td>-21.052632</td>\n",
       "      <td>-31.578947</td>\n",
       "    </tr>\n",
       "    <tr>\n",
       "      <th>25770</th>\n",
       "      <td>1</td>\n",
       "      <td>http://www.ufcstats.com/fight-details/1db8bed8...</td>\n",
       "      <td>http://www.ufcstats.com/fighter-details/911fb2...</td>\n",
       "      <td>0.400000</td>\n",
       "      <td>0.000000</td>\n",
       "      <td>6.000000</td>\n",
       "      <td>0.000000</td>\n",
       "      <td>0.000000</td>\n",
       "      <td>NaN</td>\n",
       "      <td>0</td>\n",
       "      <td>2</td>\n",
       "      <td>0.000000</td>\n",
       "      <td>0.400000</td>\n",
       "      <td>0.000000</td>\n",
       "      <td>6.000000</td>\n",
       "    </tr>\n",
       "    <tr>\n",
       "      <th>25771</th>\n",
       "      <td>2</td>\n",
       "      <td>http://www.ufcstats.com/fight-details/1db8bed8...</td>\n",
       "      <td>http://www.ufcstats.com/fighter-details/911fb2...</td>\n",
       "      <td>0.200000</td>\n",
       "      <td>0.000000</td>\n",
       "      <td>3.000000</td>\n",
       "      <td>0.000000</td>\n",
       "      <td>0.000000</td>\n",
       "      <td>NaN</td>\n",
       "      <td>0</td>\n",
       "      <td>1</td>\n",
       "      <td>0.000000</td>\n",
       "      <td>0.200000</td>\n",
       "      <td>0.000000</td>\n",
       "      <td>3.000000</td>\n",
       "    </tr>\n",
       "  </tbody>\n",
       "</table>\n",
       "<p>25772 rows × 15 columns</p>\n",
       "</div>"
      ],
      "text/plain": [
       "       round                                          bout_link  \\\n",
       "0          1  http://www.ufcstats.com/fight-details/11f715fa...   \n",
       "1          2  http://www.ufcstats.com/fight-details/11f715fa...   \n",
       "2          3  http://www.ufcstats.com/fight-details/11f715fa...   \n",
       "3          4  http://www.ufcstats.com/fight-details/11f715fa...   \n",
       "4          5  http://www.ufcstats.com/fight-details/11f715fa...   \n",
       "...      ...                                                ...   \n",
       "25767      1  http://www.ufcstats.com/fight-details/693e4a0b...   \n",
       "25768      2  http://www.ufcstats.com/fight-details/693e4a0b...   \n",
       "25769      1  http://www.ufcstats.com/fight-details/c6f85419...   \n",
       "25770      1  http://www.ufcstats.com/fight-details/1db8bed8...   \n",
       "25771      2  http://www.ufcstats.com/fight-details/1db8bed8...   \n",
       "\n",
       "                                            fighter_link  distance_a_p1m  \\\n",
       "0      http://www.ufcstats.com/fighter-details/e1147d...        5.800000   \n",
       "1      http://www.ufcstats.com/fighter-details/e1147d...        4.600000   \n",
       "2      http://www.ufcstats.com/fighter-details/e1147d...        6.000000   \n",
       "3      http://www.ufcstats.com/fighter-details/e1147d...        6.200000   \n",
       "4      http://www.ufcstats.com/fighter-details/e1147d...        5.200000   \n",
       "...                                                  ...             ...   \n",
       "25767  http://www.ufcstats.com/fighter-details/669a3c...        0.600000   \n",
       "25768  http://www.ufcstats.com/fighter-details/669a3c...        3.037975   \n",
       "25769  http://www.ufcstats.com/fighter-details/a54a35...        3.157895   \n",
       "25770  http://www.ufcstats.com/fighter-details/911fb2...        0.400000   \n",
       "25771  http://www.ufcstats.com/fighter-details/911fb2...        0.200000   \n",
       "\n",
       "       distance_s_p1m  distance_a_p15m  distance_s_p15m  distance_ac  \\\n",
       "0            2.000000        87.000000        30.000000     0.344828   \n",
       "1            2.000000        69.000000        30.000000     0.434783   \n",
       "2            2.200000        90.000000        33.000000     0.366667   \n",
       "3            2.400000        93.000000        36.000000     0.387097   \n",
       "4            2.800000        78.000000        42.000000     0.538462   \n",
       "...               ...              ...              ...          ...   \n",
       "25767        0.000000         9.000000         0.000000     0.000000   \n",
       "25768        0.000000        45.569620         0.000000     0.000000   \n",
       "25769        1.403509        47.368421        21.052632     0.444444   \n",
       "25770        0.000000         6.000000         0.000000     0.000000   \n",
       "25771        0.000000         3.000000         0.000000     0.000000   \n",
       "\n",
       "       distance_de  distance_s_pr_di  distance_a_pr_di  distance_s_p1m_di  \\\n",
       "0         0.666667                 4                11           0.800000   \n",
       "1         0.750000                 7                11           1.400000   \n",
       "2         0.750000                 6                10           1.200000   \n",
       "3         0.625000                 6                15           1.200000   \n",
       "4         0.476190                 3                 5           0.600000   \n",
       "...            ...               ...               ...                ...   \n",
       "25767     0.782609                -5               -20          -1.000000   \n",
       "25768     0.454545                -6                -7          -4.556962   \n",
       "25769     0.466667                -4                -6          -1.403509   \n",
       "25770          NaN                 0                 2           0.000000   \n",
       "25771          NaN                 0                 1           0.000000   \n",
       "\n",
       "       distance_a_p1m_di  distance_s_p15m_di  distance_a_p15m_di  \n",
       "0               2.200000           12.000000           33.000000  \n",
       "1               2.200000           21.000000           33.000000  \n",
       "2               2.000000           18.000000           30.000000  \n",
       "3               3.000000           18.000000           45.000000  \n",
       "4               1.000000            9.000000           15.000000  \n",
       "...                  ...                 ...                 ...  \n",
       "25767          -4.000000          -15.000000          -60.000000  \n",
       "25768          -5.316456          -68.354430          -79.746835  \n",
       "25769          -2.105263          -21.052632          -31.578947  \n",
       "25770           0.400000            0.000000            6.000000  \n",
       "25771           0.200000            0.000000            3.000000  \n",
       "\n",
       "[25772 rows x 15 columns]"
      ]
     },
     "execution_count": 301,
     "metadata": {},
     "output_type": "execute_result"
    }
   ],
   "source": [
    "distance_ss_stats"
   ]
  },
  {
   "cell_type": "code",
   "execution_count": 302,
   "metadata": {},
   "outputs": [],
   "source": [
    "distance_ss_stats = distance_ss_stats.join(fighters.set_index('link'), on='fighter_link')\n",
    "knockdown_stats = knockdown_stats.join(fighters.set_index('link'), on='fighter_link')\n",
    "\n",
    "distance_ss_stats = distance_ss_stats.join(bouts.set_index('link'), on='bout_link')\n",
    "knockdown_stats = knockdown_stats.join(bouts.set_index('link'), on='bout_link')\n",
    "\n",
    "#### We have some rows with missing names, we remove them here\n",
    "distance_ss_stats.dropna(subset=['name'], inplace=True, axis=0)\n",
    "knockdown_stats.dropna(subset=['name'], inplace=True, axis=0)"
   ]
  },
  {
   "cell_type": "markdown",
   "metadata": {},
   "source": [
    "#### Removing fighters with less than 3 fights"
   ]
  },
  {
   "cell_type": "code",
   "execution_count": 303,
   "metadata": {},
   "outputs": [],
   "source": [
    "# calculate number of bouts for each fighter\n",
    "bouts_by_name = pd.DataFrame(takedowns.groupby(['bout_link', 'fighter_link']).name.max())\n",
    "number_of_bouts = bouts_by_name.groupby('name').name.count()\n",
    "\n",
    "# subset only the fighters who have had at least 3 bouts\n",
    "experienced_fighters = list(number_of_bouts[number_of_bouts>=3].index)\n",
    "\n",
    "# Remove inexperienced fighters\n",
    "mask = distance_ss_stats['name'].isin(experienced_fighters)\n",
    "distance_ss_stats = distance_ss_stats[mask]\n",
    "mask = knockdown_stats['name'].isin(experienced_fighters)\n",
    "knockdown_stats = knockdown_stats[mask]"
   ]
  },
  {
   "cell_type": "markdown",
   "metadata": {},
   "source": [
    "#### Average Knockdowns"
   ]
  },
  {
   "cell_type": "code",
   "execution_count": 304,
   "metadata": {},
   "outputs": [
    {
     "data": {
      "text/plain": [
       "name\n",
       "Mark Weir                23.275862\n",
       "Todd Duffee              18.583838\n",
       "James Irvin              15.893056\n",
       "David Terrell            12.500000\n",
       "Johnny Walker            12.229385\n",
       "Jairzinho Rozenstruik    10.574169\n",
       "Ryan Jimmo                9.196148\n",
       "Duane Ludwig              8.942909\n",
       "Michal Oleksiejczuk       8.867263\n",
       "Drew McFedries            8.780509\n",
       "Anthony Johnson           8.697515\n",
       "Chan Sung Jung            7.982335\n",
       "Damir Hadzovic            7.972098\n",
       "Abdul Razak Alhassan      7.928666\n",
       "Justin Lawrence           7.375706\n",
       "Benji Radach              7.266667\n",
       "Kenan Song                6.958647\n",
       "Sergei Pavlovich          6.835531\n",
       "Devonte Smith             6.632822\n",
       "Che Mills                 6.428571\n",
       "Name: kd_p15m_di, dtype: float64"
      ]
     },
     "execution_count": 304,
     "metadata": {},
     "output_type": "execute_result"
    }
   ],
   "source": [
    "knockdown_stats.groupby('name').kd_p15m_di.mean().sort_values(ascending=False)[:20]"
   ]
  },
  {
   "cell_type": "code",
   "execution_count": 306,
   "metadata": {},
   "outputs": [
    {
     "data": {
      "image/png": "[encoded data removed]",
      "text/plain": [
       "<Figure size 360x720 with 1 Axes>"
      ]
     },
     "metadata": {},
     "output_type": "display_data"
    }
   ],
   "source": [
    "compare_stat(knockdown_stats, 'kd_p15m_di', graphic_des=True)"
   ]
  },
  {
   "cell_type": "code",
   "execution_count": 307,
   "metadata": {},
   "outputs": [
    {
     "data": {
      "text/plain": [
       "name\n",
       "Todd Duffee           3.715165\n",
       "Sean O'Malley         3.516286\n",
       "Sergei Pavlovich      3.260773\n",
       "Devonte Smith         3.140336\n",
       "Ruslan Magomedov      2.688889\n",
       "Xiaonan Yan           2.653333\n",
       "Alexander Volkov      2.618961\n",
       "Ryan Janes            2.615172\n",
       "Joanna Jedrzejczyk    2.579341\n",
       "Chris Gutierrez       2.550958\n",
       "Cristiane Justino     2.549651\n",
       "Johnny Walker         2.308788\n",
       "Amanda Nunes          2.222690\n",
       "Anthony Johnson       2.107243\n",
       "Ciryl Gane            2.097284\n",
       "Name: distance_s_p1m_di, dtype: float64"
      ]
     },
     "execution_count": 307,
     "metadata": {},
     "output_type": "execute_result"
    }
   ],
   "source": [
    "distance_ss_stats.groupby('name').distance_s_p1m_di.mean().sort_values(ascending=False)[:15]"
   ]
  },
  {
   "cell_type": "code",
   "execution_count": 308,
   "metadata": {},
   "outputs": [
    {
     "data": {
      "image/png": "[encoded data removed]",
      "text/plain": [
       "<Figure size 360x720 with 1 Axes>"
      ]
     },
     "metadata": {},
     "output_type": "display_data"
    }
   ],
   "source": [
    "compare_stat(distance_ss_stats, 'distance_s_p1m_di', graphic_des=True)"
   ]
  },
  {
   "cell_type": "code",
   "execution_count": 309,
   "metadata": {},
   "outputs": [
    {
     "ename": "AttributeError",
     "evalue": "'DataFrameGroupBy' object has no attribute 'dif_minus_av'",
     "output_type": "error",
     "traceback": [
      "\u001b[0;31m---------------------------------------------------------------------------\u001b[0m",
      "\u001b[0;31mAttributeError\u001b[0m                            Traceback (most recent call last)",
      "\u001b[0;32m<ipython-input-309-448c35f2c963>\u001b[0m in \u001b[0;36m<module>\u001b[0;34m\u001b[0m\n\u001b[0;32m----> 1\u001b[0;31m \u001b[0mtakedowns\u001b[0m\u001b[0;34m.\u001b[0m\u001b[0mgroupby\u001b[0m\u001b[0;34m(\u001b[0m\u001b[0;34m'name'\u001b[0m\u001b[0;34m)\u001b[0m\u001b[0;34m.\u001b[0m\u001b[0mdif_minus_av\u001b[0m\u001b[0;34m.\u001b[0m\u001b[0mmean\u001b[0m\u001b[0;34m(\u001b[0m\u001b[0;34m)\u001b[0m\u001b[0;34m.\u001b[0m\u001b[0msort_values\u001b[0m\u001b[0;34m(\u001b[0m\u001b[0;34m)\u001b[0m\u001b[0;34m[\u001b[0m\u001b[0;34m:\u001b[0m\u001b[0;36m15\u001b[0m\u001b[0;34m]\u001b[0m\u001b[0;34m\u001b[0m\u001b[0;34m\u001b[0m\u001b[0m\n\u001b[0m",
      "\u001b[0;32m~/anaconda3/envs/match/lib/python3.8/site-packages/pandas/core/groupby/groupby.py\u001b[0m in \u001b[0;36m__getattr__\u001b[0;34m(self, attr)\u001b[0m\n\u001b[1;32m    578\u001b[0m             \u001b[0;32mreturn\u001b[0m \u001b[0mself\u001b[0m\u001b[0;34m[\u001b[0m\u001b[0mattr\u001b[0m\u001b[0;34m]\u001b[0m\u001b[0;34m\u001b[0m\u001b[0;34m\u001b[0m\u001b[0m\n\u001b[1;32m    579\u001b[0m \u001b[0;34m\u001b[0m\u001b[0m\n\u001b[0;32m--> 580\u001b[0;31m         raise AttributeError(\n\u001b[0m\u001b[1;32m    581\u001b[0m             \u001b[0;34mf\"'{type(self).__name__}' object has no attribute '{attr}'\"\u001b[0m\u001b[0;34m\u001b[0m\u001b[0;34m\u001b[0m\u001b[0m\n\u001b[1;32m    582\u001b[0m         )\n",
      "\u001b[0;31mAttributeError\u001b[0m: 'DataFrameGroupBy' object has no attribute 'dif_minus_av'"
     ]
    }
   ],
   "source": [
    "takedowns.groupby('name').dif_minus_av.mean().sort_values()[:15]"
   ]
  },
  {
   "cell_type": "markdown",
   "metadata": {},
   "source": [
    "This list doesn't have any familiar names, which is unsuprising, but if we look at the #2 spot, Jason Gonzalez, we'll notice that he fought Gregor Gilespie, our #7 ranked in takedown differential. \n",
    "\n",
    "This metric measures the number of takedowns that a fighter has given up and could be a good measurement of takedown defense."
   ]
  },
  {
   "cell_type": "markdown",
   "metadata": {},
   "source": [
    "### Submission attempts"
   ]
  },
  {
   "cell_type": "code",
   "execution_count": 75,
   "metadata": {},
   "outputs": [
    {
     "data": {
      "text/plain": [
       "name\n",
       "Ian Entwistle        19.497616\n",
       "Ronda Rousey          7.800269\n",
       "Sean McCorkle         7.407751\n",
       "Paul Sass             7.218045\n",
       "Rob Broughton         6.825243\n",
       "Teemu Packalen        6.750000\n",
       "Rousimar Palhares     6.291708\n",
       "Genki Sudo            5.374214\n",
       "TJ Waldburger         5.315116\n",
       "Renato Sobral         4.920935\n",
       "Patrick Williams      4.891304\n",
       "Manny Bermudez        4.841381\n",
       "Matt Arroyo           4.659574\n",
       "Fabiano Iha           4.604762\n",
       "Marcus Aurelio        4.446429\n",
       "Name: sub_att_p15m_di, dtype: float64"
      ]
     },
     "execution_count": 75,
     "metadata": {},
     "output_type": "execute_result"
    }
   ],
   "source": [
    "mask = grappling.name.map(lambda x: functions.black_list_entry(x, inexperienced_fighters))\n",
    "grappling = grappling[mask]\n",
    "\n",
    "grappling.groupby('name').sub_att_p15m_di.mean().sort_values(ascending=False)[:15]"
   ]
  },
  {
   "cell_type": "code",
   "execution_count": 78,
   "metadata": {},
   "outputs": [
    {
     "data": {
      "text/plain": [
       "name\n",
       "Gregor Gillespie       13.220946\n",
       "Tatiana Suarez         10.066494\n",
       "Teemu Packalen          9.250000\n",
       "Grant Dawson            8.779592\n",
       "Murilo Bustamante       8.506452\n",
       "Gillian Robertson       8.092862\n",
       "Denis Kang              7.751553\n",
       "Jake Rosholt            7.506276\n",
       "Ronda Rousey            6.498034\n",
       "Aspen Ladd              6.140637\n",
       "Edmen Shahbazyan        5.666667\n",
       "Claudio Silva           5.578009\n",
       "Khabib Nurmagomedov     5.429699\n",
       "Jimy Hettes             5.357632\n",
       "Misha Cirkunov          5.107617\n",
       "Name: pass_p15m_di, dtype: float64"
      ]
     },
     "execution_count": 78,
     "metadata": {},
     "output_type": "execute_result"
    }
   ],
   "source": [
    "grappling.groupby('name').pass_p15m_di.mean().sort_values(ascending=False)[:15]"
   ]
  },
  {
   "cell_type": "code",
   "execution_count": 80,
   "metadata": {},
   "outputs": [
    {
     "data": {
      "text/plain": [
       "name\n",
       "Ronda Rousey         19.869731\n",
       "Ian Entwistle        18.268107\n",
       "Teemu Packalen       15.000000\n",
       "Gregor Gillespie     14.348343\n",
       "Murilo Bustamante    11.777419\n",
       "Genki Sudo           10.224538\n",
       "Manny Bermudez       10.101642\n",
       "Grant Dawson         10.010204\n",
       "Gillian Robertson     9.435001\n",
       "Tatiana Suarez        9.286136\n",
       "Rousimar Palhares     8.947319\n",
       "Misha Cirkunov        8.585120\n",
       "TJ Waldburger         7.997151\n",
       "Edmen Shahbazyan      7.750000\n",
       "Diego Ferreira        7.694718\n",
       "Joe Duffy             7.310531\n",
       "Denis Kang            7.285714\n",
       "Joe Lauzon            7.177872\n",
       "Livinha Souza         6.904762\n",
       "Claudio Silva         6.904596\n",
       "Name: combined_grappling_p15m_di, dtype: float64"
      ]
     },
     "execution_count": 80,
     "metadata": {},
     "output_type": "execute_result"
    }
   ],
   "source": [
    "grappling['combined_grappling_p15m_di'] = grappling['pass_p15m_di'] + grappling['sub_att_p15m_di'] + grappling['rev_p15m_di']\n",
    "grappling.groupby('name').combined_grappling_p15m_di.mean().sort_values(ascending=False)[:20]"
   ]
  },
  {
   "cell_type": "code",
   "execution_count": 84,
   "metadata": {},
   "outputs": [
    {
     "data": {
      "text/plain": [
       "name\n",
       "Demian Maia    1.045441\n",
       "Name: sub_att_p15m_di, dtype: float64"
      ]
     },
     "execution_count": 84,
     "metadata": {},
     "output_type": "execute_result"
    }
   ],
   "source": [
    "av_sub_att = grappling.groupby('name').sub_att_p15m_di.mean()\n",
    "\n",
    "av_sub_att[av_sub_att.index == 'Demian Maia']"
   ]
  },
  {
   "cell_type": "code",
   "execution_count": 86,
   "metadata": {},
   "outputs": [
    {
     "data": {
      "text/plain": [
       "name\n",
       "Demian Maia   -0.023621\n",
       "Name: rev_p15m_di, dtype: float64"
      ]
     },
     "execution_count": 86,
     "metadata": {},
     "output_type": "execute_result"
    }
   ],
   "source": [
    "av_rev = grappling.groupby('name').rev_p15m_di.mean()\n",
    "\n",
    "av_rev[av_rev.index == 'Demian Maia']"
   ]
  },
  {
   "cell_type": "code",
   "execution_count": 87,
   "metadata": {},
   "outputs": [
    {
     "data": {
      "text/plain": [
       "name\n",
       "Demian Maia    3.722007\n",
       "Name: pass_p15m_di, dtype: float64"
      ]
     },
     "execution_count": 87,
     "metadata": {},
     "output_type": "execute_result"
    }
   ],
   "source": [
    "av_pass = grappling.groupby('name').pass_p15m_di.mean()\n",
    "\n",
    "av_pass[av_pass.index == 'Demian Maia']"
   ]
  },
  {
   "cell_type": "code",
   "execution_count": 22,
   "metadata": {},
   "outputs": [
    {
     "data": {
      "text/plain": [
       "name\n",
       "Conor McGregor   -0.530995\n",
       "Name: td_s_p15m_di, dtype: float64"
      ]
     },
     "execution_count": 22,
     "metadata": {},
     "output_type": "execute_result"
    }
   ],
   "source": [
    "av_rev = takedowns.groupby('name').td_s_p15m_di.mean()\n",
    "\n",
    "av_rev[av_rev.index == 'Conor McGregor']"
   ]
  },
  {
   "cell_type": "code",
   "execution_count": null,
   "metadata": {},
   "outputs": [],
   "source": []
  }
 ],
 "metadata": {
  "kernelspec": {
   "display_name": "Python 3",
   "language": "python",
   "name": "python3"
  },
  "language_info": {
   "codemirror_mode": {
    "name": "ipython",
    "version": 3
   },
   "file_extension": ".py",
   "mimetype": "text/x-python",
   "name": "python",
   "nbconvert_exporter": "python",
   "pygments_lexer": "ipython3",
   "version": "3.8.3"
  }
 },
 "nbformat": 4,
 "nbformat_minor": 4
}
