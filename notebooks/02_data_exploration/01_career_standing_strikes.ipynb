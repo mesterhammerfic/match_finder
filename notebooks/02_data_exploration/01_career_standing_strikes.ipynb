{
 "cells": [
  {
   "cell_type": "markdown",
   "metadata": {},
   "source": [
    "# Purpose\n",
    "Analyze the distributions of our features and target as well as any correlations.\n",
    "\n",
    "Features:\n",
    "- Career Average Standing Significant Strike Attempts per 15 Minutes\n",
    "    - This metric includes all significant strikes except those on the ground\n",
    "    \n",
    "Target:\n",
    "- Combined Average Standing Significant Strike Attempts per 15 Minutes\n",
    "    - This is the sum of the per 15 minute rates of both fighters in the bout"
   ]
  },
  {
   "cell_type": "code",
   "execution_count": 1,
   "metadata": {},
   "outputs": [],
   "source": [
    "import pandas as pd\n",
    "import matplotlib.pyplot as plt\n",
    "import seaborn as sns\n",
    "from scipy.stats import ttest_ind"
   ]
  },
  {
   "cell_type": "code",
   "execution_count": null,
   "metadata": {},
   "outputs": [],
   "source": [
    "data = pd.read_csv('../../data/modelling_data/model_1_data.csv', index_col=0)\n",
    "data.head()"
   ]
  },
  {
   "cell_type": "markdown",
   "metadata": {},
   "source": [
    "## Target Distributions"
   ]
  },
  {
   "cell_type": "code",
   "execution_count": 3,
   "metadata": {},
   "outputs": [
    {
     "data": {
      "text/plain": [
       "count    3971.000000\n",
       "mean      215.304286\n",
       "std       135.906592\n",
       "min         0.000000\n",
       "25%       114.623568\n",
       "50%       196.000000\n",
       "75%       290.000000\n",
       "max      1221.428571\n",
       "Name: c_s_ss_a_p15m, dtype: float64"
      ]
     },
     "execution_count": 3,
     "metadata": {},
     "output_type": "execute_result"
    }
   ],
   "source": [
    "data.c_s_ss_a_p15m.describe()"
   ]
  },
  {
   "cell_type": "markdown",
   "metadata": {},
   "source": [
    "### Outliers\n",
    "Our highest value is 1221 which would mean that the fighters threw a combined 1 to 2 strikes per second. This seems high, so let's check them out."
   ]
  },
  {
   "cell_type": "code",
   "execution_count": 5,
   "metadata": {},
   "outputs": [
    {
     "data": {
      "text/html": [
       "<div>\n",
       "<style scoped>\n",
       "    .dataframe tbody tr th:only-of-type {\n",
       "        vertical-align: middle;\n",
       "    }\n",
       "\n",
       "    .dataframe tbody tr th {\n",
       "        vertical-align: top;\n",
       "    }\n",
       "\n",
       "    .dataframe thead th {\n",
       "        text-align: right;\n",
       "    }\n",
       "</style>\n",
       "<table border=\"1\" class=\"dataframe\">\n",
       "  <thead>\n",
       "    <tr style=\"text-align: right;\">\n",
       "      <th></th>\n",
       "      <th>date_0</th>\n",
       "      <th>bout_id</th>\n",
       "      <th>fighter_id_0</th>\n",
       "      <th>ca_s_ss_a_p15m_0</th>\n",
       "      <th>fighter_id_1</th>\n",
       "      <th>ca_s_ss_a_p15m_1</th>\n",
       "      <th>c_s_ss_a_p15m</th>\n",
       "    </tr>\n",
       "  </thead>\n",
       "  <tbody>\n",
       "    <tr>\n",
       "      <th>2108</th>\n",
       "      <td>2016-07-30</td>\n",
       "      <td>8495283a56311b4d</td>\n",
       "      <td>c727c7d31c50c4cf</td>\n",
       "      <td>69.794849</td>\n",
       "      <td>3f11b5d4bd76a6d9</td>\n",
       "      <td>6.569343</td>\n",
       "      <td>1221.428571</td>\n",
       "    </tr>\n",
       "    <tr>\n",
       "      <th>1556</th>\n",
       "      <td>2015-08-01</td>\n",
       "      <td>60c62fb7bd17a8b3</td>\n",
       "      <td>8bdac25ce0bb874d</td>\n",
       "      <td>135.972337</td>\n",
       "      <td>673ea7dcc786b1b3</td>\n",
       "      <td>208.758621</td>\n",
       "      <td>1217.647059</td>\n",
       "    </tr>\n",
       "    <tr>\n",
       "      <th>183</th>\n",
       "      <td>2016-12-30</td>\n",
       "      <td>0aad210fbaa1db6c</td>\n",
       "      <td>8bdac25ce0bb874d</td>\n",
       "      <td>217.767874</td>\n",
       "      <td>80fa8218c99f9c58</td>\n",
       "      <td>61.680965</td>\n",
       "      <td>1143.750000</td>\n",
       "    </tr>\n",
       "    <tr>\n",
       "      <th>868</th>\n",
       "      <td>2019-08-31</td>\n",
       "      <td>357cf8a9b6737625</td>\n",
       "      <td>6a1901c62ab3870f</td>\n",
       "      <td>179.068722</td>\n",
       "      <td>1ebe20ebbfa15e29</td>\n",
       "      <td>142.838397</td>\n",
       "      <td>1028.571429</td>\n",
       "    </tr>\n",
       "    <tr>\n",
       "      <th>522</th>\n",
       "      <td>2002-09-27</td>\n",
       "      <td>20a6710c50698166</td>\n",
       "      <td>275cafc9de131c83</td>\n",
       "      <td>78.709091</td>\n",
       "      <td>1652f3213655b935</td>\n",
       "      <td>32.731844</td>\n",
       "      <td>1000.000000</td>\n",
       "    </tr>\n",
       "  </tbody>\n",
       "</table>\n",
       "</div>"
      ],
      "text/plain": [
       "          date_0           bout_id      fighter_id_0  ca_s_ss_a_p15m_0  \\\n",
       "2108  2016-07-30  8495283a56311b4d  c727c7d31c50c4cf         69.794849   \n",
       "1556  2015-08-01  60c62fb7bd17a8b3  8bdac25ce0bb874d        135.972337   \n",
       "183   2016-12-30  0aad210fbaa1db6c  8bdac25ce0bb874d        217.767874   \n",
       "868   2019-08-31  357cf8a9b6737625  6a1901c62ab3870f        179.068722   \n",
       "522   2002-09-27  20a6710c50698166  275cafc9de131c83         78.709091   \n",
       "\n",
       "          fighter_id_1  ca_s_ss_a_p15m_1  c_s_ss_a_p15m  \n",
       "2108  3f11b5d4bd76a6d9          6.569343    1221.428571  \n",
       "1556  673ea7dcc786b1b3        208.758621    1217.647059  \n",
       "183   80fa8218c99f9c58         61.680965    1143.750000  \n",
       "868   1ebe20ebbfa15e29        142.838397    1028.571429  \n",
       "522   1652f3213655b935         32.731844    1000.000000  "
      ]
     },
     "execution_count": 5,
     "metadata": {},
     "output_type": "execute_result"
    }
   ],
   "source": [
    "data.sort_values('c_s_ss_a_p15m', ascending=False).head()"
   ]
  },
  {
   "cell_type": "markdown",
   "metadata": {},
   "source": [
    "If you add the bout id to the end of this link 'http://www.ufcstats.com/fight-details/', you would see that the first 3 fights are:\n",
    "1. Anthony Hamilton knocks out Damian Grabowski in 14 seconds\n",
    "2. Ronda Rousey knocks out Alexis Davis in 16 seconds\n",
    "3. Amanda Nunes knocks out Ronda Rousey in 48 Seconds\n",
    "\n",
    "Even though these fights do not consist of nonstop striking for 15 minutes straight, they are still striking matches, so the target is technically able to measure that. I may want to convert this into a classification problem and just try to predict whether a fight will be above a certain threshold, but for now we'll see how a regressor works.\n",
    "\n",
    "##### Let's see whatour distribution looks like"
   ]
  },
  {
   "cell_type": "code",
   "execution_count": 7,
   "metadata": {},
   "outputs": [
    {
     "data": {
      "text/plain": [
       "<matplotlib.axes._subplots.AxesSubplot at 0x7f990d3141f0>"
      ]
     },
     "execution_count": 7,
     "metadata": {},
     "output_type": "execute_result"
    },
    {
     "data": {
      "image/png": "[encoded data removed]",
      "text/plain": [
       "<Figure size 432x288 with 1 Axes>"
      ]
     },
     "metadata": {
      "needs_background": "light"
     },
     "output_type": "display_data"
    }
   ],
   "source": [
    "sns.distplot(data.c_s_ss_a_p15m)"
   ]
  },
  {
   "cell_type": "markdown",
   "metadata": {},
   "source": [
    "We have a right skewed distribution with no values falling below 0, as expected."
   ]
  },
  {
   "cell_type": "markdown",
   "metadata": {},
   "source": [
    "## Career Average Significant Strike Attempts per 15 Minutes"
   ]
  },
  {
   "cell_type": "code",
   "execution_count": 9,
   "metadata": {},
   "outputs": [
    {
     "data": {
      "text/plain": [
       "count    3971.000000\n",
       "mean       98.985858\n",
       "std        50.938122\n",
       "min         0.000000\n",
       "25%        64.484963\n",
       "50%        92.780844\n",
       "75%       127.540621\n",
       "max       940.909091\n",
       "Name: ca_s_ss_a_p15m_0, dtype: float64"
      ]
     },
     "execution_count": 9,
     "metadata": {},
     "output_type": "execute_result"
    }
   ],
   "source": [
    "data.ca_s_ss_a_p15m_0.describe()"
   ]
  },
  {
   "cell_type": "code",
   "execution_count": 10,
   "metadata": {},
   "outputs": [
    {
     "data": {
      "text/plain": [
       "count    3971.000000\n",
       "mean       99.788669\n",
       "std        53.270166\n",
       "min         0.000000\n",
       "25%        64.971194\n",
       "50%        92.381756\n",
       "75%       130.117927\n",
       "max       585.000000\n",
       "Name: ca_s_ss_a_p15m_1, dtype: float64"
      ]
     },
     "execution_count": 10,
     "metadata": {},
     "output_type": "execute_result"
    }
   ],
   "source": [
    "data.ca_s_ss_a_p15m_1.describe()"
   ]
  },
  {
   "cell_type": "markdown",
   "metadata": {},
   "source": [
    "### Outliers\n",
    "Lets check out the top performing fighters in each row"
   ]
  },
  {
   "cell_type": "markdown",
   "metadata": {},
   "source": [
    "#### Fighter 0"
   ]
  },
  {
   "cell_type": "code",
   "execution_count": 11,
   "metadata": {},
   "outputs": [
    {
     "data": {
      "text/html": [
       "<div>\n",
       "<style scoped>\n",
       "    .dataframe tbody tr th:only-of-type {\n",
       "        vertical-align: middle;\n",
       "    }\n",
       "\n",
       "    .dataframe tbody tr th {\n",
       "        vertical-align: top;\n",
       "    }\n",
       "\n",
       "    .dataframe thead th {\n",
       "        text-align: right;\n",
       "    }\n",
       "</style>\n",
       "<table border=\"1\" class=\"dataframe\">\n",
       "  <thead>\n",
       "    <tr style=\"text-align: right;\">\n",
       "      <th></th>\n",
       "      <th>date_0</th>\n",
       "      <th>bout_id</th>\n",
       "      <th>fighter_id_0</th>\n",
       "      <th>ca_s_ss_a_p15m_0</th>\n",
       "      <th>fighter_id_1</th>\n",
       "      <th>ca_s_ss_a_p15m_1</th>\n",
       "      <th>c_s_ss_a_p15m</th>\n",
       "    </tr>\n",
       "  </thead>\n",
       "  <tbody>\n",
       "    <tr>\n",
       "      <th>354</th>\n",
       "      <td>2012-05-05</td>\n",
       "      <td>151f9966cae7682c</td>\n",
       "      <td>e4aaaa34535e32b6</td>\n",
       "      <td>940.909091</td>\n",
       "      <td>173acb3f920082b8</td>\n",
       "      <td>57.636364</td>\n",
       "      <td>243.812709</td>\n",
       "    </tr>\n",
       "    <tr>\n",
       "      <th>1509</th>\n",
       "      <td>2013-08-17</td>\n",
       "      <td>5d839e4eda09d6e4</td>\n",
       "      <td>f4c49976c75c5ab2</td>\n",
       "      <td>389.552239</td>\n",
       "      <td>150ff4cc642270b9</td>\n",
       "      <td>219.653110</td>\n",
       "      <td>230.000000</td>\n",
       "    </tr>\n",
       "    <tr>\n",
       "      <th>3486</th>\n",
       "      <td>2004-06-19</td>\n",
       "      <td>dffef4343e822399</td>\n",
       "      <td>2a542ee8a8b83559</td>\n",
       "      <td>332.405705</td>\n",
       "      <td>1ff9589f9065a9ed</td>\n",
       "      <td>43.869947</td>\n",
       "      <td>144.000000</td>\n",
       "    </tr>\n",
       "    <tr>\n",
       "      <th>525</th>\n",
       "      <td>2015-08-23</td>\n",
       "      <td>20b70a226f1c13fb</td>\n",
       "      <td>b4192a975027aab6</td>\n",
       "      <td>320.000000</td>\n",
       "      <td>46a2f24feb258ae0</td>\n",
       "      <td>199.000000</td>\n",
       "      <td>299.000000</td>\n",
       "    </tr>\n",
       "    <tr>\n",
       "      <th>3139</th>\n",
       "      <td>2015-07-18</td>\n",
       "      <td>c7780ac294530c0d</td>\n",
       "      <td>654ae722109a0d31</td>\n",
       "      <td>319.626168</td>\n",
       "      <td>19db7ac26308178f</td>\n",
       "      <td>105.666667</td>\n",
       "      <td>214.054054</td>\n",
       "    </tr>\n",
       "  </tbody>\n",
       "</table>\n",
       "</div>"
      ],
      "text/plain": [
       "          date_0           bout_id      fighter_id_0  ca_s_ss_a_p15m_0  \\\n",
       "354   2012-05-05  151f9966cae7682c  e4aaaa34535e32b6        940.909091   \n",
       "1509  2013-08-17  5d839e4eda09d6e4  f4c49976c75c5ab2        389.552239   \n",
       "3486  2004-06-19  dffef4343e822399  2a542ee8a8b83559        332.405705   \n",
       "525   2015-08-23  20b70a226f1c13fb  b4192a975027aab6        320.000000   \n",
       "3139  2015-07-18  c7780ac294530c0d  654ae722109a0d31        319.626168   \n",
       "\n",
       "          fighter_id_1  ca_s_ss_a_p15m_1  c_s_ss_a_p15m  \n",
       "354   173acb3f920082b8         57.636364     243.812709  \n",
       "1509  150ff4cc642270b9        219.653110     230.000000  \n",
       "3486  1ff9589f9065a9ed         43.869947     144.000000  \n",
       "525   46a2f24feb258ae0        199.000000     299.000000  \n",
       "3139  19db7ac26308178f        105.666667     214.054054  "
      ]
     },
     "execution_count": 11,
     "metadata": {},
     "output_type": "execute_result"
    }
   ],
   "source": [
    "data.sort_values('ca_s_ss_a_p15m_0', ascending=False).head()"
   ]
  },
  {
   "cell_type": "markdown",
   "metadata": {},
   "source": [
    "If you add the fighter id to the end of this link 'http://www.ufcstats.com/fighter-details/', you can find out the names and records of each of these fighters.\n",
    "\n",
    "Let's look at the first row: figher 0 in the first row has a career sig strike att. per 15m of about 940 on 2012-05-05. The fighter is Nick Denis who only had one UFC fight prior to this which was a first round knockout."
   ]
  },
  {
   "cell_type": "markdown",
   "metadata": {},
   "source": [
    "#### Fighter 1"
   ]
  },
  {
   "cell_type": "code",
   "execution_count": 12,
   "metadata": {},
   "outputs": [
    {
     "data": {
      "text/html": [
       "<div>\n",
       "<style scoped>\n",
       "    .dataframe tbody tr th:only-of-type {\n",
       "        vertical-align: middle;\n",
       "    }\n",
       "\n",
       "    .dataframe tbody tr th {\n",
       "        vertical-align: top;\n",
       "    }\n",
       "\n",
       "    .dataframe thead th {\n",
       "        text-align: right;\n",
       "    }\n",
       "</style>\n",
       "<table border=\"1\" class=\"dataframe\">\n",
       "  <thead>\n",
       "    <tr style=\"text-align: right;\">\n",
       "      <th></th>\n",
       "      <th>date_0</th>\n",
       "      <th>bout_id</th>\n",
       "      <th>fighter_id_0</th>\n",
       "      <th>ca_s_ss_a_p15m_0</th>\n",
       "      <th>fighter_id_1</th>\n",
       "      <th>ca_s_ss_a_p15m_1</th>\n",
       "      <th>c_s_ss_a_p15m</th>\n",
       "    </tr>\n",
       "  </thead>\n",
       "  <tbody>\n",
       "    <tr>\n",
       "      <th>2796</th>\n",
       "      <td>2005-08-06</td>\n",
       "      <td>b2f604f2332cd8af</td>\n",
       "      <td>ea3ef6206c7907d5</td>\n",
       "      <td>66.000000</td>\n",
       "      <td>9fe85152f351e737</td>\n",
       "      <td>585.000000</td>\n",
       "      <td>368.181818</td>\n",
       "    </tr>\n",
       "    <tr>\n",
       "      <th>2086</th>\n",
       "      <td>2008-12-10</td>\n",
       "      <td>83406cd29d3c2d0f</td>\n",
       "      <td>cbf94e4c4af4ff6d</td>\n",
       "      <td>10.344828</td>\n",
       "      <td>89b8d1bf1ff09d1d</td>\n",
       "      <td>521.052632</td>\n",
       "      <td>279.000000</td>\n",
       "    </tr>\n",
       "    <tr>\n",
       "      <th>832</th>\n",
       "      <td>2003-02-28</td>\n",
       "      <td>334cd8572d9842cb</td>\n",
       "      <td>50cc91ce2982785d</td>\n",
       "      <td>24.632220</td>\n",
       "      <td>2a542ee8a8b83559</td>\n",
       "      <td>507.480583</td>\n",
       "      <td>133.333333</td>\n",
       "    </tr>\n",
       "    <tr>\n",
       "      <th>1217</th>\n",
       "      <td>2007-09-22</td>\n",
       "      <td>4a7d39ebc9dce5db</td>\n",
       "      <td>7d21de9c6d7c98b2</td>\n",
       "      <td>70.967591</td>\n",
       "      <td>365fee2da473b177</td>\n",
       "      <td>484.615385</td>\n",
       "      <td>91.621622</td>\n",
       "    </tr>\n",
       "    <tr>\n",
       "      <th>3481</th>\n",
       "      <td>2018-11-03</td>\n",
       "      <td>df9aa51f6ccdfe02</td>\n",
       "      <td>f9b200db02b488d9</td>\n",
       "      <td>179.538732</td>\n",
       "      <td>dccb63727f2f5f74</td>\n",
       "      <td>450.000000</td>\n",
       "      <td>337.000000</td>\n",
       "    </tr>\n",
       "  </tbody>\n",
       "</table>\n",
       "</div>"
      ],
      "text/plain": [
       "          date_0           bout_id      fighter_id_0  ca_s_ss_a_p15m_0  \\\n",
       "2796  2005-08-06  b2f604f2332cd8af  ea3ef6206c7907d5         66.000000   \n",
       "2086  2008-12-10  83406cd29d3c2d0f  cbf94e4c4af4ff6d         10.344828   \n",
       "832   2003-02-28  334cd8572d9842cb  50cc91ce2982785d         24.632220   \n",
       "1217  2007-09-22  4a7d39ebc9dce5db  7d21de9c6d7c98b2         70.967591   \n",
       "3481  2018-11-03  df9aa51f6ccdfe02  f9b200db02b488d9        179.538732   \n",
       "\n",
       "          fighter_id_1  ca_s_ss_a_p15m_1  c_s_ss_a_p15m  \n",
       "2796  9fe85152f351e737        585.000000     368.181818  \n",
       "2086  89b8d1bf1ff09d1d        521.052632     279.000000  \n",
       "832   2a542ee8a8b83559        507.480583     133.333333  \n",
       "1217  365fee2da473b177        484.615385      91.621622  \n",
       "3481  dccb63727f2f5f74        450.000000     337.000000  "
      ]
     },
     "execution_count": 12,
     "metadata": {},
     "output_type": "execute_result"
    }
   ],
   "source": [
    "data.sort_values('ca_s_ss_a_p15m_1', ascending=False).head()"
   ]
  },
  {
   "cell_type": "markdown",
   "metadata": {},
   "source": [
    "Figher 1 in the first row has a career sig strike att. per 15m of 585 on 2005-08-06. The fighter is Mike Swick who only had one UFC fight prior to this which was a first round knockout."
   ]
  },
  {
   "cell_type": "markdown",
   "metadata": {},
   "source": [
    "### Correlation"
   ]
  },
  {
   "cell_type": "code",
   "execution_count": 14,
   "metadata": {},
   "outputs": [
    {
     "data": {
      "text/html": [
       "<div>\n",
       "<style scoped>\n",
       "    .dataframe tbody tr th:only-of-type {\n",
       "        vertical-align: middle;\n",
       "    }\n",
       "\n",
       "    .dataframe tbody tr th {\n",
       "        vertical-align: top;\n",
       "    }\n",
       "\n",
       "    .dataframe thead th {\n",
       "        text-align: right;\n",
       "    }\n",
       "</style>\n",
       "<table border=\"1\" class=\"dataframe\">\n",
       "  <thead>\n",
       "    <tr style=\"text-align: right;\">\n",
       "      <th></th>\n",
       "      <th>ca_s_ss_a_p15m_0</th>\n",
       "      <th>ca_s_ss_a_p15m_1</th>\n",
       "      <th>c_s_ss_a_p15m</th>\n",
       "    </tr>\n",
       "  </thead>\n",
       "  <tbody>\n",
       "    <tr>\n",
       "      <th>ca_s_ss_a_p15m_0</th>\n",
       "      <td>1.000000</td>\n",
       "      <td>0.142098</td>\n",
       "      <td>0.302473</td>\n",
       "    </tr>\n",
       "    <tr>\n",
       "      <th>ca_s_ss_a_p15m_1</th>\n",
       "      <td>0.142098</td>\n",
       "      <td>1.000000</td>\n",
       "      <td>0.243444</td>\n",
       "    </tr>\n",
       "    <tr>\n",
       "      <th>c_s_ss_a_p15m</th>\n",
       "      <td>0.302473</td>\n",
       "      <td>0.243444</td>\n",
       "      <td>1.000000</td>\n",
       "    </tr>\n",
       "  </tbody>\n",
       "</table>\n",
       "</div>"
      ],
      "text/plain": [
       "                  ca_s_ss_a_p15m_0  ca_s_ss_a_p15m_1  c_s_ss_a_p15m\n",
       "ca_s_ss_a_p15m_0          1.000000          0.142098       0.302473\n",
       "ca_s_ss_a_p15m_1          0.142098          1.000000       0.243444\n",
       "c_s_ss_a_p15m             0.302473          0.243444       1.000000"
      ]
     },
     "execution_count": 14,
     "metadata": {},
     "output_type": "execute_result"
    }
   ],
   "source": [
    "data.corr()"
   ]
  },
  {
   "cell_type": "markdown",
   "metadata": {},
   "source": [
    "The correlations between the target and fighter 0 is higher than the correlation between the target and fighter 1. This is unexpected because the ordering of the ordering of the fighters was random."
   ]
  },
  {
   "cell_type": "markdown",
   "metadata": {},
   "source": [
    "# Conclusion\n",
    "### Standing Significant Strike Rate\n",
    "Measuring strike attempts per 15 minutes can be used as a measure of how much striking occurs in a fight. First round knockouts create some outliers that seem unrealistic because they are often the result of an extemely high rate of striking activity that is unsustainable. Therefore, Career Average Significant Strike Attempts per 15 Minutes cannot measure a fighters ability to sustain that rate. \n",
    "\n",
    "\n",
    "### Correlations\n",
    "The career averages for fighter 0 have a pearson correlation coefficient of .3, while fighter 1 has .24. Ideally, we would see the almost exactly the same correlation between each fighter, because their order shouldn't matter.\n",
    "\n",
    "This could be due to random chance but it may warrant some preprocessing that will randomize which order the fighters are listed.\n"
   ]
  },
  {
   "cell_type": "code",
   "execution_count": null,
   "metadata": {},
   "outputs": [],
   "source": []
  }
 ],
 "metadata": {
  "kernelspec": {
   "display_name": "Python 3",
   "language": "python",
   "name": "python3"
  },
  "language_info": {
   "codemirror_mode": {
    "name": "ipython",
    "version": 3
   },
   "file_extension": ".py",
   "mimetype": "text/x-python",
   "name": "python",
   "nbconvert_exporter": "python",
   "pygments_lexer": "ipython3",
   "version": "3.8.3"
  }
 },
 "nbformat": 4,
 "nbformat_minor": 4
}
