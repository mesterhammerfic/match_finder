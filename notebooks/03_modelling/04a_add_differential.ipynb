{
 "cells": [
  {
   "cell_type": "markdown",
   "metadata": {},
   "source": [
    "# Purpose\n",
    "This notebook creates a baseline model as a point of reference for future model iterations. This model predicts the total number of significant strikes landed given two fighters average significant strikes landed in all of their previous bouts."
   ]
  },
  {
   "cell_type": "code",
   "execution_count": 1,
   "metadata": {},
   "outputs": [],
   "source": [
    "import pandas as pd\n",
    "import matplotlib.pyplot as plt\n",
    "import seaborn as sns\n",
    "from sklearn.linear_model import PoissonRegressor\n",
    "from sklearn.model_selection import cross_val_score, train_test_split\n",
    "from sklearn.preprocessing import StandardScaler\n",
    "from sklearn.metrics import r2_score"
   ]
  },
  {
   "cell_type": "markdown",
   "metadata": {},
   "source": [
    "### Import and split"
   ]
  },
  {
   "cell_type": "code",
   "execution_count": 2,
   "metadata": {},
   "outputs": [
    {
     "data": {
      "text/html": [
       "<div>\n",
       "<style scoped>\n",
       "    .dataframe tbody tr th:only-of-type {\n",
       "        vertical-align: middle;\n",
       "    }\n",
       "\n",
       "    .dataframe tbody tr th {\n",
       "        vertical-align: top;\n",
       "    }\n",
       "\n",
       "    .dataframe thead th {\n",
       "        text-align: right;\n",
       "    }\n",
       "</style>\n",
       "<table border=\"1\" class=\"dataframe\">\n",
       "  <thead>\n",
       "    <tr style=\"text-align: right;\">\n",
       "      <th></th>\n",
       "      <th>asss_0</th>\n",
       "      <th>assa_0</th>\n",
       "      <th>assde_0</th>\n",
       "      <th>assdi_0</th>\n",
       "      <th>asss_1</th>\n",
       "      <th>assa_1</th>\n",
       "      <th>assde_1</th>\n",
       "      <th>assdi_1</th>\n",
       "      <th>tsss_bout</th>\n",
       "    </tr>\n",
       "  </thead>\n",
       "  <tbody>\n",
       "    <tr>\n",
       "      <th>0</th>\n",
       "      <td>9.800000</td>\n",
       "      <td>0.281351</td>\n",
       "      <td>0.543474</td>\n",
       "      <td>1.200000</td>\n",
       "      <td>7.750000</td>\n",
       "      <td>0.601620</td>\n",
       "      <td>0.563305</td>\n",
       "      <td>0.750000</td>\n",
       "      <td>54</td>\n",
       "    </tr>\n",
       "    <tr>\n",
       "      <th>1</th>\n",
       "      <td>12.900000</td>\n",
       "      <td>0.598198</td>\n",
       "      <td>0.546091</td>\n",
       "      <td>7.700000</td>\n",
       "      <td>6.666667</td>\n",
       "      <td>0.359259</td>\n",
       "      <td>0.561818</td>\n",
       "      <td>-14.333333</td>\n",
       "      <td>31</td>\n",
       "    </tr>\n",
       "    <tr>\n",
       "      <th>2</th>\n",
       "      <td>11.954545</td>\n",
       "      <td>0.437190</td>\n",
       "      <td>0.487594</td>\n",
       "      <td>-2.545455</td>\n",
       "      <td>21.444444</td>\n",
       "      <td>0.774253</td>\n",
       "      <td>0.667550</td>\n",
       "      <td>14.666667</td>\n",
       "      <td>19</td>\n",
       "    </tr>\n",
       "    <tr>\n",
       "      <th>3</th>\n",
       "      <td>7.666667</td>\n",
       "      <td>0.486772</td>\n",
       "      <td>0.775809</td>\n",
       "      <td>2.333333</td>\n",
       "      <td>18.111111</td>\n",
       "      <td>0.314773</td>\n",
       "      <td>0.673899</td>\n",
       "      <td>2.666667</td>\n",
       "      <td>60</td>\n",
       "    </tr>\n",
       "    <tr>\n",
       "      <th>4</th>\n",
       "      <td>20.636364</td>\n",
       "      <td>0.471745</td>\n",
       "      <td>0.647542</td>\n",
       "      <td>15.090909</td>\n",
       "      <td>11.222222</td>\n",
       "      <td>0.484044</td>\n",
       "      <td>0.498367</td>\n",
       "      <td>-0.777778</td>\n",
       "      <td>148</td>\n",
       "    </tr>\n",
       "  </tbody>\n",
       "</table>\n",
       "</div>"
      ],
      "text/plain": [
       "      asss_0    assa_0   assde_0    assdi_0     asss_1    assa_1   assde_1  \\\n",
       "0   9.800000  0.281351  0.543474   1.200000   7.750000  0.601620  0.563305   \n",
       "1  12.900000  0.598198  0.546091   7.700000   6.666667  0.359259  0.561818   \n",
       "2  11.954545  0.437190  0.487594  -2.545455  21.444444  0.774253  0.667550   \n",
       "3   7.666667  0.486772  0.775809   2.333333  18.111111  0.314773  0.673899   \n",
       "4  20.636364  0.471745  0.647542  15.090909  11.222222  0.484044  0.498367   \n",
       "\n",
       "     assdi_1  tsss_bout  \n",
       "0   0.750000         54  \n",
       "1 -14.333333         31  \n",
       "2  14.666667         19  \n",
       "3   2.666667         60  \n",
       "4  -0.777778        148  "
      ]
     },
     "execution_count": 2,
     "metadata": {},
     "output_type": "execute_result"
    }
   ],
   "source": [
    "data = pd.read_csv('../../data/model_4_data.csv', index_col=0)\n",
    "data.head()"
   ]
  },
  {
   "cell_type": "code",
   "execution_count": 3,
   "metadata": {},
   "outputs": [],
   "source": [
    "X = data.drop('tsss_bout', axis=1)\n",
    "y = data.tsss_bout"
   ]
  },
  {
   "cell_type": "code",
   "execution_count": 4,
   "metadata": {},
   "outputs": [],
   "source": [
    "X_train, X_test, y_train, y_test = train_test_split(X, y,random_state=1)"
   ]
  },
  {
   "cell_type": "markdown",
   "metadata": {},
   "source": [
    "### Preprocessing"
   ]
  },
  {
   "cell_type": "code",
   "execution_count": 5,
   "metadata": {},
   "outputs": [],
   "source": [
    "ss = StandardScaler()\n",
    "X_train_ss = ss.fit_transform(X_train)\n",
    "X_test_ss = ss.transform(X_test)"
   ]
  },
  {
   "cell_type": "markdown",
   "metadata": {},
   "source": [
    "### Modelling"
   ]
  },
  {
   "cell_type": "code",
   "execution_count": 6,
   "metadata": {},
   "outputs": [
    {
     "data": {
      "text/plain": [
       "array([0.09438985, 0.16218001, 0.16739582, 0.10581845, 0.11693337])"
      ]
     },
     "execution_count": 6,
     "metadata": {},
     "output_type": "execute_result"
    }
   ],
   "source": [
    "pr = PoissonRegressor()\n",
    "cross_val_score(pr, X_train_ss, y_train, scoring='r2')"
   ]
  },
  {
   "cell_type": "code",
   "execution_count": 7,
   "metadata": {},
   "outputs": [
    {
     "data": {
      "text/plain": [
       "PoissonRegressor()"
      ]
     },
     "execution_count": 7,
     "metadata": {},
     "output_type": "execute_result"
    }
   ],
   "source": [
    "pr.fit(X_train_ss, y_train)"
   ]
  },
  {
   "cell_type": "markdown",
   "metadata": {},
   "source": [
    "### Evaluation"
   ]
  },
  {
   "cell_type": "code",
   "execution_count": 8,
   "metadata": {},
   "outputs": [],
   "source": [
    "y_hat = pr.predict(X_test_ss)"
   ]
  },
  {
   "cell_type": "code",
   "execution_count": 9,
   "metadata": {},
   "outputs": [
    {
     "data": {
      "text/plain": [
       "0.08784054244802508"
      ]
     },
     "execution_count": 9,
     "metadata": {},
     "output_type": "execute_result"
    }
   ],
   "source": [
    "r2_score(y_test, y_hat)"
   ]
  },
  {
   "cell_type": "code",
   "execution_count": 10,
   "metadata": {},
   "outputs": [
    {
     "data": {
      "text/plain": [
       "array([ 0.2065282 , -0.04105283,  0.01130913, -0.09215278,  0.19354234,\n",
       "       -0.02752053,  0.04758005, -0.08496527])"
      ]
     },
     "execution_count": 10,
     "metadata": {},
     "output_type": "execute_result"
    }
   ],
   "source": [
    "pr.coef_"
   ]
  },
  {
   "cell_type": "code",
   "execution_count": null,
   "metadata": {},
   "outputs": [],
   "source": []
  }
 ],
 "metadata": {
  "kernelspec": {
   "display_name": "Python 3",
   "language": "python",
   "name": "python3"
  },
  "language_info": {
   "codemirror_mode": {
    "name": "ipython",
    "version": 3
   },
   "file_extension": ".py",
   "mimetype": "text/x-python",
   "name": "python",
   "nbconvert_exporter": "python",
   "pygments_lexer": "ipython3",
   "version": "3.7.6"
  }
 },
 "nbformat": 4,
 "nbformat_minor": 4
}
