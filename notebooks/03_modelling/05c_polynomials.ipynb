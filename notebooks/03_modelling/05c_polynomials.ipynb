{
 "cells": [
  {
   "cell_type": "markdown",
   "metadata": {},
   "source": [
    "# Purpose\n",
    "This notebook creates a baseline model as a point of reference for future model iterations. This model predicts the total number of significant strikes landed given two fighters average significant strikes landed in all of their previous bouts."
   ]
  },
  {
   "cell_type": "code",
   "execution_count": 1,
   "metadata": {},
   "outputs": [],
   "source": [
    "import pandas as pd\n",
    "import matplotlib.pyplot as plt\n",
    "import seaborn as sns\n",
    "from sklearn.ensemble import RandomForestRegressor\n",
    "from sklearn.model_selection import cross_val_score, train_test_split\n",
    "from sklearn.preprocessing import StandardScaler, PolynomialFeatures"
   ]
  },
  {
   "cell_type": "markdown",
   "metadata": {},
   "source": [
    "### Import and split"
   ]
  },
  {
   "cell_type": "code",
   "execution_count": 2,
   "metadata": {},
   "outputs": [
    {
     "data": {
      "text/html": [
       "<div>\n",
       "<style scoped>\n",
       "    .dataframe tbody tr th:only-of-type {\n",
       "        vertical-align: middle;\n",
       "    }\n",
       "\n",
       "    .dataframe tbody tr th {\n",
       "        vertical-align: top;\n",
       "    }\n",
       "\n",
       "    .dataframe thead th {\n",
       "        text-align: right;\n",
       "    }\n",
       "</style>\n",
       "<table border=\"1\" class=\"dataframe\">\n",
       "  <thead>\n",
       "    <tr style=\"text-align: right;\">\n",
       "      <th></th>\n",
       "      <th>fa3_asss_0</th>\n",
       "      <th>fa3_assa_0</th>\n",
       "      <th>fa3_assde_0</th>\n",
       "      <th>fa3_assdi_0</th>\n",
       "      <th>fa3_asss_1</th>\n",
       "      <th>fa3_assa_1</th>\n",
       "      <th>fa3_assde_1</th>\n",
       "      <th>fa3_assdi_1</th>\n",
       "      <th>ca_asss_0</th>\n",
       "      <th>ca_assa_0</th>\n",
       "      <th>ca_assde_0</th>\n",
       "      <th>ca_assdi_0</th>\n",
       "      <th>ca_asss_1</th>\n",
       "      <th>ca_assa_1</th>\n",
       "      <th>ca_assde_1</th>\n",
       "      <th>ca_assdi_1</th>\n",
       "      <th>casss_bout</th>\n",
       "    </tr>\n",
       "  </thead>\n",
       "  <tbody>\n",
       "    <tr>\n",
       "      <th>0</th>\n",
       "      <td>9.800000</td>\n",
       "      <td>0.281351</td>\n",
       "      <td>0.543474</td>\n",
       "      <td>1.200000</td>\n",
       "      <td>7.750000</td>\n",
       "      <td>0.601620</td>\n",
       "      <td>0.563305</td>\n",
       "      <td>0.750000</td>\n",
       "      <td>9.800000</td>\n",
       "      <td>0.281351</td>\n",
       "      <td>0.543474</td>\n",
       "      <td>1.200000</td>\n",
       "      <td>7.750000</td>\n",
       "      <td>0.601620</td>\n",
       "      <td>0.563305</td>\n",
       "      <td>0.750000</td>\n",
       "      <td>18.000000</td>\n",
       "    </tr>\n",
       "    <tr>\n",
       "      <th>1</th>\n",
       "      <td>12.900000</td>\n",
       "      <td>0.716091</td>\n",
       "      <td>0.546091</td>\n",
       "      <td>7.700000</td>\n",
       "      <td>6.666667</td>\n",
       "      <td>0.359259</td>\n",
       "      <td>0.561818</td>\n",
       "      <td>-14.333333</td>\n",
       "      <td>12.900000</td>\n",
       "      <td>0.716091</td>\n",
       "      <td>0.546091</td>\n",
       "      <td>7.700000</td>\n",
       "      <td>6.666667</td>\n",
       "      <td>0.359259</td>\n",
       "      <td>0.561818</td>\n",
       "      <td>-14.333333</td>\n",
       "      <td>10.333333</td>\n",
       "    </tr>\n",
       "    <tr>\n",
       "      <th>2</th>\n",
       "      <td>11.954545</td>\n",
       "      <td>0.319309</td>\n",
       "      <td>0.487594</td>\n",
       "      <td>-2.545455</td>\n",
       "      <td>21.444444</td>\n",
       "      <td>0.814489</td>\n",
       "      <td>0.667550</td>\n",
       "      <td>14.666667</td>\n",
       "      <td>11.954545</td>\n",
       "      <td>0.319309</td>\n",
       "      <td>0.487594</td>\n",
       "      <td>-2.545455</td>\n",
       "      <td>21.444444</td>\n",
       "      <td>0.814489</td>\n",
       "      <td>0.667550</td>\n",
       "      <td>14.666667</td>\n",
       "      <td>19.000000</td>\n",
       "    </tr>\n",
       "    <tr>\n",
       "      <th>3</th>\n",
       "      <td>7.666667</td>\n",
       "      <td>0.486772</td>\n",
       "      <td>0.775809</td>\n",
       "      <td>2.333333</td>\n",
       "      <td>18.111111</td>\n",
       "      <td>0.271754</td>\n",
       "      <td>0.673899</td>\n",
       "      <td>2.666667</td>\n",
       "      <td>7.666667</td>\n",
       "      <td>0.486772</td>\n",
       "      <td>0.775809</td>\n",
       "      <td>2.333333</td>\n",
       "      <td>18.111111</td>\n",
       "      <td>0.271754</td>\n",
       "      <td>0.673899</td>\n",
       "      <td>2.666667</td>\n",
       "      <td>60.000000</td>\n",
       "    </tr>\n",
       "    <tr>\n",
       "      <th>4</th>\n",
       "      <td>20.636364</td>\n",
       "      <td>0.408337</td>\n",
       "      <td>0.647542</td>\n",
       "      <td>15.090909</td>\n",
       "      <td>11.222222</td>\n",
       "      <td>0.460897</td>\n",
       "      <td>0.498367</td>\n",
       "      <td>-0.777778</td>\n",
       "      <td>20.636364</td>\n",
       "      <td>0.408337</td>\n",
       "      <td>0.647542</td>\n",
       "      <td>15.090909</td>\n",
       "      <td>11.222222</td>\n",
       "      <td>0.460897</td>\n",
       "      <td>0.498367</td>\n",
       "      <td>-0.777778</td>\n",
       "      <td>29.600000</td>\n",
       "    </tr>\n",
       "  </tbody>\n",
       "</table>\n",
       "</div>"
      ],
      "text/plain": [
       "   fa3_asss_0  fa3_assa_0  fa3_assde_0  fa3_assdi_0  fa3_asss_1  fa3_assa_1  \\\n",
       "0    9.800000    0.281351     0.543474     1.200000    7.750000    0.601620   \n",
       "1   12.900000    0.716091     0.546091     7.700000    6.666667    0.359259   \n",
       "2   11.954545    0.319309     0.487594    -2.545455   21.444444    0.814489   \n",
       "3    7.666667    0.486772     0.775809     2.333333   18.111111    0.271754   \n",
       "4   20.636364    0.408337     0.647542    15.090909   11.222222    0.460897   \n",
       "\n",
       "   fa3_assde_1  fa3_assdi_1  ca_asss_0  ca_assa_0  ca_assde_0  ca_assdi_0  \\\n",
       "0     0.563305     0.750000   9.800000   0.281351    0.543474    1.200000   \n",
       "1     0.561818   -14.333333  12.900000   0.716091    0.546091    7.700000   \n",
       "2     0.667550    14.666667  11.954545   0.319309    0.487594   -2.545455   \n",
       "3     0.673899     2.666667   7.666667   0.486772    0.775809    2.333333   \n",
       "4     0.498367    -0.777778  20.636364   0.408337    0.647542   15.090909   \n",
       "\n",
       "   ca_asss_1  ca_assa_1  ca_assde_1  ca_assdi_1  casss_bout  \n",
       "0   7.750000   0.601620    0.563305    0.750000   18.000000  \n",
       "1   6.666667   0.359259    0.561818  -14.333333   10.333333  \n",
       "2  21.444444   0.814489    0.667550   14.666667   19.000000  \n",
       "3  18.111111   0.271754    0.673899    2.666667   60.000000  \n",
       "4  11.222222   0.460897    0.498367   -0.777778   29.600000  "
      ]
     },
     "execution_count": 2,
     "metadata": {},
     "output_type": "execute_result"
    }
   ],
   "source": [
    "data = pd.read_csv('../../data/model_5_data.csv', index_col=0)\n",
    "data.head()"
   ]
  },
  {
   "cell_type": "code",
   "execution_count": 3,
   "metadata": {},
   "outputs": [],
   "source": [
    "X = data.drop('casss_bout', axis=1)\n",
    "y = data.casss_bout"
   ]
  },
  {
   "cell_type": "code",
   "execution_count": 4,
   "metadata": {},
   "outputs": [],
   "source": [
    "X_train, X_test, y_train, y_test = train_test_split(X, y,random_state=1)"
   ]
  },
  {
   "cell_type": "markdown",
   "metadata": {},
   "source": [
    "### Preprocessing"
   ]
  },
  {
   "cell_type": "code",
   "execution_count": 5,
   "metadata": {},
   "outputs": [],
   "source": [
    "ss = StandardScaler()\n",
    "X_train_ss = ss.fit_transform(X_train)\n",
    "X_test_ss = ss.transform(X_test)"
   ]
  },
  {
   "cell_type": "code",
   "execution_count": 6,
   "metadata": {},
   "outputs": [],
   "source": [
    "poly = PolynomialFeatures(2)\n",
    "X_train_poly = poly.fit_transform(X_train)\n",
    "X_test_poly = poly.transform(X_test)"
   ]
  },
  {
   "cell_type": "markdown",
   "metadata": {},
   "source": [
    "### Modelling"
   ]
  },
  {
   "cell_type": "code",
   "execution_count": 7,
   "metadata": {},
   "outputs": [
    {
     "data": {
      "text/plain": [
       "array([0.14899961, 0.12235528, 0.190147  , 0.10384161, 0.18636737])"
      ]
     },
     "execution_count": 7,
     "metadata": {},
     "output_type": "execute_result"
    }
   ],
   "source": [
    "rfr = RandomForestRegressor(max_depth=5, max_features='sqrt')\n",
    "cross_val_score(rfr, X_train_poly, y_train)"
   ]
  },
  {
   "cell_type": "code",
   "execution_count": 8,
   "metadata": {},
   "outputs": [
    {
     "data": {
      "text/plain": [
       "RandomForestRegressor(max_depth=5, max_features='sqrt')"
      ]
     },
     "execution_count": 8,
     "metadata": {},
     "output_type": "execute_result"
    }
   ],
   "source": [
    "rfr.fit(X_train_poly, y_train)"
   ]
  },
  {
   "cell_type": "markdown",
   "metadata": {},
   "source": [
    "### Evaluation"
   ]
  },
  {
   "cell_type": "code",
   "execution_count": 9,
   "metadata": {},
   "outputs": [
    {
     "data": {
      "text/plain": [
       "0.141280261748571"
      ]
     },
     "execution_count": 9,
     "metadata": {},
     "output_type": "execute_result"
    }
   ],
   "source": [
    "rfr.score(X_test_poly, y_test)"
   ]
  },
  {
   "cell_type": "code",
   "execution_count": 16,
   "metadata": {},
   "outputs": [
    {
     "data": {
      "text/html": [
       "<div>\n",
       "<style scoped>\n",
       "    .dataframe tbody tr th:only-of-type {\n",
       "        vertical-align: middle;\n",
       "    }\n",
       "\n",
       "    .dataframe tbody tr th {\n",
       "        vertical-align: top;\n",
       "    }\n",
       "\n",
       "    .dataframe thead th {\n",
       "        text-align: right;\n",
       "    }\n",
       "</style>\n",
       "<table border=\"1\" class=\"dataframe\">\n",
       "  <thead>\n",
       "    <tr style=\"text-align: right;\">\n",
       "      <th></th>\n",
       "      <th>model_predictions</th>\n",
       "      <th>actual_results</th>\n",
       "    </tr>\n",
       "  </thead>\n",
       "  <tbody>\n",
       "    <tr>\n",
       "      <th>0</th>\n",
       "      <td>24.928514</td>\n",
       "      <td>16.666667</td>\n",
       "    </tr>\n",
       "    <tr>\n",
       "      <th>1</th>\n",
       "      <td>22.366089</td>\n",
       "      <td>20.000000</td>\n",
       "    </tr>\n",
       "    <tr>\n",
       "      <th>2</th>\n",
       "      <td>24.927155</td>\n",
       "      <td>27.500000</td>\n",
       "    </tr>\n",
       "    <tr>\n",
       "      <th>3</th>\n",
       "      <td>32.336851</td>\n",
       "      <td>16.000000</td>\n",
       "    </tr>\n",
       "    <tr>\n",
       "      <th>4</th>\n",
       "      <td>23.854803</td>\n",
       "      <td>11.333333</td>\n",
       "    </tr>\n",
       "    <tr>\n",
       "      <th>5</th>\n",
       "      <td>20.418396</td>\n",
       "      <td>19.500000</td>\n",
       "    </tr>\n",
       "    <tr>\n",
       "      <th>6</th>\n",
       "      <td>34.887990</td>\n",
       "      <td>35.000000</td>\n",
       "    </tr>\n",
       "    <tr>\n",
       "      <th>7</th>\n",
       "      <td>23.585006</td>\n",
       "      <td>18.666667</td>\n",
       "    </tr>\n",
       "    <tr>\n",
       "      <th>8</th>\n",
       "      <td>20.051650</td>\n",
       "      <td>15.000000</td>\n",
       "    </tr>\n",
       "    <tr>\n",
       "      <th>9</th>\n",
       "      <td>31.475573</td>\n",
       "      <td>31.666667</td>\n",
       "    </tr>\n",
       "    <tr>\n",
       "      <th>10</th>\n",
       "      <td>25.217850</td>\n",
       "      <td>15.666667</td>\n",
       "    </tr>\n",
       "    <tr>\n",
       "      <th>11</th>\n",
       "      <td>19.752915</td>\n",
       "      <td>5.000000</td>\n",
       "    </tr>\n",
       "    <tr>\n",
       "      <th>12</th>\n",
       "      <td>26.508809</td>\n",
       "      <td>23.000000</td>\n",
       "    </tr>\n",
       "    <tr>\n",
       "      <th>13</th>\n",
       "      <td>25.587945</td>\n",
       "      <td>16.666667</td>\n",
       "    </tr>\n",
       "    <tr>\n",
       "      <th>14</th>\n",
       "      <td>25.156877</td>\n",
       "      <td>21.000000</td>\n",
       "    </tr>\n",
       "  </tbody>\n",
       "</table>\n",
       "</div>"
      ],
      "text/plain": [
       "    model_predictions  actual_results\n",
       "0           24.928514       16.666667\n",
       "1           22.366089       20.000000\n",
       "2           24.927155       27.500000\n",
       "3           32.336851       16.000000\n",
       "4           23.854803       11.333333\n",
       "5           20.418396       19.500000\n",
       "6           34.887990       35.000000\n",
       "7           23.585006       18.666667\n",
       "8           20.051650       15.000000\n",
       "9           31.475573       31.666667\n",
       "10          25.217850       15.666667\n",
       "11          19.752915        5.000000\n",
       "12          26.508809       23.000000\n",
       "13          25.587945       16.666667\n",
       "14          25.156877       21.000000"
      ]
     },
     "execution_count": 16,
     "metadata": {},
     "output_type": "execute_result"
    }
   ],
   "source": [
    "pd.DataFrame({'model_predictions': list(rfr.predict(X_test_poly)[:15]), 'actual_results': list(y_test[:15])})"
   ]
  },
  {
   "cell_type": "code",
   "execution_count": null,
   "metadata": {},
   "outputs": [],
   "source": []
  }
 ],
 "metadata": {
  "kernelspec": {
   "display_name": "Python 3",
   "language": "python",
   "name": "python3"
  },
  "language_info": {
   "codemirror_mode": {
    "name": "ipython",
    "version": 3
   },
   "file_extension": ".py",
   "mimetype": "text/x-python",
   "name": "python",
   "nbconvert_exporter": "python",
   "pygments_lexer": "ipython3",
   "version": "3.8.3"
  }
 },
 "nbformat": 4,
 "nbformat_minor": 4
}
