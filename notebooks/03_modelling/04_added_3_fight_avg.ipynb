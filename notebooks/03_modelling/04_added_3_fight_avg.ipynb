{
 "cells": [
  {
   "cell_type": "markdown",
   "metadata": {},
   "source": [
    "# Purpose\n",
    "Add stat differentials.\n",
    "\n",
    "### Target\n",
    "The target variable for all current model iterations is the Combined Average Distance Significant Strike Attempts per Minute of a match. This calculates the sum of the distance significant strike attempts per minute of both fighters. Distance strikes exclude clinch and ground strikes.\n",
    "\n",
    "#### Model\n",
    "- Model: Linear Regressor\n",
    "- Features: \n",
    "    - Career Average Significant Strike Attempts per 15 Minutes\n",
    "    - Career Average Takedown Attempts per 15 Minutes\n",
    "    - Career Average Significant Strike Attempts per 15 Minutes Differentials\n",
    "    - Career Average Takedown Attempts per 15 Minutes Differentials\n",
    "- Preprocessing: Standard Scaler"
   ]
  },
  {
   "cell_type": "code",
   "execution_count": 1,
   "metadata": {},
   "outputs": [],
   "source": [
    "import pandas as pd\n",
    "import matplotlib.pyplot as plt\n",
    "import seaborn as sns\n",
    "from sklearn.linear_model import LinearRegression\n",
    "from sklearn.model_selection import cross_val_score, train_test_split\n",
    "from sklearn.preprocessing import StandardScaler"
   ]
  },
  {
   "cell_type": "markdown",
   "metadata": {},
   "source": [
    "#### Import and Split"
   ]
  },
  {
   "cell_type": "code",
   "execution_count": 2,
   "metadata": {},
   "outputs": [
    {
     "name": "stdout",
     "output_type": "stream",
     "text": [
      "<class 'pandas.core.frame.DataFrame'>\n",
      "RangeIndex: 3316 entries, 0 to 3315\n",
      "Data columns (total 21 columns):\n",
      " #   Column                Non-Null Count  Dtype  \n",
      "---  ------                --------------  -----  \n",
      " 0   date_0                3316 non-null   object \n",
      " 1   bout_id               3316 non-null   object \n",
      " 2   fighter_id_0          3316 non-null   object \n",
      " 3   ca_s_ss_a_p15m_0      3316 non-null   float64\n",
      " 4   ca_td_a_p15m_0        3316 non-null   float64\n",
      " 5   ca_s_ss_a_p15m_di_0   3316 non-null   float64\n",
      " 6   ca_td_a_p15m_di_0     3316 non-null   float64\n",
      " 7   3fa_s_ss_a_p15m_0     3316 non-null   float64\n",
      " 8   3fa_td_a_p15m_0       3316 non-null   float64\n",
      " 9   3fa_s_ss_a_p15m_di_0  3316 non-null   float64\n",
      " 10  3fa_td_a_p15m_di_0    3316 non-null   float64\n",
      " 11  fighter_id_1          3316 non-null   object \n",
      " 12  ca_s_ss_a_p15m_1      3316 non-null   float64\n",
      " 13  ca_td_a_p15m_1        3316 non-null   float64\n",
      " 14  ca_s_ss_a_p15m_di_1   3316 non-null   float64\n",
      " 15  ca_td_a_p15m_di_1     3316 non-null   float64\n",
      " 16  3fa_s_ss_a_p15m_1     3316 non-null   float64\n",
      " 17  3fa_td_a_p15m_1       3316 non-null   float64\n",
      " 18  3fa_s_ss_a_p15m_di_1  3316 non-null   float64\n",
      " 19  3fa_td_a_p15m_di_1    3316 non-null   float64\n",
      " 20  c_s_ss_a_p15m         3316 non-null   float64\n",
      "dtypes: float64(17), object(4)\n",
      "memory usage: 544.2+ KB\n"
     ]
    }
   ],
   "source": [
    "data = pd.read_csv('../../data/modelling_data/model_4_data.csv')\n",
    "data.info()"
   ]
  },
  {
   "cell_type": "code",
   "execution_count": 3,
   "metadata": {},
   "outputs": [],
   "source": [
    "X = data.loc[:,['ca_s_ss_a_p15m_0', 'ca_td_a_p15m_0', 'ca_s_ss_a_p15m_di_0', 'ca_td_a_p15m_di_0',\n",
    "                'ca_s_ss_a_p15m_1', 'ca_td_a_p15m_1', 'ca_s_ss_a_p15m_di_1', 'ca_td_a_p15m_di_1',]]\n",
    "y = data.c_s_ss_a_p15m"
   ]
  },
  {
   "cell_type": "code",
   "execution_count": 4,
   "metadata": {},
   "outputs": [],
   "source": [
    "X_train, X_test, y_train, y_test = train_test_split(X, y,random_state=1)"
   ]
  },
  {
   "cell_type": "markdown",
   "metadata": {},
   "source": [
    "#### Preprocessing"
   ]
  },
  {
   "cell_type": "code",
   "execution_count": 5,
   "metadata": {},
   "outputs": [],
   "source": [
    "ss = StandardScaler()\n",
    "X_train_ss = ss.fit_transform(X_train)\n",
    "X_test_ss = ss.transform(X_test)"
   ]
  },
  {
   "cell_type": "markdown",
   "metadata": {},
   "source": [
    "#### Cross-Validation\n",
    "performance was evaluated using the standard metric for Poisson regression, mean Poisson deviance, as well as r-squared, so that it can be compared to other non-Poisson models easily."
   ]
  },
  {
   "cell_type": "markdown",
   "metadata": {},
   "source": [
    "##### R-squared cross-val scores"
   ]
  },
  {
   "cell_type": "code",
   "execution_count": 6,
   "metadata": {},
   "outputs": [
    {
     "data": {
      "text/plain": [
       "array([0.18271794, 0.15796221, 0.21848821, 0.22119189, 0.19118267])"
      ]
     },
     "execution_count": 6,
     "metadata": {},
     "output_type": "execute_result"
    }
   ],
   "source": [
    "lr = LinearRegression()\n",
    "cross_val_score(lr, X_train_ss, y_train)"
   ]
  },
  {
   "cell_type": "markdown",
   "metadata": {},
   "source": [
    "Most of these scores are between .13 and .16 with a small amount of variance, and still a high level of bias."
   ]
  },
  {
   "cell_type": "markdown",
   "metadata": {},
   "source": [
    "## Evaluation on Test Set"
   ]
  },
  {
   "cell_type": "code",
   "execution_count": 7,
   "metadata": {},
   "outputs": [
    {
     "data": {
      "text/plain": [
       "LinearRegression()"
      ]
     },
     "execution_count": 7,
     "metadata": {},
     "output_type": "execute_result"
    }
   ],
   "source": [
    "lr.fit(X_train_ss, y_train)"
   ]
  },
  {
   "cell_type": "code",
   "execution_count": 8,
   "metadata": {},
   "outputs": [
    {
     "data": {
      "text/plain": [
       "0.14931252032779718"
      ]
     },
     "execution_count": 8,
     "metadata": {},
     "output_type": "execute_result"
    }
   ],
   "source": [
    "lr.score(X_test_ss, y_test)"
   ]
  },
  {
   "cell_type": "markdown",
   "metadata": {},
   "source": [
    "This model achieves a .180, an improvement over the .157 from the first simple model. We do include 6 more features which in and of itself could be responsible for this increase. "
   ]
  }
 ],
 "metadata": {
  "kernelspec": {
   "display_name": "Python 3",
   "language": "python",
   "name": "python3"
  },
  "language_info": {
   "codemirror_mode": {
    "name": "ipython",
    "version": 3
   },
   "file_extension": ".py",
   "mimetype": "text/x-python",
   "name": "python",
   "nbconvert_exporter": "python",
   "pygments_lexer": "ipython3",
   "version": "3.8.3"
  }
 },
 "nbformat": 4,
 "nbformat_minor": 4
}
