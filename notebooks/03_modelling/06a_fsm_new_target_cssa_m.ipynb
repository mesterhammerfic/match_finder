{
 "cells": [
  {
   "cell_type": "markdown",
   "metadata": {},
   "source": [
    "# Purpose\n",
    "This notebook creates a baseline model as a point of reference for future model iterations. This model predicts the total number of significant strikes landed given two fighters average significant strikes landed in all of their previous bouts."
   ]
  },
  {
   "cell_type": "code",
   "execution_count": 1,
   "metadata": {},
   "outputs": [],
   "source": [
    "import pandas as pd\n",
    "import matplotlib.pyplot as plt\n",
    "import seaborn as sns\n",
    "from sklearn.linear_model import PoissonRegressor\n",
    "from sklearn.model_selection import cross_val_score, train_test_split\n",
    "from sklearn.preprocessing import StandardScaler\n",
    "from sklearn.metrics import r2_score"
   ]
  },
  {
   "cell_type": "markdown",
   "metadata": {},
   "source": [
    "### Import and split"
   ]
  },
  {
   "cell_type": "code",
   "execution_count": 2,
   "metadata": {},
   "outputs": [
    {
     "data": {
      "text/html": [
       "<div>\n",
       "<style scoped>\n",
       "    .dataframe tbody tr th:only-of-type {\n",
       "        vertical-align: middle;\n",
       "    }\n",
       "\n",
       "    .dataframe tbody tr th {\n",
       "        vertical-align: top;\n",
       "    }\n",
       "\n",
       "    .dataframe thead th {\n",
       "        text-align: right;\n",
       "    }\n",
       "</style>\n",
       "<table border=\"1\" class=\"dataframe\">\n",
       "  <thead>\n",
       "    <tr style=\"text-align: right;\">\n",
       "      <th></th>\n",
       "      <th>fa3_assa_m_0</th>\n",
       "      <th>fa3_assa_m_1</th>\n",
       "      <th>fa3_assde_0</th>\n",
       "      <th>fa3_assde_1</th>\n",
       "      <th>fa3_assdi_0</th>\n",
       "      <th>fa3_assdi_1</th>\n",
       "      <th>ca_assa_m_0</th>\n",
       "      <th>ca_assa_m_1</th>\n",
       "      <th>ca_assde_0</th>\n",
       "      <th>ca_assde_1</th>\n",
       "      <th>ca_assdi_0</th>\n",
       "      <th>ca_assdi_1</th>\n",
       "      <th>cssa_m</th>\n",
       "    </tr>\n",
       "  </thead>\n",
       "  <tbody>\n",
       "    <tr>\n",
       "      <th>0</th>\n",
       "      <td>5.455385</td>\n",
       "      <td>7.340394</td>\n",
       "      <td>0.543474</td>\n",
       "      <td>0.563305</td>\n",
       "      <td>1.200000</td>\n",
       "      <td>0.750000</td>\n",
       "      <td>5.455385</td>\n",
       "      <td>7.340394</td>\n",
       "      <td>0.543474</td>\n",
       "      <td>0.563305</td>\n",
       "      <td>1.200000</td>\n",
       "      <td>0.750000</td>\n",
       "      <td>8.466667</td>\n",
       "    </tr>\n",
       "    <tr>\n",
       "      <th>1</th>\n",
       "      <td>4.478891</td>\n",
       "      <td>3.733333</td>\n",
       "      <td>0.429391</td>\n",
       "      <td>0.561818</td>\n",
       "      <td>8.857143</td>\n",
       "      <td>-14.333333</td>\n",
       "      <td>5.235224</td>\n",
       "      <td>3.733333</td>\n",
       "      <td>0.546091</td>\n",
       "      <td>0.561818</td>\n",
       "      <td>7.700000</td>\n",
       "      <td>-14.333333</td>\n",
       "      <td>5.962500</td>\n",
       "    </tr>\n",
       "    <tr>\n",
       "      <th>2</th>\n",
       "      <td>9.102954</td>\n",
       "      <td>7.966498</td>\n",
       "      <td>0.465318</td>\n",
       "      <td>0.707744</td>\n",
       "      <td>-3.000000</td>\n",
       "      <td>17.800000</td>\n",
       "      <td>8.788065</td>\n",
       "      <td>7.832834</td>\n",
       "      <td>0.487594</td>\n",
       "      <td>0.667550</td>\n",
       "      <td>-2.545455</td>\n",
       "      <td>14.666667</td>\n",
       "      <td>7.114625</td>\n",
       "    </tr>\n",
       "    <tr>\n",
       "      <th>3</th>\n",
       "      <td>3.200000</td>\n",
       "      <td>12.805102</td>\n",
       "      <td>0.775809</td>\n",
       "      <td>0.642872</td>\n",
       "      <td>2.333333</td>\n",
       "      <td>-0.714286</td>\n",
       "      <td>3.200000</td>\n",
       "      <td>12.864367</td>\n",
       "      <td>0.775809</td>\n",
       "      <td>0.673899</td>\n",
       "      <td>2.333333</td>\n",
       "      <td>2.666667</td>\n",
       "      <td>27.073171</td>\n",
       "    </tr>\n",
       "    <tr>\n",
       "      <th>4</th>\n",
       "      <td>14.315380</td>\n",
       "      <td>5.758914</td>\n",
       "      <td>0.788792</td>\n",
       "      <td>0.650062</td>\n",
       "      <td>17.333333</td>\n",
       "      <td>4.800000</td>\n",
       "      <td>11.630700</td>\n",
       "      <td>5.500106</td>\n",
       "      <td>0.647542</td>\n",
       "      <td>0.498367</td>\n",
       "      <td>15.090909</td>\n",
       "      <td>-0.777778</td>\n",
       "      <td>12.640000</td>\n",
       "    </tr>\n",
       "  </tbody>\n",
       "</table>\n",
       "</div>"
      ],
      "text/plain": [
       "   fa3_assa_m_0  fa3_assa_m_1  fa3_assde_0  fa3_assde_1  fa3_assdi_0  \\\n",
       "0      5.455385      7.340394     0.543474     0.563305     1.200000   \n",
       "1      4.478891      3.733333     0.429391     0.561818     8.857143   \n",
       "2      9.102954      7.966498     0.465318     0.707744    -3.000000   \n",
       "3      3.200000     12.805102     0.775809     0.642872     2.333333   \n",
       "4     14.315380      5.758914     0.788792     0.650062    17.333333   \n",
       "\n",
       "   fa3_assdi_1  ca_assa_m_0  ca_assa_m_1  ca_assde_0  ca_assde_1  ca_assdi_0  \\\n",
       "0     0.750000     5.455385     7.340394    0.543474    0.563305    1.200000   \n",
       "1   -14.333333     5.235224     3.733333    0.546091    0.561818    7.700000   \n",
       "2    17.800000     8.788065     7.832834    0.487594    0.667550   -2.545455   \n",
       "3    -0.714286     3.200000    12.864367    0.775809    0.673899    2.333333   \n",
       "4     4.800000    11.630700     5.500106    0.647542    0.498367   15.090909   \n",
       "\n",
       "   ca_assdi_1     cssa_m  \n",
       "0    0.750000   8.466667  \n",
       "1  -14.333333   5.962500  \n",
       "2   14.666667   7.114625  \n",
       "3    2.666667  27.073171  \n",
       "4   -0.777778  12.640000  "
      ]
     },
     "execution_count": 2,
     "metadata": {},
     "output_type": "execute_result"
    }
   ],
   "source": [
    "data = pd.read_csv('../../data/model_6_data.csv', index_col=0)\n",
    "data.head()"
   ]
  },
  {
   "cell_type": "code",
   "execution_count": 3,
   "metadata": {},
   "outputs": [],
   "source": [
    "X = data.drop('cssa_m', axis=1)\n",
    "y = data.cssa_m"
   ]
  },
  {
   "cell_type": "code",
   "execution_count": 4,
   "metadata": {},
   "outputs": [],
   "source": [
    "X_train, X_test, y_train, y_test = train_test_split(X, y,random_state=1)"
   ]
  },
  {
   "cell_type": "markdown",
   "metadata": {},
   "source": [
    "### Preprocessing"
   ]
  },
  {
   "cell_type": "code",
   "execution_count": 5,
   "metadata": {},
   "outputs": [],
   "source": [
    "ss = StandardScaler()\n",
    "X_train_ss = ss.fit_transform(X_train)\n",
    "X_test_ss = ss.transform(X_test)"
   ]
  },
  {
   "cell_type": "markdown",
   "metadata": {},
   "source": [
    "### Modelling"
   ]
  },
  {
   "cell_type": "code",
   "execution_count": 6,
   "metadata": {},
   "outputs": [
    {
     "data": {
      "text/plain": [
       "array([ 0.09371009,  0.03902602,  0.07578138,  0.11588776, -0.02362877])"
      ]
     },
     "execution_count": 6,
     "metadata": {},
     "output_type": "execute_result"
    }
   ],
   "source": [
    "pr = PoissonRegressor()\n",
    "cross_val_score(pr, X_train_ss, y_train, scoring='r2')"
   ]
  },
  {
   "cell_type": "code",
   "execution_count": 7,
   "metadata": {},
   "outputs": [
    {
     "data": {
      "text/plain": [
       "PoissonRegressor()"
      ]
     },
     "execution_count": 7,
     "metadata": {},
     "output_type": "execute_result"
    }
   ],
   "source": [
    "pr.fit(X_train_ss, y_train)"
   ]
  },
  {
   "cell_type": "markdown",
   "metadata": {},
   "source": [
    "### Evaluation"
   ]
  },
  {
   "cell_type": "code",
   "execution_count": 8,
   "metadata": {},
   "outputs": [],
   "source": [
    "y_hat = pr.predict(X_test_ss)"
   ]
  },
  {
   "cell_type": "code",
   "execution_count": 9,
   "metadata": {},
   "outputs": [
    {
     "data": {
      "text/plain": [
       "0.00899882717609235"
      ]
     },
     "execution_count": 9,
     "metadata": {},
     "output_type": "execute_result"
    }
   ],
   "source": [
    "r2_score(y_test, y_hat)"
   ]
  },
  {
   "cell_type": "code",
   "execution_count": 10,
   "metadata": {},
   "outputs": [
    {
     "data": {
      "text/plain": [
       "array([ 0.04243231,  0.042386  , -0.02413174, -0.01085946, -0.00867346,\n",
       "       -0.02739786,  0.07692392,  0.05923513,  0.01024599,  0.01579637,\n",
       "       -0.0171621 , -0.00644014])"
      ]
     },
     "execution_count": 10,
     "metadata": {},
     "output_type": "execute_result"
    }
   ],
   "source": [
    "pr.coef_"
   ]
  },
  {
   "cell_type": "markdown",
   "metadata": {},
   "source": [
    "### Min-Max Scaling"
   ]
  },
  {
   "cell_type": "markdown",
   "metadata": {},
   "source": [
    "### Preprocessing"
   ]
  },
  {
   "cell_type": "code",
   "execution_count": 11,
   "metadata": {},
   "outputs": [],
   "source": [
    "from sklearn.preprocessing import MinMaxScaler"
   ]
  },
  {
   "cell_type": "code",
   "execution_count": 12,
   "metadata": {},
   "outputs": [],
   "source": [
    "mm = MinMaxScaler()\n",
    "X_train_mm = mm.fit_transform(X_train)\n",
    "X_test_mm = mm.transform(X_test)"
   ]
  },
  {
   "cell_type": "markdown",
   "metadata": {},
   "source": [
    "### Modelling"
   ]
  },
  {
   "cell_type": "code",
   "execution_count": 13,
   "metadata": {},
   "outputs": [
    {
     "data": {
      "text/plain": [
       "array([0.03693511, 0.02298768, 0.02789067, 0.03529319, 0.02521669])"
      ]
     },
     "execution_count": 13,
     "metadata": {},
     "output_type": "execute_result"
    }
   ],
   "source": [
    "pr = PoissonRegressor()\n",
    "cross_val_score(pr, X_train_mm, y_train, scoring='r2')"
   ]
  },
  {
   "cell_type": "code",
   "execution_count": 14,
   "metadata": {},
   "outputs": [
    {
     "data": {
      "text/plain": [
       "PoissonRegressor()"
      ]
     },
     "execution_count": 14,
     "metadata": {},
     "output_type": "execute_result"
    }
   ],
   "source": [
    "pr.fit(X_train_mm, y_train)"
   ]
  },
  {
   "cell_type": "markdown",
   "metadata": {},
   "source": [
    "### Evaluation"
   ]
  },
  {
   "cell_type": "code",
   "execution_count": 15,
   "metadata": {},
   "outputs": [],
   "source": [
    "y_hat = pr.predict(X_test_mm)"
   ]
  },
  {
   "cell_type": "code",
   "execution_count": 16,
   "metadata": {},
   "outputs": [
    {
     "data": {
      "text/plain": [
       "0.021749850465480947"
      ]
     },
     "execution_count": 16,
     "metadata": {},
     "output_type": "execute_result"
    }
   ],
   "source": [
    "r2_score(y_test, y_hat)"
   ]
  },
  {
   "cell_type": "code",
   "execution_count": 17,
   "metadata": {},
   "outputs": [
    {
     "data": {
      "text/plain": [
       "array([ 0.13669642,  0.12980714, -0.00181204, -0.00069856,  0.00156638,\n",
       "       -0.00645582,  0.13308088,  0.1247823 ,  0.01239594,  0.01407053,\n",
       "        0.00114242, -0.00029429])"
      ]
     },
     "execution_count": 17,
     "metadata": {},
     "output_type": "execute_result"
    }
   ],
   "source": [
    "pr.coef_"
   ]
  },
  {
   "cell_type": "code",
   "execution_count": null,
   "metadata": {},
   "outputs": [],
   "source": []
  },
  {
   "cell_type": "code",
   "execution_count": 19,
   "metadata": {},
   "outputs": [
    {
     "data": {
      "text/html": [
       "<div>\n",
       "<style scoped>\n",
       "    .dataframe tbody tr th:only-of-type {\n",
       "        vertical-align: middle;\n",
       "    }\n",
       "\n",
       "    .dataframe tbody tr th {\n",
       "        vertical-align: top;\n",
       "    }\n",
       "\n",
       "    .dataframe thead th {\n",
       "        text-align: right;\n",
       "    }\n",
       "</style>\n",
       "<table border=\"1\" class=\"dataframe\">\n",
       "  <thead>\n",
       "    <tr style=\"text-align: right;\">\n",
       "      <th></th>\n",
       "      <th>model_predictions</th>\n",
       "      <th>actual_results</th>\n",
       "    </tr>\n",
       "  </thead>\n",
       "  <tbody>\n",
       "    <tr>\n",
       "      <th>0</th>\n",
       "      <td>16.647660</td>\n",
       "      <td>10.712987</td>\n",
       "    </tr>\n",
       "    <tr>\n",
       "      <th>1</th>\n",
       "      <td>17.198392</td>\n",
       "      <td>26.800000</td>\n",
       "    </tr>\n",
       "    <tr>\n",
       "      <th>2</th>\n",
       "      <td>16.317278</td>\n",
       "      <td>12.680000</td>\n",
       "    </tr>\n",
       "    <tr>\n",
       "      <th>3</th>\n",
       "      <td>16.562078</td>\n",
       "      <td>11.466667</td>\n",
       "    </tr>\n",
       "    <tr>\n",
       "      <th>4</th>\n",
       "      <td>16.377357</td>\n",
       "      <td>12.866667</td>\n",
       "    </tr>\n",
       "    <tr>\n",
       "      <th>5</th>\n",
       "      <td>16.525306</td>\n",
       "      <td>18.280000</td>\n",
       "    </tr>\n",
       "    <tr>\n",
       "      <th>6</th>\n",
       "      <td>16.283232</td>\n",
       "      <td>10.400000</td>\n",
       "    </tr>\n",
       "    <tr>\n",
       "      <th>7</th>\n",
       "      <td>16.994397</td>\n",
       "      <td>20.816327</td>\n",
       "    </tr>\n",
       "    <tr>\n",
       "      <th>8</th>\n",
       "      <td>17.089978</td>\n",
       "      <td>16.333333</td>\n",
       "    </tr>\n",
       "    <tr>\n",
       "      <th>9</th>\n",
       "      <td>17.718801</td>\n",
       "      <td>40.000000</td>\n",
       "    </tr>\n",
       "    <tr>\n",
       "      <th>10</th>\n",
       "      <td>15.382668</td>\n",
       "      <td>17.264516</td>\n",
       "    </tr>\n",
       "    <tr>\n",
       "      <th>11</th>\n",
       "      <td>17.311946</td>\n",
       "      <td>29.090909</td>\n",
       "    </tr>\n",
       "    <tr>\n",
       "      <th>12</th>\n",
       "      <td>17.461020</td>\n",
       "      <td>28.972289</td>\n",
       "    </tr>\n",
       "    <tr>\n",
       "      <th>13</th>\n",
       "      <td>16.544362</td>\n",
       "      <td>0.512766</td>\n",
       "    </tr>\n",
       "    <tr>\n",
       "      <th>14</th>\n",
       "      <td>15.849600</td>\n",
       "      <td>9.800000</td>\n",
       "    </tr>\n",
       "    <tr>\n",
       "      <th>15</th>\n",
       "      <td>16.310474</td>\n",
       "      <td>16.733333</td>\n",
       "    </tr>\n",
       "    <tr>\n",
       "      <th>16</th>\n",
       "      <td>16.736924</td>\n",
       "      <td>50.000000</td>\n",
       "    </tr>\n",
       "    <tr>\n",
       "      <th>17</th>\n",
       "      <td>17.005145</td>\n",
       "      <td>16.875000</td>\n",
       "    </tr>\n",
       "    <tr>\n",
       "      <th>18</th>\n",
       "      <td>16.407152</td>\n",
       "      <td>14.534161</td>\n",
       "    </tr>\n",
       "    <tr>\n",
       "      <th>19</th>\n",
       "      <td>15.754288</td>\n",
       "      <td>24.200000</td>\n",
       "    </tr>\n",
       "  </tbody>\n",
       "</table>\n",
       "</div>"
      ],
      "text/plain": [
       "    model_predictions  actual_results\n",
       "0           16.647660       10.712987\n",
       "1           17.198392       26.800000\n",
       "2           16.317278       12.680000\n",
       "3           16.562078       11.466667\n",
       "4           16.377357       12.866667\n",
       "5           16.525306       18.280000\n",
       "6           16.283232       10.400000\n",
       "7           16.994397       20.816327\n",
       "8           17.089978       16.333333\n",
       "9           17.718801       40.000000\n",
       "10          15.382668       17.264516\n",
       "11          17.311946       29.090909\n",
       "12          17.461020       28.972289\n",
       "13          16.544362        0.512766\n",
       "14          15.849600        9.800000\n",
       "15          16.310474       16.733333\n",
       "16          16.736924       50.000000\n",
       "17          17.005145       16.875000\n",
       "18          16.407152       14.534161\n",
       "19          15.754288       24.200000"
      ]
     },
     "execution_count": 19,
     "metadata": {},
     "output_type": "execute_result"
    }
   ],
   "source": [
    "pd.DataFrame({'model_predictions': list(pr.predict(X_test_mm)[:20]), 'actual_results': list(y_test[:20])})"
   ]
  },
  {
   "cell_type": "code",
   "execution_count": null,
   "metadata": {},
   "outputs": [],
   "source": []
  }
 ],
 "metadata": {
  "kernelspec": {
   "display_name": "Python 3",
   "language": "python",
   "name": "python3"
  },
  "language_info": {
   "codemirror_mode": {
    "name": "ipython",
    "version": 3
   },
   "file_extension": ".py",
   "mimetype": "text/x-python",
   "name": "python",
   "nbconvert_exporter": "python",
   "pygments_lexer": "ipython3",
   "version": "3.8.3"
  }
 },
 "nbformat": 4,
 "nbformat_minor": 4
}
